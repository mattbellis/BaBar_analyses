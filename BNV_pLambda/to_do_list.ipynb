{
 "cells": [
  {
   "cell_type": "code",
   "execution_count": null,
   "id": "004040c7-6122-453a-8810-c94f986237c4",
   "metadata": {},
   "outputs": [],
   "source": [
    "%load_ext autoreload\n",
    "%autoreload 2\n",
    "\n",
    "import uproot\n",
    "import awkward as ak\n",
    "\n",
    "import matplotlib.pylab as plt\n",
    "import numpy as np\n",
    "\n",
    "import time\n",
    "\n",
    "import pandas as pd\n",
    "\n",
    "from hist import Hist\n",
    "\n",
    "import babar_analysis_tools as bat\n",
    "\n",
    "import os "
   ]
  },
  {
   "cell_type": "code",
   "execution_count": null,
   "id": "d74dcb07-4a99-4268-a271-5f0b8e5ab12a",
   "metadata": {},
   "outputs": [],
   "source": [
    "start = time.time()\n",
    "\n",
    "# At Siena\n",
    "topdir = '/mnt/qnap/babar_data/bnv_plambda'\n",
    "\n",
    "# At home (Bellis)\n",
    "#topdir = '/home/bellis/babar_data/bnv_plambda'\n",
    "\n",
    "\n",
    "### Read in SP\n",
    "#filename = f'{topdir}/Background_SP_modes_Only_Run_1.parquet'\n",
    "filename = f'{topdir}/Background_and_signal_SP_modes_Only_Run_1.parquet'\n",
    "#filename = f'{topdir}/Background_and_signal_SP_modes_All_runs.parquet'\n",
    "\n",
    "### convert files from a parquet file to an awkward array\n",
    "start = time.time()\n",
    "ak_sp = ak.from_parquet(filename)\n",
    "print(f\"Took {time.time() - start} s\")\n",
    "\n",
    "\n",
    "# Read in data\n",
    "filename = f'{topdir}/Data_Only_Run_1_BLINDED.parquet'\n",
    "#filename = f'{topdir}/Data_All_runs_BLINDED.parquet'\n",
    "start = time.time()\n",
    "ak_data = ak.from_parquet(filename)\n",
    "print(f\"Took {time.time() - start} s\")\n"
   ]
  },
  {
   "cell_type": "code",
   "execution_count": null,
   "id": "7b31876a-429e-4110-90ad-370492f139cc",
   "metadata": {},
   "outputs": [],
   "source": [
    "### READ IN THE BIG SP FILE--> ALL RUNS! \n",
    "'''\n",
    "big_file= f\"{topdir}/Background_and_signal_SP_modes_All_runs.parquet\"\n",
    "\n",
    "start= time.time()\n",
    "ak_all_runs_blinded= ak.from_parquet(big_file)\n",
    "print(f\"Yikes! Took {time.time()-start} s\")\n",
    "'''"
   ]
  },
  {
   "cell_type": "code",
   "execution_count": null,
   "id": "63170af8-9c66-4e4e-97c7-88642190b9d0",
   "metadata": {},
   "outputs": [],
   "source": [
    "### READ IN THE BIG DATA FILE--> ALL RUNS! \n",
    "'''\n",
    "big_file= f\"{topdir}/Data_All_runs_BLINDED.parquet\"\n",
    "\n",
    "start= time.time()\n",
    "ak_all_runs_blinded= ak.from_parquet(big_file)\n",
    "print(f\"Phew! Took {time.time()-start} s\")\n",
    "'''"
   ]
  },
  {
   "cell_type": "code",
   "execution_count": null,
   "id": "07cd4c42-09ea-4dd6-a7a3-960507774089",
   "metadata": {},
   "outputs": [],
   "source": [
    "'''\n",
    "mask = ak_sp['spmode'] == '3429'\n",
    "#mask\n",
    "ak_sp['spmode'][mask]\n",
    "\n",
    "\n",
    "ak_all_runs_blinded.fields\n",
    "'''"
   ]
  },
  {
   "cell_type": "code",
   "execution_count": null,
   "id": "2bfba4bf-f202-476a-acb1-2f4b75dc46fd",
   "metadata": {},
   "outputs": [],
   "source": [
    "mask = ak_data['spmode'] == '0'\n",
    "#mask\n",
    "ak_data['spmode'][mask]"
   ]
  },
  {
   "cell_type": "code",
   "execution_count": null,
   "id": "c21bd240-2200-4e38-9f5c-952134c2381e",
   "metadata": {},
   "outputs": [],
   "source": [
    "h = Hist.new.Reg(100, 5.2, 5.3, name=\"BpostFitMes\", label=r\"M$_{ES}$ [GeV/c$^2$]\") \\\n",
    "         .StrCat([], name=\"SP\", label=\"SP modes\", growth=True)\\\n",
    "         .StrCat([], name=\"cuts\", label=\"Cuts\", growth=True)\\\n",
    "         .Weight()\n",
    "\n",
    "\n",
    "bkg_spmodes = ['998','1005', '1235', '1237', '991']#, '3429']\n",
    "spmodes = bkg_spmodes + ['-999']\n",
    "#spmodes = ['991']\n",
    "\n",
    "for spmode in spmodes:\n",
    "    mask = ak_sp.spmode == spmode\n",
    "    x = ak_sp[mask]['BpostFitMes'][:,0]\n",
    "\n",
    "    weight = 1\n",
    "    if spmode == '-999':\n",
    "        weight = 0.02\n",
    "    \n",
    "    h.fill(BpostFitMes=x, SP=spmode, cuts=f\"0\", weight=weight)"
   ]
  },
  {
   "cell_type": "code",
   "execution_count": null,
   "id": "c7cfe213-fe70-4924-818e-7dce8ec3a8b7",
   "metadata": {},
   "outputs": [],
   "source": [
    "h[:,:,:].stack('SP')[:].project('BpostFitMes').plot(stack=True, histtype=\"fill\")\n",
    "h[:,['-999'],:].project('BpostFitMes').plot(histtype=\"errorbar\", color='black', label= \"data\")\n",
    "\n",
    "plt.legend()"
   ]
  },
  {
   "cell_type": "code",
   "execution_count": null,
   "id": "1de00451-3eec-4682-a6f6-2fc1e76cc035",
   "metadata": {},
   "outputs": [],
   "source": [
    "h[:,bkg_spmodes,:].stack('SP')[:].project('BpostFitMes').plot(stack=True, histtype=\"fill\")\n",
    "h[:,['-999'],:].project('BpostFitMes').plot(histtype=\"errorbar\", color='black')\n",
    "\n",
    "plt.legend()"
   ]
  },
  {
   "cell_type": "markdown",
   "id": "e5b8bb9a-bdd0-452e-82c7-dddf4120399a",
   "metadata": {},
   "source": [
    "# Automate histogram creation\n",
    "\n",
    "*Not histogram creation*"
   ]
  },
  {
   "cell_type": "code",
   "execution_count": null,
   "id": "21594bcd-2d81-4e40-bf5b-5dc30227ae4a",
   "metadata": {},
   "outputs": [],
   "source": [
    "#ak_sp.fields"
   ]
  },
  {
   "cell_type": "code",
   "execution_count": null,
   "id": "927d37c9-2fae-46cd-ae85-06993f94a714",
   "metadata": {},
   "outputs": [],
   "source": [
    "varname = 'Lambda0postFitFlight'\n",
    "x = ak.flatten(ak_sp[varname])\n",
    "#x = ak_sp[varname]\n",
    "print(np.mean(x))\n",
    "print(max(x))\n",
    "\n",
    "plt.hist(x,bins=100)\n",
    "\n",
    ";"
   ]
  },
  {
   "cell_type": "code",
   "execution_count": null,
   "id": "a73444a1-9696-4389-bfcf-f0a98fa8ff23",
   "metadata": {},
   "outputs": [],
   "source": [
    "hist_defs = {}\n",
    "  \n",
    "hist_defs['BSphr'] =                           {\"nbins\":100, \"lo\":0,     \"hi\":0.2,   \"label\":\"Sphericity\"}\n",
    "hist_defs[\"BpostFitDeltaE\"]=                   {\"nbins\":100, \"lo\":-1.0,  \"hi\":1.0,   \"label\":\"$\\Delta$ E\"}\n",
    "hist_defs[\"BpostFitMes\"]=                      {\"nbins\":100, \"lo\":5.2,   \"hi\":5.3,   \"label\":\"$M_{ES}$ [GeV/c$^2$]\"}\n",
    "hist_defs[\"BThrust\"]=                          {\"nbins\":100, \"lo\":0.9,   \"hi\":1.05,  \"label\":\"B thrust\"}\n",
    "hist_defs[\"BCosThetaS\"]=                       {\"nbins\":150, \"lo\":-1.05, \"hi\":1.05,  \"label\":\"B Cos Theta S\"}\n",
    "hist_defs[\"Lambda0_unc_Mass\"]=                 {\"nbins\":100, \"lo\":1.105, \"hi\":1.125, \"label\":\"$\\Lambda^0$ mass [GeV/c$^2$]\"}\n",
    "hist_defs[\"nTracks\"]=                          {\"nbins\":100, \"lo\":0,     \"hi\":18,    \"label\":\"number of tracks\"}\n",
    "hist_defs[\"nGoodTrkLoose\"]=                    {\"nbins\":100, \"lo\":0,     \"hi\":14,    \"label\":\"number of Good Tracks- Loose\"}\n",
    "hist_defs[\"nChargedTracks\"]=                   {\"nbins\":100, \"lo\":0,     \"hi\":0.2,   \"label\":\"number of Charged Tracks\"}\n",
    "hist_defs[\"R2\"]=                               {\"nbins\":100, \"lo\":0,     \"hi\":1.05,  \"label\":\"R2\"}\n",
    "hist_defs[\"R2All\"]=                            {\"nbins\":100, \"lo\":0,     \"hi\":1,     \"label\":\"R2All\"}\n",
    "hist_defs[\"thrustMag\"]=                        {\"nbins\":100, \"lo\":.6,    \"hi\":1,     \"label\":\"thrustMag\"}\n",
    "hist_defs[\"thrustMagAll\"]=                     {\"nbins\":100, \"lo\":.6,    \"hi\":1,     \"label\":\"thrustMagAll\"}\n",
    "hist_defs[\"thrustCosTh\"]=                      {\"nbins\":100, \"lo\":0,     \"hi\":1,     \"label\":\"thrustCosTh\"}\n",
    "hist_defs[\"thrustCosThAll\"]=                   {\"nbins\":100, \"lo\":0,     \"hi\":1,     \"label\":\"thrustCosThAll\"}\n",
    "hist_defs[\"sphericityAll\"]=                    {\"nbins\":100, \"lo\":0,     \"hi\":0.75,  \"label\":\"Sphericity\"}\n",
    "hist_defs[\"BCosSphr\"]=                         {\"nbins\":100, \"lo\":-.8,   \"hi\":1,     \"label\":\"BCosSphr\"}\n",
    "hist_defs[\"BCosThetaT\"]=                       {\"nbins\":100, \"lo\":-1,    \"hi\":1,     \"label\":\"BCosThetaT\"}\n",
    "hist_defs[\"BCosThrust\"]=                       {\"nbins\":100, \"lo\":0,     \"hi\":1,     \"label\":\"BCosThrust\"}\n",
    "hist_defs[\"BLegendreP2\"]=                      {\"nbins\":100, \"lo\":0,     \"hi\":0.2,   \"label\":\"BLegendreP2\"}#################\n",
    "hist_defs[\"BR2ROE\"]=                           {\"nbins\":100, \"lo\":0,     \"hi\":1,     \"label\":\"BR2ROE\"}\n",
    "hist_defs[\"BSphrROE\"]=                         {\"nbins\":100, \"lo\":0,     \"hi\":1,     \"label\":\"BSphrROE\"}\n",
    "hist_defs[\"BThrustROE\"]=                       {\"nbins\":100, \"lo\":0.5,   \"hi\":1,     \"label\":\"BThrustROE\"}\n",
    "hist_defs[\"Lambda0postFitFlight\"]=             {\"nbins\":100, \"lo\":0,     \"hi\":0.2,   \"label\":\"Lambda0postFitFlight\"}####################\n",
    "hist_defs[\"Lambda0postFitFlightSignificance\"]= {\"nbins\":100, \"lo\":0,     \"hi\":0.2,   \"label\":\"Lambda0postFitFlightSignificance\"}###############\n",
    "hist_defs[\"nTRK\"]=                             {\"nbins\":20, \"lo\":0,      \"hi\":20,    \"label\":\"# of charged tracks\"}\n",
    "\n",
    "#hist_defs"
   ]
  },
  {
   "cell_type": "code",
   "execution_count": null,
   "id": "6543afdc-0194-4745-ac60-9fd1dbff7790",
   "metadata": {},
   "outputs": [],
   "source": [
    "def create_empty_histograms(hist_defs): \n",
    "    all_hists={}\n",
    "    for var in hist_defs.keys():\n",
    "        h = Hist.new.Reg(hist_defs[var][\"nbins\"], hist_defs[var][\"lo\"], hist_defs[var][\"hi\"], name='var', label=f\"{hist_defs[var]['label']}\") \\\n",
    "                 .StrCat([], name=\"SP\", label=\"SP modes\", growth=True)\\\n",
    "                 .StrCat([], name=\"cuts\", label=\"Cuts\", growth=True)\\\n",
    "                 .Weight()\n",
    "    \n",
    "        all_hists[var] = h\n",
    "\n",
    "    return all_hists\n",
    "\n",
    "\n",
    "def fill_histograms(ak_arr, empty_hists, spmodes=['998'], weights=[1.0]):\n",
    "    for key in empty_hists.keys(): \n",
    "        print(key)\n",
    "\n",
    "        for spmode in spmodes:\n",
    "            weight = 1\n",
    "            if spmode=='-999':\n",
    "                weight = .005\n",
    "            else:\n",
    "                weight = weights[spmode]\n",
    "\n",
    "            # Divide these up by sp\n",
    "            mask_sp= (ak_arr.spmode== spmode)\n",
    "            \n",
    "            # Cut on reasonable Lambda0, they might be duplicated in both SP and Data\n",
    "            mask_fl = ak_arr[mask_sp]['Lambda0FlightLen']>=0\n",
    "\n",
    "            # First order cuts ##################################################           \n",
    "            # Make a flight-len cut on Lambda for B and Lambda0 variables\n",
    "            if key[0]=='B' or key.find('Lambda0')==0:\n",
    "                x = ak.flatten(ak_arr[mask_sp][key][mask_fl])\n",
    "            else:\n",
    "                x = ak_arr[mask_sp][key]\n",
    "            \n",
    "            empty_hists[key].fill(var=x, SP= spmode, cuts= f\"0\", weight= weight)\n",
    "\n",
    "            # Second order cuts ##################################################\n",
    "            mask_ntrk = (ak_arr['nTRK'] >= 5)\n",
    "\n",
    "            mask_event = mask_sp & mask_ntrk\n",
    "            \n",
    "            # Cut on reasonable Lambda0, they might be duplicated in both SP and Data\n",
    "            mask_fl = ak_arr[mask_event]['Lambda0FlightLen']>=0\n",
    "            \n",
    "            # Make a flight-len cut on Lambda for B and Lambda0 variables\n",
    "            if key[0]=='B' or key.find('Lambda0')==0:\n",
    "                x = ak.flatten(ak_arr[mask_event][key][mask_fl])\n",
    "            else:\n",
    "                x = ak_arr[mask_event][key]\n",
    "            \n",
    "            empty_hists[key].fill(var=x, SP= spmode, cuts= f\"1\", weight= weight)\n",
    "\n",
    "\n",
    "            # Third order cuts ##################################################\n",
    "            mask_event = mask_sp & mask_ntrk            \n",
    "            mask_fl = ak_arr[mask_event]['Lambda0FlightLen']>=1\n",
    "\n",
    "            # Make a flight-len cut on Lambda for B and Lambda0 variables\n",
    "            if key[0]=='B' or key.find('Lambda0')==0:\n",
    "                x = ak.flatten(ak_arr[mask_event][key][mask_fl])\n",
    "            else:\n",
    "                x = ak_arr[mask_event][key]\n",
    "            \n",
    "            empty_hists[key].fill(var=x, SP= spmode, cuts= f\"2\", weight= weight)\n",
    "\n",
    "            ###################################################\n",
    "            mask_event = mask_sp & mask_ntrk            \n",
    "            mask_fl = ak_arr[mask_event]['Lambda0FlightLen']>=1\n",
    "\n",
    "            mes = ak_arr[mask_event]['BpostFitMes']\n",
    "            de  = ak_arr[mask_event]['BpostFitDeltaE']           \n",
    "            \n",
    "            # Stuff\n",
    "            blinding_mask = (mes>5.27) & ((de>-.07) & (de<.07)) \n",
    "            fitarea_mask   =  (mes>5.2) & ((de>-.2) & (de<.2)) \n",
    "\n",
    "            var_mask = mask_fl & ~blinding_mask & fitarea_mask\n",
    "\n",
    "            # Make a flight-len cut on Lambda for B and Lambda0 variables\n",
    "            if key[0]=='B' or key.find('Lambda0')==0:\n",
    "                x = ak.flatten(ak_arr[mask_event][key][var_mask])\n",
    "            else:\n",
    "                x = ak_arr[mask_event][key]\n",
    "            \n",
    "            empty_hists[key].fill(var=x, SP= spmode, cuts= f\"3\", weight= weight)\n",
    "    \n",
    "    \n",
    "    return \"done\"\n"
   ]
  },
  {
   "cell_type": "code",
   "execution_count": null,
   "id": "21db18a4-b7c4-4e54-bbbd-4e3abe938618",
   "metadata": {},
   "outputs": [],
   "source": [
    "all_hists = create_empty_histograms(hist_defs)\n",
    "\n",
    "#all_hists"
   ]
  },
  {
   "cell_type": "code",
   "execution_count": null,
   "id": "4961e7c5-ed6b-4ac6-b079-59847d0899cb",
   "metadata": {},
   "outputs": [],
   "source": [
    "dataset_information = pd.read_csv(\"BaBar_analyses_BNV_pLambda_data_for_scaling.csv\")\n",
    "cs_data= pd.read_csv(\"BaBar_analyses_BNV_pLambda_cross_section_data.csv\")\n",
    "\n",
    "cs_data"
   ]
  },
  {
   "cell_type": "code",
   "execution_count": null,
   "id": "56f32758-0b1f-4b19-8484-4cac22587b33",
   "metadata": {},
   "outputs": [],
   "source": [
    "# Test scaling\n",
    "\n",
    "\n",
    "wt = bat.scaling_value(998, dataset_information=dataset_information, cs_data=cs_data, plot=False, verbose=False)\n",
    "print(wt)"
   ]
  },
  {
   "cell_type": "code",
   "execution_count": null,
   "id": "0a63ee3c-298f-4fbf-bc66-cf5e8d31741f",
   "metadata": {},
   "outputs": [],
   "source": [
    "#spmodes=['998', '1005', '1235', '1237', '-999']\n",
    "bkg_spmodes = ['998', '1005', '1235', '1237', '3981']\n",
    "sig_spmodes = ['-999']\n",
    "\n",
    "\n",
    "spmodes = bkg_spmodes + sig_spmodes\n",
    "\n",
    "weights = {}\n",
    "for sp in spmodes:\n",
    "    weights[sp] = bat.scaling_value(int(sp), dataset_information=dataset_information, cs_data=cs_data, plot=False, verbose=False)\n",
    "    #weights[sp] = 1\n",
    "\n",
    "print(weights)\n",
    "print()\n",
    "print(spmodes)\n",
    "\n"
   ]
  },
  {
   "cell_type": "code",
   "execution_count": null,
   "id": "25d1cbb5-4c6f-47ac-8cf8-df3489e7ed97",
   "metadata": {},
   "outputs": [],
   "source": [
    "fill_histograms(ak_sp, all_hists, spmodes=spmodes, weights=weights)"
   ]
  },
  {
   "cell_type": "code",
   "execution_count": null,
   "id": "a7cf91fa-764b-4d4b-ab7e-86b782e3ac47",
   "metadata": {},
   "outputs": [],
   "source": [
    "all_hists#"
   ]
  },
  {
   "cell_type": "code",
   "execution_count": null,
   "id": "eb2bb5b1-96c2-450b-8e92-785520c676e3",
   "metadata": {},
   "outputs": [],
   "source": [
    "fill_histograms(ak_data, all_hists, spmodes=['0'], weights={'0':1})"
   ]
  },
  {
   "cell_type": "code",
   "execution_count": null,
   "id": "8505e131-8329-4454-941d-9e61487b8f52",
   "metadata": {},
   "outputs": [],
   "source": [
    "all_hists;"
   ]
  },
  {
   "cell_type": "code",
   "execution_count": null,
   "id": "af9f153b-a76e-42bb-8dd0-1818e8cef134",
   "metadata": {},
   "outputs": [],
   "source": [
    "h = all_hists['BSphr']"
   ]
  },
  {
   "cell_type": "code",
   "execution_count": null,
   "id": "3b3e4139-69bc-4d7f-84a3-e4dfc34a3d7c",
   "metadata": {},
   "outputs": [],
   "source": [
    "#h.project('"
   ]
  },
  {
   "cell_type": "code",
   "execution_count": null,
   "id": "db0beeb7-f778-40a5-9f06-6cdc97d1b86f",
   "metadata": {},
   "outputs": [],
   "source": [
    "'''\n",
    "vals = []\n",
    "\n",
    "for i in range(len(ak_sp['spmode'])):\n",
    "    x = ak_sp['spmode'][i]\n",
    "    if x not in vals:\n",
    "        vals.append(x)\n",
    "print(vals)\n",
    "'''"
   ]
  },
  {
   "cell_type": "code",
   "execution_count": null,
   "id": "8c8c8ad2-bb15-4406-b48a-ce22738757df",
   "metadata": {},
   "outputs": [],
   "source": [
    "#ak.strings_astype(ak_sp['spmode'], np.int32)"
   ]
  },
  {
   "cell_type": "markdown",
   "id": "6a887b72-f9e2-4698-9b48-5173c607014a",
   "metadata": {},
   "source": [
    "# Automate plotting"
   ]
  },
  {
   "cell_type": "code",
   "execution_count": null,
   "id": "07495802-6cd3-4d23-af69-5cdc761473a9",
   "metadata": {},
   "outputs": [],
   "source": [
    "#ak_sp.fields"
   ]
  },
  {
   "cell_type": "code",
   "execution_count": null,
   "id": "bc548132-249a-4fd8-8c65-6f629a533a84",
   "metadata": {},
   "outputs": [],
   "source": [
    "#all_hists\n",
    "\n",
    "os.getcwd()"
   ]
  },
  {
   "cell_type": "code",
   "execution_count": null,
   "id": "b16b1021-ec05-4bdb-83fa-6da9c170a9d2",
   "metadata": {},
   "outputs": [],
   "source": [
    "def plot_histograms(all_hists, vars=[], bkg_spmodes=['998'], datamodes=['0'], sig_spmodes=['-999'], cut='0', save= True, overlay_data=True, only_stacked=False):\n",
    "\n",
    "    current_dir= os.getcwd()\n",
    "    directory = \"BNV_pLambda_plots\"\n",
    "    path= os.path.join(current_dir,directory)\n",
    "    if os.path.isdir(path)== False:\n",
    "        os.mkdir(path)\n",
    "    \n",
    "    if len(vars) == 0:\n",
    "        vars = list(all_hists.keys())\n",
    "    cd= {}\n",
    "    cd[\"998\"]=  {\"tab:blue\"}\n",
    "    cd[\"1005\"]= {\"tab:orange\"}\n",
    "    cd[\"-999\"]= {\"tab:brown\"}\n",
    "    cd[\"1235\"]= {\"tab:green\"}\n",
    "    cd[\"1237\"]= {\"tab:red\"}\n",
    "    cd[\"3981\"]= {\"tab:purple\"}\n",
    "    cd[\"3429\"]= {\"tab:pink\"}\n",
    "    cd[\"0\"]= {\"tab:cyan\"}\n",
    "\n",
    "    print(bkg_spmodes)\n",
    "\n",
    "    for var in vars:\n",
    "        \n",
    "        h = all_hists[var]\n",
    "        #print(h)\n",
    "        #h[:,['998'],:].project('var').plot(histtype=\"errorbar\", color='black')\n",
    "        \n",
    "        if only_stacked:\n",
    "            plt.figure(figsize=(5,3))\n",
    "        else:\n",
    "            plt.figure(figsize=(18,12))\n",
    "            plt.subplot(3,3,1)\n",
    "        h[:,bkg_spmodes,cut].stack('SP')[:].project('var').plot(stack=True, histtype=\"fill\")\n",
    "        h[:,sig_spmodes,cut].project('var').plot(histtype=\"step\", color='yellow', label= \"signal\")\n",
    "\n",
    "        if overlay_data:\n",
    "            h[:,datamodes,cut].project('var').plot(histtype=\"errorbar\", color='black', label='Data')\n",
    "\n",
    "        plt.legend()\n",
    "        plt.xlabel(plt.gca().get_xlabel(), fontsize=18)\n",
    "\n",
    "\n",
    "        # If we are only plotting the stacked histograms, then we can skip over plotting them individually\n",
    "        if not only_stacked:\n",
    "            \n",
    "            # Plot all the others \n",
    "            all_modes = bkg_spmodes + sig_spmodes + datamodes\n",
    "            \n",
    "            for idx,spmode in enumerate(all_modes):\n",
    "                plt.subplot(3,3,idx+2)\n",
    "                h[:,spmode,cut].project('var').plot(histtype=\"fill\", label=spmode, color= cd[str(spmode)])\n",
    "                plt.legend()\n",
    "                plt.xlabel(plt.gca().get_xlabel(), fontsize=18)\n",
    "\n",
    "        plt.tight_layout()\n",
    "        \n",
    "        if save== True:\n",
    "            #print(\"I'm here!\")\n",
    "            # Let's save them in a directory called `plots`\n",
    "            # Look up how to first, check (using python) if a directory exists\n",
    "            # and if it does not, then create that directory (from python)\n",
    "            outfilename=f\"plot_hist_cut{cut}_{var}.png\" \n",
    "            if only_stacked:\n",
    "                outfilename=f\"plot_hist_cut{cut}_ONLY_STACKED_{var}.png\" \n",
    "                \n",
    "            plt.savefig(f\"{path}/{outfilename}\")\n",
    "    "
   ]
  },
  {
   "cell_type": "code",
   "execution_count": null,
   "id": "7d597ab4-76a6-4d1f-baf7-e28a5c0c716e",
   "metadata": {},
   "outputs": [],
   "source": [
    "bkg_spmodes"
   ]
  },
  {
   "cell_type": "code",
   "execution_count": null,
   "id": "21313306-bedf-4bcf-945f-6b662da7cc32",
   "metadata": {},
   "outputs": [],
   "source": [
    "all_vars = list(all_hists.keys())\n",
    "\n",
    "#plot_histograms(all_hists, vars=['Lambda0_unc_Mass'], bkg_spmodes=bkg_spmodes, sig_spmodes=sig_spmodes, datamodes=['0'], cut='2');\n",
    "#plot_histograms(all_hists, vars=['BpostFitMes'], bkg_spmodes=bkg_spmodes, sig_spmodes=sig_spmodes, datamodes=['0'], cut='3');\n",
    "#plot_histograms(all_hists, vars=['BpostFitDeltaE'], bkg_spmodes=bkg_spmodes, sig_spmodes=sig_spmodes, datamodes=['0'], cut='0');\n",
    "#plot_histograms(all_hists, vars=['BpostFitDeltaE'], bkg_spmodes=bkg_spmodes, sig_spmodes=sig_spmodes, datamodes=['0'], cut='0', overlay_data=False);\n",
    "#plot_histograms(all_hists, vars=all_vars, bkg_spmodes=bkg_spmodes, sig_spmodes=sig_spmodes, datamodes=['0'], cut='2');\n",
    "\n",
    "plot_histograms(all_hists, vars=[\"BpostFitMes\"], bkg_spmodes=bkg_spmodes, sig_spmodes=sig_spmodes, datamodes=['0'], cut='0', overlay_data=True, only_stacked=True, save= False);\n",
    "\n",
    "\n",
    "\n",
    "#ak_data['nTRK']"
   ]
  },
  {
   "cell_type": "code",
   "execution_count": null,
   "id": "2f90b58c-4f51-4842-b3c1-6762ed21d4de",
   "metadata": {},
   "outputs": [],
   "source": [
    "plt.figure(figsize=(8,4))\n",
    "\n",
    "plt.subplot(1,2,1)\n",
    "x = ak_sp['nTRK']\n",
    "plt.hist(x, bins=20, range=(0,20))\n",
    "\n",
    "\n",
    "plt.subplot(1,2,2)\n",
    "x = ak_data['nTRK']\n",
    "plt.hist(x,bins=20, range=(0,20))\n",
    "\n",
    ";"
   ]
  },
  {
   "cell_type": "code",
   "execution_count": null,
   "id": "309d0f87-6004-4f37-a166-1d74aae2902f",
   "metadata": {},
   "outputs": [],
   "source": [
    "print(ak_data['Lambda0FlightLen'])\n",
    "print(ak_sp['Lambda0FlightLen'])"
   ]
  },
  {
   "cell_type": "code",
   "execution_count": null,
   "id": "622ab7cd-8dcd-4162-9495-f8b1c3e3d909",
   "metadata": {},
   "outputs": [],
   "source": [
    "mask = ak_data['Lambda0FlightLen'] >=0\n",
    "x = ak.flatten(ak_data['Lambda0_unc_Mass'][mask])\n",
    "\n",
    "plt.hist(x,bins=100);\n",
    "\n",
    "print(ak_data['Lambda0_unc_Mass'][mask])"
   ]
  },
  {
   "cell_type": "markdown",
   "id": "bb510910-eaa4-4823-b42d-0bf60d2bf994",
   "metadata": {},
   "source": [
    "# Blinding and fitting region"
   ]
  },
  {
   "cell_type": "code",
   "execution_count": null,
   "id": "c474f62b-4ede-4561-8b2a-6c9061072ca6",
   "metadata": {},
   "outputs": [],
   "source": [
    "#ak_sp['spmode']"
   ]
  },
  {
   "cell_type": "code",
   "execution_count": null,
   "id": "c86e2802-13eb-4bed-8320-0b93c2579412",
   "metadata": {},
   "outputs": [],
   "source": [
    "mask = ak_sp['Lambda0FlightLen']>=0\n",
    "\n",
    "sigmask = ak_sp['spmode'] == '-999'\n",
    "\n",
    "\n",
    "mes = ak.flatten(ak_sp['BpostFitMes'][mask & sigmask])\n",
    "de  = ak.flatten(ak_sp['BpostFitDeltaE'][mask & sigmask])\n",
    "\n",
    "\n",
    "plt.figure(figsize=(12,12))\n",
    "plt.subplot(3,2,1)\n",
    "plt.plot(mes, de, '.', markersize=0.5, alpha=0.5)\n",
    "plt.xlim(5.2, 5.3)\n",
    "plt.ylim(-0.5, 0.5)\n",
    "\n",
    "norg = len(mes)\n",
    "print(f\"# original: {norg}\")\n",
    "\n",
    "# Stuff\n",
    "blinding_mask = (mes>5.27) & ((de>-.07) & (de<.07)) \n",
    "fitarea_mask   =  (mes>5.2) & ((de>-.2) & (de<.2)) \n",
    "\n",
    "plt.subplot(3,2,3)\n",
    "plt.plot(mes[blinding_mask], de[blinding_mask], '.', markersize=0.5, alpha=0.5)\n",
    "plt.xlim(5.2, 5.3)\n",
    "plt.ylim(-0.5, 0.5)\n",
    "\n",
    "plt.subplot(3,2,4)\n",
    "plt.plot(mes[~blinding_mask], de[~blinding_mask], '.', markersize=0.5, alpha=0.5)\n",
    "plt.xlim(5.2, 5.3)\n",
    "plt.ylim(-0.5, 0.5)\n",
    "\n",
    "nblind = len(mes[blinding_mask])\n",
    "print(f\"# blinded: {nblind}\")\n",
    "\n",
    "nnotblind = len(mes[~blinding_mask])\n",
    "print(f\"# notblinded: {nnotblind}\")\n",
    "\n",
    "print(f\"frac blinded: {nblind/norg}\")\n",
    "\n",
    "\n",
    "plt.subplot(3,2,5)\n",
    "plt.plot(mes[fitarea_mask], de[fitarea_mask], '.', markersize=0.5, alpha=0.5)\n",
    "plt.xlim(5.2, 5.3)\n",
    "plt.ylim(-0.5, 0.5)\n",
    "\n",
    "plt.subplot(3,2,6)\n",
    "plt.plot(mes[fitarea_mask & ~blinding_mask], de[fitarea_mask & ~blinding_mask], '.', markersize=0.5, alpha=0.5)\n",
    "plt.xlim(5.2, 5.3)\n",
    "plt.ylim(-0.5, 0.5)\n",
    "\n",
    "nblind = len(mes[blinding_mask])\n",
    "print(f\"# blinded: {nblind}\")\n",
    "\n",
    "nnotblind = len(mes[~blinding_mask])\n",
    "print(f\"# notblinded: {nnotblind}\")\n",
    "\n",
    "print(f\"frac blinded: {nblind/norg}\")\n"
   ]
  },
  {
   "cell_type": "code",
   "execution_count": null,
   "id": "ce74bf59-0923-48ce-ba2a-bc044ed0a052",
   "metadata": {},
   "outputs": [],
   "source": [
    "mask = ak_sp['Lambda0FlightLen']>=0\n",
    "\n",
    "sigmask = ak_sp['spmode'] != '-999'\n",
    "\n",
    "\n",
    "mes = ak.flatten(ak_sp['BpostFitMes'][mask & sigmask])\n",
    "de  = ak.flatten(ak_sp['BpostFitDeltaE'][mask & sigmask])\n",
    "\n",
    "\n",
    "plt.figure(figsize=(12,12))\n",
    "plt.subplot(3,2,1)\n",
    "plt.plot(mes, de, '.', markersize=0.5, alpha=0.5)\n",
    "plt.xlim(5.2, 5.3)\n",
    "plt.ylim(-0.5, 0.5)\n",
    "\n",
    "norg = len(mes)\n",
    "print(f\"# original: {norg}\")\n",
    "\n",
    "# Stuff\n",
    "blinding_mask = (mes>5.27) & ((de>-.07) & (de<.07)) \n",
    "fitarea_mask   =  (mes>5.2) & ((de>-.2) & (de<.2)) \n",
    "\n",
    "plt.subplot(3,2,3)\n",
    "plt.plot(mes[blinding_mask], de[blinding_mask], '.', markersize=0.5, alpha=0.5)\n",
    "plt.xlim(5.2, 5.3)\n",
    "plt.ylim(-0.5, 0.5)\n",
    "\n",
    "plt.subplot(3,2,4)\n",
    "plt.plot(mes[~blinding_mask], de[~blinding_mask], '.', markersize=0.5, alpha=0.5)\n",
    "plt.xlim(5.2, 5.3)\n",
    "plt.ylim(-0.5, 0.5)\n",
    "\n",
    "nblind = len(mes[blinding_mask])\n",
    "print(f\"# blinded: {nblind}\")\n",
    "\n",
    "nnotblind = len(mes[~blinding_mask])\n",
    "print(f\"# notblinded: {nnotblind}\")\n",
    "\n",
    "print(f\"frac blinded: {nblind/norg}\")\n",
    "\n",
    "\n",
    "plt.subplot(3,2,5)\n",
    "plt.plot(mes[fitarea_mask], de[fitarea_mask], '.', markersize=0.5, alpha=0.5)\n",
    "plt.xlim(5.2, 5.3)\n",
    "plt.ylim(-0.5, 0.5)\n",
    "\n",
    "plt.subplot(3,2,6)\n",
    "plt.plot(mes[fitarea_mask & ~blinding_mask], de[fitarea_mask & ~blinding_mask], '.', markersize=0.5, alpha=0.5)\n",
    "plt.xlim(5.2, 5.3)\n",
    "plt.ylim(-0.5, 0.5)\n",
    "\n",
    "nblind = len(mes[blinding_mask])\n",
    "print(f\"# blinded: {nblind}\")\n",
    "\n",
    "nnotblind = len(mes[~blinding_mask])\n",
    "print(f\"# notblinded: {nnotblind}\")\n",
    "\n",
    "print(f\"frac blinded: {nblind/norg}\")\n"
   ]
  },
  {
   "cell_type": "code",
   "execution_count": null,
   "id": "70ffa5b3-6398-4b22-a2c7-edeac64ffea9",
   "metadata": {},
   "outputs": [],
   "source": []
  },
  {
   "cell_type": "code",
   "execution_count": null,
   "id": "e4b9edbe-31a6-4ff9-ba39-927daa91c308",
   "metadata": {},
   "outputs": [],
   "source": []
  },
  {
   "cell_type": "code",
   "execution_count": null,
   "id": "6952248e-f4ab-4acb-960d-7dc9a0151ab2",
   "metadata": {},
   "outputs": [],
   "source": []
  },
  {
   "cell_type": "code",
   "execution_count": null,
   "id": "1c82754c-bd14-4253-b2f5-ee2b9a6472cf",
   "metadata": {},
   "outputs": [],
   "source": []
  },
  {
   "cell_type": "code",
   "execution_count": null,
   "id": "f51c6101-7084-443c-903d-ce5faea0132c",
   "metadata": {},
   "outputs": [],
   "source": []
  },
  {
   "cell_type": "markdown",
   "id": "729f6d7a-3437-49bf-bc75-a532d101b6bc",
   "metadata": {},
   "source": [
    "# Sandbox"
   ]
  },
  {
   "cell_type": "code",
   "execution_count": null,
   "id": "5a62be40-28bc-4d74-80ef-936d0c3ff445",
   "metadata": {},
   "outputs": [],
   "source": [
    "x = 10\n",
    "\n",
    "print(x)\n",
    "\n",
    "x = 20\n",
    "\n",
    "print(x)"
   ]
  },
  {
   "cell_type": "code",
   "execution_count": null,
   "id": "9334fe12-fbb6-4f67-be41-5fb9ce5d83e8",
   "metadata": {},
   "outputs": [],
   "source": [
    "x = 10\n",
    "\n",
    "print(x)\n",
    "\n",
    "y = x\n",
    "\n",
    "print(y)\n",
    "\n",
    "x = 20\n",
    "\n",
    "print(x,y)"
   ]
  },
  {
   "cell_type": "code",
   "execution_count": null,
   "id": "fe50468a-5b4d-4746-9084-22decb9fc2a5",
   "metadata": {},
   "outputs": [],
   "source": [
    "x = [10]\n",
    "\n",
    "print(x)\n",
    "\n",
    "y = x\n",
    "\n",
    "print(y)\n",
    "\n",
    "x[0] = 20\n",
    "\n",
    "print(x,y)"
   ]
  },
  {
   "cell_type": "code",
   "execution_count": null,
   "id": "5b09da93-2850-4cf6-8a94-e988a170f798",
   "metadata": {},
   "outputs": [],
   "source": [
    "x = np.array([10])\n",
    "\n",
    "print(x)\n",
    "\n",
    "y = x\n",
    "\n",
    "print(y)\n",
    "\n",
    "x[0] = 20\n",
    "\n",
    "print(x,y)\n",
    "\n",
    "\n",
    "\n",
    "y[0] = 999\n",
    "\n",
    "print(x,y)"
   ]
  },
  {
   "cell_type": "code",
   "execution_count": null,
   "id": "0049b25f-ef9b-49d4-9dc7-3563af9a6f6c",
   "metadata": {},
   "outputs": [],
   "source": [
    "# Make a copy of the actual values and give it a new name!\n",
    "x = [10]\n",
    "\n",
    "print(x)\n",
    "\n",
    "y = list(x)\n",
    "\n",
    "print(y)\n",
    "\n",
    "x[0] = 20\n",
    "\n",
    "print(x,y)"
   ]
  },
  {
   "cell_type": "code",
   "execution_count": null,
   "id": "c0f99c4d-2ad0-478a-a94a-64743d6b6830",
   "metadata": {},
   "outputs": [],
   "source": [
    "# Make a new array!\n",
    "x = np.array([10])\n",
    "\n",
    "print(x)\n",
    "\n",
    "y = x.copy()\n",
    "\n",
    "print(y)\n",
    "\n",
    "x[0] = 20\n",
    "\n",
    "print(x,y)"
   ]
  },
  {
   "cell_type": "code",
   "execution_count": null,
   "id": "71c5650d-b91b-4b25-a6c1-f1ba15561918",
   "metadata": {},
   "outputs": [],
   "source": [
    "h = all_hists['BSphr']\n",
    "\n",
    "h[:,['998'],:].project('var').plot(histtype=\"errorbar\", color='black')"
   ]
  },
  {
   "cell_type": "code",
   "execution_count": null,
   "id": "de1997fb-c55d-490d-a5cb-7aaf67967298",
   "metadata": {},
   "outputs": [],
   "source": [
    "all_hists"
   ]
  },
  {
   "cell_type": "code",
   "execution_count": null,
   "id": "4dc6e7da-27af-47fb-a6b7-0ae960acf2c8",
   "metadata": {},
   "outputs": [],
   "source": [
    "h = Hist.new.Reg(100, 0, 20, name=\"Lambda0postFitFlight\", label=r\"\") \\\n",
    "         .StrCat([], name=\"SP\", label=\"SP modes\", growth=True)\\\n",
    "         .StrCat([], name=\"cuts\", label=\"Cuts\", growth=True)\\\n",
    "         .Weight()\n",
    "\n",
    "#for key,value in ak_sp.items():\n",
    "#    x = value['BpostFitMes'][:,0]\n",
    "#    h.fill(BpostFitMes=x, SP=key, cuts=f\"0\", weight=1)\n",
    "\n",
    "spmodes = ['998','1005', '1235', '1237', '3981']\n",
    "for spmode in spmodes:\n",
    "    mask = ak_sp.spmode == spmode\n",
    "    x = ak_sp[mask]['Lambda0postFitFlight'][:,0]\n",
    "    h.fill(Lambda0postFitFlight=x, SP=spmode, cuts=f\"0\", weight=1)"
   ]
  },
  {
   "cell_type": "code",
   "execution_count": null,
   "id": "930041d3-44a1-4c54-aaaa-22a5f54b50ba",
   "metadata": {},
   "outputs": [],
   "source": [
    "h.stack('SP')[:].project('Lambda0postFitFlight').plot(stack=True, histtype=\"fill\")\n",
    "\n",
    "plt.legend()"
   ]
  },
  {
   "cell_type": "code",
   "execution_count": null,
   "id": "deb3c761-6fe1-4a65-b03e-0bc64e31b670",
   "metadata": {},
   "outputs": [],
   "source": [
    "plt.figure(figsize=(18,12))\n",
    "\n",
    "spmodes = ['998','1005', '1235', '1237', '3981']\n",
    "for idx,spmode in enumerate(spmodes):\n",
    "    plt.subplot(2,3,idx+1)\n",
    "    h[:,spmode,:].project('Lambda0postFitFlight').plot(histtype=\"fill\", label=spmode)\n",
    "    plt.legend()"
   ]
  },
  {
   "cell_type": "code",
   "execution_count": null,
   "id": "e7dba05f-42c6-4102-a257-220731b87299",
   "metadata": {},
   "outputs": [],
   "source": []
  },
  {
   "cell_type": "code",
   "execution_count": null,
   "id": "711ec4b4-d791-4005-bded-b9eb6b60bb36",
   "metadata": {},
   "outputs": [],
   "source": []
  },
  {
   "cell_type": "code",
   "execution_count": null,
   "id": "5f2e1010-5ec3-4b65-8f6f-fdf958a35642",
   "metadata": {},
   "outputs": [],
   "source": []
  },
  {
   "cell_type": "code",
   "execution_count": null,
   "id": "01ca7462-c0ac-4acf-a5d9-f4bc4ff8b1af",
   "metadata": {},
   "outputs": [],
   "source": []
  },
  {
   "cell_type": "code",
   "execution_count": null,
   "id": "03bdfb23-3e13-4028-b221-3a47f35c9d4e",
   "metadata": {},
   "outputs": [],
   "source": []
  }
 ],
 "metadata": {
  "kernelspec": {
   "display_name": "Python 3 (ipykernel)",
   "language": "python",
   "name": "python3"
  },
  "language_info": {
   "codemirror_mode": {
    "name": "ipython",
    "version": 3
   },
   "file_extension": ".py",
   "mimetype": "text/x-python",
   "name": "python",
   "nbconvert_exporter": "python",
   "pygments_lexer": "ipython3",
   "version": "3.11.7"
  }
 },
 "nbformat": 4,
 "nbformat_minor": 5
}
