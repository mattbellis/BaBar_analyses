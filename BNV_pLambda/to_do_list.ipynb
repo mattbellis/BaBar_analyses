{
 "cells": [
  {
   "cell_type": "code",
   "execution_count": null,
   "id": "004040c7-6122-453a-8810-c94f986237c4",
   "metadata": {},
   "outputs": [],
   "source": [
    "import uproot\n",
    "import awkward as ak\n",
    "\n",
    "import matplotlib.pylab as plt\n",
    "import numpy as np\n",
    "\n",
    "import time\n",
    "\n",
    "from hist import Hist\n"
   ]
  },
  {
   "cell_type": "code",
   "execution_count": null,
   "id": "d74dcb07-4a99-4268-a271-5f0b8e5ab12a",
   "metadata": {},
   "outputs": [],
   "source": [
    "start = time.time()\n",
    "\n",
    "\n",
    "# At Siena\n",
    "#filename = '/mnt/qnap/babar_data/test.parquet'\n",
    "topdir = '/mnt/qnap/babar_data/bnv_plambda'\n",
    "#filename = f'{topdir}/Background_SP_modes_Only_Run_1.parquet'\n",
    "filename = f'{topdir}/Background_and_signal_SP_modes_Only_Run_1.parquet'\n",
    "\n",
    "data = ak.from_parquet(filename)\n",
    "\n",
    "print(f\"Took {time.time() - start} s\")\n"
   ]
  },
  {
   "cell_type": "code",
   "execution_count": null,
   "id": "c21bd240-2200-4e38-9f5c-952134c2381e",
   "metadata": {},
   "outputs": [],
   "source": [
    "h = Hist.new.Reg(100, 5.2, 5.3, name=\"BpostFitMes\", label=r\"M$_{ES}$ [GeV/c$^2$]\") \\\n",
    "         .StrCat([], name=\"SP\", label=\"SP modes\", growth=True)\\\n",
    "         .StrCat([], name=\"cuts\", label=\"Cuts\", growth=True)\\\n",
    "         .Weight()\n",
    "\n",
    "\n",
    "bkg_spmodes = ['998','1005', '1235', '1237', '991']\n",
    "spmodes = bkg_spmodes + ['-999']\n",
    "#spmodes = ['991']\n",
    "\n",
    "for spmode in spmodes:\n",
    "    mask = data.spmode == spmode\n",
    "    x = data[mask]['BpostFitMes'][:,0]\n",
    "\n",
    "    weight = 1\n",
    "    if spmode == '-999':\n",
    "        weight = 0.02\n",
    "    \n",
    "    h.fill(BpostFitMes=x, SP=spmode, cuts=f\"0\", weight=weight)"
   ]
  },
  {
   "cell_type": "code",
   "execution_count": null,
   "id": "c7cfe213-fe70-4924-818e-7dce8ec3a8b7",
   "metadata": {},
   "outputs": [],
   "source": [
    "h[:,:,:].stack('SP')[:].project('BpostFitMes').plot(stack=True, histtype=\"fill\")\n",
    "h[:,['-999'],:].project('BpostFitMes').plot(histtype=\"errorbar\", color='black')\n",
    "\n",
    "plt.legend()"
   ]
  },
  {
   "cell_type": "code",
   "execution_count": null,
   "id": "1de00451-3eec-4682-a6f6-2fc1e76cc035",
   "metadata": {},
   "outputs": [],
   "source": [
    "h[:,bkg_spmodes,:].stack('SP')[:].project('BpostFitMes').plot(stack=True, histtype=\"fill\")\n",
    "h[:,['-999'],:].project('BpostFitMes').plot(histtype=\"errorbar\", color='black')\n",
    "\n",
    "plt.legend()"
   ]
  },
  {
   "cell_type": "markdown",
   "id": "e5b8bb9a-bdd0-452e-82c7-dddf4120399a",
   "metadata": {},
   "source": [
    "# Automate histogram creation\n",
    "\n",
    "*Not histogram creation*"
   ]
  },
  {
   "cell_type": "code",
   "execution_count": null,
   "id": "a73444a1-9696-4389-bfcf-f0a98fa8ff23",
   "metadata": {},
   "outputs": [],
   "source": [
    "hist_defs = {}\n",
    "hist_defs['BSphr'] = {\"nbins\":100, \"lo\":0, \"hi\":0.2, \"label\":\"Sphericity\"}\n",
    "\n",
    "\n",
    "all_hists = {}\n",
    "\n",
    "for var in hist_defs.keys():\n",
    "    \n",
    "    h = Hist.new.Reg(hist_defs[var][\"nbins\"], hist_defs[var][\"lo\"], hist_defs[var][\"hi\"], name=var, label=r\"{hist_defs[var][label]}\") \\\n",
    "             .StrCat([], name=\"SP\", label=\"SP modes\", growth=True)\\\n",
    "             .StrCat([], name=\"cuts\", label=\"Cuts\", growth=True)\\\n",
    "             .Weight()\n",
    "\n",
    "    all_hists[var] = h"
   ]
  },
  {
   "cell_type": "code",
   "execution_count": null,
   "id": "7ad676f1-588e-4e17-a0d7-a75978046779",
   "metadata": {},
   "outputs": [],
   "source": [
    "all_hists"
   ]
  },
  {
   "cell_type": "markdown",
   "id": "6a887b72-f9e2-4698-9b48-5173c607014a",
   "metadata": {},
   "source": [
    "# Automate plotting"
   ]
  },
  {
   "cell_type": "code",
   "execution_count": null,
   "id": "07495802-6cd3-4d23-af69-5cdc761473a9",
   "metadata": {},
   "outputs": [],
   "source": [
    "#data.fields"
   ]
  },
  {
   "cell_type": "code",
   "execution_count": null,
   "id": "4dc6e7da-27af-47fb-a6b7-0ae960acf2c8",
   "metadata": {},
   "outputs": [],
   "source": [
    "h = Hist.new.Reg(100, 0, .2, name=\"BSphr\", label=r\"Sphericity\") \\\n",
    "         .StrCat([], name=\"SP\", label=\"SP modes\", growth=True)\\\n",
    "         .StrCat([], name=\"cuts\", label=\"Cuts\", growth=True)\\\n",
    "         .Weight()\n",
    "\n",
    "#for key,value in data.items():\n",
    "#    x = value['BpostFitMes'][:,0]\n",
    "#    h.fill(BpostFitMes=x, SP=key, cuts=f\"0\", weight=1)\n",
    "\n",
    "spmodes = ['998','1005', '1235', '1237', '3981']\n",
    "for spmode in spmodes:\n",
    "    mask = data.spmode == spmode\n",
    "    x = data[mask]['BSphr'][:,0]\n",
    "    h.fill(BSphr=x, SP=spmode, cuts=f\"0\", weight=1)"
   ]
  },
  {
   "cell_type": "code",
   "execution_count": null,
   "id": "930041d3-44a1-4c54-aaaa-22a5f54b50ba",
   "metadata": {},
   "outputs": [],
   "source": [
    "h.stack('SP')[:].project('BSphr').plot(stack=True, histtype=\"fill\")\n",
    "\n",
    "plt.legend()"
   ]
  },
  {
   "cell_type": "code",
   "execution_count": null,
   "id": "deb3c761-6fe1-4a65-b03e-0bc64e31b670",
   "metadata": {},
   "outputs": [],
   "source": [
    "plt.figure(figsize=(18,12))\n",
    "\n",
    "spmodes = ['998','1005', '1235', '1237', '3981']\n",
    "for idx,spmode in enumerate(spmodes):\n",
    "    plt.subplot(2,3,idx+1)\n",
    "    h[:,spmode,:].project('BSphr').plot(histtype=\"fill\", label=spmode)\n",
    "    plt.legend()"
   ]
  },
  {
   "cell_type": "code",
   "execution_count": null,
   "id": "38f139e5-59b8-4a80-9289-50dce9c0c90f",
   "metadata": {},
   "outputs": [],
   "source": []
  }
 ],
 "metadata": {
  "kernelspec": {
   "display_name": "Python 3 (ipykernel)",
   "language": "python",
   "name": "python3"
  },
  "language_info": {
   "codemirror_mode": {
    "name": "ipython",
    "version": 3
   },
   "file_extension": ".py",
   "mimetype": "text/x-python",
   "name": "python",
   "nbconvert_exporter": "python",
   "pygments_lexer": "ipython3",
   "version": "3.11.7"
  }
 },
 "nbformat": 4,
 "nbformat_minor": 5
}
