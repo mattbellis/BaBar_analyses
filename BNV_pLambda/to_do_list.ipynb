{
 "cells": [
  {
   "cell_type": "code",
   "execution_count": null,
   "id": "004040c7-6122-453a-8810-c94f986237c4",
   "metadata": {},
   "outputs": [],
   "source": [
    "import uproot\n",
    "import awkward as ak\n",
    "\n",
    "import matplotlib.pylab as plt\n",
    "import numpy as np\n",
    "\n",
    "import time\n",
    "\n",
    "import pandas as pd\n",
    "\n",
    "from hist import Hist\n"
   ]
  },
  {
   "cell_type": "code",
   "execution_count": null,
   "id": "d74dcb07-4a99-4268-a271-5f0b8e5ab12a",
   "metadata": {},
   "outputs": [],
   "source": [
    "start = time.time()\n",
    "\n",
    "\n",
    "# At Siena\n",
    "#filename = '/mnt/qnap/babar_data/test.parquet'\n",
    "topdir = '/mnt/qnap/babar_data/bnv_plambda'\n",
    "#filename = f'{topdir}/Background_SP_modes_Only_Run_1.parquet'\n",
    "filename = f'{topdir}/Background_and_signal_SP_modes_Only_Run_1.parquet'\n",
    "\n",
    "data = ak.from_parquet(filename)\n",
    "\n",
    "print(f\"Took {time.time() - start} s\")\n"
   ]
  },
  {
   "cell_type": "code",
   "execution_count": null,
   "id": "c21bd240-2200-4e38-9f5c-952134c2381e",
   "metadata": {},
   "outputs": [],
   "source": [
    "h = Hist.new.Reg(100, 5.2, 5.3, name=\"BpostFitMes\", label=r\"M$_{ES}$ [GeV/c$^2$]\") \\\n",
    "         .StrCat([], name=\"SP\", label=\"SP modes\", growth=True)\\\n",
    "         .StrCat([], name=\"cuts\", label=\"Cuts\", growth=True)\\\n",
    "         .Weight()\n",
    "\n",
    "\n",
    "bkg_spmodes = ['998','1005', '1235', '1237', '991']\n",
    "spmodes = bkg_spmodes + ['-999']\n",
    "#spmodes = ['991']\n",
    "\n",
    "for spmode in spmodes:\n",
    "    mask = data.spmode == spmode\n",
    "    x = data[mask]['BpostFitMes'][:,0]\n",
    "\n",
    "    weight = 1\n",
    "    if spmode == '-999':\n",
    "        weight = 0.02\n",
    "    \n",
    "    h.fill(BpostFitMes=x, SP=spmode, cuts=f\"0\", weight=weight)"
   ]
  },
  {
   "cell_type": "code",
   "execution_count": null,
   "id": "c7cfe213-fe70-4924-818e-7dce8ec3a8b7",
   "metadata": {},
   "outputs": [],
   "source": [
    "h[:,:,:].stack('SP')[:].project('BpostFitMes').plot(stack=True, histtype=\"fill\")\n",
    "h[:,['-999'],:].project('BpostFitMes').plot(histtype=\"errorbar\", color='black')\n",
    "\n",
    "plt.legend()"
   ]
  },
  {
   "cell_type": "code",
   "execution_count": null,
   "id": "1de00451-3eec-4682-a6f6-2fc1e76cc035",
   "metadata": {},
   "outputs": [],
   "source": [
    "h[:,bkg_spmodes,:].stack('SP')[:].project('BpostFitMes').plot(stack=True, histtype=\"fill\")\n",
    "h[:,['-999'],:].project('BpostFitMes').plot(histtype=\"errorbar\", color='black')\n",
    "\n",
    "plt.legend()"
   ]
  },
  {
   "cell_type": "markdown",
   "id": "e5b8bb9a-bdd0-452e-82c7-dddf4120399a",
   "metadata": {},
   "source": [
    "# Automate histogram creation\n",
    "\n",
    "*Not histogram creation*"
   ]
  },
  {
   "cell_type": "code",
   "execution_count": null,
   "id": "21594bcd-2d81-4e40-bf5b-5dc30227ae4a",
   "metadata": {},
   "outputs": [],
   "source": [
    "#data.fields"
   ]
  },
  {
   "cell_type": "code",
   "execution_count": null,
   "id": "a73444a1-9696-4389-bfcf-f0a98fa8ff23",
   "metadata": {},
   "outputs": [],
   "source": [
    "hist_defs = {}\n",
    "hist_defs['BSphr'] =         {\"nbins\":100, \"lo\":0, \"hi\":0.2, \"label\":\"Sphericity\"}\n",
    "hist_defs[\"BpostFitDeltaE\"]= {\"nbins\":100, \"lo\":-1.0, \"hi\":1.0, \"label\":\"$\\Delta$ E\"}\n",
    "hist_defs[\"BpostFitMes\"]=    {\"nbins\":100, \"lo\":5.0, \"hi\":5.3, \"label\":\"$M_{ES}$ [GeV/c$^2$]\"}\n",
    "hist_defs[\"BpostFitMes\"]=    {\"nbins\":100, \"lo\":5.0, \"hi\":5.3, \"label\":\"$M_{ES}$ [GeV/c$^2$]\"}\n",
    "\n",
    "hist_defs"
   ]
  },
  {
   "cell_type": "code",
   "execution_count": null,
   "id": "6543afdc-0194-4745-ac60-9fd1dbff7790",
   "metadata": {},
   "outputs": [],
   "source": [
    "def create_empty_histograms(hist_defs): \n",
    "    all_hists= {}\n",
    "    \n",
    "    for var in hist_defs.keys():\n",
    "        h = Hist.new.Reg(hist_defs[var][\"nbins\"], hist_defs[var][\"lo\"], hist_defs[var][\"hi\"], name='var', label=f\"{hist_defs[var]['label']}\") \\\n",
    "                 .StrCat([], name=\"SP\", label=\"SP modes\", growth=True)\\\n",
    "                 .StrCat([], name=\"cuts\", label=\"Cuts\", growth=True)\\\n",
    "                 .Weight()\n",
    "    \n",
    "        all_hists[var] = h\n",
    "\n",
    "    return all_hists\n",
    "\n",
    "\n",
    "def fill_histograms(data, empty_hists, spmodes=['998']):\n",
    "    for key in empty_hists.keys(): \n",
    "        print(key)\n",
    "\n",
    "        for spmode in spmodes:\n",
    "            weight = 1\n",
    "            if spmode=='-999':\n",
    "                weight = 0.05\n",
    "                \n",
    "            sp_mask= data.spmode== spmode\n",
    "            x= ak.flatten(data[sp_mask][key])\n",
    "            empty_hists[key].fill(var=x, SP= spmode, cuts= f\"0\", weight= weight)\n",
    "\n",
    "    return 1\n"
   ]
  },
  {
   "cell_type": "code",
   "execution_count": null,
   "id": "21db18a4-b7c4-4e54-bbbd-4e3abe938618",
   "metadata": {},
   "outputs": [],
   "source": [
    "all_hists = create_empty_histograms(hist_defs)\n",
    "\n",
    "all_hists"
   ]
  },
  {
   "cell_type": "code",
   "execution_count": null,
   "id": "0a63ee3c-298f-4fbf-bc66-cf5e8d31741f",
   "metadata": {},
   "outputs": [],
   "source": [
    "fill_histograms(data, all_hists, spmodes=['998', '1005', '1235', '1237', '-999'])"
   ]
  },
  {
   "cell_type": "code",
   "execution_count": null,
   "id": "8505e131-8329-4454-941d-9e61487b8f52",
   "metadata": {},
   "outputs": [],
   "source": [
    "all_hists"
   ]
  },
  {
   "cell_type": "code",
   "execution_count": null,
   "id": "71c5650d-b91b-4b25-a6c1-f1ba15561918",
   "metadata": {},
   "outputs": [],
   "source": [
    "h = all_hists['BSphr']\n",
    "\n",
    "h[:,['998'],:].project('var').plot(histtype=\"errorbar\", color='black')"
   ]
  },
  {
   "cell_type": "code",
   "execution_count": null,
   "id": "5a62be40-28bc-4d74-80ef-936d0c3ff445",
   "metadata": {},
   "outputs": [],
   "source": [
    "x = 10\n",
    "\n",
    "print(x)\n",
    "\n",
    "x = 20\n",
    "\n",
    "print(x)"
   ]
  },
  {
   "cell_type": "code",
   "execution_count": null,
   "id": "9334fe12-fbb6-4f67-be41-5fb9ce5d83e8",
   "metadata": {},
   "outputs": [],
   "source": [
    "x = 10\n",
    "\n",
    "print(x)\n",
    "\n",
    "y = x\n",
    "\n",
    "print(y)\n",
    "\n",
    "x = 20\n",
    "\n",
    "print(x,y)"
   ]
  },
  {
   "cell_type": "code",
   "execution_count": null,
   "id": "fe50468a-5b4d-4746-9084-22decb9fc2a5",
   "metadata": {},
   "outputs": [],
   "source": [
    "x = [10]\n",
    "\n",
    "print(x)\n",
    "\n",
    "y = x\n",
    "\n",
    "print(y)\n",
    "\n",
    "x[0] = 20\n",
    "\n",
    "print(x,y)"
   ]
  },
  {
   "cell_type": "code",
   "execution_count": null,
   "id": "5b09da93-2850-4cf6-8a94-e988a170f798",
   "metadata": {},
   "outputs": [],
   "source": [
    "x = np.array([10])\n",
    "\n",
    "print(x)\n",
    "\n",
    "y = x\n",
    "\n",
    "print(y)\n",
    "\n",
    "x[0] = 20\n",
    "\n",
    "print(x,y)\n",
    "\n",
    "\n",
    "\n",
    "y[0] = 999\n",
    "\n",
    "print(x,y)"
   ]
  },
  {
   "cell_type": "code",
   "execution_count": null,
   "id": "0049b25f-ef9b-49d4-9dc7-3563af9a6f6c",
   "metadata": {},
   "outputs": [],
   "source": [
    "# Make a copy of the actual values and give it a new name!\n",
    "x = [10]\n",
    "\n",
    "print(x)\n",
    "\n",
    "y = list(x)\n",
    "\n",
    "print(y)\n",
    "\n",
    "x[0] = 20\n",
    "\n",
    "print(x,y)"
   ]
  },
  {
   "cell_type": "code",
   "execution_count": null,
   "id": "c0f99c4d-2ad0-478a-a94a-64743d6b6830",
   "metadata": {},
   "outputs": [],
   "source": [
    "# Make a new array!\n",
    "x = np.array([10])\n",
    "\n",
    "print(x)\n",
    "\n",
    "y = x.copy()\n",
    "\n",
    "print(y)\n",
    "\n",
    "x[0] = 20\n",
    "\n",
    "print(x,y)"
   ]
  },
  {
   "cell_type": "code",
   "execution_count": null,
   "id": "af9f153b-a76e-42bb-8dd0-1818e8cef134",
   "metadata": {},
   "outputs": [],
   "source": []
  },
  {
   "cell_type": "code",
   "execution_count": null,
   "id": "3b3e4139-69bc-4d7f-84a3-e4dfc34a3d7c",
   "metadata": {},
   "outputs": [],
   "source": []
  },
  {
   "cell_type": "code",
   "execution_count": null,
   "id": "8c8c8ad2-bb15-4406-b48a-ce22738757df",
   "metadata": {},
   "outputs": [],
   "source": []
  },
  {
   "cell_type": "markdown",
   "id": "6a887b72-f9e2-4698-9b48-5173c607014a",
   "metadata": {},
   "source": [
    "# Automate plotting"
   ]
  },
  {
   "cell_type": "code",
   "execution_count": null,
   "id": "07495802-6cd3-4d23-af69-5cdc761473a9",
   "metadata": {},
   "outputs": [],
   "source": [
    "#data.fields"
   ]
  },
  {
   "cell_type": "code",
   "execution_count": null,
   "id": "4dc6e7da-27af-47fb-a6b7-0ae960acf2c8",
   "metadata": {},
   "outputs": [],
   "source": [
    "h = Hist.new.Reg(100, 0, .2, name=\"BSphr\", label=r\"Sphericity\") \\\n",
    "         .StrCat([], name=\"SP\", label=\"SP modes\", growth=True)\\\n",
    "         .StrCat([], name=\"cuts\", label=\"Cuts\", growth=True)\\\n",
    "         .Weight()\n",
    "\n",
    "#for key,value in data.items():\n",
    "#    x = value['BpostFitMes'][:,0]\n",
    "#    h.fill(BpostFitMes=x, SP=key, cuts=f\"0\", weight=1)\n",
    "\n",
    "spmodes = ['998','1005', '1235', '1237', '3981']\n",
    "for spmode in spmodes:\n",
    "    mask = data.spmode == spmode\n",
    "    x = data[mask]['BSphr'][:,0]\n",
    "    h.fill(BSphr=x, SP=spmode, cuts=f\"0\", weight=1)"
   ]
  },
  {
   "cell_type": "code",
   "execution_count": null,
   "id": "930041d3-44a1-4c54-aaaa-22a5f54b50ba",
   "metadata": {},
   "outputs": [],
   "source": [
    "h.stack('SP')[:].project('BSphr').plot(stack=True, histtype=\"fill\")\n",
    "\n",
    "plt.legend()"
   ]
  },
  {
   "cell_type": "code",
   "execution_count": null,
   "id": "deb3c761-6fe1-4a65-b03e-0bc64e31b670",
   "metadata": {},
   "outputs": [],
   "source": [
    "plt.figure(figsize=(18,12))\n",
    "\n",
    "spmodes = ['998','1005', '1235', '1237', '3981']\n",
    "for idx,spmode in enumerate(spmodes):\n",
    "    plt.subplot(2,3,idx+1)\n",
    "    h[:,spmode,:].project('BSphr').plot(histtype=\"fill\", label=spmode)\n",
    "    plt.legend()"
   ]
  },
  {
   "cell_type": "code",
   "execution_count": null,
   "id": "b16b1021-ec05-4bdb-83fa-6da9c170a9d2",
   "metadata": {},
   "outputs": [],
   "source": [
    "def plot_histograms(all_hists, vars=[], spmodes=['998'], save= True):\n",
    "\n",
    "    if len(vars) == 0:\n",
    "        vars = list(all_hists.keys())\n",
    "    cd= {}\n",
    "    cd[\"998\"]=  {\"tab:blue\"}\n",
    "    cd[\"1005\"]= {\"tab:orange\"}\n",
    "    cd[\"-999\"]= {\"tab:green\"}\n",
    "    cd[\"1235\"]= {\"tab:red\"}\n",
    "    cd[\"1237\"]= {\"tab:purple\"}\n",
    "    cd[\"3981\"]= {\"tab:pink\"}\n",
    "\n",
    "\n",
    "    for var in vars:\n",
    "        \n",
    "        h = all_hists[var]\n",
    "        #print(h)\n",
    "        #h[:,['998'],:].project('var').plot(histtype=\"errorbar\", color='black')\n",
    "        plt.figure(figsize=(18,12))\n",
    "        \n",
    "        plt.subplot(2,3,1)\n",
    "\n",
    "        h[:,:,:].stack('SP')[:].project('var').plot(stack=True, histtype=\"fill\")\n",
    "        #h[:,spmodes,:].project('var').plot(histtype=\"errorbar\", color='black')\n",
    "        \n",
    "        plt.legend()\n",
    "        plt.xlabel(plt.gca().get_xlabel(), fontsize=18)\n",
    "        \n",
    "        for idx,spmode in enumerate(spmodes):\n",
    "            plt.subplot(2,3,idx+2)\n",
    "            h[:,spmode,:].project('var').plot(histtype=\"fill\", label=spmode, color= cd[str(spmode)])\n",
    "            plt.legend()\n",
    "            plt.xlabel(plt.gca().get_xlabel(), fontsize=18)\n",
    "    \n",
    "            if save== True:\n",
    "                # Let's save them in a directory called `plots`\n",
    "                # Look up how to first, check (using python) if a directory exists\n",
    "                # and if it does not, then create that directory (from python)\n",
    "                plt.savefig(f\"plot_hist_{var}.png\")\n",
    "    "
   ]
  },
  {
   "cell_type": "code",
   "execution_count": null,
   "id": "bc548132-249a-4fd8-8c65-6f629a533a84",
   "metadata": {},
   "outputs": [],
   "source": [
    "all_hists"
   ]
  },
  {
   "cell_type": "code",
   "execution_count": null,
   "id": "ca3a126f-0ca9-41cc-88ca-3be688c73bd9",
   "metadata": {},
   "outputs": [],
   "source": [
    "plot_histograms(all_hists, spmodes=['998', '1005', '1235', '1237', '-999']);"
   ]
  },
  {
   "cell_type": "markdown",
   "id": "bb510910-eaa4-4823-b42d-0bf60d2bf994",
   "metadata": {},
   "source": [
    "# Blinding and fitting region"
   ]
  },
  {
   "cell_type": "code",
   "execution_count": null,
   "id": "c474f62b-4ede-4561-8b2a-6c9061072ca6",
   "metadata": {},
   "outputs": [],
   "source": [
    "#data['spmode']"
   ]
  },
  {
   "cell_type": "code",
   "execution_count": null,
   "id": "c86e2802-13eb-4bed-8320-0b93c2579412",
   "metadata": {},
   "outputs": [],
   "source": [
    "mask = data['Lambda0FlightLen']>=0\n",
    "\n",
    "sigmask = data['spmode'] == '-999'\n",
    "\n",
    "\n",
    "mes = ak.flatten(data['BpostFitMes'][mask & sigmask])\n",
    "de  = ak.flatten(data['BpostFitDeltaE'][mask & sigmask])\n",
    "\n",
    "\n",
    "plt.figure(figsize=(12,12))\n",
    "plt.subplot(3,2,1)\n",
    "plt.plot(mes, de, '.', markersize=0.5, alpha=0.5)\n",
    "plt.xlim(5.2, 5.3)\n",
    "plt.ylim(-0.5, 0.5)\n",
    "\n",
    "norg = len(mes)\n",
    "print(f\"# original: {norg}\")\n",
    "\n",
    "# Stuff\n",
    "blinding_mask = (mes>5.27) & ((de>-.07) & (de<.07)) \n",
    "fitarea_mask   =  (mes>5.2) & ((de>-.2) & (de<.2)) \n",
    "s\n",
    "plt.subplot(3,2,3)\n",
    "plt.plot(mes[blinding_mask], de[blinding_mask], '.', markersize=0.5, alpha=0.5)\n",
    "plt.xlim(5.2, 5.3)\n",
    "plt.ylim(-0.5, 0.5)\n",
    "\n",
    "plt.subplot(3,2,4)\n",
    "plt.plot(mes[~blinding_mask], de[~blinding_mask], '.', markersize=0.5, alpha=0.5)\n",
    "plt.xlim(5.2, 5.3)\n",
    "plt.ylim(-0.5, 0.5)\n",
    "\n",
    "nblind = len(mes[blinding_mask])\n",
    "print(f\"# blinded: {nblind}\")\n",
    "\n",
    "nnotblind = len(mes[~blinding_mask])\n",
    "print(f\"# notblinded: {nnotblind}\")\n",
    "\n",
    "print(f\"frac blinded: {nblind/norg}\")\n",
    "\n",
    "\n",
    "plt.subplot(3,2,5)\n",
    "plt.plot(mes[fitarea_mask], de[fitarea_mask], '.', markersize=0.5, alpha=0.5)\n",
    "plt.xlim(5.2, 5.3)\n",
    "plt.ylim(-0.5, 0.5)\n",
    "\n",
    "plt.subplot(3,2,6)\n",
    "plt.plot(mes[fitarea_mask & ~blinding_mask], de[fitarea_mask & ~blinding_mask], '.', markersize=0.5, alpha=0.5)\n",
    "plt.xlim(5.2, 5.3)\n",
    "plt.ylim(-0.5, 0.5)\n",
    "\n",
    "nblind = len(mes[blinding_mask])\n",
    "print(f\"# blinded: {nblind}\")\n",
    "\n",
    "nnotblind = len(mes[~blinding_mask])\n",
    "print(f\"# notblinded: {nnotblind}\")\n",
    "\n",
    "print(f\"frac blinded: {nblind/norg}\")\n"
   ]
  },
  {
   "cell_type": "code",
   "execution_count": null,
   "id": "ce74bf59-0923-48ce-ba2a-bc044ed0a052",
   "metadata": {},
   "outputs": [],
   "source": [
    "mask = data['Lambda0FlightLen']>=0\n",
    "\n",
    "sigmask = data['spmode'] != '-999'\n",
    "\n",
    "\n",
    "mes = ak.flatten(data['BpostFitMes'][mask & sigmask])\n",
    "de  = ak.flatten(data['BpostFitDeltaE'][mask & sigmask])\n",
    "\n",
    "\n",
    "plt.figure(figsize=(12,12))\n",
    "plt.subplot(3,2,1)\n",
    "plt.plot(mes, de, '.', markersize=0.5, alpha=0.5)\n",
    "plt.xlim(5.2, 5.3)\n",
    "plt.ylim(-0.5, 0.5)\n",
    "\n",
    "norg = len(mes)\n",
    "print(f\"# original: {norg}\")\n",
    "\n",
    "# Stuff\n",
    "blinding_mask = (mes>5.27) & ((de>-.07) & (de<.07)) \n",
    "fitarea_mask   =  (mes>5.2) & ((de>-.2) & (de<.2)) \n",
    "\n",
    "plt.subplot(3,2,3)\n",
    "plt.plot(mes[blinding_mask], de[blinding_mask], '.', markersize=0.5, alpha=0.5)\n",
    "plt.xlim(5.2, 5.3)\n",
    "plt.ylim(-0.5, 0.5)\n",
    "\n",
    "plt.subplot(3,2,4)\n",
    "plt.plot(mes[~blinding_mask], de[~blinding_mask], '.', markersize=0.5, alpha=0.5)\n",
    "plt.xlim(5.2, 5.3)\n",
    "plt.ylim(-0.5, 0.5)\n",
    "\n",
    "nblind = len(mes[blinding_mask])\n",
    "print(f\"# blinded: {nblind}\")\n",
    "\n",
    "nnotblind = len(mes[~blinding_mask])\n",
    "print(f\"# notblinded: {nnotblind}\")\n",
    "\n",
    "print(f\"frac blinded: {nblind/norg}\")\n",
    "\n",
    "\n",
    "plt.subplot(3,2,5)\n",
    "plt.plot(mes[fitarea_mask], de[fitarea_mask], '.', markersize=0.5, alpha=0.5)\n",
    "plt.xlim(5.2, 5.3)\n",
    "plt.ylim(-0.5, 0.5)\n",
    "\n",
    "plt.subplot(3,2,6)\n",
    "plt.plot(mes[fitarea_mask & ~blinding_mask], de[fitarea_mask & ~blinding_mask], '.', markersize=0.5, alpha=0.5)\n",
    "plt.xlim(5.2, 5.3)\n",
    "plt.ylim(-0.5, 0.5)\n",
    "\n",
    "nblind = len(mes[blinding_mask])\n",
    "print(f\"# blinded: {nblind}\")\n",
    "\n",
    "nnotblind = len(mes[~blinding_mask])\n",
    "print(f\"# notblinded: {nnotblind}\")\n",
    "\n",
    "print(f\"frac blinded: {nblind/norg}\")\n"
   ]
  },
  {
   "cell_type": "code",
   "execution_count": null,
   "id": "70ffa5b3-6398-4b22-a2c7-edeac64ffea9",
   "metadata": {},
   "outputs": [],
   "source": []
  },
  {
   "cell_type": "code",
   "execution_count": null,
   "id": "e4b9edbe-31a6-4ff9-ba39-927daa91c308",
   "metadata": {},
   "outputs": [],
   "source": []
  },
  {
   "cell_type": "code",
   "execution_count": null,
   "id": "6952248e-f4ab-4acb-960d-7dc9a0151ab2",
   "metadata": {},
   "outputs": [],
   "source": []
  },
  {
   "cell_type": "code",
   "execution_count": null,
   "id": "1c82754c-bd14-4253-b2f5-ee2b9a6472cf",
   "metadata": {},
   "outputs": [],
   "source": []
  },
  {
   "cell_type": "code",
   "execution_count": null,
   "id": "f51c6101-7084-443c-903d-ce5faea0132c",
   "metadata": {},
   "outputs": [],
   "source": []
  },
  {
   "cell_type": "code",
   "execution_count": null,
   "id": "80fee4f2-22a8-4a21-9bfc-462a26465923",
   "metadata": {},
   "outputs": [],
   "source": []
  }
 ],
 "metadata": {
  "kernelspec": {
   "display_name": "Python 3 (ipykernel)",
   "language": "python",
   "name": "python3"
  },
  "language_info": {
   "codemirror_mode": {
    "name": "ipython",
    "version": 3
   },
   "file_extension": ".py",
   "mimetype": "text/x-python",
   "name": "python",
   "nbconvert_exporter": "python",
   "pygments_lexer": "ipython3",
   "version": "3.11.9"
  }
 },
 "nbformat": 4,
 "nbformat_minor": 5
}
