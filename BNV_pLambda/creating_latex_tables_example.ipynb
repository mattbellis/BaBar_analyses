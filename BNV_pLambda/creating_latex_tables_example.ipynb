{
 "cells": [
  {
   "cell_type": "code",
   "execution_count": null,
   "id": "84f12ad6-2308-4fa5-97bf-ad56c92fd1e5",
   "metadata": {},
   "outputs": [],
   "source": [
    "import uproot\n",
    "import awkward as ak\n",
    "\n",
    "import matplotlib.pylab as plt\n",
    "import numpy as np\n",
    "\n",
    "import time\n",
    "\n",
    "from hist import Hist\n",
    "\n",
    "import pandas as pd\n"
   ]
  },
  {
   "cell_type": "code",
   "execution_count": null,
   "id": "120defce-0741-4e8f-a622-f788056ea717",
   "metadata": {},
   "outputs": [],
   "source": [
    "start = time.time()\n",
    "\n",
    "\n",
    "# At Siena\n",
    "topdir = '/mnt/qnap/babar_data/bnv_plambda'\n",
    "\n",
    "# At Bellis' home\n",
    "#topdir = 'bnv_plambda'\n",
    "\n",
    "# On Bellis' laptop\n",
    "#topdir = './'\n",
    "\n",
    "filename = f'{topdir}/Background_SP_modes_Only_Run_1.parquet'\n",
    "#filename = f'{topdir}/Background_and_signal_SP_modes_Only_Run_1.parquet'\n",
    "\n",
    "data = ak.from_parquet(filename)\n",
    "\n",
    "print(f\"Took {time.time() - start} s\")\n"
   ]
  },
  {
   "cell_type": "code",
   "execution_count": null,
   "id": "1bebdb8f-e8f9-4d3f-b9cc-e2eb1e61fd76",
   "metadata": {},
   "outputs": [],
   "source": [
    "data.fields"
   ]
  },
  {
   "cell_type": "markdown",
   "id": "add06309-8c06-4de7-a291-bd966a426906",
   "metadata": {},
   "source": [
    "# LaTeX directly from dataframe\n",
    "\n",
    "Whoa! You can dump a dataframe directly to LaTeX output! \n",
    "\n",
    "https://pandas.pydata.org/docs/reference/api/pandas.DataFrame.to_latex.html"
   ]
  },
  {
   "cell_type": "code",
   "execution_count": null,
   "id": "c552645b-717c-4496-a1ae-f10bf258e1c6",
   "metadata": {},
   "outputs": [],
   "source": [
    "df = pd.read_csv('BaBar_analyses_BNV_pLambda_cross_section_data.csv')\n",
    "\n",
    "df"
   ]
  },
  {
   "cell_type": "code",
   "execution_count": null,
   "id": "21915cde-b944-4504-b5d3-f086d6c2b296",
   "metadata": {},
   "outputs": [],
   "source": [
    "dftemp = df[['SP Mode', 'Human-readable explamanation', 'Cross section [nb]']]\n",
    "\n",
    "dftemp"
   ]
  },
  {
   "cell_type": "code",
   "execution_count": null,
   "id": "89c04123-31b2-43b4-aa11-176df9462c61",
   "metadata": {},
   "outputs": [],
   "source": [
    "\n",
    "output = dftemp.to_latex(index=False,\n",
    "                  float_format=\"{:.4f}\".format,\n",
    ")  \n",
    "\n",
    "print(output)\n",
    "print()\n",
    "\n",
    "full_table = \"\\\\begin{table}\\n\"\n",
    "full_table += \"\\\\caption{This could be the caption}\\n\"\n",
    "full_table += output\n",
    "full_table += \"\\\\end{table}\"\n",
    "\n",
    "print(full_table)"
   ]
  },
  {
   "cell_type": "code",
   "execution_count": null,
   "id": "dae804c5-1354-4ab1-8166-675c0d241f7a",
   "metadata": {},
   "outputs": [],
   "source": [
    "def table_from_df(df):\n",
    "    output = df.to_latex(index=False,\n",
    "                  float_format=\"{:.4f}\".format,\n",
    "    )  # converts dataframe into latex readable text\n",
    "    full_table = \"\\\\begin{table}\\n\" # initializes the table before the beginning of the tabular \n",
    "    full_table += \"\\\\caption{This could be the caption}\\n\" \n",
    "    full_table += output #includes the converted dataframe in the table\n",
    "    full_table += \"\\\\end{table}\" # ends the table, same purpose as begin{table} \n",
    "    return full_table #make sure to return the print() of the full_table, otherwise it'll be one big string that latex can't handle"
   ]
  },
  {
   "cell_type": "code",
   "execution_count": null,
   "id": "9f118a2c-3c4a-4d4a-96eb-f539fa761812",
   "metadata": {},
   "outputs": [],
   "source": [
    "dftemp.to_latex()"
   ]
  },
  {
   "cell_type": "code",
   "execution_count": null,
   "id": "9ea14f21-4f3c-4a22-8987-67bad0e02678",
   "metadata": {},
   "outputs": [],
   "source": [
    "x = table_from_df(dftemp)\n",
    "\n",
    "print(x)"
   ]
  },
  {
   "cell_type": "markdown",
   "id": "196e2cbd-5fcd-4c03-b8ab-22a2214be881",
   "metadata": {},
   "source": [
    "## Sandbox\n",
    "\n",
    "Trying to recreate some of our calculations using pandas Dataframe operations."
   ]
  },
  {
   "cell_type": "code",
   "execution_count": null,
   "id": "be74a749-aceb-4f43-bb46-fbbc4b9d2d55",
   "metadata": {},
   "outputs": [],
   "source": [
    "dfcs = pd.read_csv('BaBar_analyses_BNV_pLambda_cross_section_data.csv')\n",
    "\n",
    "dfcs = dfcs.rename(columns={\"SP Mode\":\"SP mode\"})\n",
    "dfcs"
   ]
  },
  {
   "cell_type": "code",
   "execution_count": null,
   "id": "5db819b3-37a1-4c7a-a40c-75a91f6fdf24",
   "metadata": {},
   "outputs": [],
   "source": [
    "df = pd.read_csv('BaBar_analyses_BNV_pLambda_data_for_scaling.csv')\n",
    "df\n",
    "\n"
   ]
  },
  {
   "cell_type": "code",
   "execution_count": null,
   "id": "81cb1995-a58e-4b54-aaa9-2e61f42befa8",
   "metadata": {},
   "outputs": [],
   "source": [
    "filter = (df['Data or MC'] == 'Data') & (df['Skim'].isna())\n",
    "df[filter]\n",
    "\n"
   ]
  },
  {
   "cell_type": "code",
   "execution_count": null,
   "id": "53469f48-0df2-4f5c-b6a4-c965e1580e21",
   "metadata": {},
   "outputs": [],
   "source": [
    "integrated_lumi_in_nb = df[filter]['Luminosity (Data only) 1/pb'].sum()*1000.\n",
    "print(f\"Integrated luminosity [nb]: {integrated_lumi_in_nb:.2f}\")"
   ]
  },
  {
   "cell_type": "code",
   "execution_count": null,
   "id": "bcb8da1e-d26c-4822-8610-5ec72ae4383b",
   "metadata": {},
   "outputs": [],
   "source": [
    "tot_data_events = df[filter]['# of events (Data or MC)'].sum()\n",
    "print(f\"Total data events: {tot_data_events:.2e}\")"
   ]
  },
  {
   "cell_type": "code",
   "execution_count": null,
   "id": "a65e9148-2d01-4900-93ea-34d4bf18a509",
   "metadata": {},
   "outputs": [],
   "source": []
  },
  {
   "cell_type": "code",
   "execution_count": null,
   "id": "deebab31-b2ff-483d-a539-e868cb925389",
   "metadata": {},
   "outputs": [],
   "source": [
    "filter = (df['Data or MC'] == 'MC') & (df['Skim'].isna())\n",
    "\n",
    "dftemp = df[filter]\n",
    "\n",
    "\n",
    "grp = dftemp.groupby('SP mode')\n",
    "\n",
    "# This returns a dataframe\n",
    "dfgrp = grp[['# of events (Data or MC)']].sum()\n",
    "\n",
    "dfgrp"
   ]
  },
  {
   "cell_type": "code",
   "execution_count": null,
   "id": "44e9a693-4325-487c-a812-88b0e5630e9c",
   "metadata": {},
   "outputs": [],
   "source": [
    "dfcs_merged = pd.merge(dfgrp, dfcs, on='SP mode')\n",
    "dfcs_merged"
   ]
  },
  {
   "cell_type": "code",
   "execution_count": null,
   "id": "90bd242b-7dda-4751-90ff-f14c46fadac4",
   "metadata": {},
   "outputs": [],
   "source": [
    "dfcs_merged['scaling'] = dfcs_merged['Cross section [nb]'] * integrated_lumi_in_nb / dfcs_merged['# of events (Data or MC)'] \n",
    "\n",
    "dfcs_merged"
   ]
  },
  {
   "cell_type": "code",
   "execution_count": null,
   "id": "82d0e3bf-d674-4b50-ad4d-1e9ba9606b03",
   "metadata": {},
   "outputs": [],
   "source": []
  },
  {
   "cell_type": "code",
   "execution_count": null,
   "id": "eddc7c26-fd19-498d-905d-f465181cb713",
   "metadata": {},
   "outputs": [],
   "source": [
    "dfscale = pd.read_csv('BaBar_analyses_BNV_pLambda_data_for_scaling.csv')\n",
    "dfscale"
   ]
  },
  {
   "cell_type": "code",
   "execution_count": null,
   "id": "b04c921b-9e1c-46c9-9369-5c708f5c61c2",
   "metadata": {},
   "outputs": [],
   "source": [
    "filter = (df['Data or MC'] == 'MC') & (df['Skim'] != 'LambdaVeryVeryLoose')\n",
    "\n",
    "dftemp = df[filter][['SP mode', '# of events (Data or MC)', '# of collections/files (Data or MC)']]\n",
    "\n",
    "dftemp"
   ]
  },
  {
   "cell_type": "code",
   "execution_count": null,
   "id": "3926e50d-18f2-4d3a-b0e8-8429dfec8228",
   "metadata": {},
   "outputs": [],
   "source": [
    "filter = (df['Data or MC'] == 'MC') & (df['Skim'] != 'LambdaVeryVeryLoose')\n",
    "\n",
    "dftemp = df[filter]\n",
    "\n",
    "\n",
    "grp = dftemp.groupby('SP mode')\n",
    "\n",
    "# This returns a dataframe\n",
    "dfgrp = grp[['# of events (Data or MC)','# of events (Data or MC) NOT SURE WHICH NUMBER TO USE']].sum()\n",
    "\n",
    "dfgrp"
   ]
  },
  {
   "cell_type": "code",
   "execution_count": null,
   "id": "ecdb6533-c68a-49d5-8dc0-363039248c3e",
   "metadata": {},
   "outputs": [],
   "source": [
    "filter = (df['Data or MC'] == 'MC') & (df['Skim'] == 'LambdaVeryVeryLoose')\n",
    "\n",
    "dftemp = df[filter]\n",
    "\n",
    "\n",
    "grp = dftemp.groupby('SP mode')\n",
    "\n",
    "# This returns a dataframe\n",
    "dfgrp2 = grp[['# of events (Data or MC)','# of events (Data or MC) NOT SURE WHICH NUMBER TO USE']].sum()\n",
    "\n",
    "dfgrp2"
   ]
  },
  {
   "cell_type": "code",
   "execution_count": null,
   "id": "f8010c37-bc92-47c2-a8fb-7a1660c2361d",
   "metadata": {},
   "outputs": [],
   "source": [
    "pd.merge(dfgrp, dfgrp2, on='SP mode')"
   ]
  },
  {
   "cell_type": "code",
   "execution_count": null,
   "id": "b0579e97-2a01-484c-96f0-80186482928f",
   "metadata": {},
   "outputs": [],
   "source": []
  }
 ],
 "metadata": {
  "kernelspec": {
   "display_name": "Python 3 (ipykernel)",
   "language": "python",
   "name": "python3"
  },
  "language_info": {
   "codemirror_mode": {
    "name": "ipython",
    "version": 3
   },
   "file_extension": ".py",
   "mimetype": "text/x-python",
   "name": "python",
   "nbconvert_exporter": "python",
   "pygments_lexer": "ipython3",
   "version": "3.11.7"
  }
 },
 "nbformat": 4,
 "nbformat_minor": 5
}
