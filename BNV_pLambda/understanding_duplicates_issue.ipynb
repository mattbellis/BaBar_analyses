{
 "cells": [
  {
   "cell_type": "code",
   "execution_count": null,
   "id": "5de2a380-9ff7-4e3b-b8e1-6bed0d19d1ca",
   "metadata": {},
   "outputs": [],
   "source": [
    "import uproot\n",
    "import awkward as ak\n",
    "\n",
    "import matplotlib.pylab as plt\n",
    "import numpy as np\n",
    "\n",
    "import time\n",
    "\n",
    "from hist import Hist\n",
    "\n",
    "import pandas as pd\n"
   ]
  },
  {
   "cell_type": "code",
   "execution_count": null,
   "id": "5e450aba-26ee-40f8-a80c-f90597ac2288",
   "metadata": {},
   "outputs": [],
   "source": [
    "start = time.time()\n",
    "\n",
    "\n",
    "# At Siena\n",
    "#topdir = '/mnt/qnap/babar_data/bnv_plambda'\n",
    "\n",
    "# At Bellis' home\n",
    "#topdir = 'bnv_plambda'\n",
    "\n",
    "# On Bellis' laptop\n",
    "topdir = './'\n",
    "\n",
    "filename = f'{topdir}/Background_SP_modes_Only_Run_1.parquet'\n",
    "#filename = f'{topdir}/Background_and_signal_SP_modes_Only_Run_1.parquet'\n",
    "\n",
    "data = ak.from_parquet(filename)\n",
    "\n",
    "print(f\"Took {time.time() - start} s\")\n"
   ]
  },
  {
   "cell_type": "code",
   "execution_count": null,
   "id": "ac68298b-723c-43ec-8638-e2e251214c52",
   "metadata": {},
   "outputs": [],
   "source": [
    "nlam = data['nLambda0']\n",
    "lamfl = data['Lambda0FlightLen']\n",
    "\n",
    "\n",
    "d1idx = data['Lambda0d1Idx']\n",
    "d2idx = data['Lambda0d2Idx']\n",
    "\n",
    "d1lund = data['Lambda0d1Lund']\n",
    "d2lund = data['Lambda0d2Lund']\n",
    "\n",
    "Bd1idx = data['Bd1Idx']\n",
    "Bd2idx = data['Bd2Idx']\n",
    "\n",
    "Bd1lund = data['Bd1Lund']\n",
    "Bd2lund = data['Bd2Lund']\n",
    "\n",
    "\n",
    "\n",
    "plt.figure(figsize=(12,3))\n",
    "plt.subplot(1,2,1)\n",
    "plt.hist(nlam);\n",
    "\n",
    "plt.subplot(1,2,2)\n",
    "plt.hist(nlam[nlam!=2]);"
   ]
  },
  {
   "cell_type": "code",
   "execution_count": null,
   "id": "4cb8c73b-4970-47c8-a7af-6e0a335d5f9b",
   "metadata": {},
   "outputs": [],
   "source": [
    "print(lamfl)\n",
    "print()\n",
    "\n",
    "print(d1idx)\n",
    "print(d1lund)\n",
    "print()\n",
    "\n",
    "print(d2idx)\n",
    "print(d2lund)\n",
    "print()\n",
    "\n",
    "print(Bd1idx)\n",
    "print(Bd1lund)\n",
    "print()\n",
    "\n",
    "print(Bd2idx)\n",
    "print(Bd2lund)\n",
    "print()"
   ]
  },
  {
   "cell_type": "code",
   "execution_count": null,
   "id": "056d7b97-2eef-4e1f-859e-af9504095841",
   "metadata": {},
   "outputs": [],
   "source": [
    "mask = lamfl >= 0\n",
    "\n",
    "plt.figure(figsize=(12,3))\n",
    "plt.subplot(1,2,1)\n",
    "plt.hist(ak.flatten(lamfl),bins=100);\n",
    "\n",
    "plt.subplot(1,2,2)\n",
    "plt.hist(ak.flatten(lamfl[mask]), bins=100);"
   ]
  },
  {
   "cell_type": "code",
   "execution_count": null,
   "id": "e7327b4a-f418-4c54-b22b-24dbf805e586",
   "metadata": {},
   "outputs": [],
   "source": [
    "mask = lamfl >= 0\n",
    "\n",
    "plt.figure(figsize=(12,3))\n",
    "plt.subplot(1,2,1)\n",
    "plt.hist(ak.num(lamfl));\n",
    "\n",
    "plt.subplot(1,2,2)\n",
    "plt.hist(ak.num(lamfl[mask]));"
   ]
  },
  {
   "cell_type": "code",
   "execution_count": null,
   "id": "494b759a-126f-471c-b196-2b82b83ce31a",
   "metadata": {},
   "outputs": [],
   "source": [
    "mask = nlam == 2\n",
    "\n",
    "x1 = d1idx[mask][:,0]\n",
    "x2 = d1idx[mask][:,1]\n",
    "\n",
    "x3 = d2idx[mask][:,0]\n",
    "x4 = d2idx[mask][:,1]\n",
    "\n",
    "x5 = Bd2idx[mask][:,0]\n",
    "x6 = Bd2idx[mask][:,1]\n",
    "\n",
    "\n",
    "print(x1)\n",
    "print(x2)\n",
    "print()\n",
    "\n",
    "print(len(x1))\n",
    "print(len(x1[x1 != x2]))\n",
    "\n",
    "print(len(x3))\n",
    "print(len(x3[x3 != x4]))\n",
    "\n",
    "print(len(x5))\n",
    "print(len(x5[x5 != x6]))\n"
   ]
  },
  {
   "cell_type": "code",
   "execution_count": null,
   "id": "86c2fadc-a6ff-4fc4-bc6c-63f9a3cadd86",
   "metadata": {},
   "outputs": [],
   "source": [
    "mask = nlam == 2\n",
    "\n",
    "print(d1idx[mask])\n",
    "\n",
    "x1 = d1idx[mask][:,1]\n",
    "\n",
    "x1"
   ]
  },
  {
   "cell_type": "code",
   "execution_count": null,
   "id": "3505e4be-77f8-45ad-8b16-cebf03e39826",
   "metadata": {},
   "outputs": [],
   "source": []
  }
 ],
 "metadata": {
  "kernelspec": {
   "display_name": "Python 3 (ipykernel)",
   "language": "python",
   "name": "python3"
  },
  "language_info": {
   "codemirror_mode": {
    "name": "ipython",
    "version": 3
   },
   "file_extension": ".py",
   "mimetype": "text/x-python",
   "name": "python",
   "nbconvert_exporter": "python",
   "pygments_lexer": "ipython3",
   "version": "3.11.7"
  }
 },
 "nbformat": 4,
 "nbformat_minor": 5
}
