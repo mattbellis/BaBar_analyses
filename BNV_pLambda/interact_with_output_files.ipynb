{
 "cells": [
  {
   "cell_type": "code",
   "execution_count": null,
   "id": "01c7030e-840e-417f-b102-926131649a4a",
   "metadata": {},
   "outputs": [],
   "source": [
    "import pandas as pd\n",
    "\n",
    "import matplotlib.pylab as plt\n",
    "import numpy as np"
   ]
  },
  {
   "cell_type": "code",
   "execution_count": null,
   "id": "f80588e9-7f37-4eed-94b4-661017a2524e",
   "metadata": {},
   "outputs": [],
   "source": [
    "filename = 'DATAFRAME_SP_MODEL_MLPClassifier_CUTS_1_2_3_nsig_20000_nbkg_20000.pkl'\n",
    "df_sp = pd.read_parquet(filename)"
   ]
  },
  {
   "cell_type": "code",
   "execution_count": null,
   "id": "1e9cc8f4-b31c-4fda-83d0-9864aca1eddf",
   "metadata": {},
   "outputs": [],
   "source": [
    "df_sp"
   ]
  },
  {
   "cell_type": "code",
   "execution_count": null,
   "id": "acafa597-fe79-495d-93c3-8c1800c155e4",
   "metadata": {},
   "outputs": [],
   "source": [
    "mask = df_sp['spmode'] == '998'\n",
    "\n",
    "mask = mask & (df_sp['cut_-1'] == True)\n",
    "\n",
    "mask = mask & (df_sp['used_in_bkg_train'] == False)\n",
    "\n",
    "mask = mask & (df_sp['BpostFitMes'] > 5.20)\n",
    "\n",
    "mask = mask & (df_sp['proba'] > 0.5)\n",
    "\n",
    "\n",
    "df_sp[mask]['BpostFitMes'].hist(bins=10, range=(5.2, 5.3))"
   ]
  },
  {
   "cell_type": "code",
   "execution_count": null,
   "id": "c7e569c3-eea5-4a46-a20e-76b2b5367c03",
   "metadata": {},
   "outputs": [],
   "source": [
    "df_sp[mask][[\"proba\", \"BpostFitMes\"]].corr()"
   ]
  },
  {
   "cell_type": "code",
   "execution_count": null,
   "id": "f65c1f4c-dc32-478f-b641-554b96920d61",
   "metadata": {},
   "outputs": [],
   "source": [
    "mask = df_sp['spmode'] == '-999'\n",
    "\n",
    "mask = mask & (df_sp['cut_-1'] == True)\n",
    "\n",
    "mask = mask & (df_sp['used_in_bkg_train'] == False)\n",
    "\n",
    "mask = mask & (df_sp['BpostFitMes'] > 5.20)\n",
    "\n",
    "mask = mask & (df_sp['proba'] > 0.5)\n",
    "\n",
    "\n",
    "df_sp[mask]['BpostFitMes'].hist(bins=100, range=(5.2, 5.3))"
   ]
  },
  {
   "cell_type": "code",
   "execution_count": null,
   "id": "55a42d30-aa3c-4bec-a8e1-3f24e65e58e1",
   "metadata": {},
   "outputs": [],
   "source": []
  },
  {
   "cell_type": "code",
   "execution_count": null,
   "id": "29ff99c1-90e2-4670-96b1-99b97cf2ff06",
   "metadata": {},
   "outputs": [],
   "source": []
  }
 ],
 "metadata": {
  "kernelspec": {
   "display_name": "Python 3 (ipykernel)",
   "language": "python",
   "name": "python3"
  },
  "language_info": {
   "codemirror_mode": {
    "name": "ipython",
    "version": 3
   },
   "file_extension": ".py",
   "mimetype": "text/x-python",
   "name": "python",
   "nbconvert_exporter": "python",
   "pygments_lexer": "ipython3",
   "version": "3.11.10"
  }
 },
 "nbformat": 4,
 "nbformat_minor": 5
}
