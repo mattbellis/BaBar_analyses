{
 "cells": [
  {
   "cell_type": "code",
   "execution_count": null,
   "id": "8700e67e-bee4-42f1-8cf8-b02e80f87b33",
   "metadata": {},
   "outputs": [],
   "source": [
    "%load_ext autoreload\n",
    "%autoreload 2\n",
    "\n",
    "import uproot\n",
    "import awkward as ak\n",
    "\n",
    "import matplotlib.pylab as plt\n",
    "import numpy as np\n",
    "\n",
    "import time\n",
    "\n",
    "import pandas as pd\n",
    "\n",
    "from hist import Hist\n",
    "\n",
    "import babar_analysis_tools as bat\n",
    "import myPIDselector\n",
    "\n",
    "import os "
   ]
  },
  {
   "cell_type": "code",
   "execution_count": null,
   "id": "b1aa1f7a-1dec-4951-96a3-9535e48484f1",
   "metadata": {},
   "outputs": [],
   "source": [
    "start = time.time()\n",
    "\n",
    "# At Siena\n",
    "#topdir = '/mnt/qnap/babar_data/bnv_plambda'\n",
    "\n",
    "# At home (Bellis)\n",
    "topdir = '/home/bellis/babar_data/bnv_plambda'\n",
    "\n",
    "\n",
    "### Read in SP- includes both signal and background \n",
    "#filename = f'{topdir}/Background_SP_modes_Only_Run_1.parquet'\n",
    "filename = f'{topdir}/Background_and_signal_SP_modes_Only_Run_1.parquet'\n",
    "#filename = f'{topdir}/Background_and_signal_SP_modes_All_runs.parquet'\n",
    "\n",
    "### convert files from a parquet file to an awkward array\n",
    "start = time.time()\n",
    "ak_sp = ak.from_parquet(filename)\n",
    "print(f\"Took {time.time() - start} s\")\n",
    "\n",
    "\n",
    "# Read in data\n",
    "#filename = f'{topdir}/Data_Only_Run_1_BLINDED.parquet'\n",
    "#start = time.time()\n",
    "#ak_data = ak.from_parquet(filename)\n",
    "#print(f\"Took {time.time() - start} s\")\n"
   ]
  },
  {
   "cell_type": "code",
   "execution_count": null,
   "id": "3a17509b-db28-4042-8aba-2e75cb32d848",
   "metadata": {},
   "outputs": [],
   "source": [
    "spmask = ak_sp['spmode']=='-999'\n",
    "\n",
    "ak_sp = ak_sp[spmask]"
   ]
  },
  {
   "cell_type": "code",
   "execution_count": null,
   "id": "97a1b877-7f18-4d44-8090-6874ae2931f2",
   "metadata": {},
   "outputs": [],
   "source": [
    "q = (ak_sp['Bd2Lund'][:,0])/np.abs(ak_sp['Bd2Lund'][:,0])\n",
    "q"
   ]
  },
  {
   "cell_type": "code",
   "execution_count": null,
   "id": "60eab53c-d38d-4268-a634-01a2560895b6",
   "metadata": {},
   "outputs": [],
   "source": [
    "eps = myPIDselector.PIDselector(\"e\")\n",
    "pps = myPIDselector.PIDselector(\"p\")\n",
    "pips = myPIDselector.PIDselector(\"pi\")\n",
    "Kps = myPIDselector.PIDselector(\"K\")\n",
    "mups = myPIDselector.PIDselector(\"mu\")"
   ]
  },
  {
   "cell_type": "code",
   "execution_count": null,
   "id": "c35b8c72-15c8-4090-94ae-2644dd21730f",
   "metadata": {},
   "outputs": [],
   "source": [
    "lamd1idx = ak_sp['Lambda0d1Idx']\n",
    "lamd1Lund = ak_sp['Lambda0d1Lund']\n",
    "\n",
    "print(f'lamd1idx\\n{lamd1idx}')\n",
    "print(f'lamd1Lund\\n{lamd1Lund}')\n",
    "\n",
    "\n",
    "d2idx = ak_sp['Bd2Idx']\n",
    "d2Lund = ak_sp['Bd2Lund']\n",
    "\n",
    "print(f'd2idx\\n{d2idx}')\n",
    "print(f'd2Lund\\n{d2Lund}')\n",
    "\n",
    "trkidx_proton = ak_sp['pTrkIdx']\n",
    "trk_selector_map = ak_sp['pSelectorsMap']\n",
    "print()\n",
    "\n",
    "print(\"trk_selector_map\")\n",
    "print(trk_selector_map)\n",
    "\n",
    "# Do this for all the tracks\n",
    "pbits = bat.calculate_bits_for_PID_selector(trkidx_proton, trk_selector_map, verbose=1)\n",
    "print(f'pbits:\\n{pbits}')\n",
    "print(f'pbits[d2idx]:\\n{pbits[d2idx]}')\n",
    "print()\n",
    "\n",
    "selector = 'LooseKMProtonSelection'\n",
    "print(f\"Now trying to create a mask with {selector}\")\n",
    "\n",
    "mask_bool = bat.mask_PID_selection(pbits[d2idx], selector, pps)\n",
    "print(f'mask_book: {mask_bool}')\n",
    "print()\n",
    "passing_pbits = pbits[d2idx][mask_bool]\n",
    "print(\"\\nMasked bits of the daughters...\")\n",
    "print(f'{passing_pbits}')\n",
    "print()\n",
    "\n",
    "print(\"\\nMasked bits of the not daughters...\")\n",
    "passing_pbits_not_daughter = pbits[~d2idx][mask_bool]\n",
    "print(f'{passing_pbits_not_daughter}')\n",
    "print()"
   ]
  },
  {
   "cell_type": "markdown",
   "id": "bf23c0f4-68c7-4fb4-b0cf-7fa084577277",
   "metadata": {},
   "source": [
    "# Jim's solution\n",
    "\n",
    "https://stackoverflow.com/questions/78657390/accessing-elements-of-an-awkward-array-that-are-not-a-passed-in-index/78659051#78659051"
   ]
  },
  {
   "cell_type": "code",
   "execution_count": null,
   "id": "2e4076c1-6971-4e08-945f-c80c02c4d259",
   "metadata": {},
   "outputs": [],
   "source": [
    "def indices_to_booleans(indices, array_to_slice):\n",
    "    whole_set, in_set = ak.unzip(ak.cartesian([\n",
    "        ak.local_index(array_to_slice), indices\n",
    "    ], nested=True))\n",
    "    return ak.any(whole_set == in_set, axis=-1)"
   ]
  },
  {
   "cell_type": "code",
   "execution_count": null,
   "id": "8c512a75-a466-4372-a6f7-c35e0a672996",
   "metadata": {},
   "outputs": [],
   "source": [
    "jet_lepton_indices = ak.Array([[0, 2], [1], [2,3]])\n",
    "print(f'jet_lepton_indices\\n{jet_lepton_indices}\\n')\n",
    "\n",
    "lepton_flags = ak.Array([[0, 10, 20, 30], [0, 10, 20, 30], [0, 10, 20, 30, 40]])\n",
    "print(f'lepton_flags\\n{lepton_flags}\\n')"
   ]
  },
  {
   "cell_type": "code",
   "execution_count": null,
   "id": "55e723e1-7ab0-45ad-bd20-6288115e81b2",
   "metadata": {},
   "outputs": [],
   "source": [
    "idx = indices_to_booleans(jet_lepton_indices, lepton_flags)\n",
    "\n",
    "idx"
   ]
  },
  {
   "cell_type": "code",
   "execution_count": null,
   "id": "e3b9990d-60f0-4a50-94dd-a4b2836e7207",
   "metadata": {},
   "outputs": [],
   "source": [
    "lepton_flags[idx]"
   ]
  },
  {
   "cell_type": "code",
   "execution_count": null,
   "id": "c54f720f-a278-4981-82e9-3b99bcf635d0",
   "metadata": {},
   "outputs": [],
   "source": [
    "lepton_flags[~idx]"
   ]
  },
  {
   "cell_type": "markdown",
   "id": "2000758d-2b39-42e9-89b2-21673055fcd5",
   "metadata": {},
   "source": [
    "With our code."
   ]
  },
  {
   "cell_type": "code",
   "execution_count": null,
   "id": "e6fe6885-df70-4bb8-a164-e2346ef74027",
   "metadata": {},
   "outputs": [],
   "source": [
    "lamd1idx = ak_sp['Lambda0d1Idx']\n",
    "lamd1Lund = ak_sp['Lambda0d1Lund']\n",
    "\n",
    "print(f'lamd1idx\\n{lamd1idx}')\n",
    "print(f'lamd1Lund\\n{lamd1Lund}')\n",
    "\n",
    "\n",
    "d2idx = ak_sp['Bd2Idx']\n",
    "d2Lund = ak_sp['Bd2Lund']\n",
    "\n",
    "print(f'd2idx\\n{d2idx}')\n",
    "print(f'd2Lund\\n{d2Lund}')\n",
    "print()\n",
    "\n",
    "trkidx_proton = ak_sp['pTrkIdx']\n",
    "print(f\"trkidx_proton\\n{trkidx_proton}\")\n",
    "print()\n",
    "\n",
    "lamd1_trkidx = trkidx_proton[lamd1idx]\n",
    "print(f\"lamd1_trkidx\\n{lamd1_trkidx}\\n\")\n",
    "\n",
    "trk_selector_map = ak_sp['pSelectorsMap']\n",
    "print(f\"trk_selector_map\\n{trk_selector_map}\\n\")\n",
    "\n",
    "lamproton_selector_map = trk_selector_map[lamd1_trkidx]\n",
    "print(lamproton_selector_map)\n",
    "print()\n",
    "\n",
    "idx = indices_to_booleans(lamd1_trkidx, trk_selector_map)\n",
    "print(idx)\n",
    "print(trk_selector_map[idx])\n",
    "print(trk_selector_map[~idx])\n"
   ]
  },
  {
   "cell_type": "code",
   "execution_count": null,
   "id": "1bd3591b-1bc5-4c27-9231-5b8752c3d176",
   "metadata": {},
   "outputs": [],
   "source": []
  }
 ],
 "metadata": {
  "kernelspec": {
   "display_name": "Python 3 (ipykernel)",
   "language": "python",
   "name": "python3"
  },
  "language_info": {
   "codemirror_mode": {
    "name": "ipython",
    "version": 3
   },
   "file_extension": ".py",
   "mimetype": "text/x-python",
   "name": "python",
   "nbconvert_exporter": "python",
   "pygments_lexer": "ipython3",
   "version": "3.11.7"
  }
 },
 "nbformat": 4,
 "nbformat_minor": 5
}
