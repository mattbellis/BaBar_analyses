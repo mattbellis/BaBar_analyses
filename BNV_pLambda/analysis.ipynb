{
 "cells": [
  {
   "cell_type": "code",
   "execution_count": null,
   "id": "27af68ea",
   "metadata": {},
   "outputs": [],
   "source": [
    "%load_ext autoreload\n",
    "%autoreload 2\n",
    "\n",
    "import uproot\n",
    "import awkward as ak\n",
    "\n",
    "import matplotlib.pylab as plt\n",
    "import numpy as np\n",
    "\n",
    "import time\n",
    "\n",
    "from hist import Hist\n",
    "\n",
    "import babar_analysis_tools as bat\n",
    "\n",
    "from analysis_variables import *\n",
    "\n",
    "import myPIDselector\n",
    "\n",
    "import pandas as pd\n",
    "import seaborn as sns"
   ]
  },
  {
   "cell_type": "markdown",
   "id": "ad4cde12",
   "metadata": {},
   "source": [
    "# Open the data file or files"
   ]
  },
  {
   "cell_type": "code",
   "execution_count": null,
   "id": "f6f69369",
   "metadata": {},
   "outputs": [],
   "source": [
    "start = time.time()\n",
    "\n",
    "# At Siena\n",
    "#topdir = '/mnt/qnap/babar_data/bnv_plambda'\n",
    "\n",
    "##josie laptop \n",
    "#topdir = \"/Users/josieswann/Desktop/important documents\"\n",
    "\n",
    "# On Bellis' laptop\n",
    "#topdir = '/home/bellis/babar_data/bnv_plambda/'\n",
    "\n",
    "\n",
    "# At Bellis' home\n",
    "topdir = '/home/bellis/babar_data/bnv_plambda'\n",
    "\n",
    "# On Bellis' laptop\n",
    "#topdir = './'\n",
    "\n",
    "filename = f'{topdir}/Background_and_signal_SP_modes_Only_Run_1.parquet'\n",
    "#filename = f'{topdir}/Background_and_signal_SP_modes_All_runs.parquet'\n",
    "\n",
    "data = ak.from_parquet(filename)\n",
    "\n",
    "print(f\"Took {time.time() - start} s\")\n",
    "IS_MC=True\n",
    "\n",
    "\n",
    "#'''\n",
    "# Collision data\n",
    "#filename = f'{topdir}/Background_SP_modes_Only_Run_1.parquet'\n",
    "filename = f'{topdir}/Data_Only_Run_1_BLINDED.parquet'\n",
    "#filename = f'{topdir}/Data_All_runs_BLINDED.parquet'\n",
    "\n",
    "start = time.time()\n",
    "\n",
    "data_collision = ak.from_parquet(filename)\n",
    "#data_collision = ak.from_parquet(filename)\n",
    "\n",
    "print(f\"Took {time.time() - start} s\")\n",
    "\n",
    "print(type(data_collision))\n",
    "#'''\n"
   ]
  },
  {
   "cell_type": "code",
   "execution_count": null,
   "id": "d1071e22-0dba-445d-92fc-72e56b60ca11",
   "metadata": {},
   "outputs": [],
   "source": [
    "# Run over collision data\n",
    "#data = data_collision\n",
    "#IS_MC=False"
   ]
  },
  {
   "cell_type": "markdown",
   "id": "ec4a1302-daf2-4b67-ab5d-2a61e9e8df84",
   "metadata": {},
   "source": [
    "## Add an entry with the tag-side B variable(s)"
   ]
  },
  {
   "cell_type": "code",
   "execution_count": null,
   "id": "a296c1a8-5af4-4d7c-a86e-059219be1c8a",
   "metadata": {},
   "outputs": [],
   "source": [
    "bat.fill_new_entry_with_tag_side_B(data)\n",
    "data['BtagSideMes']"
   ]
  },
  {
   "cell_type": "code",
   "execution_count": null,
   "id": "ea7f9b34-fa84-490b-9015-94e6829b9482",
   "metadata": {},
   "outputs": [],
   "source": [
    "bat.fill_new_entry_with_tag_side_B(data_collision)\n",
    "data_collision['BtagSideMes']"
   ]
  },
  {
   "cell_type": "markdown",
   "id": "62acbb1d",
   "metadata": {},
   "source": [
    "# Get information about cross sections and numbers of events"
   ]
  },
  {
   "cell_type": "code",
   "execution_count": null,
   "id": "e8af3d02",
   "metadata": {},
   "outputs": [],
   "source": [
    "### information about cross section --> what we'll use to calculate scaling values for histograms \n",
    "\n",
    "dataset_information = pd.read_csv(\"dataset_statistics.csv\")\n",
    "cs_data= pd.read_csv(\"SP_cross_sections_and_labels.csv\")\n",
    "\n",
    "no_notes= cs_data.drop([\"Uncertainty\",\"Note: cross sections found at https://babar-wiki.heprc.uvic.ca/bbr_wiki/index.php/Physics/Cross_sections,_luminosities,_and_other_vital_stats\"], axis= 1)\n",
    "no_notes"
   ]
  },
  {
   "cell_type": "markdown",
   "id": "073db4f1",
   "metadata": {},
   "source": [
    "# Make a few test histograms "
   ]
  },
  {
   "cell_type": "code",
   "execution_count": null,
   "id": "b86d5945-810b-4718-bab5-5debbced4052",
   "metadata": {},
   "outputs": [],
   "source": [
    "sp = data['spmode']\n",
    "\n",
    "np.unique(sp.to_list())"
   ]
  },
  {
   "cell_type": "code",
   "execution_count": null,
   "id": "f480cc2a-661a-45b1-9eb7-128bfcf834f2",
   "metadata": {},
   "outputs": [],
   "source": [
    "region_definitions"
   ]
  },
  {
   "cell_type": "code",
   "execution_count": null,
   "id": "2cae3bfa-dd49-4de4-afa5-55d5597e24d1",
   "metadata": {},
   "outputs": [],
   "source": [
    "hist_defs"
   ]
  },
  {
   "cell_type": "markdown",
   "id": "4cac8f35-235d-4b73-9622-77fe4bdfcd6f",
   "metadata": {},
   "source": [
    "# Create standard empty histograms"
   ]
  },
  {
   "cell_type": "code",
   "execution_count": null,
   "id": "951ec07a-585d-4682-8546-e3c6e9e63dce",
   "metadata": {},
   "outputs": [],
   "source": [
    "# Make our histograms\n",
    "all_hists = bat.create_empty_histograms(hist_defs)\n",
    "\n",
    "bkg_spmodes = ['998', '1005', '1235', '1237', '3981']\n",
    "sig_spmodes = ['-999']\n",
    "\n",
    "spmodes = bkg_spmodes + sig_spmodes\n",
    "\n",
    "weights = {}\n",
    "for sp in spmodes:\n",
    "    weights[sp] = bat.scaling_value(int(sp), dataset_information=dataset_information, cs_data=cs_data, plot=False, verbose=False)\n",
    "    #weights[sp] = 1\n",
    "\n",
    "### bat.scaling_value is in Babar_analysis_tools.py \n",
    "\n",
    "# Scale the signal higher\n",
    "weights['-999'] = 1000\n",
    "weights['0'] = 1\n",
    "\n",
    "print(weights)\n",
    "print()\n",
    "print(spmodes)"
   ]
  },
  {
   "cell_type": "code",
   "execution_count": null,
   "id": "4768cdb0",
   "metadata": {},
   "outputs": [],
   "source": [
    "# Pull out some SP mode\n",
    "#spmode = '1005'\n",
    "spmode='998'\n",
    "#spmode='991'\n",
    "#spmode='-999'\n",
    "#spmode='0'\n",
    "mask_sp = data['spmode'] == spmode\n",
    "\n",
    "# Collision data\n",
    "#mask_sp = data['spmode']=='0'\n",
    "\n",
    "# Make a subset\n",
    "data_sp = data[mask_sp]\n",
    "\n",
    "# For data we need to account for blinding\n",
    "if IS_MC is False:\n",
    "    nB = data_sp['nB']\n",
    "    Bp3 = data_sp['Bp3']\n",
    "    nBp3 = ak.num(Bp3)\n",
    "    \n",
    "    mask_to_account_for_blinding = nB == nBp3\n",
    "    print(len(nB[mask_to_account_for_blinding]), len(nB[~mask_to_account_for_blinding]))\n",
    "    \n",
    "    data_sp = data_sp[mask_to_account_for_blinding]\n",
    "\n",
    "# Use only the data in the fitting region\n",
    "fit_mask = bat.get_fit_mask(data_sp, region_definitions)\n",
    "\n",
    "# Make the plot\n",
    "mes =    ak.flatten(data_sp['BpostFitMes'][fit_mask])\n",
    "DeltaE = ak.flatten(data_sp['BpostFitDeltaE'][fit_mask])\n",
    "\n",
    "bat.plot_mes_vs_DeltaE(mes, DeltaE, region_definitions=region_definitions, draw_signal_region=True)\n",
    "\n",
    "#print(len(mes),len(DeltaE))\n",
    "\n",
    "## Other HISTOGRAMS \n",
    "all_hists = bat.create_empty_histograms(hist_defs)\n",
    "x = ak.flatten(data_sp['Lambda0_unc_Mass'][fit_mask])\n",
    "weight = weights[spmode]\n",
    "all_hists['Lambda0_unc_Mass'].fill(var=x, SP= spmode, cuts= f\"{0}\", weight= weight)\n",
    "\n",
    "plt.figure()\n",
    "all_hists['Lambda0_unc_Mass'].project('var').plot(histtype=\"fill\", color='red', label= spmode)\n",
    "all_hists['Lambda0_unc_Mass'].project('var').plot(histtype=\"step\", color='black')\n",
    "plt.legend();"
   ]
  },
  {
   "cell_type": "code",
   "execution_count": null,
   "id": "6f12d584-3de1-4042-adf3-2ab217180b30",
   "metadata": {},
   "outputs": [],
   "source": [
    "#mes"
   ]
  },
  {
   "cell_type": "markdown",
   "id": "fb69397a-eb68-43d6-a356-0d45d08dd387",
   "metadata": {},
   "source": [
    "# Get the event-based cuts\n",
    "\n"
   ]
  },
  {
   "cell_type": "code",
   "execution_count": null,
   "id": "3cda4d0f-75d4-47f4-ac1c-9905d0dd84a0",
   "metadata": {},
   "outputs": [],
   "source": [
    "# Need to get the original duplicates mask for any other cuts we might generate outside the function\n",
    "dcuts = bat.get_final_masks(data, region_definitions=region_definitions)\n",
    "\n",
    "print([dcuts.keys()])\n",
    "print()\n",
    "\n",
    "for key in dcuts.keys():\n",
    "    print(f'{key:3d} {dcuts[key][\"name\"]}')"
   ]
  },
  {
   "cell_type": "code",
   "execution_count": null,
   "id": "b43660b4-49d6-4383-8806-5eb548c06637",
   "metadata": {},
   "outputs": [],
   "source": [
    "################################################################################\n",
    "# Make the masks\n",
    "#mask_event = dcuts[3]['event']\n",
    "#mask_event = dcuts[4]['event']\n",
    "mask_event = dcuts[1]['event']\n",
    "#mask_event = dcuts[-1]['event']\n",
    "#mask_event = dcuts[2]['event'] & dcuts[3]['event'] & dcuts[4]['event']\n",
    "\n",
    "#spmode = '998'\n",
    "#spmode = '1005'\n",
    "spmode = '-999'\n",
    "#spmode = '1235'\n",
    "\n",
    "mask_sp = data['spmode']==spmode\n",
    "\n",
    "mask = mask_sp & mask_event\n",
    "################################################################################\n",
    "\n",
    "# Make the plot\n",
    "mes =    ak.flatten(data[mask]['BpostFitMes'])\n",
    "DeltaE = ak.flatten(data[mask]['BpostFitDeltaE'])\n",
    "\n",
    "bat.plot_mes_vs_DeltaE(mes, DeltaE, region_definitions=region_definitions, draw_signal_region=True, zoom=True, bins=25)\n",
    "\n",
    "#print(len(mes),len(DeltaE))\n",
    "\n",
    "## Other HISTOGRAMS \n",
    "all_hists = bat.create_empty_histograms(hist_defs)\n",
    "x = ak.flatten(data[mask]['Lambda0_unc_Mass'])\n",
    "weight = 1.0#weights[spmode]\n",
    "all_hists['Lambda0_unc_Mass'].fill(var=x, SP= spmode, cuts= f\"{0}\", weight= weight)\n",
    "\n",
    "plt.figure()\n",
    "all_hists['Lambda0_unc_Mass'].project('var').plot(histtype=\"fill\", color='red', label= spmode)\n",
    "all_hists['Lambda0_unc_Mass'].project('var').plot(histtype=\"step\", color='black')\n",
    "plt.legend();"
   ]
  },
  {
   "cell_type": "code",
   "execution_count": null,
   "id": "b5c45653-8498-47ae-b951-1719c6da8d57",
   "metadata": {},
   "outputs": [],
   "source": []
  },
  {
   "cell_type": "code",
   "execution_count": null,
   "id": "068521d4-d74c-460f-a71b-6cfe31d425e2",
   "metadata": {},
   "outputs": [],
   "source": []
  },
  {
   "cell_type": "markdown",
   "id": "d8864dad-d92e-414b-890c-b869b3945af6",
   "metadata": {},
   "source": [
    "# Write out the values\n",
    "\n",
    "## parquet"
   ]
  },
  {
   "cell_type": "code",
   "execution_count": null,
   "id": "60a3b346-c2ce-4f22-99b0-0330b9898d40",
   "metadata": {},
   "outputs": [],
   "source": [
    "################################################################################\n",
    "# Make the masks\n",
    "#mask_event = dcuts[3]['event']\n",
    "#mask_event = dcuts[4]['event']\n",
    "mask_event = dcuts[1]['event']\n",
    "#mask_event = dcuts[-1]['event']\n",
    "#mask_event = dcuts[2]['event'] & dcuts[3]['event'] & dcuts[4]['event']\n",
    "\n",
    "#spmode = '998'\n",
    "#spmode = '1005'\n",
    "spmode = '-999'\n",
    "#spmode = '1235'\n",
    "\n",
    "mask_sp = data['spmode']==spmode\n",
    "\n",
    "mask = mask_sp & mask_event\n",
    "################################################################################\n",
    "\n",
    "# Make the plot\n",
    "mes =    ak.flatten(data[mask]['BpostFitMes'])\n",
    "DeltaE = ak.flatten(data[mask]['BpostFitDeltaE'])\n",
    "out_array = ak.Array({'mes': mes, 'DeltaE': DeltaE})\n",
    "\n",
    "output_filename = f'mes_deltae_{spmode}_AFTER_FINAL_CUTS.parquet'\n",
    "ak.to_parquet(out_array, f'{output_filename}.parquet')\n"
   ]
  },
  {
   "cell_type": "code",
   "execution_count": null,
   "id": "5e9f9046-b79a-4f0e-b8a3-7b5fe7a2e638",
   "metadata": {},
   "outputs": [],
   "source": [
    "print(f\"Opening {output_filename}.parquet\")\n",
    "\n",
    "filename = f'{output_filename}.parquet'\n",
    "#filename = f'bnv_plambda/Background_SP_modes_Only_Run_1.parquet'\n",
    "\n",
    "start = time.time()\n",
    "\n",
    "data_test = ak.from_parquet(filename)\n",
    "\n",
    "print(f\"Took {time.time() - start} s\")"
   ]
  },
  {
   "cell_type": "code",
   "execution_count": null,
   "id": "54fabe61-cce7-40be-886c-c62f8950c360",
   "metadata": {},
   "outputs": [],
   "source": [
    "data_test"
   ]
  },
  {
   "cell_type": "code",
   "execution_count": null,
   "id": "37d86838-1d07-4b79-a0e5-65bfe6bdefd3",
   "metadata": {},
   "outputs": [],
   "source": [
    "data_test['mes']"
   ]
  },
  {
   "cell_type": "markdown",
   "id": "91997e98-0ad9-40dc-8423-d91b939a50a4",
   "metadata": {},
   "source": [
    "## dataframe"
   ]
  },
  {
   "cell_type": "code",
   "execution_count": null,
   "id": "2fb98ced-c4cd-4b87-9d60-202dda6ccf54",
   "metadata": {},
   "outputs": [],
   "source": [
    "################################################################################\n",
    "# Make the masks\n",
    "#mask_event = dcuts[3]['event']\n",
    "#mask_event = dcuts[4]['event']\n",
    "mask_event = dcuts[1]['event']\n",
    "#mask_event = dcuts[-1]['event']\n",
    "#mask_event = dcuts[2]['event'] & dcuts[3]['event'] & dcuts[4]['event']\n",
    "\n",
    "tag = \"FINAL_CUTS\"\n",
    "tag = \"EARLY_CUT\"\n",
    "\n",
    "mask = mask_event\n",
    "################################################################################\n",
    "subset = ['spmode', 'BpostFitMes', 'BpostFitDeltaE', 'Lambda0_unc_Mass', \\\n",
    "          'BtagSideMes', 'BSphr', 'BThrust', 'BCosThetaS', \\\n",
    "          'R2', 'R2All', \\\n",
    "          'thrustMag', 'thrustMagAll', 'thrustCosTh', 'thrustCosThAll', 'sphericityAll', \\\n",
    "          'BCosSphr', 'BCosThetaT', 'BCosThrust', 'BLegendreP2', 'BR2ROE', 'BSphrROE', \\\n",
    "          'BThrustROE']\n",
    "\n",
    "ak_array_type = type(data['spmode'])\n",
    "\n",
    "df_dict = {}\n",
    "for var in subset:\n",
    "    x = data[mask][var]\n",
    "\n",
    "    # If this is nested, then flatten it\n",
    "    if type(x[0]) == ak_array_type:\n",
    "        x = ak.flatten(data[mask][var])\n",
    "        \n",
    "    df_dict[var] = x\n",
    "# Make the plot\n",
    "df_out = pd.DataFrame.from_dict(df_dict)\n",
    "\n",
    "# Write it\n",
    "outfilename = \"output_variables_{tag}.parquet\"\n",
    "df_out.to_parquet(outfilename)\n",
    "\n",
    "\n",
    "df_out"
   ]
  },
  {
   "cell_type": "code",
   "execution_count": null,
   "id": "e101809e-d830-4141-9edc-d718e19e3295",
   "metadata": {},
   "outputs": [],
   "source": [
    "df_in = pd.read_parquet(outfilename)\n",
    "\n",
    "df_in"
   ]
  },
  {
   "cell_type": "code",
   "execution_count": null,
   "id": "b47c9ddc-9af1-4ac0-917a-c6777f7af3f3",
   "metadata": {},
   "outputs": [],
   "source": [
    "#sns.histplot(data=df_in, x=\"BpostFitMes\", hue='spmode', bins=100, binrange=(5.2,5.3), stat='probability')"
   ]
  },
  {
   "cell_type": "markdown",
   "id": "9687d435",
   "metadata": {},
   "source": []
  },
  {
   "cell_type": "code",
   "execution_count": null,
   "id": "d51a2f34-4ffc-4a16-a6ab-49573d6c0072",
   "metadata": {},
   "outputs": [],
   "source": []
  },
  {
   "cell_type": "code",
   "execution_count": null,
   "id": "db59c9b6-7a7f-419b-b40c-1d4472a41c09",
   "metadata": {},
   "outputs": [],
   "source": []
  },
  {
   "cell_type": "markdown",
   "id": "71135f18-4e4f-45d3-a9ae-f6866a0558e4",
   "metadata": {},
   "source": [
    "# Older backup development code"
   ]
  },
  {
   "cell_type": "code",
   "execution_count": null,
   "id": "081d199d",
   "metadata": {},
   "outputs": [],
   "source": [
    "#mask_sp = data['spmode']=='998'\n",
    "#mask_nB, mask_duplicates= bat.get_duplicates_mask(data[mask_sp])\n",
    "\n",
    "mask_lambda0, mask_event_nlambda0_and_nB = bat.get_lambda0_mask(data_sp, region_definitions=region_definitions, \\\n",
    "                                                                flightlenvar='Lambda0FlightLen')\n",
    "\n",
    "# Use only the data in the fitting region\n",
    "fit_mask = bat.get_fit_mask(data_sp, region_definitions)\n",
    "\n",
    "######################################\n",
    "\n",
    "'''\n",
    "mask_bool_proton, mask_bool_pion, mask_bool_protonB = bat.PID_masks(data_sp, \\\n",
    "              lamp_selector='SuperLooseKMProtonSelection', \\\n",
    "              lampi_selector='VeryTightKMPionMicroSelection', \\\n",
    "              Bp_selector='SuperTightKMProtonSelection', \\\n",
    "              verbosity=0)\n",
    "\n",
    "print(mask_bool_proton)\n",
    "print(mask_bool_pion)\n",
    "print(mask_bool_protonB)\n",
    "'''\n",
    "\n",
    "mask_event = mask_event_nlambda0_and_nB\n",
    "\n",
    "#mask_pid =      mask_bool_proton[mask_event] & \\\n",
    "#                mask_bool_pion[mask_event] & \\\n",
    "#                mask_bool_protonB[mask_event]\n",
    "\n",
    "#mask_candidates = fit_mask[mask_event] & mask_lambda0[mask_event] & mask_pid \n",
    "mask_candidates = fit_mask[mask_event] & mask_lambda0[mask_event]# & mask_pid \n",
    "\n",
    "# Make the plot\n",
    "mes =    ak.flatten(data_sp[mask_event]['BpostFitMes'][mask_candidates])\n",
    "DeltaE = ak.flatten(data_sp[mask_event]['BpostFitDeltaE'][mask_candidates])\n",
    "\n",
    "######################################\n",
    "\n",
    "'''\n",
    "mask_candidates = fit_mask & mask_lambda0\n",
    "mask_event = mask_event_nlambda0\n",
    "\n",
    "# Make the plot\n",
    "mes =    ak.flatten(data_sp[mask_event]['BpostFitMes'][mask_candidates[mask_event]])\n",
    "DeltaE = ak.flatten(data_sp[mask_event]['BpostFitDeltaE'][mask_candidates[mask_event]])\n",
    "'''\n",
    "\n",
    "bat.plot_mes_vs_DeltaE(mes, DeltaE, region_definitions=region_definitions, draw_signal_region=True, zoom=True)\n",
    "\n",
    "#print(len(mes),len(DeltaE))\n",
    "\n",
    "## Other HISTOGRAMS \n",
    "#'''\n",
    "all_hists = bat.create_empty_histograms(hist_defs)\n",
    "x = ak.flatten(data_sp[mask_event]['Lambda0_unc_Mass'][mask_candidates])\n",
    "weight = weights[spmode]\n",
    "all_hists['Lambda0_unc_Mass'].fill(var=x, SP= spmode, cuts= f\"{0}\", weight= weight)\n",
    "\n",
    "plt.figure()\n",
    "all_hists['Lambda0_unc_Mass'].project('var').plot(histtype=\"fill\", color='red', label= spmode)\n",
    "all_hists['Lambda0_unc_Mass'].project('var').plot(histtype=\"step\", color='black')\n",
    "plt.legend();\n",
    "#'''"
   ]
  },
  {
   "cell_type": "markdown",
   "id": "bd2f3d94-48fb-4b8d-a5fd-2a8b7cce8b1d",
   "metadata": {},
   "source": [
    "### Cut on PID for protons and pions\n",
    "\n"
   ]
  },
  {
   "cell_type": "code",
   "execution_count": null,
   "id": "37f896d3-ec64-46c3-b15b-bafb6d5bf345",
   "metadata": {},
   "outputs": [],
   "source": [
    "# Cut on Lambda and number of candidates\n",
    "mask_lambda0, mask_event_nlambda0_and_nB = bat.get_lambda0_mask(data_sp, region_definitions=region_definitions, \\\n",
    "                                                                flightlenvar='Lambda0FlightLen')\n",
    "\n",
    "# Use only the data in the fitting region\n",
    "fit_mask = bat.get_fit_mask(data_sp, region_definitions)\n",
    "\n",
    "######################################\n",
    "\n",
    "mask_bool_proton, mask_bool_pion, mask_bool_protonB = bat.PID_masks(data_sp, \\\n",
    "              lamp_selector='SuperLooseKMProtonSelection', \\\n",
    "              lampi_selector='VeryTightKMPionMicroSelection', \\\n",
    "              Bp_selector='SuperTightKMProtonSelection', \\\n",
    "              verbosity=0)\n",
    "\n",
    "#print(mask_bool_proton)\n",
    "#print(mask_bool_pion)\n",
    "#print(mask_bool_protonB)\n",
    "\n",
    "mask_event = mask_event_nlambda0_and_nB\n",
    "\n",
    "mask_pid =      mask_bool_proton[mask_event] & \\\n",
    "                mask_bool_pion[mask_event] & \\\n",
    "                mask_bool_protonB[mask_event]\n",
    "\n",
    "mask_candidates = fit_mask[mask_event] & mask_lambda0[mask_event] & mask_pid \n",
    "\n",
    "# Make the plot\n",
    "mes =    ak.flatten(data_sp[mask_event]['BpostFitMes'][mask_candidates])\n",
    "DeltaE = ak.flatten(data_sp[mask_event]['BpostFitDeltaE'][mask_candidates])\n",
    "\n",
    "######################################\n",
    "\n",
    "bat.plot_mes_vs_DeltaE(mes, DeltaE, region_definitions=region_definitions, draw_signal_region=True, zoom=True)\n",
    "\n",
    "#print(len(mes),len(DeltaE))\n",
    "\n",
    "## Other HISTOGRAMS \n",
    "all_hists = bat.create_empty_histograms(hist_defs)\n",
    "x = ak.flatten(data_sp[mask_event]['Lambda0_unc_Mass'][mask_candidates])\n",
    "weight = weights[spmode]\n",
    "all_hists['Lambda0_unc_Mass'].fill(var=x, SP= spmode, cuts= f\"{0}\", weight= weight)\n",
    "\n",
    "plt.figure()\n",
    "all_hists['Lambda0_unc_Mass'].project('var').plot(histtype=\"fill\", color='red', label= spmode)\n",
    "all_hists['Lambda0_unc_Mass'].project('var').plot(histtype=\"step\", color='black')\n",
    "plt.legend();\n"
   ]
  },
  {
   "cell_type": "markdown",
   "id": "5fa389ad-23e5-4edd-b0a3-c6dd9dd04f77",
   "metadata": {},
   "source": [
    "### Anti-cut on opposite-charged proton\n"
   ]
  },
  {
   "cell_type": "code",
   "execution_count": null,
   "id": "126ce7fc-c2df-4dd4-b0de-5e0a34e76568",
   "metadata": {},
   "outputs": [],
   "source": [
    "pps = myPIDselector.PIDselector(\"p\")\n",
    "\n",
    "# To test\n",
    "selectors_to_test = ['SuperLooseKMProtonSelection',\n",
    " 'VeryLooseKMProtonSelection',\n",
    " 'LooseKMProtonSelection',\n",
    " 'TightKMProtaonSelection',\n",
    " 'VeryTightKMProtonSelection',\n",
    " 'SuperTightKMProtonSelection']\n",
    "\n",
    "selector_to_test = \"TightKMProtonSelection\"\n",
    "\n",
    "# Is MC?\n",
    "mask_no_antiprotons, ct = bat.build_antiproton_antimask(data_sp, pps, selector_to_test, IS_MC=IS_MC, verbose=0)\n",
    "\n",
    "print(mask_no_antiprotons)\n",
    "print(ct)\n",
    "print(len(mask_no_antiprotons))\n",
    "print(len(ct))\n"
   ]
  },
  {
   "cell_type": "code",
   "execution_count": null,
   "id": "4a2c8263-105a-4c9a-bbea-4e7158232fe5",
   "metadata": {},
   "outputs": [],
   "source": [
    "# Use it\n",
    "# Cut on Lambda and number of candidates\n",
    "mask_lambda0, mask_event_nlambda0_and_nB = bat.get_lambda0_mask(data_sp, region_definitions=region_definitions, \\\n",
    "                                                                flightlenvar='Lambda0FlightLen')\n",
    "\n",
    "# Use only the data in the fitting region\n",
    "fit_mask = bat.get_fit_mask(data_sp, region_definitions)\n",
    "\n",
    "######################################\n",
    "\n",
    "mask_bool_proton, mask_bool_pion, mask_bool_protonB = bat.PID_masks(data_sp, \\\n",
    "              lamp_selector='SuperLooseKMProtonSelection', \\\n",
    "              lampi_selector='VeryTightKMPionMicroSelection', \\\n",
    "              Bp_selector='SuperTightKMProtonSelection', \\\n",
    "              verbosity=0)\n",
    "\n",
    "\n",
    "pps = myPIDselector.PIDselector(\"p\")\n",
    "selector_to_test = \"TightKMProtonSelection\"\n",
    "# Is MC?\n",
    "mask_no_antiprotons, ct = bat.build_antiproton_antimask(data_sp, pps, selector_to_test, IS_MC=IS_MC, verbose=0)\n",
    "print(f\"mask no antip: {len(mask_no_antiprotons)}    mask lambda0/nB: {len(mask_event_nlambda0_and_nB)}\")\n",
    "\n",
    "mask_event = mask_event_nlambda0_and_nB & ~mask_no_antiprotons\n",
    "\n",
    "\n",
    "mask_pid =      mask_bool_proton[mask_event] & \\\n",
    "                mask_bool_pion[mask_event] & \\\n",
    "                mask_bool_protonB[mask_event]\n",
    "\n",
    "mask_candidates = fit_mask[mask_event] & mask_lambda0[mask_event] & mask_pid \n",
    "\n",
    "#mask_candidates = fit_mask & mask_lambda0 & mask_pid \n",
    "\n",
    "# Make the plot\n",
    "mes =    ak.flatten(data_sp[mask_event]['BpostFitMes'][mask_candidates])\n",
    "DeltaE = ak.flatten(data_sp[mask_event]['BpostFitDeltaE'][mask_candidates])\n",
    "\n",
    "bat.plot_mes_vs_DeltaE(mes, DeltaE, region_definitions=region_definitions, draw_signal_region=True, zoom=True, bins=25)\n",
    "\n",
    "#print(len(mes),len(DeltaE))\n",
    "\n",
    "## Other HISTOGRAMS \n",
    "all_hists = bat.create_empty_histograms(hist_defs)\n",
    "x = ak.flatten(data_sp[mask_event]['Lambda0_unc_Mass'][mask_candidates])\n",
    "weight = weights[spmode]\n",
    "all_hists['Lambda0_unc_Mass'].fill(var=x, SP= spmode, cuts= f\"{0}\", weight= weight)\n",
    "\n",
    "plt.figure()\n",
    "all_hists['Lambda0_unc_Mass'].project('var').plot(histtype=\"fill\", color='red', label= spmode)\n",
    "all_hists['Lambda0_unc_Mass'].project('var').plot(histtype=\"step\", color='black')\n",
    "plt.legend();"
   ]
  },
  {
   "cell_type": "code",
   "execution_count": null,
   "id": "7b760aba",
   "metadata": {},
   "outputs": [],
   "source": [
    "print(len(mes),len(DeltaE))"
   ]
  },
  {
   "cell_type": "code",
   "execution_count": null,
   "id": "a53647a6-fcc8-42aa-8b31-97d4f4d94c29",
   "metadata": {},
   "outputs": [],
   "source": []
  }
 ],
 "metadata": {
  "kernelspec": {
   "display_name": "Python 3 (ipykernel)",
   "language": "python",
   "name": "python3"
  },
  "language_info": {
   "codemirror_mode": {
    "name": "ipython",
    "version": 3
   },
   "file_extension": ".py",
   "mimetype": "text/x-python",
   "name": "python",
   "nbconvert_exporter": "python",
   "pygments_lexer": "ipython3",
   "version": "3.11.7"
  }
 },
 "nbformat": 4,
 "nbformat_minor": 5
}
