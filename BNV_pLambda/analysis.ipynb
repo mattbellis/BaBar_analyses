{
 "cells": [
  {
   "cell_type": "code",
   "execution_count": null,
   "id": "bd249951-d9cb-413b-9bfb-2cc95d493ac8",
   "metadata": {},
   "outputs": [],
   "source": [
    "%load_ext autoreload\n",
    "%autoreload 2\n",
    "\n",
    "\n",
    "import uproot\n",
    "import awkward as ak\n",
    "\n",
    "import matplotlib.pylab as plt\n",
    "import numpy as np\n",
    "\n",
    "import time\n",
    "\n",
    "from hist import Hist\n",
    "\n",
    "import babar_analysis_tools as bat\n",
    "\n",
    "import pandas as pd"
   ]
  },
  {
   "cell_type": "markdown",
   "id": "1b1879a5-ba1a-4f84-9533-7e97d8e30de3",
   "metadata": {},
   "source": [
    "# Open the data file or files"
   ]
  },
  {
   "cell_type": "code",
   "execution_count": null,
   "id": "c2920f9f-b0cc-4b42-b9db-7b2d3548091a",
   "metadata": {},
   "outputs": [],
   "source": [
    "start = time.time()\n",
    "\n",
    "# At Siena\n",
    "topdir = '/mnt/qnap/babar_data/bnv_plambda'\n",
    "\n",
    "# At Bellis' home\n",
    "#topdir = '/home/bellis/babar_data/bnv_plambda'\n",
    "\n",
    "# On Bellis' laptop\n",
    "#topdir = './'\n",
    "\n",
    "#filename = f'{topdir}/Background_SP_modes_Only_Run_1.parquet'\n",
    "filename = f'{topdir}/Background_and_signal_SP_modes_Only_Run_1.parquet'\n",
    "\n",
    "data = ak.from_parquet(filename)\n",
    "\n",
    "print(f\"Took {time.time() - start} s\")\n"
   ]
  },
  {
   "cell_type": "markdown",
   "id": "b3692e40-4c5e-462d-bfe5-16e5fc115c93",
   "metadata": {},
   "source": [
    "# Get information about cross sections and numbers of events"
   ]
  },
  {
   "cell_type": "code",
   "execution_count": null,
   "id": "6727a9a5-8366-4242-9bba-1d03921e23c7",
   "metadata": {},
   "outputs": [],
   "source": [
    "### information about cross section --> what we'll use to calculate scaling values for histograms \n",
    "\n",
    "dataset_information = pd.read_csv(\"BaBar_analyses_BNV_pLambda_data_for_scaling.csv\")\n",
    "cs_data= pd.read_csv(\"BaBar_analyses_BNV_pLambda_cross_section_data.csv\")\n",
    "\n",
    "no_notes= cs_data.drop([\"Uncertainty\",\"Note: cross sections found at https://babar-wiki.heprc.uvic.ca/bbr_wiki/index.php/Physics/Cross_sections,_luminosities,_and_other_vital_stats\"], axis= 1)\n",
    "no_notes"
   ]
  },
  {
   "cell_type": "markdown",
   "id": "139b3fdc-dce6-498f-a59c-faddadb32ce2",
   "metadata": {},
   "source": [
    "# Make a few test histograms "
   ]
  },
  {
   "cell_type": "code",
   "execution_count": null,
   "id": "f59cd16c-89b1-4147-a7d8-9bccff4b018d",
   "metadata": {},
   "outputs": [],
   "source": []
  },
  {
   "cell_type": "markdown",
   "id": "c6e5302c-4ab7-4cbd-a76b-1680c527cf81",
   "metadata": {},
   "source": [
    "# Define cuts\n",
    "\n",
    "## Particle-based cuts"
   ]
  },
  {
   "cell_type": "code",
   "execution_count": null,
   "id": "4db39165-deee-4b5f-bc5a-18ef119a79c8",
   "metadata": {},
   "outputs": [],
   "source": [
    "\n"
   ]
  },
  {
   "cell_type": "markdown",
   "id": "dbe1fc00-ffed-496b-963f-b5109fac9c7d",
   "metadata": {},
   "source": [
    "## Event-based cuts"
   ]
  },
  {
   "cell_type": "code",
   "execution_count": null,
   "id": "34c38f5f-d506-4b97-b118-5e7b53ab9b1a",
   "metadata": {},
   "outputs": [],
   "source": []
  }
 ],
 "metadata": {
  "kernelspec": {
   "display_name": "Python 3 (ipykernel)",
   "language": "python",
   "name": "python3"
  },
  "language_info": {
   "codemirror_mode": {
    "name": "ipython",
    "version": 3
   },
   "file_extension": ".py",
   "mimetype": "text/x-python",
   "name": "python",
   "nbconvert_exporter": "python",
   "pygments_lexer": "ipython3",
   "version": "3.11.9"
  }
 },
 "nbformat": 4,
 "nbformat_minor": 5
}
