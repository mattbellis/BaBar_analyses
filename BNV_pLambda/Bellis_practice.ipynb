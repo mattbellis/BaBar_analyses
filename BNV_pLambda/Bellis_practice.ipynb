{
 "cells": [
  {
   "cell_type": "code",
   "execution_count": null,
   "id": "f9c33f4c-5ee0-4403-b39a-20ceb56f66bc",
   "metadata": {},
   "outputs": [],
   "source": [
    "%load_ext autoreload\n",
    "%autoreload 2\n",
    "\n",
    "\n",
    "import uproot\n",
    "import awkward as ak\n",
    "\n",
    "import matplotlib.pylab as plt\n",
    "import numpy as np\n",
    "\n",
    "import time\n",
    "\n",
    "from hist import Hist\n",
    "\n",
    "import babar_analysis_tools as bat\n",
    "\n",
    "import pandas as pd\n",
    "\n",
    "from analysis_variables import *\n",
    "\n",
    "import os"
   ]
  },
  {
   "cell_type": "code",
   "execution_count": null,
   "id": "30b9af56-e2db-45bd-acd3-5a81f68b6d02",
   "metadata": {},
   "outputs": [],
   "source": [
    "start = time.time()\n",
    "\n",
    "# At Siena\n",
    "#topdir = '/mnt/qnap/babar_data/bnv_plambda'\n",
    "\n",
    "# At Bellis' home\n",
    "topdir = '/home/bellis/babar_data/bnv_plambda'\n",
    "\n",
    "# On Bellis' laptop\n",
    "#topdir = './'\n",
    "\n",
    "#filename = f'{topdir}/Background_SP_modes_Only_Run_1.parquet'\n",
    "filename = f'{topdir}/Background_and_signal_SP_modes_Only_Run_1.parquet'\n",
    "\n",
    "data = ak.from_parquet(filename)\n",
    "\n",
    "print(f\"Took {time.time() - start} s\")\n"
   ]
  },
  {
   "cell_type": "markdown",
   "id": "28e4a015-04f3-4326-837c-9092d3b2d382",
   "metadata": {},
   "source": [
    "# Producing tables for the skims statistics"
   ]
  },
  {
   "cell_type": "code",
   "execution_count": null,
   "id": "62fe61c1-623f-42b7-9fe1-bff2aeae7aa4",
   "metadata": {},
   "outputs": [],
   "source": [
    "df = bat.read_in_dataset_statistics()\n",
    "df"
   ]
  },
  {
   "cell_type": "code",
   "execution_count": null,
   "id": "1d95f8d6-0246-4684-9c7d-d1ef86f1aa88",
   "metadata": {},
   "outputs": [],
   "source": [
    "dfspinfo = bat.get_SP_cross_sections_and_labels()\n",
    "\n",
    "dfspinfo"
   ]
  },
  {
   "cell_type": "code",
   "execution_count": null,
   "id": "ed0f8bc9-7405-4e02-bcca-91b553e6c163",
   "metadata": {},
   "outputs": [],
   "source": [
    "mask = dfspinfo['SP Mode']==1235\n",
    "bbbar_xsec = dfspinfo[mask]['Cross section [nb]'].values[0]\n",
    "\n",
    "mask = dfspinfo['SP Mode']==1237\n",
    "bbbar_xsec += dfspinfo[mask]['Cross section [nb]'].values[0]\n",
    "\n",
    "print(f\"The total BBbar cross section is {bbbar_xsec} nb\")"
   ]
  },
  {
   "cell_type": "code",
   "execution_count": null,
   "id": "8aaf4b11-ff30-419f-bbe5-b76703cc4b25",
   "metadata": {},
   "outputs": [],
   "source": [
    "mask = df['Data or MC']=='Data'\n",
    "df[mask]"
   ]
  },
  {
   "cell_type": "code",
   "execution_count": null,
   "id": "7e995093-56ae-4e94-9d8e-5b722495c055",
   "metadata": {},
   "outputs": [],
   "source": [
    "mask = (df['Data or MC']=='Data') & (df['Skim']=='LambdaVeryVeryLoose')\n",
    "dftmp = df[mask][['Run', 'Luminosity (Data only) 1/pb','# of events (Data or MC)', '# of events (Data or MC) NOT SURE WHICH NUMBER TO USE']]\n",
    "\n",
    "dftmp['# of BBbar pairs'] = dftmp['Luminosity (Data only) 1/pb']*bbbar_xsec*1000\n",
    "\n",
    "dftmp"
   ]
  },
  {
   "cell_type": "code",
   "execution_count": null,
   "id": "0ba8e6cd-8611-4e5c-ba3b-d182c31c3898",
   "metadata": {},
   "outputs": [],
   "source": [
    "\n",
    "#dftmp.style.concat(df.agg(['sum']).style)\n",
    "\n",
    "dftmp['Run'] = dftmp['Run'].astype(int).astype(str)\n",
    "dftmp.loc['Total'] = dftmp.sum(numeric_only=True)\n",
    "\n",
    "#dftmp.iloc['Total']['Run'] = 'Total'\n",
    "\n",
    "dftmp"
   ]
  },
  {
   "cell_type": "code",
   "execution_count": null,
   "id": "4d87becf-ab98-49dd-b217-41c73235782e",
   "metadata": {},
   "outputs": [],
   "source": [
    "dftmp.at['Total','Run'] = 'Total'"
   ]
  },
  {
   "cell_type": "code",
   "execution_count": null,
   "id": "2a64e9ed-83d2-48d0-a70c-4cb08599756c",
   "metadata": {},
   "outputs": [],
   "source": [
    "header = []\n",
    "header.append('Run')\n",
    "header.append('Luminosity (1/pb)')\n",
    "header.append('\\# skimmed events')\n",
    "header.append('\\# org. events')\n",
    "header.append('\\# BB pairs')\n",
    "\n",
    "caption = \"Details of the numbers of events and luminosity from the {\\\\tt LambdaVeryVeryLoose} skim used in this analysis.\"\n",
    "label = 'tab:dataskims'\n",
    "\n",
    "df.style.to_latex(position_float='centering')\n",
    "\n",
    "output = dftmp.to_latex(index=False, header=header, float_format=\"%.1f\", caption=caption, label=label)\n",
    "\n",
    "# Add in centering by replacing the first EOL with \"EOL + \\centering + EOL\"\n",
    "output = output.replace('\\n','\\n\\centering\\n', 1)\n",
    "\n",
    "# Add an hline learn the bottom above the total\n",
    "output = output.replace('Total','\\hline\\nTotal', 1)\n",
    "\n",
    "\n",
    "\n",
    "#styler = dftmp.style\n",
    "#output = styler.to_latex(caption=caption, label=label)\n",
    "\n",
    "print(output)\n",
    "\n",
    "# Write it out\n",
    "current_dir= os.getcwd()\n",
    "print(f\"Writing to {current_dir}\")\n",
    "directory = \"tables\"\n",
    "path= os.path.join(current_dir,directory)\n",
    "if os.path.isdir(path)== False:\n",
    "    os.mkdir(path)\n",
    "\n",
    "print(f\"Writing to {directory}\")\n",
    "\n",
    "outfilename = current_dir+\"/\"+directory+\"/table_data_skim_statistics.tex\"\n",
    "outfile = open(outfilename,'w+')\n",
    "outfile.write(output)\n",
    "outfile.close()\n"
   ]
  },
  {
   "cell_type": "code",
   "execution_count": null,
   "id": "d5b8335f-e199-45f0-96fa-bb22c8823087",
   "metadata": {},
   "outputs": [],
   "source": []
  },
  {
   "cell_type": "code",
   "execution_count": null,
   "id": "2f021f66-d3d2-4b16-992a-0227de50bce2",
   "metadata": {},
   "outputs": [],
   "source": []
  },
  {
   "cell_type": "code",
   "execution_count": null,
   "id": "0f8d6eff-560e-4e37-80c2-c91bd475dba2",
   "metadata": {},
   "outputs": [],
   "source": []
  },
  {
   "cell_type": "code",
   "execution_count": null,
   "id": "edfda7e4-0984-4643-950c-8c68441926d4",
   "metadata": {},
   "outputs": [],
   "source": []
  }
 ],
 "metadata": {
  "kernelspec": {
   "display_name": "Python 3 (ipykernel)",
   "language": "python",
   "name": "python3"
  },
  "language_info": {
   "codemirror_mode": {
    "name": "ipython",
    "version": 3
   },
   "file_extension": ".py",
   "mimetype": "text/x-python",
   "name": "python",
   "nbconvert_exporter": "python",
   "pygments_lexer": "ipython3",
   "version": "3.11.7"
  }
 },
 "nbformat": 4,
 "nbformat_minor": 5
}
