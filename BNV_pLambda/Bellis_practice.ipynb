{
 "cells": [
  {
   "cell_type": "code",
   "execution_count": null,
   "id": "f9c33f4c-5ee0-4403-b39a-20ceb56f66bc",
   "metadata": {},
   "outputs": [],
   "source": [
    "%load_ext autoreload\n",
    "%autoreload 2\n",
    "\n",
    "\n",
    "import uproot\n",
    "import awkward as ak\n",
    "\n",
    "import matplotlib.pylab as plt\n",
    "import numpy as np\n",
    "\n",
    "import time\n",
    "\n",
    "from hist import Hist\n",
    "\n",
    "import babar_analysis_tools as bat\n",
    "\n",
    "import pandas as pd\n",
    "\n",
    "from analysis_variables import *\n",
    "\n",
    "import os"
   ]
  },
  {
   "cell_type": "code",
   "execution_count": null,
   "id": "30b9af56-e2db-45bd-acd3-5a81f68b6d02",
   "metadata": {},
   "outputs": [],
   "source": [
    "start = time.time()\n",
    "\n",
    "# At Siena\n",
    "#topdir = '/mnt/qnap/babar_data/bnv_plambda'\n",
    "# At Siena on villa-straylight\n",
    "topdir = '/home/bellis/'\n",
    "\n",
    "\n",
    "# At Bellis' home\n",
    "#topdir = '/home/bellis/babar_data/bnv_plambda'\n",
    "\n",
    "# On Bellis' laptop\n",
    "#topdir = './'\n",
    "\n",
    "#filename = f'{topdir}/Background_SP_modes_Only_Run_1.parquet'\n",
    "filename = f'{topdir}/Background_and_signal_SP_modes_Only_Run_1.parquet'\n",
    "\n",
    "data = ak.from_parquet(filename)\n",
    "\n",
    "print(f\"Took {time.time() - start} s\")\n"
   ]
  },
  {
   "cell_type": "markdown",
   "id": "28e4a015-04f3-4326-837c-9092d3b2d382",
   "metadata": {},
   "source": [
    "# Producing tables for the skims statistics"
   ]
  },
  {
   "cell_type": "code",
   "execution_count": null,
   "id": "62fe61c1-623f-42b7-9fe1-bff2aeae7aa4",
   "metadata": {},
   "outputs": [],
   "source": [
    "df = bat.read_in_dataset_statistics()\n",
    "df"
   ]
  },
  {
   "cell_type": "code",
   "execution_count": null,
   "id": "1d95f8d6-0246-4684-9c7d-d1ef86f1aa88",
   "metadata": {},
   "outputs": [],
   "source": [
    "dfspinfo = bat.get_SP_cross_sections_and_labels()\n",
    "\n",
    "dfspinfo"
   ]
  },
  {
   "cell_type": "code",
   "execution_count": null,
   "id": "ed0f8bc9-7405-4e02-bcca-91b553e6c163",
   "metadata": {},
   "outputs": [],
   "source": [
    "mask = dfspinfo['SP Mode']==1235\n",
    "bbbar_xsec = dfspinfo[mask]['Cross section [nb]'].values[0]\n",
    "\n",
    "mask = dfspinfo['SP Mode']==1237\n",
    "bbbar_xsec += dfspinfo[mask]['Cross section [nb]'].values[0]\n",
    "\n",
    "print(f\"The total BBbar cross section is {bbbar_xsec} nb\")"
   ]
  },
  {
   "cell_type": "code",
   "execution_count": null,
   "id": "8aaf4b11-ff30-419f-bbe5-b76703cc4b25",
   "metadata": {},
   "outputs": [],
   "source": [
    "mask = df['Data or MC']=='Data'\n",
    "df[mask]"
   ]
  },
  {
   "cell_type": "code",
   "execution_count": null,
   "id": "7e995093-56ae-4e94-9d8e-5b722495c055",
   "metadata": {},
   "outputs": [],
   "source": [
    "mask = (df['Data or MC']=='Data') & (df['Skim']=='LambdaVeryVeryLoose')\n",
    "dftmp = df[mask][['Run', 'Luminosity (Data only) 1/pb','# of events (Data or MC)', '# of events (Data or MC) NOT SURE WHICH NUMBER TO USE']]\n",
    "\n",
    "dftmp['# of BBbar pairs'] = dftmp['Luminosity (Data only) 1/pb']*bbbar_xsec*1000\n",
    "\n",
    "dftmp"
   ]
  },
  {
   "cell_type": "code",
   "execution_count": null,
   "id": "0ba8e6cd-8611-4e5c-ba3b-d182c31c3898",
   "metadata": {},
   "outputs": [],
   "source": [
    "\n",
    "#dftmp.style.concat(df.agg(['sum']).style)\n",
    "\n",
    "dftmp['Run'] = dftmp['Run'].astype(int).astype(str)\n",
    "dftmp.loc['Total'] = dftmp.sum(numeric_only=True)\n",
    "\n",
    "#dftmp.iloc['Total']['Run'] = 'Total'\n",
    "\n",
    "dftmp"
   ]
  },
  {
   "cell_type": "code",
   "execution_count": null,
   "id": "4d87becf-ab98-49dd-b217-41c73235782e",
   "metadata": {},
   "outputs": [],
   "source": [
    "dftmp.at['Total','Run'] = 'Total'"
   ]
  },
  {
   "cell_type": "code",
   "execution_count": null,
   "id": "2a64e9ed-83d2-48d0-a70c-4cb08599756c",
   "metadata": {},
   "outputs": [],
   "source": [
    "header = []\n",
    "header.append('Run')\n",
    "header.append('Luminosity (1/pb)')\n",
    "header.append('\\# skimmed events')\n",
    "header.append('\\# org. events')\n",
    "header.append('\\# BB pairs')\n",
    "\n",
    "caption = \"Details of the numbers of events and luminosity from the {\\\\tt LambdaVeryVeryLoose} skim used in this analysis.\"\n",
    "label = 'tab:dataskims'\n",
    "\n",
    "df.style.to_latex(position_float='centering')\n",
    "\n",
    "output = dftmp.to_latex(index=False, header=header, float_format=\"%.1f\", caption=caption, label=label)\n",
    "\n",
    "# Add in centering by replacing the first EOL with \"EOL + \\centering + EOL\"\n",
    "output = output.replace('\\n','\\n\\centering\\n', 1)\n",
    "\n",
    "# Add an hline learn the bottom above the total\n",
    "output = output.replace('Total','\\hline\\nTotal', 1)\n",
    "\n",
    "\n",
    "\n",
    "#styler = dftmp.style\n",
    "#output = styler.to_latex(caption=caption, label=label)\n",
    "\n",
    "print(output)\n",
    "\n",
    "# Write it out\n",
    "current_dir= os.getcwd()\n",
    "print(f\"Writing to {current_dir}\")\n",
    "directory = \"tables\"\n",
    "path= os.path.join(current_dir,directory)\n",
    "if os.path.isdir(path)== False:\n",
    "    os.mkdir(path)\n",
    "\n",
    "print(f\"Writing to {directory}\")\n",
    "\n",
    "outfilename = current_dir+\"/\"+directory+\"/table_data_skim_statistics.tex\"\n",
    "outfile = open(outfilename,'w+')\n",
    "outfile.write(output)\n",
    "outfile.close()\n"
   ]
  },
  {
   "cell_type": "markdown",
   "id": "58f2b533-1082-4d3a-be44-8e5dc7a2864e",
   "metadata": {},
   "source": [
    "# Flight length"
   ]
  },
  {
   "cell_type": "code",
   "execution_count": null,
   "id": "2f021f66-d3d2-4b16-992a-0227de50bce2",
   "metadata": {},
   "outputs": [],
   "source": [
    "#data.fields"
   ]
  },
  {
   "cell_type": "code",
   "execution_count": null,
   "id": "edb73a16-39f3-4cf3-b071-9b1576e2e1b6",
   "metadata": {},
   "outputs": [],
   "source": [
    "#data['spmode']"
   ]
  },
  {
   "cell_type": "code",
   "execution_count": null,
   "id": "0f8d6eff-560e-4e37-80c2-c91bd475dba2",
   "metadata": {},
   "outputs": [],
   "source": [
    "#mask = data['spmode'] == '-999'\n",
    "mask = data['spmode'] == '998'\n",
    "#mask = data['spmode'] == '1005'\n",
    "\n",
    "bvtx = data[mask]['B_con_Vtxx']\n",
    "bvty = data[mask]['B_con_Vtxy']\n",
    "bvtz = data[mask]['B_con_Vtxz']\n",
    "\n",
    "lamvtx = data[mask]['Lambda0Vtxx']\n",
    "lamvty = data[mask]['Lambda0Vtxy']\n",
    "lamvtz = data[mask]['Lambda0Vtxz']\n",
    "\n",
    "lamconfl =    data[mask]['Lambda0postFitFlight']\n",
    "lamconflsig = data[mask]['Lambda0postFitFlightSignificance']\n",
    "\n",
    "bconfl =    data[mask]['BpostFitFlight']\n",
    "bconflsig = data[mask]['BpostFitFlightSignificance']\n",
    "\n",
    "\n",
    "blamfldx = bvtx - lamvtx\n",
    "blamfldy = bvty - lamvty\n",
    "\n",
    "blamfltrans2 = blamfldx**2 + blamfldx**2\n",
    "blamfltrans = np.sqrt(blamfltrans2)\n",
    "\n",
    "lamfltrans2 = lamvtx**2 + lamvtx**2\n",
    "lamfltrans = np.sqrt(lamfltrans2)\n",
    "\n",
    "print(bvtx.type)\n",
    "print(lamvtx.type)\n",
    "print(blamfltrans.type)\n",
    "print(blamfltrans.type)\n",
    "\n",
    "\n",
    "lamuncmass = data[mask]['Lambda0_unc_Mass']"
   ]
  },
  {
   "cell_type": "code",
   "execution_count": null,
   "id": "edfda7e4-0984-4643-950c-8c68441926d4",
   "metadata": {},
   "outputs": [],
   "source": [
    "plt.figure()\n",
    "plt.hist(ak.flatten(lamuncmass),bins=100)\n",
    "\n",
    "\n",
    "\n",
    "plt.figure(figsize=(8,8))\n",
    "\n",
    "plt.subplot(2,2,1)\n",
    "plt.hist(ak.flatten(lamconfl),bins=100, range=(0,60))\n",
    "plt.xlabel('Lambda constrained flight length (cm)')\n",
    "\n",
    "plt.subplot(2,2,2)\n",
    "plt.hist(ak.flatten(lamconflsig),bins=100, range=(0,300))\n",
    "plt.xlabel('Lambda constrained flight length significance')\n",
    "\n",
    "plt.subplot(2,2,3)\n",
    "plt.hist(ak.flatten(bconfl),bins=100, range=(0,.2))\n",
    "plt.xlabel('B constrained flight length (cm)')\n",
    "\n",
    "plt.subplot(2,2,4)\n",
    "plt.hist(ak.flatten(bconflsig),bins=100, range=(0,4))\n",
    "plt.xlabel('B constrained flight length significance')\n",
    "\n",
    "\n",
    "\n",
    "# Transverse len\n",
    "plt.figure(figsize=(12,4))\n",
    "\n",
    "plt.subplot(1,3,1)\n",
    "plt.hist(ak.flatten(lamconfl),bins=100, range=(0,30))\n",
    "\n",
    "plt.subplot(1,3,2)\n",
    "plt.hist(ak.flatten(blamfltrans),bins=100, range=(0,5))\n",
    "\n",
    "plt.subplot(1,3,3)\n",
    "plt.hist(ak.flatten(lamfltrans),bins=100, range=(0,5))\n",
    "\n",
    "\n",
    "\n",
    "\n",
    ";"
   ]
  },
  {
   "cell_type": "code",
   "execution_count": null,
   "id": "e7e05295-1c4b-4e81-b287-e89cc9653041",
   "metadata": {},
   "outputs": [],
   "source": [
    "print(blamfltrans.type)\n",
    "\n",
    "print(lamuncmass.type)"
   ]
  },
  {
   "cell_type": "code",
   "execution_count": null,
   "id": "31d1a15a-bb7b-43a4-8bbb-de469c5d4e5e",
   "metadata": {},
   "outputs": [],
   "source": [
    "mask = blamfltrans>1.0\n",
    "#mask = lamconfl>1.0\n",
    "#mask = lamconflsig > 1.0\n",
    "\n",
    "plt.figure(figsize=(12,4))\n",
    "plt.subplot(1,2,1)\n",
    "plt.hist(ak.flatten(lamuncmass),      bins=100,range=(1.105, 1.125))\n",
    "plt.hist(ak.flatten(lamuncmass[mask]),bins=100,range=(1.105, 1.125))\n",
    "\n",
    "\n",
    ";"
   ]
  },
  {
   "cell_type": "code",
   "execution_count": null,
   "id": "e5a69154-d984-4ec2-b80b-3eacfd3f4904",
   "metadata": {},
   "outputs": [],
   "source": [
    "#lamconfl[:,0]"
   ]
  },
  {
   "cell_type": "code",
   "execution_count": null,
   "id": "81429295-d07a-450a-9fec-9bf3bb3181fc",
   "metadata": {},
   "outputs": [],
   "source": [
    "# Count number under peak and number of estimated background\n",
    "\n",
    "# Mass of lambda is 1.115683\n",
    "\n",
    "mask = blamfltrans>1.0\n",
    "#mask = lamconfl>1.0\n",
    "#mask = lamconflsig > 1.0\n",
    "\n",
    "plt.figure(figsize=(12,12))\n",
    "\n",
    "\n",
    "peaks = []\n",
    "sigs = []\n",
    "bkgs = []\n",
    "pcts = []\n",
    "cuts = []\n",
    "\n",
    "\n",
    "\n",
    "for i in range(0,12):\n",
    "    cut = i*0.1\n",
    "\n",
    "    mask_fl = blamfltrans > cut\n",
    "    #mask_fl = lamconfl > cut\n",
    "    \n",
    "    width = 0.003\n",
    "    \n",
    "    lo = 1.115683 - width\n",
    "    hi = 1.115683 + width\n",
    "    \n",
    "    \n",
    "    #mask = blamfltrans>1.0\n",
    "    #mask = lamconfl>1.0\n",
    "    #mask = lamconflsig > 1.0\n",
    "    \n",
    "    m = lamuncmass\n",
    "    mask = (m>lo) & (m<hi) & mask_fl\n",
    "    \n",
    "    mask_lo_sideband = (m<=lo) & (m>(lo-2*width)) & mask_fl\n",
    "    mask_hi_sideband = (m>=hi) & (m<(hi+2*width)) & mask_fl\n",
    "    \n",
    "    npeak = len(ak.flatten(m[mask]))\n",
    "    nbkglo = len(ak.flatten(m[mask_lo_sideband]))\n",
    "    nbkghi = len(ak.flatten(m[mask_hi_sideband]))\n",
    "    nbkg = (nbkglo + nbkghi)/2.0\n",
    "    nsig = npeak - nbkg\n",
    "                 \n",
    "    print(f\"npeak: {npeak}   nbkg: {nbkg}     nsig: {nsig}   {nbkglo}   {nbkghi}\")\n",
    "    peaks.append(npeak)\n",
    "    sigs.append(nsig)\n",
    "    bkgs.append(nbkg)\n",
    "    cuts.append(cut)\n",
    "                 \n",
    "    plt.subplot(3,4,i+1)\n",
    "    plt.hist(ak.flatten(m),      bins=100,range=(1.105, 1.125))\n",
    "    plt.hist(ak.flatten(m[mask]),bins=100,range=(1.105, 1.125))\n",
    "    plt.hist(ak.flatten(m[mask_lo_sideband]),bins=100,range=(1.105, 1.125), color='yellow')\n",
    "    plt.hist(ak.flatten(m[mask_hi_sideband]),bins=100,range=(1.105, 1.125), color='yellow')\n",
    "    \n",
    "    ;\n",
    "\n",
    "sigs = np.array(sigs)\n",
    "bkgs = np.array(bkgs)\n",
    "peaks = np.array(peaks)\n",
    "\n",
    "pcts = sigs/sigs[0]"
   ]
  },
  {
   "cell_type": "code",
   "execution_count": null,
   "id": "e87a3e20-93c8-43f4-abcc-0b296968813a",
   "metadata": {},
   "outputs": [],
   "source": [
    "\n",
    "plt.figure(figsize=(12, 8))\n",
    "plt.subplot(2,2,1)\n",
    "plt.plot(cuts, peaks,'o')\n",
    "\n",
    "plt.subplot(2,2,2)\n",
    "plt.plot(cuts, sigs,'o')\n",
    "\n",
    "plt.subplot(2,2,3)\n",
    "plt.plot(cuts, bkgs,'o')\n",
    "\n",
    "plt.subplot(2,2,4)\n",
    "plt.plot(cuts, pcts,'o')\n",
    "plt.ylim(0.7,1.1)"
   ]
  },
  {
   "cell_type": "code",
   "execution_count": null,
   "id": "79428615-e732-4da4-b2cd-255b28a91ae0",
   "metadata": {},
   "outputs": [],
   "source": [
    "#data.fields"
   ]
  },
  {
   "cell_type": "code",
   "execution_count": null,
   "id": "3ce7cdd9-c064-4571-adad-5a81d34df39f",
   "metadata": {},
   "outputs": [],
   "source": [
    "idx = data['Lambda0d1Idx']\n",
    "\n",
    "x = data['pcosth'][idx]\n",
    "\n",
    "plt.hist(ak.flatten(x), bins=100)\n",
    "\n",
    ";"
   ]
  },
  {
   "cell_type": "code",
   "execution_count": null,
   "id": "e21c3630-75ba-47cf-827b-afab78019dd2",
   "metadata": {},
   "outputs": [],
   "source": []
  }
 ],
 "metadata": {
  "kernelspec": {
   "display_name": "Python 3 (ipykernel)",
   "language": "python",
   "name": "python3"
  },
  "language_info": {
   "codemirror_mode": {
    "name": "ipython",
    "version": 3
   },
   "file_extension": ".py",
   "mimetype": "text/x-python",
   "name": "python",
   "nbconvert_exporter": "python",
   "pygments_lexer": "ipython3",
   "version": "3.11.10"
  }
 },
 "nbformat": 4,
 "nbformat_minor": 5
}
