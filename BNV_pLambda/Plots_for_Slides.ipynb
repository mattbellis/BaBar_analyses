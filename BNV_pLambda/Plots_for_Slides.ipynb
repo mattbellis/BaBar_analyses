{
 "cells": [
  {
   "cell_type": "code",
   "execution_count": null,
   "id": "9d19e38c-16d1-4dc2-9115-b51261c5d753",
   "metadata": {},
   "outputs": [],
   "source": [
    "%load_ext autoreload\n",
    "%autoreload 2\n",
    "\n",
    "import uproot"
   ]
  },
  {
   "cell_type": "code",
   "execution_count": null,
   "id": "0c7a106b-0e89-4664-9089-a452eecd1f33",
   "metadata": {},
   "outputs": [],
   "source": [
    "import awkward as ak\n",
    "\n",
    "import matplotlib.pylab as plt\n",
    "import numpy as np\n",
    "\n",
    "import hist\n",
    "from hist import Hist\n",
    "\n",
    "import time\n",
    "\n",
    "import seaborn as sns\n",
    "import pandas as pd\n",
    "\n",
    "import os\n",
    "\n",
    "from analysis_variables import *  \n",
    "import babar_analysis_tools as bat"
   ]
  },
  {
   "cell_type": "code",
   "execution_count": null,
   "id": "479fc3c1-f07b-4612-afe1-86de295d8ebb",
   "metadata": {},
   "outputs": [],
   "source": [
    "# At Siena\n",
    "#topdir = '/mnt/qnap/babar_data/bnv_plambda'\n",
    "\n",
    "#Josie Laptop\n",
    "topdir= \"/Users/josieswann/BaBar_analyses/BNV_pLambda/\"\n",
    "\n",
    "# At home (Bellis)\n",
    "#topdir = '/home/bellis/babar_data/bnv_plambda'\n",
    "\n",
    "# Background\n",
    "filename= f\"{topdir}/Background_and_signal_SP_modes_Only_Run_1.parquet\"\n",
    "#filename1 = f'{topdir}/Background_and_signal_SP_modes_All_runs.parquet'\n",
    "\n",
    "start = time.time()\n",
    "\n",
    "alldata = ak.from_parquet(filename)\n",
    "\n",
    "data= alldata[alldata[\"spmode\"]!=\"-999\"]\n",
    "signal= alldata[alldata[\"spmode\"]==\"-999\"]\n",
    "\n",
    "print(f\"Took {time.time() - start} s\")\n",
    "\n",
    "print(type(data))\n",
    "print(data)"
   ]
  },
  {
   "cell_type": "code",
   "execution_count": null,
   "id": "4a8e977a-3f5c-476b-add2-54c7a7da23b6",
   "metadata": {},
   "outputs": [],
   "source": [
    "data[\"BpostFitDeltaE\"]"
   ]
  },
  {
   "cell_type": "code",
   "execution_count": null,
   "id": "941be2fd-8b7b-4095-9ef2-4e25bfbe4411",
   "metadata": {},
   "outputs": [],
   "source": [
    "# Need to get the original duplicates mask for any other cuts we might generate outside the function\n",
    "dcuts = bat.get_final_masks(data, region_definitions=region_definitions)\n",
    "\n",
    "print([dcuts.keys()])\n",
    "print()\n",
    "\n",
    "for key in dcuts.keys():\n",
    "    print(f'{key:3d} {dcuts[key][\"name\"]}')"
   ]
  },
  {
   "cell_type": "code",
   "execution_count": null,
   "id": "9e972a2a-375c-4823-81a8-56f429b26ce6",
   "metadata": {},
   "outputs": [],
   "source": [
    "dataset_information = pd.read_csv(\"dataset_statistics.csv\")\n",
    "cs_data= pd.read_csv(\"SP_cross_sections_and_labels.csv\")\n",
    "\n",
    "no_notes= cs_data.drop([\"Uncertainty\",\"Note: cross sections found at https://babar-wiki.heprc.uvic.ca/bbr_wiki/index.php/Physics/Cross_sections,_luminosities,_and_other_vital_stats\"], axis= 1)\n",
    "no_notes\n",
    "\n"
   ]
  },
  {
   "cell_type": "code",
   "execution_count": null,
   "id": "19d981d8-e992-40ff-ac4d-9c1396528df0",
   "metadata": {},
   "outputs": [],
   "source": [
    "bkg_spmodes = ['998', '1005', '1235', '1237', '3981']\n",
    "sig_spmodes = ['-999']\n",
    "\n",
    "spmodes = bkg_spmodes + sig_spmodes\n",
    "\n",
    "weights = {}\n",
    "for sp in spmodes:\n",
    "    weights[sp] = bat.scaling_value(int(sp), dataset_information=dataset_information, cs_data=cs_data, plot=False, verbose=False)\n",
    "    #weights[sp] = 1\n",
    "\n",
    "### bat.scaling_value is in Babar_analysis_tools.py \n",
    "\n",
    "# Scale the signal higher\n",
    "weights['-999'] = 1000\n",
    "weights['0'] = 1\n",
    "\n",
    "print(weights)"
   ]
  },
  {
   "cell_type": "code",
   "execution_count": null,
   "id": "ed9bc109-30bc-4772-ba79-4bd53a56df70",
   "metadata": {},
   "outputs": [],
   "source": [
    "all_hists= bat.create_empty_histograms(hist_defs)\n"
   ]
  },
  {
   "cell_type": "code",
   "execution_count": null,
   "id": "5758822c-8f48-4ea7-9365-343b00cae870",
   "metadata": {},
   "outputs": [],
   "source": [
    "x = list(all_hists.keys())\n",
    "print(x)"
   ]
  },
  {
   "cell_type": "code",
   "execution_count": null,
   "id": "8c26b1a9-ade5-4e70-867e-830feb6691aa",
   "metadata": {},
   "outputs": [],
   "source": [
    "\n",
    "'''\n",
    "subset = ['BSphr', 'BpostFitDeltaE', 'BpostFitMes', 'BThrust', 'BCosThetaS', \\\n",
    "         'Lambda0_unc_Mass', 'R2', 'R2All', \\\n",
    "          'thrustMag', 'thrustMagAll', 'thrustCosTh', 'thrustCosThAll', 'sphericityAll', \\\n",
    "          'BCosSphr', 'BCosThetaT', 'BCosThrust', 'BLegendreP2', 'BR2ROE', 'BSphrROE', \\\n",
    "          'BThrustROE']\n",
    "'''\n",
    "#subset = ['BSphr', 'BpostFitDeltaE', 'BpostFitMes', 'BThrust', 'BCosThetaS']\n",
    "subset = ['Lambda0_unc_Mass']\n",
    "\n",
    "\n",
    "bkg_modes =['998', '1005', '1235', '1237', '3981']\n",
    "sig_modes = ['-999']\n",
    "\n",
    "cut_idx = -1\n",
    "cut_name = str(cut_idx)\n",
    "cut = dcuts[cut_idx]['event']\n",
    "\n",
    "df = bat.fill_histograms_v3(data[cut], subset=subset, empty_hists=all_hists, spmodes=bkg_modes + sig_modes, weights=weights, cutname=cut_name)\n",
    "\n",
    "#df = bat.fill_histograms_v3(data, subset=['BpostFitDeltaE'], empty_hists=all_hists, spmodes=bkg_modes + sig_modes, weights=weights)\n"
   ]
  },
  {
   "cell_type": "code",
   "execution_count": null,
   "id": "8a2ff180-b3a2-4cc9-8c50-4ae6d1cb6dd8",
   "metadata": {},
   "outputs": [],
   "source": [
    "all_vars = list(all_hists.keys())\n",
    "\n",
    "#print(all_vars)\n",
    "#print(len(all_vars))\n",
    "#print(len(subset))\n",
    "\n",
    "bat.plot_histograms(all_hists, vars=subset, bkg_spmodes=bkg_modes, sig_spmodes=sig_spmodes, datamodes=['0'], cut=cut_name, overlay_data=False, only_stacked=True, save= True, fixed_grid=(4,5));"
   ]
  },
  {
   "cell_type": "code",
   "execution_count": null,
   "id": "d310b09d-554a-4d13-8c41-d427c10f6656",
   "metadata": {},
   "outputs": [],
   "source": [
    "cut_idx = 1\n",
    "cut_name = str(cut_idx)\n",
    "cut = dcuts[cut_idx]['event']"
   ]
  },
  {
   "cell_type": "code",
   "execution_count": null,
   "id": "8d2352bb-c370-48a5-8b16-7209bc0cb799",
   "metadata": {},
   "outputs": [],
   "source": [
    "#### BACKGROUNDS LAMBDA MASS \n",
    "\n",
    "df = bat.fill_histograms_v3(data[cut], subset=subset, empty_hists=all_hists, spmodes=bkg_modes + sig_modes, weights=weights, cutname=cut_name)\n",
    "bat.plot_histograms(all_hists, vars=subset, bkg_spmodes=bkg_modes, sig_spmodes=sig_spmodes, datamodes=['0'], cut=cut_name, overlay_data=False, only_stacked=True, save= True, fixed_grid=(4,5));\n"
   ]
  },
  {
   "cell_type": "code",
   "execution_count": null,
   "id": "d964bb81-4b0f-4134-a184-7e3eb4796638",
   "metadata": {},
   "outputs": [],
   "source": [
    "df = bat.fill_histograms_v3(signal[cut], subset=subset, empty_hists=all_hists, spmodes=sig_modes, weights=weights, cutname=cut_name)\n",
    "bat.plot_histograms(all_hists, vars=subset, bkg_spmodes=sig_spmodes, sig_spmodes=sig_spmodes, datamodes=['0'], cut=cut_name, overlay_data=False, only_stacked=True, save= True, fixed_grid=(4,5));\n"
   ]
  },
  {
   "cell_type": "code",
   "execution_count": null,
   "id": "3a8699d3-5ad8-4d7c-bf87-367518b4a543",
   "metadata": {},
   "outputs": [],
   "source": []
  }
 ],
 "metadata": {
  "kernelspec": {
   "display_name": "Python 3 (ipykernel)",
   "language": "python",
   "name": "python3"
  },
  "language_info": {
   "codemirror_mode": {
    "name": "ipython",
    "version": 3
   },
   "file_extension": ".py",
   "mimetype": "text/x-python",
   "name": "python",
   "nbconvert_exporter": "python",
   "pygments_lexer": "ipython3",
   "version": "3.11.10"
  }
 },
 "nbformat": 4,
 "nbformat_minor": 5
}
