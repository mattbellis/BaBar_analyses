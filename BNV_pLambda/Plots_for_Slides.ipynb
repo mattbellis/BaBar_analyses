{
 "cells": [
  {
   "cell_type": "code",
   "execution_count": null,
   "id": "0c7a106b-0e89-4664-9089-a452eecd1f33",
   "metadata": {},
   "outputs": [],
   "source": [
    "%load_ext autoreload\n",
    "%autoreload 2\n",
    "\n",
    "import uproot\n",
    "import awkward as ak\n",
    "\n",
    "import matplotlib.pylab as plt\n",
    "import numpy as np\n",
    "\n",
    "import hist\n",
    "from hist import Hist\n",
    "\n",
    "import time\n",
    "\n",
    "import seaborn as sns\n",
    "import pandas as pd\n",
    "\n",
    "import os\n",
    "\n",
    "from analysis_variables import *  \n",
    "import babar_analysis_tools as bat\n"
   ]
  },
  {
   "cell_type": "code",
   "execution_count": null,
   "id": "82bd90eb-cc52-438d-8e92-d55292202852",
   "metadata": {},
   "outputs": [],
   "source": [
    "BNC_tag = \"\"\n",
    "BNC_bool = False\n",
    "\n",
    "# BNC\n",
    "#BNC_tag = \"_BNC\"\n",
    "#BNC_bool = True\n",
    "\n",
    "#####################################################################\n",
    "# Where are we running this?\n",
    "#####################################################################\n",
    "## Bellis computer\n",
    "topdir= \"/home/bellis/babar_data_local/bnv_plambda\"\n",
    "\n",
    "if BNC_bool:\n",
    "    topdir= \"/home/bellis/babar_data/bnv_plambda_bnc\"\n",
    "\n",
    "## My laptop\n",
    "#topdir= \"/Users/josieswann/BaBar_analyses/BNV_pLambda/\"\n",
    "#####################################################################\n",
    "\n",
    "\n",
    "#####################################################################\n",
    "# Get the BNV data\n",
    "#####################################################################\n",
    "#data, data_collision = bat.load_datasets(topdir=topdir, subset='Run1')\n",
    "#data, data_collision = bat.load_datasets(topdir=topdir, subset='all')\n",
    "\n",
    "\n",
    "#####################################################################\n",
    "# Get the BNC data\n",
    "#####################################################################\n",
    "#topdir= \"/home/bellis/babar_data/bnv_plambda_bnc\"\n",
    "data, data_collision = bat.load_datasets(topdir=topdir, BNC=BNC_bool, subset='all')\n",
    "#data, data_collision = bat.load_datasets(topdir=topdir, BNC=True, subset='Run1')\n",
    "#BNC_tag = \"_BNC\"\n",
    "#BNC_bool = True\n",
    "\n",
    "#####################################################################\n",
    "# Get the BNC data\n",
    "#####################################################################\n",
    "#topdir= \"/home/bellis/babar_data/bnv_plambda_bnc\"\n",
    "#data, data_collision = bat.load_datasets(topdir=topdir, BNC=True, subset='all')\n",
    "#data, data_collision = bat.load_datasets(topdir=topdir, BNC=True, subset='Run1')\n",
    "\n"
   ]
  },
  {
   "cell_type": "code",
   "execution_count": null,
   "id": "93af6449-1076-4142-8a4b-7e40298ffaff",
   "metadata": {},
   "outputs": [],
   "source": [
    "from analysis_variables import *\n",
    "\n",
    "region_definitions"
   ]
  },
  {
   "cell_type": "code",
   "execution_count": null,
   "id": "4a8e977a-3f5c-476b-add2-54c7a7da23b6",
   "metadata": {},
   "outputs": [],
   "source": [
    "data[\"BpostFitDeltaE\"]"
   ]
  },
  {
   "cell_type": "code",
   "execution_count": null,
   "id": "941be2fd-8b7b-4095-9ef2-4e25bfbe4411",
   "metadata": {},
   "outputs": [],
   "source": [
    "# SP\n",
    "# Need to get the original duplicates mask for any other cuts we might generate outside the function\n",
    "dcuts = bat.get_final_masks(data, region_definitions=region_definitions)\n",
    "\n",
    "print([dcuts.keys()])\n",
    "print()\n",
    "\n",
    "for key in dcuts.keys():\n",
    "    print(f'{key:3d} {dcuts[key][\"name\"]}')\n",
    "\n",
    "print()\n",
    "\n",
    "# Collision data\n",
    "# Need to get the original duplicates mask for any other cuts we might generate outside the function\n",
    "dcuts_coll = bat.get_final_masks(data_collision, region_definitions=region_definitions)\n",
    "\n",
    "print([dcuts_coll.keys()])\n",
    "print()\n",
    "\n",
    "for key in dcuts_coll.keys():\n",
    "    print(f'{key:3d} {dcuts_coll[key][\"name\"]}')\n",
    "\n"
   ]
  },
  {
   "cell_type": "code",
   "execution_count": null,
   "id": "a892ad2a-d262-4227-b249-ec356b93c762",
   "metadata": {},
   "outputs": [],
   "source": [
    "# BNC\n",
    "mask = dcuts[1]['event'] & dcuts[2]['event'] & dcuts[3]['event'] & dcuts[4]['event'] \n",
    "dcuts[-2] = {'name':'all - BNC', 'event':mask, 'candidates':None} \n",
    "\n",
    "mask = dcuts_coll[1]['event'] & dcuts_coll[2]['event'] & dcuts_coll[3]['event'] & dcuts_coll[4]['event'] \n",
    "dcuts_coll[-2] = {'name':'all - BNC', 'event':mask, 'candidates':None} "
   ]
  },
  {
   "cell_type": "code",
   "execution_count": null,
   "id": "9e972a2a-375c-4823-81a8-56f429b26ce6",
   "metadata": {},
   "outputs": [],
   "source": [
    "dataset_information = pd.read_csv(\"dataset_statistics.csv\")\n",
    "cs_data= pd.read_csv(\"SP_cross_sections_and_labels.csv\")\n",
    "\n",
    "no_notes= cs_data.drop([\"Uncertainty\",\"Note: cross sections found at https://babar-wiki.heprc.uvic.ca/bbr_wiki/index.php/Physics/Cross_sections,_luminosities,_and_other_vital_stats\"], axis= 1)\n",
    "no_notes\n",
    "\n"
   ]
  },
  {
   "cell_type": "code",
   "execution_count": null,
   "id": "19d981d8-e992-40ff-ac4d-9c1396528df0",
   "metadata": {},
   "outputs": [],
   "source": [
    "bkg_spmodes = ['998', '1005', '1235', '1237', '3981']\n",
    "sig_spmodes = ['-999']\n",
    "\n",
    "spmodes = bkg_spmodes + sig_spmodes\n",
    "\n",
    "weights = {}\n",
    "for sp in spmodes:\n",
    "    weights[sp] = bat.scaling_value(int(sp), dataset_information=dataset_information, cs_data=cs_data, plot=False, verbose=False)\n",
    "    #weights[sp] = 1\n",
    "\n",
    "### bat.scaling_value is in Babar_analysis_tools.py \n",
    "\n",
    "# Scale the signal higher\n",
    "weights['-999'] = 1000\n",
    "weights['0'] = 1\n",
    "\n",
    "print(weights)"
   ]
  },
  {
   "cell_type": "code",
   "execution_count": null,
   "id": "ed9bc109-30bc-4772-ba79-4bd53a56df70",
   "metadata": {},
   "outputs": [],
   "source": [
    "all_hists= bat.create_empty_histograms(hist_defs)\n"
   ]
  },
  {
   "cell_type": "code",
   "execution_count": null,
   "id": "5758822c-8f48-4ea7-9365-343b00cae870",
   "metadata": {},
   "outputs": [],
   "source": [
    "x = list(all_hists.keys())\n",
    "print(x)"
   ]
  },
  {
   "cell_type": "code",
   "execution_count": null,
   "id": "8c26b1a9-ade5-4e70-867e-830feb6691aa",
   "metadata": {},
   "outputs": [],
   "source": [
    "\n",
    "'''\n",
    "subset = ['BSphr', 'BpostFitDeltaE', 'BpostFitMes', 'BThrust', 'BCosThetaS', \\\n",
    "         'Lambda0_unc_Mass', 'R2', 'R2All', \\\n",
    "          'thrustMag', 'thrustMagAll', 'thrustCosTh', 'thrustCosThAll', 'sphericityAll', \\\n",
    "          'BCosSphr', 'BCosThetaT', 'BCosThrust', 'BLegendreP2', 'BR2ROE', 'BSphrROE', \\\n",
    "          'BThrustROE']\n",
    "'''\n",
    "#subset = ['BSphr', 'BpostFitDeltaE', 'BpostFitMes', 'BThrust', 'BCosThetaS']\n",
    "#subset = ['Lambda0_unc_Mass']\n",
    "subset = ['Lambda0_unc_Mass', 'BpostFitMes', 'BpostFitDeltaE']\n",
    "\n",
    "all_hists= bat.create_empty_histograms(hist_defs)\n",
    "\n",
    "bkg_modes =['998', '1005', '1235', '1237', '3981']\n",
    "if BNC_bool:\n",
    "    # No events survived 3981\n",
    "    bkg_modes =['998', '1005', '1235', '1237']\n",
    "    \n",
    "\n",
    "sig_modes = ['-999']\n",
    "\n",
    "spmodes = bkg_modes + sig_modes\n",
    "\n",
    "#cut_idx = -1\n",
    "#cut_name = str(cut_idx)\n",
    "#cut = dcuts[cut_idx]['event']\n",
    "#cut_sig = dcuts_sig[cut_idx]['event']\n",
    "\n",
    "#df = bat.fill_histograms_v3(data[cut], subset=subset, empty_hists=all_hists, spmodes=bkg_modes + sig_modes, weights=weights, cuts=cut_name)\n",
    "df_cutflow_sp = bat.fill_histograms_v3(data, subset=subset, empty_hists=all_hists, spmodes=spmodes, weights=weights, cuts=dcuts);\n",
    "df_cutflow_sp = bat.fill_histograms_v3(data_collision, subset=subset, empty_hists=all_hists, spmodes=['0'], weights=weights, cuts=dcuts_coll);\n",
    "\n",
    "\n",
    "#df = bat.fill_histograms_v3(data, subset=['BpostFitDeltaE'], empty_hists=all_hists, spmodes=bkg_modes + sig_modes, weights=weights)\n"
   ]
  },
  {
   "cell_type": "code",
   "execution_count": null,
   "id": "6f33a346-5aed-4956-88f0-530690e89294",
   "metadata": {},
   "outputs": [],
   "source": [
    "for key,vals in dcuts.items():\n",
    "    print(f\"{key:4d}   {vals['name']}\")"
   ]
  },
  {
   "cell_type": "code",
   "execution_count": null,
   "id": "2a9ad16b-312a-43c5-aa69-f5ec8a27cdac",
   "metadata": {},
   "outputs": [],
   "source": [
    "dcuts.keys()"
   ]
  },
  {
   "cell_type": "code",
   "execution_count": null,
   "id": "80955288-eaee-4b01-a71c-c79aaeb02875",
   "metadata": {},
   "outputs": [],
   "source": []
  },
  {
   "cell_type": "code",
   "execution_count": null,
   "id": "8a2ff180-b3a2-4cc9-8c50-4ae6d1cb6dd8",
   "metadata": {},
   "outputs": [],
   "source": [
    "all_vars = list(all_hists.keys())\n",
    "\n",
    "print(all_vars)\n",
    "print(len(all_vars))\n",
    "print(len(subset))\n",
    "\n",
    "#bat.plot_histograms(all_hists, vars=subset, bkg_spmodes=bkg_modes, sig_spmodes=sig_spmodes, datamodes=['0'], cut=cut_name, overlay_data=False, only_stacked=True, save= True, fixed_grid=(4,5));"
   ]
  },
  {
   "cell_type": "code",
   "execution_count": null,
   "id": "d310b09d-554a-4d13-8c41-d427c10f6656",
   "metadata": {},
   "outputs": [],
   "source": [
    "'''\n",
    "cut_idx = 1\n",
    "cut_name = str(cut_idx)\n",
    "cut = dcuts[cut_idx]['event']\n",
    "cut_sig = dcuts_sig[cut_idx]['event']\n",
    "'''"
   ]
  },
  {
   "cell_type": "code",
   "execution_count": null,
   "id": "1f703b43-2b44-4a4a-919a-610ef8ef63c2",
   "metadata": {},
   "outputs": [],
   "source": [
    "#all_hists['Lambda0_unc_Mass'][:,['3981'],'1']"
   ]
  },
  {
   "cell_type": "code",
   "execution_count": null,
   "id": "8d2352bb-c370-48a5-8b16-7209bc0cb799",
   "metadata": {},
   "outputs": [],
   "source": [
    "#### BACKGROUNDS LAMBDA MASS \n",
    "# For BAD\n",
    "\n",
    "for cut_name in ['1', '2', '3', '4', '6', '-1', '-2']:\n",
    "    #cut_name = '-1'\n",
    "    \n",
    "    bat.plot_histograms(all_hists, vars=subset, bkg_spmodes=bkg_modes, sig_spmodes=sig_spmodes, datamodes=['0'], cut=cut_name, overlay_data=True, only_stacked=True, save= True, fixed_grid=(1,3), extra_tag=BNC_tag);\n"
   ]
  },
  {
   "cell_type": "code",
   "execution_count": null,
   "id": "fefa0b63-65cd-47af-b3a9-bbb63a5e1a14",
   "metadata": {},
   "outputs": [],
   "source": [
    "#all_hists['Lambda0_unc_Mass'][:,'0','3'].project('var').plot(histtype=\"step\", color='black', label= \"signal\")\n"
   ]
  },
  {
   "cell_type": "code",
   "execution_count": null,
   "id": "d964bb81-4b0f-4134-a184-7e3eb4796638",
   "metadata": {},
   "outputs": [],
   "source": [
    "'''\n",
    "df = bat.fill_histograms_v3(signal[cut_sig], subset=subset, empty_hists=all_hists, spmodes=sig_modes+bkg_spmodes, weights=weights, cutname=cut_name)\n",
    "\n",
    "bat.plot_histograms(all_hists, vars=subset, bkg_spmodes=bkg_spmodes, sig_spmodes=sig_spmodes, datamodes=['0'], cut=cut_name, overlay_data=False, only_stacked=True, save= True, fixed_grid=(4,5), extra_tag=BNC_tag);\n",
    "#plt.ylim(0,2500)\n",
    "'''"
   ]
  },
  {
   "cell_type": "code",
   "execution_count": null,
   "id": "3a8699d3-5ad8-4d7c-bf87-367518b4a543",
   "metadata": {},
   "outputs": [],
   "source": [
    "#plt.figure()\n",
    "#plt.hist(ak.flatten(signal[\"Lambda0_unc_Mass\"]), bins= 100)\n",
    "#plt.xlabel(\"Mass $[GeV/c^2]$\")\n",
    "#plt.ylabel(\"Frequency\")\n",
    "#plt.title(\"Signal- $\\Lambda^0$ Mass\")"
   ]
  },
  {
   "cell_type": "code",
   "execution_count": null,
   "id": "3f36021f-88e8-4787-ac6c-12f1eab70f3d",
   "metadata": {},
   "outputs": [],
   "source": [
    "plt.hist(ak.flatten(collision[\"Lambda0_unc_Mass\"]), bins= 100)\n",
    "plt.xlabel(\"Mass $[GeV/c^2]$\")\n",
    "plt.ylabel(\"Frequency\")\n",
    "plt.title(\"Collision- $\\Lambda^0$ Mass\")"
   ]
  },
  {
   "cell_type": "code",
   "execution_count": null,
   "id": "edcd546a-14d3-4182-a6b4-fa4497bca64a",
   "metadata": {},
   "outputs": [],
   "source": [
    "#### MES DE PLOT \n",
    "region_definitions"
   ]
  },
  {
   "cell_type": "code",
   "execution_count": null,
   "id": "83d5a88f-ba43-43f7-877c-cbd40368bd9e",
   "metadata": {},
   "outputs": [],
   "source": [
    "def plot_mes_vs_DeltaE(mes, DeltaE, draw_signal_region=False, draw_sidebands=False, draw_inference_bins=False, tag=None, region_definitions=None, bins=100, zoom=False):\n",
    "\n",
    "    meslo = region_definitions['fitting MES'][0]\n",
    "    meshi = region_definitions['fitting MES'][1]\n",
    "    DeltaElo = -0.5\n",
    "    DeltaEhi =  0.5\n",
    "\n",
    "    sigmeslo = region_definitions['signal MES'][0]\n",
    "    sigmeshi = region_definitions['signal MES'][1]\n",
    "    sigDeltaElo = region_definitions['signal DeltaE'][0]\n",
    "    sigDeltaEhi = region_definitions['signal DeltaE'][1]\n",
    "\n",
    "    sbDE1lo = region_definitions['sideband 1 DeltaE'][0]\n",
    "    sbDE1hi = region_definitions['sideband 1 DeltaE'][1]\n",
    "    sbDE2lo = region_definitions['sideband 2 DeltaE'][0]\n",
    "    sbDE2hi = region_definitions['sideband 2 DeltaE'][1]\n",
    "\n",
    "    sbmeslo = region_definitions['sideband MES'][0]\n",
    "    sbmeshi = region_definitions['sideband MES'][1]\n",
    "\n",
    "    if zoom==True and region_definitions is not None:\n",
    "        DeltaElo = region_definitions['fitting DeltaE'][0]\n",
    "        DeltaEhi = region_definitions['fitting DeltaE'][1]\n",
    "\n",
    "    h= Hist(\n",
    "        hist.axis.Regular(bins,meslo,meshi,name= \"sig_BPFM\", label= \"M$_{ES}$ [GeV/c$^2$]\", flow= True),\n",
    "        hist.axis.Regular(bins,DeltaElo,DeltaEhi,name= \"bkg_BPFMDE\", label= \"$\\Delta$E [GeV]\", flow= True),\n",
    "    )\n",
    "\n",
    "    # normal fill\n",
    "    h.fill(mes, DeltaE)\n",
    "    print(h)"
   ]
  },
  {
   "cell_type": "code",
   "execution_count": null,
   "id": "88675855-30a6-4a75-aed9-2dd803325e3a",
   "metadata": {},
   "outputs": [],
   "source": [
    "###################################\n",
    "# SP\n",
    "###################################\n",
    "\n",
    "#splist= np.unique(sp.to_list())\n",
    "#print(splist)\n",
    "\n",
    "dcuts= bat.get_final_masks(data, region_definitions= region_definitions)\n",
    "\n",
    "print([dcuts.keys()])\n",
    "print()\n",
    "\n",
    "for key in dcuts.keys():\n",
    "    print(f'{key:3d} {dcuts[key][\"name\"]}')\n",
    "\n",
    "\n",
    "###################################\n",
    "# Collision\n",
    "###################################\n",
    "\n",
    "dcuts_coll= bat.get_final_masks(data_collision, region_definitions= region_definitions)\n",
    "\n",
    "\n"
   ]
  },
  {
   "cell_type": "code",
   "execution_count": null,
   "id": "e0672d00-ea41-4b46-95ec-428837ad16a2",
   "metadata": {},
   "outputs": [],
   "source": []
  },
  {
   "cell_type": "code",
   "execution_count": null,
   "id": "56fffd71-4c64-40d8-a702-f6a79b3ac006",
   "metadata": {},
   "outputs": [],
   "source": [
    "# SP\n",
    "\n",
    "bkg_modes =['998', '1005', '1235', '1237', '3981', '3429']\n",
    "sig_modes = ['-999']\n",
    "\n",
    "spmodes = bkg_modes + sig_modes\n",
    "\n",
    "for spmode in spmodes:\n",
    "\n",
    "    plt.figure()\n",
    "    \n",
    "    mask = (data['spmode'] == spmode) & (dcuts[1]['event'])# & (dcuts[2]['event'])\n",
    "    \n",
    "    Mes= ak.flatten(data[mask][\"BpostFitMes\"])\n",
    "    DeltaE= ak.flatten(data[mask][\"BpostFitDeltaE\"])\n",
    "    tag = f'sp{spmode}_all_events_cut1{BNC_tag}'\n",
    "    bat.plot_mes_vs_DeltaE(Mes, DeltaE, region_definitions= region_definitions,draw_signal_region=True, draw_fit_region=True, tag=tag)\n"
   ]
  },
  {
   "cell_type": "code",
   "execution_count": null,
   "id": "8013f433-8668-436a-857f-dcaacdfdb82d",
   "metadata": {},
   "outputs": [],
   "source": [
    "# Collision data\n",
    "\n",
    "for spmode in ['0']:\n",
    "\n",
    "    plt.figure()\n",
    "    \n",
    "    mask = (data_collision['spmode'] == spmode) & (dcuts_coll[1]['event'])# & (dcuts_coll[2]['event'])\n",
    "    \n",
    "    Mes= ak.flatten(data_collision[mask][\"BpostFitMes\"])\n",
    "    DeltaE= ak.flatten(data_collision[mask][\"BpostFitDeltaE\"])\n",
    "    tag = f'collision_data_all_events_cut1{BNC_tag}'\n",
    "    bat.plot_mes_vs_DeltaE(Mes, DeltaE, region_definitions= region_definitions,draw_signal_region=True, draw_fit_region=True, tag=tag)\n"
   ]
  },
  {
   "cell_type": "code",
   "execution_count": null,
   "id": "3623109e-622b-4320-a7be-488712ecfdc2",
   "metadata": {},
   "outputs": [],
   "source": [
    "# Background\n",
    "\n",
    "#Mes= ak.flatten(data[\"BpostFitMes\"])\n",
    "#DeltaE= ak.flatten(data[\"BpostFitDeltaE\"])\n",
    "#bat.plot_mes_vs_DeltaE(Mes, DeltaE, region_definitions= region_definitions)\n"
   ]
  },
  {
   "cell_type": "code",
   "execution_count": null,
   "id": "62d4a367-a88d-46e1-8e53-60fe509156e5",
   "metadata": {},
   "outputs": [],
   "source": [
    "# Collision\n",
    "\n",
    "#Mes= ak.flatten(collision[\"BpostFitMes\"])\n",
    "#DeltaE= ak.flatten(collision[\"BpostFitDeltaE\"])\n",
    "#plt.figure(figsize=(4,4))\n",
    "#bat.plot_mes_vs_DeltaE(Mes, DeltaE, region_definitions= region_definitions)\n",
    "\n"
   ]
  },
  {
   "cell_type": "code",
   "execution_count": null,
   "id": "68b7a7a4-b7ac-472d-8649-dc7a5ec4fd52",
   "metadata": {},
   "outputs": [],
   "source": [
    "def plotem(mes, DeltaE, draw_signal_region=False, draw_sidebands=False, draw_inference_bins=False, tag=None, region_definitions=None, bins=100, zoom=False):\n",
    "\n",
    "    meslo = region_definitions['fitting MES'][0]\n",
    "    meshi = region_definitions['fitting MES'][1]\n",
    "    DeltaElo = -0.5\n",
    "    DeltaEhi =  0.5\n",
    "\n",
    "    sigmeslo = region_definitions['signal MES'][0]\n",
    "    sigmeshi = region_definitions['signal MES'][1]\n",
    "    sigDeltaElo = region_definitions['signal DeltaE'][0]\n",
    "    sigDeltaEhi = region_definitions['signal DeltaE'][1]\n",
    "\n",
    "    sbDE1lo = region_definitions['sideband 1 DeltaE'][0]\n",
    "    sbDE1hi = region_definitions['sideband 1 DeltaE'][1]\n",
    "    sbDE2lo = region_definitions['sideband 2 DeltaE'][0]\n",
    "    sbDE2hi = region_definitions['sideband 2 DeltaE'][1]\n",
    "\n",
    "    sbmeslo = region_definitions['sideband MES'][0]\n",
    "    sbmeshi = region_definitions['sideband MES'][1]\n",
    "\n",
    "    if zoom==True and region_definitions is not None:\n",
    "        DeltaElo = region_definitions['fitting DeltaE'][0]\n",
    "        DeltaEhi = region_definitions['fitting DeltaE'][1]\n",
    "\n",
    "    h= Hist(\n",
    "        hist.axis.Regular(bins,meslo,meshi,name= \"sig_BPFM\", label= \"M$_{ES}$ [GeV/c$^2$]\", flow= True),\n",
    "        hist.axis.Regular(bins,DeltaElo,DeltaEhi,name= \"bkg_BPFMDE\", label= \"$\\Delta$E [GeV]\", flow= True),\n",
    "    )\n",
    "\n",
    "    # normal fill\n",
    "    h.fill(mes, DeltaE)\n",
    "    return h"
   ]
  },
  {
   "cell_type": "code",
   "execution_count": null,
   "id": "790d6dc4-5710-4061-86e1-a5693e52454d",
   "metadata": {},
   "outputs": [],
   "source": [
    "Mes= ak.flatten(signal[\"BpostFitMes\"])\n",
    "DeltaE= ak.flatten(signal[\"BpostFitDeltaE\"])\n",
    "signal_unfilled= plotem(Mes, DeltaE, region_definitions= region_definitions)\n",
    "signal_filled= signal_unfilled.plot2d_full(\n",
    "            #main_cmap=\"coolwarm\",\n",
    "        main_cmap=\"plasma\",\n",
    "        top_ls=\"--\",\n",
    "        top_color=\"orange\",\n",
    "        top_lw=2,\n",
    "        side_ls=\":\",\n",
    "        side_lw=2,\n",
    "        side_color=\"steelblue\",\n",
    "    )\n",
    "\n"
   ]
  },
  {
   "cell_type": "code",
   "execution_count": null,
   "id": "2daa93e0-bcb7-4f54-8410-814548c03bf3",
   "metadata": {},
   "outputs": [],
   "source": [
    "### Put the histograms into subplots based on them BEFORE they're filled using ChatGPT's advice \n",
    "\n",
    "'''\n",
    "import matplotlib.pyplot as plt\n",
    "import numpy as np\n",
    "from hist import Hist\n",
    "\n",
    "# Create some data\n",
    "data1 = np.random.randn(1000)\n",
    "data2 = np.random.randn(1000)\n",
    "\n",
    "# Create a Hist object\n",
    "h = Hist.new.Reg(50, -3, 3).Double()\n",
    "h.fill(data1)\n",
    "\n",
    "# Create subplots\n",
    "fig, axes = plt.subplots(1, 2, figsize=(10, 5))\n",
    "\n",
    "# Plot a regular matplotlib histogram\n",
    "axes[0].hist(data2, bins=30, alpha=0.7, color='blue')\n",
    "axes[0].set_title(\"Matplotlib Histogram\")\n",
    "\n",
    "# Plot the hist.Hist object explicitly on the second subplot\n",
    "h.plot(ax=axes[1])  # <- This ensures it goes into the right subplot\n",
    "axes[1].set_title(\"Hist Histogram\")\n",
    "\n",
    "plt.tight_layout()\n",
    "plt.show()\n",
    "'''"
   ]
  },
  {
   "cell_type": "code",
   "execution_count": null,
   "id": "032cb8d1-890d-4d26-9c4a-25f378adfd15",
   "metadata": {},
   "outputs": [],
   "source": [
    "import hist\n",
    "from hist import Hist"
   ]
  },
  {
   "cell_type": "code",
   "execution_count": null,
   "id": "f626308b-9f61-41f0-be90-3e6ba1b6928c",
   "metadata": {},
   "outputs": [],
   "source": [
    "# Bellis edits\n",
    "\n",
    "# Need to get the original duplicates mask for any other cuts we might generate outside the function\n",
    "# SP - bkg\n",
    "print(\"Background\")\n",
    "dcuts_bkg = bat.get_final_masks(data, region_definitions=region_definitions)\n",
    "for key in dcuts_bkg.keys():\n",
    "    print(f'{key:3d} {dcuts_bkg[key][\"name\"]}')\n",
    "\n",
    "# SP - sig\n",
    "print(\"Signal\")\n",
    "dcuts_sig = bat.get_final_masks(signal, region_definitions=region_definitions)\n",
    "for key in dcuts_sig.keys():\n",
    "    print(f'{key:3d} {dcuts_sig[key][\"name\"]}')\n",
    "\n",
    "# Collision\n",
    "print(\"Collision\")\n",
    "dcuts_coll = bat.get_final_masks(collision, region_definitions=region_definitions)\n",
    "for key in dcuts_coll.keys():\n",
    "    print(f'{key:3d} {dcuts_coll[key][\"name\"]}')"
   ]
  },
  {
   "cell_type": "code",
   "execution_count": null,
   "id": "cfb2dac0-3108-4445-8924-174cd8263a65",
   "metadata": {},
   "outputs": [],
   "source": [
    "# Collision\n",
    "\n",
    "cut_idx = -1\n",
    "cut_name = str(cut_idx)\n",
    "cut_coll = dcuts_coll[cut_idx]['event']\n",
    "cut_sig = dcuts_sig[cut_idx]['event']\n",
    "cut_bkg = dcuts_bkg[cut_idx]['event']\n",
    "\n",
    "\n",
    "coll_Mes= ak.flatten(collision[cut_coll][\"BpostFitMes\"])\n",
    "coll_DeltaE= ak.flatten(collision[cut_coll][\"BpostFitDeltaE\"])\n",
    "\n",
    "# Background\n",
    "\n",
    "bkg_Mes= ak.flatten(data[cut_bkg][\"BpostFitMes\"])\n",
    "bkg_DeltaE= ak.flatten(data[cut_bkg][\"BpostFitDeltaE\"])\n",
    "\n",
    "# Signal\n",
    "\n",
    "sig_Mes= ak.flatten(signal[cut_sig][\"BpostFitMes\"])\n",
    "sig_DeltaE= ak.flatten(signal[cut_sig][\"BpostFitDeltaE\"])\n"
   ]
  },
  {
   "cell_type": "code",
   "execution_count": null,
   "id": "432a7be7-84dd-4170-828f-80b0aaa1b39c",
   "metadata": {},
   "outputs": [],
   "source": [
    "coll_2dhist = Hist.new.Reg(100, region_definitions['fitting MES'][0], region_definitions['fitting MES'][1]).Reg(100, -0.5, 0.5).Double()\n",
    "coll_2dhist.fill(coll_Mes, coll_DeltaE)\n",
    "\n",
    "bkg_2dhist = Hist.new.Reg(100, region_definitions['fitting MES'][0], region_definitions['fitting MES'][1]).Reg(100, -0.5, 0.5).Double()\n",
    "bkg_2dhist.fill(bkg_Mes, bkg_DeltaE)\n",
    "\n",
    "sig_2dhist = Hist.new.Reg(100, region_definitions['fitting MES'][0], region_definitions['fitting MES'][1]).Reg(100, -0.5, 0.5).Double()\n",
    "sig_2dhist.fill(sig_Mes, sig_DeltaE)"
   ]
  },
  {
   "cell_type": "code",
   "execution_count": null,
   "id": "20022467-02af-48a4-b9c3-1a5626027f40",
   "metadata": {},
   "outputs": [],
   "source": [
    "fig, axes = plt.subplots(3, 2, figsize=(10, 10))\n",
    "\n",
    "bkg_2dhist.plot(ax=axes[0, 0])  \n",
    "axes[0,0].set_title(\"Background\")\n",
    "axes[0,0].set_xlabel(\"$M_{ES}$ $[GeV/c^2]$\")\n",
    "axes[0,0].set_ylabel(\"$\\Delta$E\")\n",
    "\n",
    "sig_2dhist.plot(ax=axes[1, 0])  \n",
    "axes[1,0].set_title(\"Signal\")\n",
    "axes[1,0].set_xlabel(\"$M_{ES}$ $[GeV/c^2]$\")\n",
    "axes[1,0].set_ylabel(\"$\\Delta$E\")\n",
    "\n",
    "coll_2dhist.plot(ax=axes[2, 0])  \n",
    "axes[2,0].set_title(\"Collision\")\n",
    "axes[2,0].set_xlabel(\"$M_{ES}$ $[GeV/c^2]$\")\n",
    "axes[2,0].set_ylabel(\"$\\Delta$E\")\n",
    "\n",
    "\n",
    "axes[0,1].hist(ak.flatten(data[cut_bkg][\"Lambda0_unc_Mass\"]), range=(1.105, 1.125), bins= 100)\n",
    "axes[0,1].set_xlabel(\"Mass $[GeV/c^2]$\")\n",
    "axes[0,1].set_ylabel(\"Frequency\")\n",
    "axes[0,1].set_title(\"Background- $\\Lambda^0$ Mass\")\n",
    "\n",
    "axes[1,1].hist(ak.flatten(signal[cut_sig][\"Lambda0_unc_Mass\"]), range=(1.105, 1.125), bins= 100)\n",
    "axes[1,1].set_xlabel(\"Mass $[GeV/c^2]$\")\n",
    "axes[1,1].set_ylabel(\"Frequency\")\n",
    "axes[1,1].set_title(\"Signal- $\\Lambda^0$ Mass\")\n",
    "\n",
    "axes[2,1].hist(ak.flatten(collision[cut_coll][\"Lambda0_unc_Mass\"]), range=(1.105, 1.125), bins= 100)\n",
    "axes[2,1].set_xlabel(\"Mass $[GeV/c^2]$\")\n",
    "axes[2,1].set_ylabel(\"Frequency\")\n",
    "axes[2,1].set_title(\"Collision- $\\Lambda^0$ Mass\")\n",
    "\n",
    "plt.tight_layout()\n",
    "\n",
    "\n",
    "plt.savefig(f'grid6_cut_{cut_name}.png')\n",
    "\n"
   ]
  },
  {
   "cell_type": "markdown",
   "id": "5143dc24-e646-40e2-9f02-e159703d6f5d",
   "metadata": {},
   "source": [
    "# Cutflow tables"
   ]
  },
  {
   "cell_type": "code",
   "execution_count": null,
   "id": "6682e1a7-15ce-44d7-a7b5-6ae6e1f50afa",
   "metadata": {},
   "outputs": [],
   "source": [
    "%load_ext autoreload\n",
    "%autoreload 2\n",
    "\n",
    "from analysis_variables import *\n",
    "\n",
    "\n",
    "# Need to get the original duplicates mask for any other cuts we might generate outside the function\n",
    "dcuts = bat.get_final_masks(data, region_definitions=region_definitions)\n",
    "\n",
    "print([dcuts.keys()])\n",
    "print()\n",
    "\n",
    "for key in dcuts.keys():\n",
    "    print(f'{key:3d} {dcuts[key][\"name\"]}')\n",
    "\n",
    "print()\n",
    "\n",
    "#'''\n",
    "# Need to get the original duplicates mask for any other cuts we might generate outside the function\n",
    "dcuts_coll = bat.get_final_masks(data_collision, region_definitions=region_definitions)\n",
    "\n",
    "print([dcuts_coll.keys()])\n",
    "print()\n",
    "\n",
    "for key in dcuts_coll.keys():\n",
    "    print(f'{key:3d} {dcuts_coll[key][\"name\"]}')\n",
    "#'''"
   ]
  },
  {
   "cell_type": "code",
   "execution_count": null,
   "id": "22643e60-3675-4ae6-97f6-d7d2e5fbbffe",
   "metadata": {},
   "outputs": [],
   "source": [
    "df1005_cutflow= bat.get_numbers_for_cut_flow(data, region_definitions=region_definitions,tag=\"DEFAULT\", \\\n",
    "                                             spmodes=[\"1005\"], verbose=False, dcuts=dcuts)\n",
    "df1005_cutflow"
   ]
  },
  {
   "cell_type": "code",
   "execution_count": null,
   "id": "414064ee-d9ce-4e3f-ae6a-e3c2f4bfe3e7",
   "metadata": {},
   "outputs": [],
   "source": [
    "dfsig_cutflow= bat.get_numbers_for_cut_flow(data, region_definitions=region_definitions,tag=\"DEFAULT\", \\\n",
    "                                            spmodes=[\"-999\"], verbose=False, dcuts=dcuts)\n",
    "dfsig_cutflow"
   ]
  },
  {
   "cell_type": "code",
   "execution_count": null,
   "id": "e2e32c23-fb7c-4198-95c2-ffb1610e8c0b",
   "metadata": {},
   "outputs": [],
   "source": [
    "df1005_cutflow= df1005_cutflow.rename(columns={\"name\": \"name_1005\", \"pct\": \"pct_1005\",\"tag\":\"tag_1005\",\"nevents\":\"nevents_1005\"})"
   ]
  },
  {
   "cell_type": "code",
   "execution_count": null,
   "id": "76ff3a31-6002-47ec-933c-89522474b4b7",
   "metadata": {},
   "outputs": [],
   "source": [
    "dfsig_cutflow= dfsig_cutflow.rename(columns={\"name\": \"name_sig\", \"pct\": \"pct_sig\",\"tag\":\"tag_sig\",\"nevents\":\"nevents_sig\"})"
   ]
  },
  {
   "cell_type": "code",
   "execution_count": null,
   "id": "1ebe4946-ff64-4c11-8fb6-d215d078761f",
   "metadata": {},
   "outputs": [],
   "source": [
    "df1005_cutflow= df1005_cutflow.drop([\"tag_1005\",\"spmode\"],axis=1).rename(columns= {\"nevents\":\"nevents_1005\",\"pct\":\"pct_1005\"})"
   ]
  },
  {
   "cell_type": "code",
   "execution_count": null,
   "id": "4c548e6a-67d8-4f63-bd79-9579164a91da",
   "metadata": {},
   "outputs": [],
   "source": [
    "cutflow_df_compiled= df1005_cutflow.merge(dfsig_cutflow, on= \"cut\").drop([\"name_sig\",\"spmode\",\"tag_sig\",\"name_1005\"],axis=1).rename(columns= {\"name_1005\":\"cut_name\"})\n",
    "cutflow_df_compiled"
   ]
  },
  {
   "cell_type": "code",
   "execution_count": null,
   "id": "7e7e5867-19d5-41fb-912e-e268b3401928",
   "metadata": {},
   "outputs": [],
   "source": [
    "df998_cutflow= bat.get_numbers_for_cut_flow(data, region_definitions=region_definitions,tag=\"DEFAULT\", \\\n",
    "                                            spmodes=[\"998\"], verbose=False, dcuts=dcuts)"
   ]
  },
  {
   "cell_type": "code",
   "execution_count": null,
   "id": "bf278927-ad51-401c-a7a5-e903b0588a6b",
   "metadata": {},
   "outputs": [],
   "source": [
    "df998_cutflow= df998_cutflow.drop([\"spmode\",\"tag\",\"name\"], axis= 1).rename(columns= {\"nevents\":\"nevents_998\", \"pct\":\"pct_998\"})"
   ]
  },
  {
   "cell_type": "code",
   "execution_count": null,
   "id": "4d7d8a9d-3bbf-47bd-a3b0-554997f4c6ad",
   "metadata": {},
   "outputs": [],
   "source": [
    "cutflow_df_compiled= cutflow_df_compiled.merge(df998_cutflow, on= \"cut\")"
   ]
  },
  {
   "cell_type": "code",
   "execution_count": null,
   "id": "c784c69b-7dd1-44ca-8281-29027d0ce87f",
   "metadata": {},
   "outputs": [],
   "source": []
  },
  {
   "cell_type": "code",
   "execution_count": null,
   "id": "49dfd4b2-8501-47c9-8750-cf8a00952b02",
   "metadata": {},
   "outputs": [],
   "source": [
    "cutflow_df_compiled= cutflow_df_compiled.rename(columns= {\"nevents_1005\":r\"$\\#$ $c\\bar{c}$\",\"pct_1005\":r\"$\\%$ $c\\bar{c}$\",\"nevents_sig\":\"$\\#$ signal\",\"pct_sig\":\"$\\%$ signal\",\"nevents_998\":r\"$\\#$ $u\\bar{u},d\\bar{d},s\\bar{s}$\",\"pct_998\":r\"$\\% u\\bar{u},d\\bar{d},s\\bar{s}$\"})"
   ]
  },
  {
   "cell_type": "code",
   "execution_count": null,
   "id": "6076e508-6eb7-4c17-a0ce-6237832bf25c",
   "metadata": {},
   "outputs": [],
   "source": [
    "collision_cutflow= bat.get_numbers_for_cut_flow(data_collision, region_definitions=region_definitions,tag=\"DEFAULT\", \\\n",
    "                                                spmodes=[\"0\"], verbose=False, dcuts=dcuts_coll)\n",
    "collision_cutflow= collision_cutflow.drop([\"name\",\"spmode\",\"tag\"], axis= 1).rename(columns= {\"nevents\":r\"$\\#$ data\",\"pct\":r\"$\\%$ data\"})"
   ]
  },
  {
   "cell_type": "code",
   "execution_count": null,
   "id": "fcf06398-7238-488c-ae86-5be745f3e184",
   "metadata": {},
   "outputs": [],
   "source": [
    "cutflow_df_compiled= cutflow_df_compiled.merge(collision_cutflow, on= \"cut\")\n"
   ]
  },
  {
   "cell_type": "code",
   "execution_count": null,
   "id": "1913297e-a2b9-4d9d-8586-6f114eff1c54",
   "metadata": {},
   "outputs": [],
   "source": [
    "cutflow_df_compiled= cutflow_df_compiled[[r\"cut\", r\"$\\#$ signal\", r\"$\\%$ signal\", r\"$\\#$ $u\\bar{u},d\\bar{d},s\\bar{s}$\", r\"$\\% u\\bar{u},d\\bar{d},s\\bar{s}$\", r\"$\\#$ $c\\bar{c}$\", r\"$\\%$ $c\\bar{c}$\" ,  r\"$\\#$ data\"]]\n",
    "\n",
    "cutflow_df_compiled"
   ]
  },
  {
   "cell_type": "code",
   "execution_count": null,
   "id": "ad88a2de-5dbd-4096-9258-ce1325df4593",
   "metadata": {},
   "outputs": [],
   "source": []
  },
  {
   "cell_type": "code",
   "execution_count": null,
   "id": "25dcabc1-3247-4cbd-b36b-f611baafdb18",
   "metadata": {},
   "outputs": [],
   "source": [
    "cutflow_df_compiled[\"cut\"][0]= str(\"None\")\n",
    "cutflow_df_compiled[\"cut\"][1]= str(\"Duplicates\")\n",
    "cutflow_df_compiled[\"cut\"][2]= str(\"Fit Area\")\n",
    "cutflow_df_compiled[\"cut\"][3]= str(\"Lambda\")\n",
    "cutflow_df_compiled[\"cut\"][4]= str(\"PID\")\n",
    "cutflow_df_compiled[\"cut\"][5]= str(\"Antibaryon\")\n",
    "cutflow_df_compiled[\"cut\"][6]= str(\"All cuts\")\n"
   ]
  },
  {
   "cell_type": "code",
   "execution_count": null,
   "id": "781e90f1-c364-4506-aab1-72516400cfe2",
   "metadata": {},
   "outputs": [],
   "source": [
    "cutflow_df_compiled"
   ]
  },
  {
   "cell_type": "code",
   "execution_count": null,
   "id": "ec2b65ef-34d6-492d-8654-8d35864dc4e4",
   "metadata": {},
   "outputs": [],
   "source": [
    "output = cutflow_df_compiled.to_latex(index=False,\n",
    "              float_format=\"{:.1f}\".format,\n",
    ")\n",
    "#full_table = \"\\\\begin{table}\\n\"  \n",
    "#full_table += \"\\\\caption{Cutflow}\\n\" \n",
    "#full_table += output \n",
    "#full_table += \"\\\\end{table}\" \n",
    "\n",
    "# Just the tabular\n",
    "full_table = output\n",
    "\n",
    "print(full_table)\n",
    "\n",
    "outfile = open('tables/table_cutflow_stats.tex', 'w')\n",
    "outfile.write(full_table)\n",
    "outfile.close()"
   ]
  },
  {
   "cell_type": "code",
   "execution_count": null,
   "id": "bf40dd98-99d9-4355-a8ae-920059d072c8",
   "metadata": {},
   "outputs": [],
   "source": []
  },
  {
   "cell_type": "code",
   "execution_count": null,
   "id": "1481bb5a-ec19-4785-840f-b51c4e3520ac",
   "metadata": {},
   "outputs": [],
   "source": []
  },
  {
   "cell_type": "code",
   "execution_count": null,
   "id": "485b850a-0a3d-4248-83ab-8864c8a4b258",
   "metadata": {},
   "outputs": [],
   "source": []
  },
  {
   "cell_type": "code",
   "execution_count": null,
   "id": "b5c05857-4cbc-493e-ad0e-44970878e2e3",
   "metadata": {},
   "outputs": [],
   "source": []
  }
 ],
 "metadata": {
  "kernelspec": {
   "display_name": "Python 3 (ipykernel)",
   "language": "python",
   "name": "python3"
  },
  "language_info": {
   "codemirror_mode": {
    "name": "ipython",
    "version": 3
   },
   "file_extension": ".py",
   "mimetype": "text/x-python",
   "name": "python",
   "nbconvert_exporter": "python",
   "pygments_lexer": "ipython3",
   "version": "3.11.8"
  }
 },
 "nbformat": 4,
 "nbformat_minor": 5
}
