{
 "cells": [
  {
   "cell_type": "code",
   "execution_count": null,
   "id": "9d19e38c-16d1-4dc2-9115-b51261c5d753",
   "metadata": {},
   "outputs": [],
   "source": [
    "%load_ext autoreload\n",
    "%autoreload 2\n",
    "\n",
    "import uproot"
   ]
  },
  {
   "cell_type": "code",
   "execution_count": null,
   "id": "45770227-47bb-4464-a15d-61b306ce5553",
   "metadata": {},
   "outputs": [],
   "source": []
  },
  {
   "cell_type": "code",
   "execution_count": null,
   "id": "644433e8-dbcb-43cd-a7e7-513c6eb191d5",
   "metadata": {},
   "outputs": [],
   "source": []
  },
  {
   "cell_type": "code",
   "execution_count": null,
   "id": "abfc84b1-44dc-46c7-9d8c-abfe30dbb57b",
   "metadata": {},
   "outputs": [],
   "source": []
  },
  {
   "cell_type": "code",
   "execution_count": null,
   "id": "0c7a106b-0e89-4664-9089-a452eecd1f33",
   "metadata": {},
   "outputs": [],
   "source": [
    "import awkward as ak\n",
    "\n",
    "import matplotlib.pylab as plt\n",
    "import numpy as np\n",
    "\n",
    "import hist\n",
    "from hist import Hist\n",
    "\n",
    "import time\n",
    "\n",
    "import seaborn as sns\n",
    "import pandas as pd\n",
    "\n",
    "import os\n",
    "\n",
    "from analysis_variables import *  \n",
    "import babar_analysis_tools as bat"
   ]
  },
  {
   "cell_type": "code",
   "execution_count": null,
   "id": "479fc3c1-f07b-4612-afe1-86de295d8ebb",
   "metadata": {},
   "outputs": [],
   "source": [
    "# At Siena\n",
    "#topdir = '/mnt/qnap/babar_data/bnv_plambda'\n",
    "\n",
    "#Josie Laptop\n",
    "#topdir= \"/Users/josieswann/BaBar_analyses/BNV_pLambda/\"\n",
    "\n",
    "# At home (Bellis)\n",
    "topdir = '/home/bellis/babar_data/bnv_plambda'\n",
    "\n",
    "# Background\n",
    "filename= f\"{topdir}/Background_and_signal_SP_modes_Only_Run_1.parquet\"\n",
    "#filename1 = f'{topdir}/Background_and_signal_SP_modes_All_runs.parquet'\n",
    "\n",
    "start = time.time()\n",
    "\n",
    "alldata = ak.from_parquet(filename)\n",
    "\n",
    "data= alldata[alldata[\"spmode\"]!=\"-999\"]\n",
    "signal= alldata[alldata[\"spmode\"]==\"-999\"]\n",
    "\n",
    "print(f\"Took {time.time() - start} s\")\n",
    "\n",
    "print(type(data))\n",
    "print(data)"
   ]
  },
  {
   "cell_type": "code",
   "execution_count": null,
   "id": "4a8e977a-3f5c-476b-add2-54c7a7da23b6",
   "metadata": {},
   "outputs": [],
   "source": [
    "data[\"BpostFitDeltaE\"]"
   ]
  },
  {
   "cell_type": "code",
   "execution_count": null,
   "id": "9e972a2a-375c-4823-81a8-56f429b26ce6",
   "metadata": {},
   "outputs": [],
   "source": [
    "# Bellis edits\n",
    "\n",
    "### information about cross section --> what we'll use to calculate scaling values for histograms \n",
    "\n",
    "dataset_information = pd.read_csv(\"dataset_statistics.csv\")\n",
    "cs_data= pd.read_csv(\"SP_cross_sections_and_labels.csv\")\n",
    "\n",
    "no_notes= cs_data.drop([\"Uncertainty\",\"Note: cross sections found at https://babar-wiki.heprc.uvic.ca/bbr_wiki/index.php/Physics/Cross_sections,_luminosities,_and_other_vital_stats\"], axis= 1)\n",
    "no_notes\n",
    "\n"
   ]
  },
  {
   "cell_type": "code",
   "execution_count": null,
   "id": "19d981d8-e992-40ff-ac4d-9c1396528df0",
   "metadata": {},
   "outputs": [],
   "source": [
    "bkg_spmodes = ['998', '1005', '1235', '1237', '3981']\n",
    "sig_spmodes = ['-999']\n",
    "\n",
    "spmodes = bkg_spmodes + sig_spmodes\n",
    "\n",
    "weights = {}\n",
    "for sp in spmodes:\n",
    "    weights[sp] = bat.scaling_value(int(sp), dataset_information=dataset_information, cs_data=cs_data, plot=False, verbose=False)\n",
    "    #weights[sp] = 1\n",
    "\n",
    "### bat.scaling_value is in Babar_analysis_tools.py \n",
    "\n",
    "# Scale the signal higher\n",
    "weights['-999'] = 1000\n",
    "weights['0'] = 1\n",
    "\n",
    "print(weights)"
   ]
  },
  {
   "cell_type": "code",
   "execution_count": null,
   "id": "ed9bc109-30bc-4772-ba79-4bd53a56df70",
   "metadata": {},
   "outputs": [],
   "source": [
    "empty_hists= bat.create_empty_histograms(hist_defs)\n"
   ]
  },
  {
   "cell_type": "code",
   "execution_count": null,
   "id": "26d51b1c-599a-4458-82d0-3c138efc227b",
   "metadata": {},
   "outputs": [],
   "source": [
    "modes= np.unique(data[\"spmode\"])\n",
    "print(modes)\n",
    "\n",
    "#weights1= np.ones(6)\n",
    "\n",
    "#bat.fill_histograms_v2(ak.flatten(data[\"BpostFitDeltaE\"]), empty_hists, spmodes= modes, weights= weights)\n",
    "#bat.fill_histograms_v2(data, empty_hists, spmodes= ['998'], weights= weights)"
   ]
  },
  {
   "cell_type": "code",
   "execution_count": null,
   "id": "cf283ad0-baa3-4680-8b7d-10c2fad81f67",
   "metadata": {},
   "outputs": [],
   "source": [
    "modes= np.unique(data[\"spmode\"])\n",
    "\n",
    "intmodes= []\n",
    "for i in modes: \n",
    "    x= int(i)\n",
    "    intmodes.append(x)\n",
    "\n",
    "weights1= np.ones(6)\n",
    "\n",
    "bat.fill_histograms_v2(ak.flatten(data[\"BpostFitDeltaE\"]), empty_hists, spmodes= intmodes, weights= weights1)"
   ]
  },
  {
   "cell_type": "code",
   "execution_count": null,
   "id": "8d2352bb-c370-48a5-8b16-7209bc0cb799",
   "metadata": {},
   "outputs": [],
   "source": []
  }
 ],
 "metadata": {
  "kernelspec": {
   "display_name": "Python 3 (ipykernel)",
   "language": "python",
   "name": "python3"
  },
  "language_info": {
   "codemirror_mode": {
    "name": "ipython",
    "version": 3
   },
   "file_extension": ".py",
   "mimetype": "text/x-python",
   "name": "python",
   "nbconvert_exporter": "python",
   "pygments_lexer": "ipython3",
   "version": "3.11.7"
  }
 },
 "nbformat": 4,
 "nbformat_minor": 5
}
