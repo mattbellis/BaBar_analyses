{
 "cells": [
  {
   "cell_type": "code",
   "execution_count": null,
   "id": "5c1f1a9e-2dd4-4a28-9e88-56b3bf1576dc",
   "metadata": {},
   "outputs": [],
   "source": [
    "import uproot\n",
    "import awkward as ak\n",
    "\n",
    "import matplotlib.pylab as plt\n",
    "import numpy as np\n",
    "\n",
    "import hist\n",
    "from hist import Hist\n",
    "\n",
    "import time\n",
    "\n",
    "import seaborn as sns\n",
    "import pandas as pd"
   ]
  },
  {
   "cell_type": "markdown",
   "id": "91a9d0ff-5488-4051-bcd5-01b5d0b48fe7",
   "metadata": {
    "jp-MarkdownHeadingCollapsed": true
   },
   "source": [
    "# References\n",
    "\n",
    "## BaBar\n",
    "\n",
    "https://babar-wiki.heprc.uvic.ca/bbr_wiki/index.php/Find_Data\n",
    "\n",
    "https://babar-wiki.heprc.uvic.ca/bbr_wiki/index.php/Physics\n",
    "\n",
    "https://babar-wiki.heprc.uvic.ca/bbr_wiki/index.php/Physics/skims\n",
    "\n",
    "https://babar-wiki.heprc.uvic.ca/bbr_wiki/index.php/Available_Data\n",
    "\n",
    "https://babar-wiki.heprc.uvic.ca/bbr_wiki/index.php/Available_Lists#Composite_Particle_Lists\n",
    "\n",
    "https://babar-wiki.heprc.uvic.ca/bbr_wiki/index.php/Lambda_Lists\n",
    "\n",
    "## Physics\n",
    "\n",
    "https://pdglive.lbl.gov/Viewer.action\n",
    "\n",
    "https://pdglive.lbl.gov/ParticleGroup.action?init=0&node=BXXX020\n",
    "\n",
    "https://pdglive.lbl.gov/Particle.action?init=0&node=S033&home=BXXX040\n",
    "\n",
    "https://pdglive.lbl.gov/ParticleGroup.action?init=0&node=MXXX045\n",
    "\n",
    "\n",
    "\n",
    "## Code\n",
    "\n",
    "### Uproot\n",
    "https://uproot.readthedocs.io/en/latest/basic.html\n",
    "\n",
    "### Awkward arrays\n",
    "https://awkward-array.org/doc/main/\n",
    "\n",
    "https://awkward-array.org/doc/main/getting-started/index.html (see left-hand navigation bar with different tutorials)\n",
    "\n",
    "### Histogram\n",
    "\n",
    "https://hist.readthedocs.io/en/latest/\n",
    "\n",
    "\n"
   ]
  },
  {
   "cell_type": "markdown",
   "id": "277f776e-3a32-4e65-a64f-970640cb8235",
   "metadata": {
    "jp-MarkdownHeadingCollapsed": true
   },
   "source": [
    "# Open the file and extract the data\n",
    "\n",
    "Using straight `uproot` and some of the \"original\" BaBar files\n",
    "\n",
    "*Note! This is not the approach we will use for the full analysis, but it is useful for you to see how to do this with the ROOT files, in case you need to do some preliminary checks that I missed.*"
   ]
  },
  {
   "cell_type": "code",
   "execution_count": null,
   "id": "632faa49-4c45-442e-9581-e4fc7050a2b8",
   "metadata": {},
   "outputs": [],
   "source": [
    "topdir = '/mnt/qnap/babar_data/bnv_plambda'\n",
    "\n",
    "filename = f'{topdir}/SP-1005-LambdaVeryVeryLoose-Run3-R24a2-v03_COMBINED.root'\n",
    "\n",
    "f = uproot.open(filename)\n",
    "\n",
    "print(f.keys())\n",
    "\n",
    "# This extracts the ROOT ntuple (TTree)\n",
    "# From this we can extract awkward arrays\n",
    "t = f['ntp1']\n",
    "\n",
    "print(type(t))"
   ]
  },
  {
   "cell_type": "code",
   "execution_count": null,
   "id": "84526ce0-64c4-4916-a47f-cc663311f63b",
   "metadata": {},
   "outputs": [],
   "source": [
    "# Display the variable names\n",
    "\n",
    "keys = t.keys()\n",
    "\n",
    "keys"
   ]
  },
  {
   "cell_type": "markdown",
   "id": "de01c8f5-afb4-47e5-872e-44f2ba34d3dc",
   "metadata": {},
   "source": [
    "Print out the variables in the TTree/awkward array in a neater way. "
   ]
  },
  {
   "cell_type": "code",
   "execution_count": null,
   "id": "20b4b8d4-ff5d-4aff-a2fd-75e08eb23090",
   "metadata": {},
   "outputs": [],
   "source": [
    "keys = t.keys()\n",
    "\n",
    "max_len = 80\n",
    "output = \"\"\n",
    "for k in keys:\n",
    "    if len(output)<max_len:\n",
    "        output = f\"{output}{k:20s} \"\n",
    "    else:\n",
    "        print(output)\n",
    "        output = f\"{k:20s} \""
   ]
  },
  {
   "cell_type": "markdown",
   "id": "e2964915-bbb3-442d-8035-640c3e4754d4",
   "metadata": {
    "jp-MarkdownHeadingCollapsed": true
   },
   "source": [
    "# Exploring the data"
   ]
  },
  {
   "cell_type": "code",
   "execution_count": null,
   "id": "933dc090-26c0-4851-972f-0ca60e5748e4",
   "metadata": {},
   "outputs": [],
   "source": [
    "# You can access the values in an TTree array as follow\n",
    "# Note that in each case, we need the .array at the end to actually get the values. \n",
    "\n",
    "# Get the proton energy. \n",
    "x = t['penergy'].array()\n",
    "\n",
    "print(x)\n",
    "\n",
    "# Get the number of protons in each event using an awkward function\n",
    "\n",
    "n = ak.num(x)\n",
    "\n",
    "print(n)"
   ]
  },
  {
   "cell_type": "code",
   "execution_count": null,
   "id": "335802b8-9d8b-4bcc-92b9-cefdedcfc513",
   "metadata": {},
   "outputs": [],
   "source": [
    "t[\"nTRK\"].array()"
   ]
  },
  {
   "cell_type": "markdown",
   "id": "c6017f43-297f-4aff-bb9c-205fce16f5ed",
   "metadata": {
    "jp-MarkdownHeadingCollapsed": true
   },
   "source": [
    "# Interfacing with the files we will use for analysis\n",
    "\n",
    "These files have already been processed and only the awkward arrays have been stored. \n",
    "\n",
    "These files are [parquet files](https://www.databricks.com/glossary/what-is-parquet)."
   ]
  },
  {
   "cell_type": "code",
   "execution_count": null,
   "id": "73a3878f-dd7c-48d7-8a86-dcaf73c65ce5",
   "metadata": {},
   "outputs": [],
   "source": [
    "# Background\n",
    "filename = f'{topdir}/Background_SP_modes_Only_Run_1.parquet'\n",
    "\n",
    "# Signal\n",
    "#filename = f'{topdir}/Signal_SP_mode.parquet'\n",
    "\n",
    "start = time.time()\n",
    "\n",
    "data = ak.from_parquet(filename)\n",
    "\n",
    "print(f\"Took {time.time() - start} s\")\n",
    "\n",
    "print(type(data))"
   ]
  },
  {
   "cell_type": "markdown",
   "id": "1a39a8ff-97d7-4304-8955-0872c6c9d43d",
   "metadata": {},
   "source": [
    "We can print out the variable names in the same way, but we use the `fields` data member. "
   ]
  },
  {
   "cell_type": "code",
   "execution_count": null,
   "id": "15db9843-b2e8-42fd-9fe1-b19e38f39a6f",
   "metadata": {},
   "outputs": [],
   "source": [
    "keys = data.fields\n",
    "\n",
    "max_len = 80\n",
    "output = \"\"\n",
    "for k in keys:\n",
    "    if len(output)<max_len:\n",
    "        output = f\"{output}{k:20s} \"\n",
    "    else:\n",
    "        print(output)\n",
    "        output = f\"{k:20s} \"\n",
    "print(output)"
   ]
  },
  {
   "cell_type": "markdown",
   "id": "b4cec15e-9ee8-4448-acea-6f47e1d335d2",
   "metadata": {},
   "source": [
    "We can access the values now without the `.values()` at the end. "
   ]
  },
  {
   "cell_type": "code",
   "execution_count": null,
   "id": "6dcf3ed4-574d-42c4-9166-21107a5735df",
   "metadata": {},
   "outputs": [],
   "source": [
    "data['penergy']"
   ]
  },
  {
   "cell_type": "code",
   "execution_count": null,
   "id": "3c6c39a7-a41c-4d2e-9b44-eda93d737306",
   "metadata": {},
   "outputs": [],
   "source": [
    "# Or like this\n",
    "\n",
    "data.penergy"
   ]
  },
  {
   "cell_type": "markdown",
   "id": "d6086a21-8763-49fa-937d-8470ecb58573",
   "metadata": {},
   "source": [
    "## Some other examples"
   ]
  },
  {
   "cell_type": "code",
   "execution_count": null,
   "id": "29c20fff-56c8-4561-bb80-f1f25cb421af",
   "metadata": {},
   "outputs": [],
   "source": [
    "x = data['penergy']\n",
    "\n",
    "# Need to flatten it before we plot, if it is multidimensional\n",
    "\n",
    "x = ak.flatten(x)\n",
    "\n",
    "plt.hist(x,bins=100);\n",
    "x"
   ]
  },
  {
   "cell_type": "code",
   "execution_count": null,
   "id": "42f066a3-2c90-4ecb-9a29-e717bd5effa1",
   "metadata": {},
   "outputs": [],
   "source": [
    "# Plot only the first instance in each event\n",
    "\n",
    "x = data['BMass'][:,0]\n",
    "\n",
    "# This is only 1-dimensional so we don't need to flatten it. \n",
    "plt.hist(x,bins=100, range=(0,6));"
   ]
  },
  {
   "cell_type": "markdown",
   "id": "e953a594-2502-4fba-afc6-86f9c1d0ce4a",
   "metadata": {},
   "source": [
    "## Histogram"
   ]
  },
  {
   "cell_type": "code",
   "execution_count": null,
   "id": "a05ab381-f710-49da-872f-571acd87fe68",
   "metadata": {},
   "outputs": [],
   "source": [
    "# Get all the SP modes\n",
    "\n",
    "x = data['spmode']\n",
    "\n",
    "spmodes = np.unique(x.to_list())\n",
    "\n",
    "print(spmodes)"
   ]
  },
  {
   "cell_type": "code",
   "execution_count": null,
   "id": "8d74e2f2-89df-45b7-9df7-cf33a9313965",
   "metadata": {},
   "outputs": [],
   "source": [
    "# Create a histogram\n",
    "h = Hist.new.Reg(100, 5.2, 5.3, name=\"BpostFitMes\", label=r\"M$_{ES}$ [GeV/c$^2$]\") \\\n",
    "         .StrCat([], name=\"SP\", label=\"SP modes\", growth=True)\\\n",
    "         .StrCat([], name=\"cuts\", label=\"Cuts\", growth=True)\\\n",
    "         .Weight()\n",
    "\n",
    "# Fill the histogram\n",
    "for spmode in spmodes:\n",
    "    sp_mask = data.spmode == spmode\n",
    "    x = data[sp_mask]['BpostFitMes'][:,0]\n",
    "    h.fill(BpostFitMes=x, SP=spmode, cuts=f\"0\", weight=1)"
   ]
  },
  {
   "cell_type": "markdown",
   "id": "46f1b948-f3ca-4861-bc66-57671a93e7d9",
   "metadata": {},
   "source": [
    "Display it in different ways"
   ]
  },
  {
   "cell_type": "code",
   "execution_count": null,
   "id": "b6a8bda2-2434-4608-9a60-b9588b60ca6c",
   "metadata": {},
   "outputs": [],
   "source": [
    "#h[:,\"998\",\"0\"].plot(histtype=\"fill\", linewidth=1, edgecolor=\"grey\")\n",
    "#h[:,\"-999\",\"0\"].plot(histtype=\"fill\", linewidth=1, edgecolor=\"grey\")"
   ]
  },
  {
   "cell_type": "code",
   "execution_count": null,
   "id": "05f35a4c-6730-41ac-807c-c39196ea54a8",
   "metadata": {},
   "outputs": [],
   "source": [
    "#h[:,\"1235\",\"0\"].plot(histtype=\"fill\", linewidth=1, edgecolor=\"grey\")"
   ]
  },
  {
   "cell_type": "code",
   "execution_count": null,
   "id": "7084f973-f505-47ed-8d4b-307ad8d652d7",
   "metadata": {},
   "outputs": [],
   "source": [
    "#h.stack('SP')[:].project('BpostFitMes').plot(stack=True, histtype=\"fill\")\n",
    "\n",
    "#plt.legend()"
   ]
  },
  {
   "cell_type": "markdown",
   "id": "45ee09c6-67bc-47e6-a9e8-4f63975c6db4",
   "metadata": {},
   "source": [
    "Now for  the other thing!"
   ]
  },
  {
   "cell_type": "code",
   "execution_count": null,
   "id": "563fb0e6-365e-4a39-a92b-e0374f15a2ba",
   "metadata": {},
   "outputs": [],
   "source": [
    "# Create the histogram, this does not fill it in\n",
    "\n",
    "j= Hist.new.Reg(100, -1,1, name= \"BpostFitDeltaE\", label= r\"idk yet [GeV]?\") \\\n",
    "        .StrCat([],name= \"SP\", label= \"sp modes\", growth= True)\\\n",
    "        .StrCat([], name= \"cuts\", label= \"Cuts\", growth= True)\\\n",
    "        .Weight()\n",
    "\n",
    "# Fill \n",
    "\n",
    "for spmode in spmodes: \n",
    "    sp_mask2= data.spmode== spmode\n",
    "    y= data[sp_mask2][\"BpostFitDeltaE\"][:,0]\n",
    "    j.fill(BpostFitDeltaE=y, SP= spmode, cuts= f\"0\", weight=1)"
   ]
  },
  {
   "cell_type": "code",
   "execution_count": null,
   "id": "0d30bca9-c4d8-4b76-a62c-1be8cd476211",
   "metadata": {},
   "outputs": [],
   "source": [
    "#j[:,\"998\",\"0\"].plot(histtype=\"fill\", linewidth=1, edgecolor=\"grey\")\n",
    "j[:,\"998\",\"0\"].plot(histtype=\"fill\", linewidth=1, edgecolor=\"grey\")"
   ]
  },
  {
   "cell_type": "code",
   "execution_count": null,
   "id": "2acdda7f-7ff6-4e31-bf83-69bb24c21933",
   "metadata": {},
   "outputs": [],
   "source": [
    "j.stack('SP')[:].project('BpostFitDeltaE').plot(stack=True, histtype=\"fill\")\n",
    "\n",
    "plt.legend()"
   ]
  },
  {
   "cell_type": "markdown",
   "id": "eaa1660e-29b3-40e8-b1f5-e6854efb968c",
   "metadata": {},
   "source": [
    "## Lambda \n"
   ]
  },
  {
   "cell_type": "markdown",
   "id": "54dd2cec-f9ab-47c1-9459-932645a740a0",
   "metadata": {},
   "source": [
    "Matplotlib histogram:"
   ]
  },
  {
   "cell_type": "code",
   "execution_count": null,
   "id": "28e80e53-e49f-4211-ab03-2fdc53893d82",
   "metadata": {},
   "outputs": [],
   "source": [
    "Lambda_mass= data.Lambda0_unc_Mass\n",
    "Flight_length= data.Lambda0FlightLen\n",
    "\n",
    "flat_Lambda_mass= ak.flatten(Lambda_mass)\n",
    "\n",
    "Flight_length"
   ]
  },
  {
   "cell_type": "code",
   "execution_count": null,
   "id": "d736d1f8-500d-4d81-9d01-cd0f4c09fe6e",
   "metadata": {},
   "outputs": [],
   "source": [
    "plt.hist(flat_Lambda_mass, bins= 100);"
   ]
  },
  {
   "cell_type": "markdown",
   "id": "c3200a2f-b5db-43bf-9b02-ec89e2b26d64",
   "metadata": {},
   "source": [
    "hist class:"
   ]
  },
  {
   "cell_type": "code",
   "execution_count": null,
   "id": "edf67374-dca3-4a63-947b-94abaf68e72d",
   "metadata": {},
   "outputs": [],
   "source": [
    "h_lambda_FL= Hist.new.Reg(100, -.25,10, name= \"Lambda0FlightLen\", label= r\"flight length [cm]\") \\\n",
    "        .StrCat([],name= \"SP\", label= \"sp modes\", growth= True)\\\n",
    "        .StrCat([], name= \"cuts\", label= \"Cuts\", growth= True)\\\n",
    "        .Weight()\n",
    "\n",
    "h_lambda_mass= Hist.new.Reg(100,1.105, 1.126, name= \"Lambda0_unc_Mass\", label= r\"Mass GeV\") \\\n",
    "        .StrCat([],name= \"SP\", label= \"sp modes\", growth= True)\\\n",
    "        .StrCat([], name= \"cuts\", label= \"Cuts\", growth= True)\\\n",
    "        .Weight()\n",
    "\n",
    "\n",
    "\n",
    "\n",
    "for spmode in spmodes: \n",
    "    modes= data.spmode== spmode\n",
    "    x0 = data[modes][\"Lambda0FlightLen\"][:,0]\n",
    "    x1 = data[modes][\"Lambda0_unc_Mass\"][:,0]\n",
    "\n",
    "    cut_name = \"org\"\n",
    "    h_lambda_FL.fill(Lambda0FlightLen=x0,   SP= spmode, cuts= cut_name, weight=1)\n",
    "    h_lambda_mass.fill(Lambda0_unc_Mass=x1, SP= spmode, cuts= cut_name, weight=1)\n",
    "\n",
    "    # First cut\n",
    "    cut_name = \"fl_gt_val\"\n",
    "    flight_length_cutter = data[modes][\"Lambda0FlightLen\"][:,0] > 2.0\n",
    "\n",
    "    h_lambda_FL.fill(Lambda0FlightLen=x0[flight_length_cutter],   SP= spmode, cuts= cut_name, weight=1)\n",
    "    h_lambda_mass.fill(Lambda0_unc_Mass=x1[flight_length_cutter], SP= spmode, cuts= cut_name, weight=1)\n"
   ]
  },
  {
   "cell_type": "code",
   "execution_count": null,
   "id": "f997b5fe-a28c-4dd2-afdf-1a8affc47fc1",
   "metadata": {},
   "outputs": [],
   "source": [
    "#h_lambda_FL[:,\"998\",\"org\"].plot(histtype=\"fill\", linewidth=1, edgecolor=\"grey\")\n",
    "#h_lambda_FL[:,\"998\",\"fl_gt_val\"].plot(histtype=\"fill\", linewidth=1, edgecolor=\"grey\")"
   ]
  },
  {
   "cell_type": "code",
   "execution_count": null,
   "id": "eebca380-4996-47b1-bdb4-bae84434e59c",
   "metadata": {},
   "outputs": [],
   "source": [
    "h_lambda_FL[:,:,'org'].stack('SP').project('Lambda0FlightLen')"
   ]
  },
  {
   "cell_type": "code",
   "execution_count": null,
   "id": "7b8b4883-236c-4b07-af29-6416e3c04ff1",
   "metadata": {},
   "outputs": [],
   "source": [
    "#h_lambda_FL.show()"
   ]
  },
  {
   "cell_type": "code",
   "execution_count": null,
   "id": "23ef7023-be20-4a34-bf9d-2ec13a13c207",
   "metadata": {},
   "outputs": [],
   "source": [
    "plt.figure(figsize=(16,8))\n",
    "\n",
    "plt.subplot(1,2,1)\n",
    "h_lambda_FL[:,:,'org'].stack('SP')[:].project('Lambda0FlightLen').plot(stack=True, histtype=\"fill\")\n",
    "h_lambda_FL[:,:,'fl_gt_val'].stack('SP')[:].project('Lambda0FlightLen').plot(stack=True, histtype=\"fill\")\n",
    "\n",
    "plt.legend()\n",
    "\n",
    "plt.subplot(1,2,2)\n",
    "h_lambda_mass[:,:,'org'].stack('SP')[:].project('Lambda0_unc_Mass').plot(stack=True, histtype=\"fill\")\n",
    "h_lambda_mass[:,:,'fl_gt_val'].stack('SP')[:].project('Lambda0_unc_Mass').plot(stack=True, histtype=\"fill\")\n",
    "\n"
   ]
  },
  {
   "cell_type": "code",
   "execution_count": null,
   "id": "30114b4a-f4f4-457e-9981-ba7f691e0584",
   "metadata": {},
   "outputs": [],
   "source": [
    "plt.figure(figsize=(16,8))\n",
    "\n",
    "sp = '1005'\n",
    "\n",
    "plt.subplot(1,2,1)\n",
    "h_lambda_FL[:,sp,'org'].project('Lambda0FlightLen').plot(histtype=\"fill\")\n",
    "h_lambda_FL[:,sp,'fl_gt_val'].project('Lambda0FlightLen').plot(histtype=\"fill\")\n",
    "\n",
    "#plt.legend()\n",
    "\n",
    "plt.subplot(1,2,2)\n",
    "h_lambda_mass[:,sp,'org'].project('Lambda0_unc_Mass').plot(histtype=\"fill\")\n",
    "h_lambda_mass[:,sp,'fl_gt_val'].project('Lambda0_unc_Mass').plot(histtype=\"fill\")\n",
    "\n",
    "plt.tight_layout()"
   ]
  },
  {
   "cell_type": "code",
   "execution_count": null,
   "id": "6bfaac4e-bd14-4606-87f2-a2d5347c0df6",
   "metadata": {},
   "outputs": [],
   "source": [
    "h_lambda_FL[:,:,'org']"
   ]
  },
  {
   "cell_type": "code",
   "execution_count": null,
   "id": "ac006c22-9553-4084-b4fd-df663346c4db",
   "metadata": {
    "jupyter": {
     "source_hidden": true
    }
   },
   "outputs": [],
   "source": [
    "x= data[\"BMass\"][:,0]\n",
    "\n",
    "plt.hist(x, bins=50, range=(5,6));"
   ]
  },
  {
   "cell_type": "markdown",
   "id": "89728de9-da00-4d8e-a6d2-17752fa0d6eb",
   "metadata": {},
   "source": [
    "# Next steps\n",
    "\n",
    "* Plot `BpostFitMes` and `BpostFitDeltaE`\n",
    "* Do individual histograms\n",
    "* Do a 2D histogram (try with `Hist`)\n",
    "\n",
    "Bellis will get you a signal file so you can see how the signal looks different from all of these. "
   ]
  },
  {
   "cell_type": "code",
   "execution_count": null,
   "id": "fa74cc6f-c5e4-4dc8-acfe-d6d5a1670404",
   "metadata": {},
   "outputs": [],
   "source": [
    "x = data['nTRK']\n",
    "\n",
    "SP_1237 = data['spmode'] == '1237'\n",
    "\n",
    "plt.hist(x[SP_1237],bins=26,range=(0,26));"
   ]
  },
  {
   "cell_type": "code",
   "execution_count": null,
   "id": "afc9044c-ae6e-4bd5-a971-323e4b2d6c63",
   "metadata": {},
   "outputs": [],
   "source": [
    "data['spmode'];"
   ]
  },
  {
   "cell_type": "code",
   "execution_count": null,
   "id": "1de305f4-fc5f-446c-97d7-99c247d7f6c2",
   "metadata": {},
   "outputs": [],
   "source": [
    "BPFM= data[\"BpostFitMes\"][:,0]\n",
    "BPFDE= data[\"BpostFitDeltaE\"][:,0]\n",
    "\n",
    "plt.figure(figsize= (16,8))\n",
    "\n",
    "plt.subplot(1,2,1)\n",
    "plt.title(\"B post fit MES\")\n",
    "plt.hist(BPFM, bins= 100, range= (3.5,5.5));\n",
    "plt.xlabel(\"Mass [GeV/c^2]\")\n",
    "\n",
    "plt.subplot(1,2,2)\n",
    "plt.title(\"B post fit Delta E\")\n",
    "plt.hist(BPFDE, bins= 100, range=(-1,1));\n",
    "plt.xlabel(\"E [GeV]\")"
   ]
  },
  {
   "cell_type": "code",
   "execution_count": null,
   "id": "fe62ff15-7b17-4286-94f8-3c6f583d8bae",
   "metadata": {},
   "outputs": [],
   "source": [
    "plt.figure(figsize=(8, 8))\n",
    "\n",
    "h= Hist(\n",
    "    hist.axis.Regular(400,3,7,name= \"BPFM\", label= \"mass [GeV/c^2]\", flow= True),\n",
    "    hist.axis.Regular(350,-.75,1,name= \"BPFMDE\", label= \"energy [GeV]\", flow= True),\n",
    ")\n",
    "\n",
    "# normal fill\n",
    "h.fill(BPFM, BPFDE)\n",
    "\n",
    "h.plot2d_full(\n",
    "    main_cmap=\"coolwarm\",\n",
    "    top_ls=\"--\",\n",
    "    top_color=\"orange\",\n",
    "    top_lw=2,\n",
    "    side_ls=\":\",\n",
    "    side_lw=2,\n",
    "    side_color=\"steelblue\",\n",
    ")\n",
    "\n",
    "plt.xlim(5.1,5.3)\n",
    "plt.ylim(-.5,.5)\n",
    "plt.show()"
   ]
  },
  {
   "cell_type": "code",
   "execution_count": null,
   "id": "92785394-06b8-43f6-9fc4-c7ec1f096095",
   "metadata": {},
   "outputs": [],
   "source": [
    "events_in_range= sum(5.2<x<5.3 for x in BPFM) & sum(-.2<x<.2 for x in BPFDE)\n",
    "\n",
    "total_frac= events_in_range/len(BPFM)"
   ]
  },
  {
   "cell_type": "code",
   "execution_count": null,
   "id": "0d7fde14-1dbc-4636-b019-0e88d900e5d0",
   "metadata": {},
   "outputs": [],
   "source": [
    "type(data)"
   ]
  },
  {
   "cell_type": "code",
   "execution_count": null,
   "id": "b99ea929-5e5f-45ab-aea1-d1890110ecd0",
   "metadata": {},
   "outputs": [],
   "source": [
    "BPFM"
   ]
  },
  {
   "cell_type": "code",
   "execution_count": null,
   "id": "fd034ad1-ebfe-420d-b93f-f7774cd56ef0",
   "metadata": {},
   "outputs": [],
   "source": [
    "'''\n",
    "blinding_reg_mask_upper = (data['BpostFitMes'][:,0] < 5.3) & (data['BpostFitDeltaE'][:,0] <.3)\n",
    "blinding_reg_mask_lower = (data['BpostFitMes'][:,0] > 5.2) & (data['BpostFitDeltaE'][:,0] >-.3)\n",
    "\n",
    "region_blinded= data[blinding_reg_mask_lower]\n",
    "ak.num(region_blinded, axis=0)\n",
    "\n",
    "double= region_blinded[blinding_reg_mask_upper]\n",
    "'''"
   ]
  },
  {
   "cell_type": "code",
   "execution_count": null,
   "id": "f817aec6-9375-4ee9-88ab-d1a44b232293",
   "metadata": {},
   "outputs": [],
   "source": [
    "plt.plot(BPFM, BPFDE, '.', markersize=0.5, alpha=0.1)\n",
    "plt.xlim(5.2, 5.3)\n",
    "plt.ylim(-0.5, 0.5)"
   ]
  },
  {
   "cell_type": "markdown",
   "id": "69d57d49-b041-4c37-a219-3cc30a03796f",
   "metadata": {},
   "source": [
    "Note that the mass shows a steady drop off (as is characteristic of using MES) and that the change in energy is symmetric about zero. \n",
    "\n",
    "The symmetricity about zero arises from the calculation of $\\Delta E$= $E_{e^+e^-}-E_B$. Since $E_{e^+e^-}$ is an unchanging value and the mass of the B candidate should be close to that number. \n",
    "\n",
    "The drop off in the mass is a result of the same idea. For better resolution on the B mass, you can relate the momentum of the B to the energy of the beam, since the main particles produced in electron positron collisions at this energy are a B and an anti B. So, half of the energy of the beam goes into creating one B, and the other half goes into creating the B bar. The mass is calculated by the following: \n",
    "\n",
    "$M^2 = (E_p+E_\\Lambda)^2-(p_p+p_\\Lambda)^2$\n",
    "\n",
    "where the $(E_p+E_\\Lambda)$ is the energy of the B (given by the addition of its primary decay constituents) and the $(p_p+p_\\Lambda)$ is the same but with the momentum instead of the energy. $(E_p+E_\\Lambda)$ can be approximated as $\\frac{1}{2}E_{e^+e^-}$!"
   ]
  },
  {
   "cell_type": "markdown",
   "id": "686c91a5-0d65-48ff-b76a-0b02e2aa98e6",
   "metadata": {},
   "source": [
    "## Scaling and cross section data"
   ]
  },
  {
   "cell_type": "code",
   "execution_count": null,
   "id": "36e209f6-6011-4bb9-bc9d-9a9e1953c76c",
   "metadata": {},
   "outputs": [],
   "source": [
    "import pandas as pd"
   ]
  },
  {
   "cell_type": "code",
   "execution_count": null,
   "id": "08d9e00c-56a2-4195-b5da-e8429773193d",
   "metadata": {},
   "outputs": [],
   "source": [
    "dataset_information = pd.read_csv(\"BaBar_analyses_BNV_pLambda_data_for_scaling.csv\")\n",
    "cs_data= pd.read_csv(\"BaBar_analyses_BNV_pLambda_cross_section_data.csv\")"
   ]
  },
  {
   "cell_type": "code",
   "execution_count": null,
   "id": "8bcc118a-b080-42de-9e8f-075b2355f5f0",
   "metadata": {},
   "outputs": [],
   "source": [
    "dataset_information"
   ]
  },
  {
   "cell_type": "code",
   "execution_count": null,
   "id": "24ac4ce5-006d-4db1-ace6-baadfd4b2015",
   "metadata": {},
   "outputs": [],
   "source": [
    "Data_and_Skim_mask = (dataset_information['Data or MC'] == 'Data') & (dataset_information['Skim'] != 'LambdaVeryVeryLoose')\n",
    "dataset_information[Data_and_Skim_mask]"
   ]
  },
  {
   "cell_type": "code",
   "execution_count": null,
   "id": "d31a40c7-7c4d-4385-9937-3883e7b86141",
   "metadata": {},
   "outputs": [],
   "source": [
    "nevents = dataset_information[Data_and_Skim_mask]['# of events (Data or MC)'].sum()\n",
    "nevents"
   ]
  },
  {
   "cell_type": "code",
   "execution_count": null,
   "id": "53801f7c-4f58-4f60-8799-a874084c1759",
   "metadata": {},
   "outputs": [],
   "source": [
    "nevents_other = dataset_information[Data_and_Skim_mask]['# of events (Data or MC) NOT SURE WHICH NUMBER TO USE'].sum()\n",
    "nevents_other"
   ]
  },
  {
   "cell_type": "code",
   "execution_count": null,
   "id": "60495cf8-81d9-4a4f-9e2a-7e3dae346b4f",
   "metadata": {},
   "outputs": [],
   "source": [
    "int_lumi = dataset_information[Data_and_Skim_mask]['Luminosity (Data only) 1/pb'].sum()\n",
    "int_lumi"
   ]
  },
  {
   "cell_type": "code",
   "execution_count": null,
   "id": "911ea964-aa5f-4fe1-aa0c-ac1ae8d5f64c",
   "metadata": {},
   "outputs": [],
   "source": [
    "cs_data"
   ]
  },
  {
   "cell_type": "code",
   "execution_count": null,
   "id": "c1dc7f7e-4160-4b7d-bfa2-3abc34f44311",
   "metadata": {},
   "outputs": [],
   "source": [
    "spmodes = np.unique(cs_data['SP Mode'].values)\n",
    "\n",
    "spmodes = spmodes[spmodes != 2400]\n",
    "\n",
    "spmodes"
   ]
  },
  {
   "cell_type": "code",
   "execution_count": null,
   "id": "444d6f9a-b766-45eb-9c4b-f017d8c43333",
   "metadata": {},
   "outputs": [],
   "source": [
    "SP_not_2400 = cs_data['SP Mode'] != 2400\n",
    "\n",
    "expected_events = cs_data[SP_not_2400]['Cross section [nb]'] * int_lumi * 1000 # The 1000 is because cs is in nb and lumi is pb^-1\n",
    "\n",
    "expected_events"
   ]
  },
  {
   "cell_type": "code",
   "execution_count": null,
   "id": "a98b2605-f783-46d7-b4c0-5f8e79a1e875",
   "metadata": {},
   "outputs": [],
   "source": [
    "tot_expected_events = expected_events.sum()\n",
    "tot_expected_events"
   ]
  },
  {
   "cell_type": "code",
   "execution_count": null,
   "id": "62402f37-dd5d-4a5d-b0fd-b9ad4fc7cf00",
   "metadata": {},
   "outputs": [],
   "source": [
    "cs_data[SP_not_2400]"
   ]
  },
  {
   "cell_type": "code",
   "execution_count": null,
   "id": "c2312fe7-7431-4e50-9a66-d7945fe74d8c",
   "metadata": {},
   "outputs": [],
   "source": [
    "data_wo_SP2400 = cs_data[SP_not_2400]#[\"Cross section [nb]\"]\n",
    "\n",
    "print(type(data_wo_SP2400))\n",
    "\n",
    "sns.barplot(data_wo_SP2400, x = 'LaTeX output', y = 'Cross section [nb]')\n",
    "plt.xticks(rotation=60);"
   ]
  },
  {
   "cell_type": "code",
   "execution_count": null,
   "id": "75f220c0-2c11-41b5-a119-cc178eefb69e",
   "metadata": {},
   "outputs": [],
   "source": [
    "data_wo_SP2400 = cs_data[SP_not_2400]#[\"Cross section [nb]\"]\n",
    "\n",
    "print(type(data_wo_SP2400))\n",
    "\n",
    "sns.barplot(data_wo_SP2400, x = 'SP Mode', y = 'Cross section [nb]')"
   ]
  },
  {
   "cell_type": "code",
   "execution_count": null,
   "id": "aaa98a17-2946-468a-ac67-d1b52e1e4e72",
   "metadata": {},
   "outputs": [],
   "source": [
    "dataset_information.columns"
   ]
  },
  {
   "cell_type": "code",
   "execution_count": null,
   "id": "75672efa-d35c-4949-83f3-9765917aef16",
   "metadata": {},
   "outputs": [],
   "source": [
    "Data_and_Skim_mask = (dataset_information['Data or MC'] == 'Data') & (dataset_information['Skim'] != 'LambdaVeryVeryLoose')\n",
    "\n",
    "\n",
    "sns.barplot(dataset_information[Data_and_Skim_mask], x = 'Run', y = 'Luminosity (Data only) 1/pb')"
   ]
  },
  {
   "cell_type": "code",
   "execution_count": null,
   "id": "080acb56-b933-447d-bfa5-f3724ce9f89a",
   "metadata": {},
   "outputs": [],
   "source": [
    "spmask = data['spmode']=='998'\n",
    "\n",
    "x = data[spmask]['BpostFitMes'][:,0]\n",
    "x\n",
    "\n",
    "plt.hist(x,bins=100, range=(5., 5.3));"
   ]
  },
  {
   "cell_type": "code",
   "execution_count": null,
   "id": "275dc904-d9a1-4cdf-a8f7-e97e5bf0cd78",
   "metadata": {},
   "outputs": [],
   "source": [
    "#len(data[data['spmode'] == '1005'])"
   ]
  },
  {
   "cell_type": "code",
   "execution_count": null,
   "id": "7198a588-87e2-46f6-b97b-2a28b57012a5",
   "metadata": {},
   "outputs": [],
   "source": [
    "dataset_information.columns"
   ]
  },
  {
   "cell_type": "code",
   "execution_count": null,
   "id": "626e9100-451c-4b73-8b5b-659e223e2eb4",
   "metadata": {},
   "outputs": [],
   "source": [
    "spmode = 1005\n",
    "\n",
    "SP_and_Skim = (dataset_information['SP mode'] == spmode) & (dataset_information['Skim'] != 'LambdaVeryVeryLoose')\n",
    "\n",
    "dataset_information[SP_and_Skim]['# of events (Data or MC)']\n",
    "\n",
    "nevents_mc = dataset_information[SP_and_Skim]['# of events (Data or MC)'].sum()\n",
    "\n",
    "# Number of SP events of this mode generated for all runs\n",
    "nevents_mc"
   ]
  },
  {
   "cell_type": "code",
   "execution_count": null,
   "id": "cd43d005-0569-4d72-b984-178087d660b7",
   "metadata": {},
   "outputs": [],
   "source": [
    "csmask = cs_data['SP Mode'] == spmode\n",
    "cs = cs_data[csmask]['Cross section [nb]']\n",
    "\n",
    "cs = cs.values[0]\n",
    "\n",
    "# Cross section for this process\n",
    "print(cs)\n",
    "\n",
    "number_generated_in_data = cs * int_lumi * 1000\n",
    "print(number_generated_in_data)\n",
    "\n",
    "scaling = number_generated_in_data / nevents_mc\n",
    "\n",
    "print(scaling)"
   ]
  },
  {
   "cell_type": "code",
   "execution_count": null,
   "id": "fb89841e-28d6-457a-9e15-a4852df5298c",
   "metadata": {},
   "outputs": [],
   "source": [
    "spmask = data['spmode']== str(spmode)\n",
    "\n",
    "x = data[spmask]['BpostFitMes'][:,0]\n",
    "x\n",
    "\n",
    "plt.hist(x,bins=100, range=(5., 5.3), weights=scaling*np.ones(len(x)));"
   ]
  },
  {
   "cell_type": "markdown",
   "id": "a904f808-5cda-4963-bec9-ccc3a40a4a23",
   "metadata": {
    "jp-MarkdownHeadingCollapsed": true
   },
   "source": [
    "## Scaling Function "
   ]
  },
  {
   "cell_type": "code",
   "execution_count": null,
   "id": "15ef28d9-b5ec-42b1-9df1-74e1cc9e3319",
   "metadata": {},
   "outputs": [],
   "source": [
    "def scaling_value(spmode,plot= False, verbose= False):\n",
    "    mode= spmode \n",
    "    \n",
    "    mc_mask= (dataset_information[\"SP mode\"]== mode) & (dataset_information[\"Skim\"] != \"LambdaVeryVeryLoose\")\n",
    "    # Pulls out all unskimmed MC with desired SP mode\n",
    "    \n",
    "    nevents_mc= dataset_information[mc_mask][\"# of events (Data or MC)\"].sum()\n",
    "    # Sums the number of unskimmed MC events of the desired SP mode\n",
    "                \n",
    "    cs_mask= cs_data[\"SP Mode\"]== mode\n",
    "\n",
    "    cs= cs_data[cs_mask][\"Cross section [nb]\"]\n",
    "\n",
    "    cs= cs.values[0]\n",
    "\n",
    "    mask = (dataset_information['Data or MC'] == 'Data') & (dataset_information['Skim'] != 'LambdaVeryVeryLoose')\n",
    "    int_lumi = dataset_information[mask]['Luminosity (Data only) 1/pb'].sum()\n",
    "    \n",
    "    n_exp_in_data= cs* int_lumi*1000 \n",
    "    # Factor of 1000 arises from multiplying nanobarnes by 1/picobarnes\n",
    "    \n",
    "    scaling= n_exp_in_data/nevents_mc\n",
    "    # MC is intentionally overgenerated, so to figure out how to weight the MC, divide the number generated by the total number of MC events\n",
    "\n",
    "    \n",
    "    if plot== True:\n",
    "        spmask = data['spmode']== str(mode)\n",
    "        x = data[spmask]['BpostFitMes'][:,0]\n",
    "        plt.hist(x,bins=100, range=(5., 5.3), weights=scaling*np.ones(len(x)));\n",
    "        plt.title(f\"Scaling value for SP-{mode}: {scaling:.4f}\")\n",
    "\n",
    "    if verbose== True: \n",
    "        print(f\"- Cross section for this SP mode is    {cs} nb\")\n",
    "        print(f\"- # of events generated for SP-{mode}: {nevents_mc:13d}\")\n",
    "        print(f\"- Number expected in data:             {n_exp_in_data:.1f}\")\n",
    "        print(f\"- Integrated Luminosity:               {int_lumi:.1f} 1/pb\")\n",
    "        print(\"The scaling value for this SP mode is: \")\n",
    "\n",
    "    return scaling\n"
   ]
  },
  {
   "cell_type": "code",
   "execution_count": null,
   "id": "afe371bf-3aac-4f08-8119-dac58017bfbd",
   "metadata": {},
   "outputs": [],
   "source": [
    "scaling_value(998, plot= True, verbose= True)"
   ]
  },
  {
   "cell_type": "code",
   "execution_count": null,
   "id": "8356545b-92b1-4af1-9ee9-d038797c79e5",
   "metadata": {},
   "outputs": [],
   "source": [
    "#dataset_information"
   ]
  },
  {
   "cell_type": "code",
   "execution_count": null,
   "id": "ec68c560-c034-4fbc-b140-dd8d684bcc38",
   "metadata": {},
   "outputs": [],
   "source": [
    "# Integrated Luminosity plot- For each run \n",
    "\n",
    "mask1 = (dataset_information['Data or MC'] == 'Data') & (dataset_information[\"Skim\"]!= \"LambdaVeryVeryLoose\")\n",
    "unskimmed_data= dataset_information[mask1]\n",
    "\n",
    "\n",
    "lumis= []\n",
    "for i in np.arange(0,6):\n",
    "    luminosity= unskimmed_data[\"Luminosity (Data only) 1/pb\"][i]\n",
    "    lumis.append(luminosity)\n",
    "\n",
    "b = [sum(lumis[:i+1]) for i in range(len(lumis))]\n",
    "\n",
    "xvals= np.arange(1,7)"
   ]
  },
  {
   "cell_type": "code",
   "execution_count": null,
   "id": "cca7eca1-4a8f-4b90-a5b4-3e8f0e6f8473",
   "metadata": {},
   "outputs": [],
   "source": [
    "plt.plot(xvals, b,linewidth=3)\n",
    "plt.plot(xvals, b, \"o\",color= \"steelblue\", markersize= 8)\n",
    "plt.xlabel(\"Run #\")\n",
    "plt.ylabel(\"Luminosity [1/pb]\")\n",
    "plt.title(\"Luminosity over Time\")\n",
    "plt.ylim(0)"
   ]
  },
  {
   "cell_type": "markdown",
   "id": "5bccd46b-f691-4656-9f8a-8446567b0f8c",
   "metadata": {},
   "source": [
    "## LaTeX"
   ]
  },
  {
   "cell_type": "code",
   "execution_count": null,
   "id": "d78ea6a8-e827-492e-ae77-e4285b2e9f80",
   "metadata": {},
   "outputs": [],
   "source": [
    "def latex_table_start(fmt):\n",
    "    output = \"\"\n",
    "    output += \"\\\\begin{table}\\n\"\n",
    "    output += \"\\\\begin{tabular}{\" + f\"{fmt}\" + \"}\"\n",
    "\n",
    "    return output\n",
    "\n",
    "def latex_table_end(fmt):\n",
    "    output = \"\"\n",
    "    output += \"\\\\end{tabular}\\n\"\n",
    "    output += \"\\\\end{table}\\n\"\n",
    "\n",
    "    return output\n",
    "\n",
    "\n",
    "\n",
    "x = latex_table_start('c | c l l')\n",
    "print(x)\n",
    "\n",
    "x = latex_table_end('c | c l l')\n",
    "print(x)"
   ]
  },
  {
   "cell_type": "code",
   "execution_count": null,
   "id": "5de387b9-0af6-4f65-b8d5-adda35a4cf48",
   "metadata": {},
   "outputs": [],
   "source": [
    "def latex_table_body(df):\n",
    "    output= \"\"\n",
    "    "
   ]
  },
  {
   "cell_type": "code",
   "execution_count": null,
   "id": "4b20ad8d-f249-477c-8f83-a6283847468f",
   "metadata": {},
   "outputs": [],
   "source": [
    "\n"
   ]
  },
  {
   "cell_type": "code",
   "execution_count": null,
   "id": "e5f4dd08-c684-4cec-8e5a-d593957a65af",
   "metadata": {},
   "outputs": [],
   "source": []
  },
  {
   "cell_type": "code",
   "execution_count": null,
   "id": "af7ea1dc-7cb4-4162-9e9d-ae34f80b1118",
   "metadata": {},
   "outputs": [],
   "source": []
  },
  {
   "cell_type": "code",
   "execution_count": null,
   "id": "1de771ca-5180-495b-888e-b92221f04b61",
   "metadata": {},
   "outputs": [],
   "source": []
  }
 ],
 "metadata": {
  "kernelspec": {
   "display_name": "Python 3 (ipykernel)",
   "language": "python",
   "name": "python3"
  },
  "language_info": {
   "codemirror_mode": {
    "name": "ipython",
    "version": 3
   },
   "file_extension": ".py",
   "mimetype": "text/x-python",
   "name": "python",
   "nbconvert_exporter": "python",
   "pygments_lexer": "ipython3",
   "version": "3.11.9"
  }
 },
 "nbformat": 4,
 "nbformat_minor": 5
}
