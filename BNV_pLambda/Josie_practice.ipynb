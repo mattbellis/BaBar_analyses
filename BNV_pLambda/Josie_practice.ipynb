{
 "cells": [
  {
   "cell_type": "code",
   "execution_count": null,
   "id": "5c1f1a9e-2dd4-4a28-9e88-56b3bf1576dc",
   "metadata": {},
   "outputs": [],
   "source": [
    "import uproot\n",
    "import awkward as ak\n",
    "\n",
    "import matplotlib.pylab as plt\n",
    "import numpy as np\n",
    "\n",
    "import hist\n",
    "from hist import Hist\n",
    "\n",
    "import time"
   ]
  },
  {
   "cell_type": "markdown",
   "id": "91a9d0ff-5488-4051-bcd5-01b5d0b48fe7",
   "metadata": {},
   "source": [
    "# References\n",
    "\n",
    "## BaBar\n",
    "\n",
    "https://babar-wiki.heprc.uvic.ca/bbr_wiki/index.php/Find_Data\n",
    "\n",
    "https://babar-wiki.heprc.uvic.ca/bbr_wiki/index.php/Physics\n",
    "\n",
    "https://babar-wiki.heprc.uvic.ca/bbr_wiki/index.php/Physics/skims\n",
    "\n",
    "https://babar-wiki.heprc.uvic.ca/bbr_wiki/index.php/Available_Data\n",
    "\n",
    "https://babar-wiki.heprc.uvic.ca/bbr_wiki/index.php/Available_Lists#Composite_Particle_Lists\n",
    "\n",
    "https://babar-wiki.heprc.uvic.ca/bbr_wiki/index.php/Lambda_Lists\n",
    "\n",
    "## Physics\n",
    "\n",
    "https://pdglive.lbl.gov/Viewer.action\n",
    "\n",
    "https://pdglive.lbl.gov/ParticleGroup.action?init=0&node=BXXX020\n",
    "\n",
    "https://pdglive.lbl.gov/Particle.action?init=0&node=S033&home=BXXX040\n",
    "\n",
    "https://pdglive.lbl.gov/ParticleGroup.action?init=0&node=MXXX045\n",
    "\n",
    "\n",
    "\n",
    "## Code\n",
    "\n",
    "### Uproot\n",
    "https://uproot.readthedocs.io/en/latest/basic.html\n",
    "\n",
    "### Awkward arrays\n",
    "https://awkward-array.org/doc/main/\n",
    "\n",
    "https://awkward-array.org/doc/main/getting-started/index.html (see left-hand navigation bar with different tutorials)\n",
    "\n",
    "### Histogram\n",
    "\n",
    "https://hist.readthedocs.io/en/latest/\n",
    "\n",
    "\n"
   ]
  },
  {
   "cell_type": "markdown",
   "id": "277f776e-3a32-4e65-a64f-970640cb8235",
   "metadata": {},
   "source": [
    "# Open the file and extract the data\n",
    "\n",
    "Using straight `uproot` and some of the \"original\" BaBar files\n",
    "\n",
    "*Note! This is not the approach we will use for the full analysis, but it is useful for you to see how to do this with the ROOT files, in case you need to do some preliminary checks that I missed.*"
   ]
  },
  {
   "cell_type": "code",
   "execution_count": null,
   "id": "632faa49-4c45-442e-9581-e4fc7050a2b8",
   "metadata": {},
   "outputs": [],
   "source": [
    "filename = 'SP-1005-LambdaVeryVeryLoose-Run3-R24a2-v03_COMBINED.root'\n",
    "\n",
    "f = uproot.open(filename)\n",
    "\n",
    "# This extracts the ROOT ntuple (TTree)\n",
    "# From this we can extract awkward arrays\n",
    "t = f['ntp1']\n",
    "\n",
    "print(type(t))"
   ]
  },
  {
   "cell_type": "code",
   "execution_count": null,
   "id": "84526ce0-64c4-4916-a47f-cc663311f63b",
   "metadata": {},
   "outputs": [],
   "source": [
    "# Display the variable names\n",
    "\n",
    "keys = t.keys()\n",
    "\n",
    "keys"
   ]
  },
  {
   "cell_type": "markdown",
   "id": "de01c8f5-afb4-47e5-872e-44f2ba34d3dc",
   "metadata": {},
   "source": [
    "Print out the variables in the TTree/awkward array in a neater way. "
   ]
  },
  {
   "cell_type": "code",
   "execution_count": null,
   "id": "20b4b8d4-ff5d-4aff-a2fd-75e08eb23090",
   "metadata": {},
   "outputs": [],
   "source": [
    "keys = t.keys()\n",
    "\n",
    "max_len = 80\n",
    "output = \"\"\n",
    "for k in keys:\n",
    "    if len(output)<max_len:\n",
    "        output = f\"{output}{k:20s} \"\n",
    "    else:\n",
    "        print(output)\n",
    "        output = f\"{k:20s} \""
   ]
  },
  {
   "cell_type": "markdown",
   "id": "e2964915-bbb3-442d-8035-640c3e4754d4",
   "metadata": {},
   "source": [
    "# Exploring the data"
   ]
  },
  {
   "cell_type": "code",
   "execution_count": null,
   "id": "933dc090-26c0-4851-972f-0ca60e5748e4",
   "metadata": {},
   "outputs": [],
   "source": [
    "# You can access the values in an TTree array as follow\n",
    "# Note that in each case, we need the .array at the end to actually get the values. \n",
    "\n",
    "# Get the proton energy. \n",
    "x = t['penergy'].array()\n",
    "\n",
    "print(x)\n",
    "\n",
    "# Get the number of protons in each event using an awkward function\n",
    "\n",
    "n = ak.num(x)\n",
    "\n",
    "print(n)"
   ]
  },
  {
   "cell_type": "markdown",
   "id": "c6017f43-297f-4aff-bb9c-205fce16f5ed",
   "metadata": {},
   "source": [
    "# Interfacing with the files we will use for analysis\n",
    "\n",
    "These files have already been processed and only the awkward arrays have been stored. \n",
    "\n",
    "These files are [parquet files](https://www.databricks.com/glossary/what-is-parquet)."
   ]
  },
  {
   "cell_type": "code",
   "execution_count": null,
   "id": "73a3878f-dd7c-48d7-8a86-dcaf73c65ce5",
   "metadata": {},
   "outputs": [],
   "source": [
    "filename = 'Background_SP_Run1_only.parquet'\n",
    "\n",
    "start = time.time()\n",
    "\n",
    "data = ak.from_parquet(filename)\n",
    "\n",
    "print(f\"Took {time.time() - start} s\")\n",
    "\n",
    "print(type(data))"
   ]
  },
  {
   "cell_type": "markdown",
   "id": "1a39a8ff-97d7-4304-8955-0872c6c9d43d",
   "metadata": {},
   "source": [
    "We can print out the variable names in the same way, but we use the `fields` data member. "
   ]
  },
  {
   "cell_type": "code",
   "execution_count": null,
   "id": "15db9843-b2e8-42fd-9fe1-b19e38f39a6f",
   "metadata": {},
   "outputs": [],
   "source": [
    "keys = data.fields\n",
    "\n",
    "max_len = 80\n",
    "output = \"\"\n",
    "for k in keys:\n",
    "    if len(output)<max_len:\n",
    "        output = f\"{output}{k:20s} \"\n",
    "    else:\n",
    "        print(output)\n",
    "        output = f\"{k:20s} \""
   ]
  },
  {
   "cell_type": "markdown",
   "id": "b4cec15e-9ee8-4448-acea-6f47e1d335d2",
   "metadata": {},
   "source": [
    "We can access the values now without the `.values()` at the end. "
   ]
  },
  {
   "cell_type": "code",
   "execution_count": null,
   "id": "6dcf3ed4-574d-42c4-9166-21107a5735df",
   "metadata": {},
   "outputs": [],
   "source": [
    "data['penergy']"
   ]
  },
  {
   "cell_type": "code",
   "execution_count": null,
   "id": "3c6c39a7-a41c-4d2e-9b44-eda93d737306",
   "metadata": {},
   "outputs": [],
   "source": [
    "# Or like this\n",
    "\n",
    "data.penergy"
   ]
  },
  {
   "cell_type": "markdown",
   "id": "d6086a21-8763-49fa-937d-8470ecb58573",
   "metadata": {},
   "source": [
    "## Some other examples"
   ]
  },
  {
   "cell_type": "code",
   "execution_count": null,
   "id": "29c20fff-56c8-4561-bb80-f1f25cb421af",
   "metadata": {},
   "outputs": [],
   "source": [
    "x = data['penergy']\n",
    "\n",
    "# Need to flatten it before we plot, if it is multidimensional\n",
    "\n",
    "x = ak.flatten(x)\n",
    "\n",
    "plt.hist(x,bins=100);"
   ]
  },
  {
   "cell_type": "code",
   "execution_count": null,
   "id": "42f066a3-2c90-4ecb-9a29-e717bd5effa1",
   "metadata": {},
   "outputs": [],
   "source": [
    "# Plot only the first instance in each event\n",
    "\n",
    "x = data['BMass'][:,0]\n",
    "\n",
    "# This is only 1-dimensional so we don't need to flatten it. \n",
    "plt.hist(x,bins=100, range=(5,6));"
   ]
  },
  {
   "cell_type": "markdown",
   "id": "e953a594-2502-4fba-afc6-86f9c1d0ce4a",
   "metadata": {},
   "source": [
    "# Histogram"
   ]
  },
  {
   "cell_type": "code",
   "execution_count": null,
   "id": "a05ab381-f710-49da-872f-571acd87fe68",
   "metadata": {},
   "outputs": [],
   "source": [
    "# Get all the SP modes\n",
    "\n",
    "x = data['spmode']\n",
    "\n",
    "spmodes = np.unique(x.to_list())\n",
    "\n",
    "print(spmodes)"
   ]
  },
  {
   "cell_type": "code",
   "execution_count": null,
   "id": "8d74e2f2-89df-45b7-9df7-cf33a9313965",
   "metadata": {},
   "outputs": [],
   "source": [
    "# Create a histogram\n",
    "h = Hist.new.Reg(100, 5.2, 5.3, name=\"BpostFitMes\", label=r\"M$_{ES}$ [GeV/c$^2$]\") \\\n",
    "         .StrCat([], name=\"SP\", label=\"SP modes\", growth=True)\\\n",
    "         .StrCat([], name=\"cuts\", label=\"Cuts\", growth=True)\\\n",
    "         .Weight()\n",
    "\n",
    "# Fill the histogram\n",
    "for spmode in spmodes:\n",
    "    mask = data.spmode == spmode\n",
    "    x = data[mask]['BpostFitMes'][:,0]\n",
    "    h.fill(BpostFitMes=x, SP=spmode, cuts=f\"0\", weight=1)"
   ]
  },
  {
   "cell_type": "markdown",
   "id": "46f1b948-f3ca-4861-bc66-57671a93e7d9",
   "metadata": {},
   "source": [
    "Display it in different ways"
   ]
  },
  {
   "cell_type": "code",
   "execution_count": null,
   "id": "b6a8bda2-2434-4608-9a60-b9588b60ca6c",
   "metadata": {},
   "outputs": [],
   "source": [
    "h[:,\"998\",\"0\"].plot(histtype=\"fill\", linewidth=1, edgecolor=\"grey\")"
   ]
  },
  {
   "cell_type": "code",
   "execution_count": null,
   "id": "7084f973-f505-47ed-8d4b-307ad8d652d7",
   "metadata": {},
   "outputs": [],
   "source": [
    "h.stack('SP')[:].project('BpostFitMes').plot(stack=True, histtype=\"fill\")\n",
    "\n",
    "plt.legend()"
   ]
  },
  {
   "cell_type": "code",
   "execution_count": null,
   "id": "827ca4e9-348a-4519-b374-b1d1523106b3",
   "metadata": {},
   "outputs": [],
   "source": []
  }
 ],
 "metadata": {
  "kernelspec": {
   "display_name": "Python 3 (ipykernel)",
   "language": "python",
   "name": "python3"
  },
  "language_info": {
   "codemirror_mode": {
    "name": "ipython",
    "version": 3
   },
   "file_extension": ".py",
   "mimetype": "text/x-python",
   "name": "python",
   "nbconvert_exporter": "python",
   "pygments_lexer": "ipython3",
   "version": "3.11.7"
  }
 },
 "nbformat": 4,
 "nbformat_minor": 5
}
