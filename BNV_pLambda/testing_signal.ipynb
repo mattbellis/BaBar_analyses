{
 "cells": [
  {
   "cell_type": "code",
   "execution_count": null,
   "id": "42184692-0b76-46ab-997a-13dbab321219",
   "metadata": {},
   "outputs": [],
   "source": [
    "import uproot\n",
    "import awkward as ak\n",
    "\n",
    "import numpy as np\n",
    "import matplotlib.pylab as plt"
   ]
  },
  {
   "cell_type": "code",
   "execution_count": null,
   "id": "4c76dadb-2a44-45f3-9535-0ba0ef708930",
   "metadata": {},
   "outputs": [],
   "source": [
    "f = uproot.open('bnv_plambda/btaoutput_bnv_plam1.root')\n",
    "t1 = f['ntp1']\n",
    "\n",
    "f = uproot.open('bnv_plambda/btaoutput_bnv_plam2.root')\n",
    "t2 = f['ntp1']\n",
    "\n",
    "t1\n",
    "\n",
    "t2"
   ]
  },
  {
   "cell_type": "code",
   "execution_count": null,
   "id": "0b353054-9e56-4184-b46c-d5a9cb41e1a6",
   "metadata": {},
   "outputs": [],
   "source": [
    "x1 = t1['nTRK'].array()\n",
    "x2 = t2['nTRK'].array()\n",
    "\n",
    "print(x1[0:5])\n",
    "print(x2[0:5])"
   ]
  },
  {
   "cell_type": "code",
   "execution_count": null,
   "id": "03af4201-0c4f-43e5-a05e-8f3112e7f129",
   "metadata": {},
   "outputs": [],
   "source": [
    "x = t1['BpostFitMes'].array()\n",
    "\n",
    "plt.hist(ak.flatten(x), range=(5.2,5.3), bins=100)\n",
    "\n",
    ";"
   ]
  },
  {
   "cell_type": "code",
   "execution_count": null,
   "id": "587fd7d0-d36c-4184-8438-062d1b2b8b95",
   "metadata": {},
   "outputs": [],
   "source": [
    "x = t1['Lambda0FlightLen'].array()\n",
    "x"
   ]
  },
  {
   "cell_type": "code",
   "execution_count": null,
   "id": "e0979f31-2718-4b78-8667-55dfe2947ef4",
   "metadata": {},
   "outputs": [],
   "source": [
    "mask = t1['Lambda0FlightLen'].array() >= 0\n",
    "\n",
    "print(mask)\n",
    "\n",
    "x = t1['BpostFitMes'].array()\n",
    "y = t1['BpostFitDeltaE'].array()\n",
    "\n",
    "print(x[mask])\n",
    "print(y[mask])\n",
    "\n",
    "plt.plot(ak.flatten(x[mask]), ak.flatten(y[mask]), '.', markersize=1, alpha=0.01)\n",
    "\n",
    "plt.xlim(5.2,5.3)\n",
    "plt.ylim(-0.2, 0.2)\n",
    "\n",
    "print(len(x[:,0]))\n",
    "\n",
    ";"
   ]
  },
  {
   "cell_type": "code",
   "execution_count": null,
   "id": "c130ce7a-2abb-4a6b-b6c3-511e143f9eb3",
   "metadata": {},
   "outputs": [],
   "source": [
    "x = t1['nB'].array()\n",
    "\n",
    "x = x.tolist()\n",
    "\n",
    "plt.hist(x);"
   ]
  },
  {
   "cell_type": "code",
   "execution_count": null,
   "id": "f14d15e8-4e5d-49a3-9c1a-f8cbe226a8da",
   "metadata": {},
   "outputs": [],
   "source": [
    "print(x.index(1))\n",
    "print(x.index(3))\n",
    "print(x.index(4))"
   ]
  },
  {
   "cell_type": "code",
   "execution_count": null,
   "id": "70555c0e-4cc7-443e-a89d-d48400b19277",
   "metadata": {},
   "outputs": [],
   "source": [
    "n = 58\n",
    "\n",
    "val = t1['Lambda0FlightLen'].array()\n",
    "val[n]\n",
    "\n",
    "lamd1idx = t1['Lambda0d1Idx'].array()\n",
    "lamd2idx = t1['Lambda0d2Idx'].array()\n",
    "\n",
    "print(val[n])\n",
    "print(lamd1idx[n])\n",
    "print(lamd2idx[n])"
   ]
  },
  {
   "cell_type": "code",
   "execution_count": null,
   "id": "d9f0b65a-aaf0-4de8-9b98-82aaee60a98b",
   "metadata": {},
   "outputs": [],
   "source": [
    "\n",
    "mask = t1['Lambda0FlightLen'].array() >= 0\n",
    "\n",
    "val = t1['BpostFitMes'].array()\n",
    "\n",
    "print(ak.count(val))\n",
    "print(ak.count(val[mask]))\n",
    "print(ak.c\n",
    "ount(val[mask])/ak.count(val))\n",
    "\n",
    "plt.hist(ak.flatten(val[mask]),bins=100, range=(5.2,5.3))\n",
    ";"
   ]
  },
  {
   "cell_type": "code",
   "execution_count": null,
   "id": "b84d6925-afe2-4126-92e2-bb0bb415e9db",
   "metadata": {},
   "outputs": [],
   "source": [
    "\n",
    "mask = t1['Lambda0FlightLen'].array() >= 0\n",
    "\n",
    "\n",
    "val = t1['BpostFitDeltaE'].array()\n",
    "\n",
    "print(ak.count(val))\n",
    "print(ak.count(val[mask]))\n",
    "print(ak.count(val[mask])/ak.count(val))\n",
    "\n",
    "plt.hist(ak.flatten(val[mask]),bins=100, range=(-0.2,0.2))\n",
    ";"
   ]
  },
  {
   "cell_type": "code",
   "execution_count": null,
   "id": "12fac028-d091-45d5-8e16-c76d36f3a6f0",
   "metadata": {},
   "outputs": [],
   "source": []
  }
 ],
 "metadata": {
  "kernelspec": {
   "display_name": "Python 3 (ipykernel)",
   "language": "python",
   "name": "python3"
  },
  "language_info": {
   "codemirror_mode": {
    "name": "ipython",
    "version": 3
   },
   "file_extension": ".py",
   "mimetype": "text/x-python",
   "name": "python",
   "nbconvert_exporter": "python",
   "pygments_lexer": "ipython3",
   "version": "3.11.9"
  }
 },
 "nbformat": 4,
 "nbformat_minor": 5
}
