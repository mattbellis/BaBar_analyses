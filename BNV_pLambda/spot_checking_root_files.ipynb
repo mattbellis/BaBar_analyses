{
 "cells": [
  {
   "cell_type": "code",
   "execution_count": null,
   "id": "591910a0-6d5e-4e3c-b3f0-045c219c2367",
   "metadata": {},
   "outputs": [],
   "source": [
    "%load_ext autoreload\n",
    "%autoreload 2\n",
    "\n",
    "\n",
    "import uproot\n",
    "import awkward as ak\n",
    "\n",
    "import matplotlib.pylab as plt\n",
    "import numpy as np\n",
    "\n",
    "import time\n",
    "\n",
    "from hist import Hist\n",
    "\n",
    "import babar_analysis_tools as bat\n",
    "\n",
    "import pandas as pd\n",
    "\n",
    "from analysis_variables import *\n",
    "\n",
    "import os"
   ]
  },
  {
   "cell_type": "markdown",
   "id": "dedfd446-e2a4-42e6-b2fe-ecf9e2b87e71",
   "metadata": {},
   "source": [
    "First I generated it with this\n",
    "\n",
    "```\n",
    "BtaTupleApp test_tcl_run_btm/SP-998-LambdaVeryVeryLoose-Run1-R24a2-v03/bnv_analysis/run_SP-998-LambdaVeryVeryLoose-Run1-R24a2-v03-21.tcl\n",
    "\n",
    "```\n",
    "\n",
    "\n",
    "I copied it over with this\n",
    "\n",
    "```\n",
    "scp -r -P 3121 \"bellis@login.babar.uvic.ca:/awg/bellis/bnv_analysis/testrootfiles/SP-998-LambdaVeryVeryLoose-Run1-R24a2-v03/bnv_analysis/*.root\" .\n",
    "```\n"
   ]
  },
  {
   "cell_type": "code",
   "execution_count": null,
   "id": "3f562691-9ae9-40d5-b3d9-3d25abaf1d36",
   "metadata": {},
   "outputs": [],
   "source": [
    "!ls -ltr | tail"
   ]
  },
  {
   "cell_type": "code",
   "execution_count": null,
   "id": "17015763-b984-4192-ba2d-acb348ddf90c",
   "metadata": {},
   "outputs": [],
   "source": [
    "start = time.time()\n",
    "\n",
    "# At Siena\n",
    "#topdir = '/mnt/qnap/babar_data/bnv_plambda'\n",
    "# At Siena on villa-straylight\n",
    "#topdir = '/home/bellis/'\n",
    "\n",
    "# At Bellis' home\n",
    "topdir = '/home/bellis/babar_data/bnv_plambda'\n",
    "\n",
    "# On Bellis' laptop\n",
    "#topdir = './'\n",
    "\n",
    "#filename = f'{topdir}/SP-998-LambdaVeryVeryLoose-Run1-R24a2-v03-21.root'\n",
    "filename = f'{topdir}/btaoutput_bnv_plam1.root'\n",
    "\n",
    "#data = ak.from_parquet(filename)\n",
    "\n",
    "f = uproot.open(filename)\n",
    "\n",
    "print(f\"Took {time.time() - start} s\")\n",
    "\n",
    "f"
   ]
  },
  {
   "cell_type": "code",
   "execution_count": null,
   "id": "937a86de-c4f5-44a3-925c-fa9fc7c084f9",
   "metadata": {},
   "outputs": [],
   "source": [
    "t = f['ntp1']\n",
    "\n",
    "t"
   ]
  },
  {
   "cell_type": "code",
   "execution_count": null,
   "id": "8d88b1e8-ce75-4ba0-948c-3f11ffa24c5d",
   "metadata": {},
   "outputs": [],
   "source": [
    "keys = t.keys()\n",
    "\n",
    "max_len = 80\n",
    "output = \"\"\n",
    "for k in keys:\n",
    "    if len(output)<max_len:\n",
    "        output = f\"{output}{k:20s} \"\n",
    "    else:\n",
    "        print(output)\n",
    "        output = f\"{k:20s} \""
   ]
  },
  {
   "cell_type": "code",
   "execution_count": null,
   "id": "7ba1ecb7-ba05-43e6-954d-a2571ecd5a5c",
   "metadata": {},
   "outputs": [],
   "source": [
    "t['BpostFitMes'].array()"
   ]
  },
  {
   "cell_type": "code",
   "execution_count": null,
   "id": "167393d3-7c3c-417d-b9f6-78dc476f8ea9",
   "metadata": {},
   "outputs": [],
   "source": [
    "t['Lambda0_unc_Mass'].array()"
   ]
  },
  {
   "cell_type": "code",
   "execution_count": null,
   "id": "198832b3-194d-44af-b2a7-e1d7dd679115",
   "metadata": {},
   "outputs": [],
   "source": [
    "n = 1\n",
    "\n",
    "print(\"Bd Idx\")\n",
    "print(t['Bd1Idx'].array()[n])\n",
    "print(t['Bd2Idx'].array()[n])\n",
    "print()\n",
    "print(\"Bd Lund\")\n",
    "print(t['Bd1Lund'].array()[n])\n",
    "print(t['Bd2Lund'].array()[n])\n",
    "\n",
    "print()\n",
    "print(\"pTrkIdx and pp3\")\n",
    "print(t['pTrkIdx'].array()[n])\n",
    "print(t['pp3'].array()[n])\n",
    "\n",
    "print()\n",
    "print('TRKp3')\n",
    "print(t['TRKp3'].array()[n])\n",
    "\n",
    "\n",
    "print()\n",
    "print(\"Lambda flights\")\n",
    "print(t['Lambda0postFitFlight'].array()[n])\n",
    "print(t['Lambda0FlightLen'].array()[n])\n",
    "\n",
    "print()\n",
    "print(\"Bflights\")\n",
    "#print(t['Lambda0postFitFlight'].array()[n])\n",
    "print(t['B_con_postFitFlight'].array()[n])"
   ]
  },
  {
   "cell_type": "code",
   "execution_count": null,
   "id": "be07ee66-f753-408c-9f45-f72302e7ddeb",
   "metadata": {},
   "outputs": [],
   "source": [
    "t['nB'].array()"
   ]
  },
  {
   "cell_type": "code",
   "execution_count": null,
   "id": "45f8e885-0179-4330-9fbe-86352bc8c810",
   "metadata": {},
   "outputs": [],
   "source": [
    "plt.figure(figsize=(12,5))\n",
    "\n",
    "plt.subplot(1,2,1)\n",
    "x = t['nB'].array()\n",
    "plt.hist(x,range=(0,10),bins=10)\n",
    "plt.yscale('log')\n",
    "\n",
    "plt.subplot(1,2,2)\n",
    "x = t['nLambda0'].array()\n",
    "plt.hist(x,range=(0,10),bins=10)\n",
    "plt.yscale('log')\n",
    "\n",
    "\n",
    "\n",
    "plt.figure(figsize=(12,5))\n",
    "\n",
    "plt.subplot(1,2,1)\n",
    "x = t['npi0'].array()\n",
    "plt.hist(x,range=(0,40),bins=40)\n",
    "plt.yscale('log')\n",
    "\n",
    "plt.subplot(1,2,2)\n",
    "x = t['ngamma'].array()\n",
    "plt.hist(x,range=(0,40),bins=40)\n",
    "plt.yscale('log')\n",
    "\n",
    "\n",
    ";\n",
    "\n",
    ";"
   ]
  },
  {
   "cell_type": "code",
   "execution_count": null,
   "id": "135f865d-873b-4253-a1ea-838f25abbdac",
   "metadata": {},
   "outputs": [],
   "source": [
    "x = t['nB'].array()\n",
    "\n",
    "print(len(x))\n",
    "print(len(x[x==1]))\n",
    "print(len(x[x==2]))\n",
    "print(len(x[x==3]))"
   ]
  },
  {
   "cell_type": "code",
   "execution_count": null,
   "id": "63daf621-c89e-41b2-8c6b-f48dcd907175",
   "metadata": {},
   "outputs": [],
   "source": [
    "print(t['pi0d1Idx'].array())\n",
    "print(t['pi0d2Idx'].array())\n"
   ]
  },
  {
   "cell_type": "code",
   "execution_count": null,
   "id": "6c7d0d48-e0be-4dd6-af93-7ea9b479a5a1",
   "metadata": {},
   "outputs": [],
   "source": [
    "print(t['pi0Mass'].array())\n",
    "print(t['gammap3'].array())"
   ]
  },
  {
   "cell_type": "code",
   "execution_count": null,
   "id": "5dff332c-aa1a-4c38-b992-3069495e47e3",
   "metadata": {},
   "outputs": [],
   "source": []
  }
 ],
 "metadata": {
  "kernelspec": {
   "display_name": "Python 3 (ipykernel)",
   "language": "python",
   "name": "python3"
  },
  "language_info": {
   "codemirror_mode": {
    "name": "ipython",
    "version": 3
   },
   "file_extension": ".py",
   "mimetype": "text/x-python",
   "name": "python",
   "nbconvert_exporter": "python",
   "pygments_lexer": "ipython3",
   "version": "3.11.7"
  }
 },
 "nbformat": 4,
 "nbformat_minor": 5
}
