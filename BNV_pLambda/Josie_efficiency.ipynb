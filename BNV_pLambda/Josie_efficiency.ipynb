{
 "cells": [
  {
   "cell_type": "code",
   "execution_count": null,
   "id": "5eb042f2-c293-4d24-8ddc-4f8c6f28d7bb",
   "metadata": {},
   "outputs": [],
   "source": [
    "import pandas as pd\n",
    "\n",
    "import matplotlib.pylab as plt\n",
    "import numpy as np"
   ]
  },
  {
   "cell_type": "code",
   "execution_count": null,
   "id": "60113ec5-2abd-43f7-9c29-5216b5e895f2",
   "metadata": {},
   "outputs": [],
   "source": [
    "#topdir= \"/Users/josieswann/BaBar_analyses/BNV_pLambda/\"\n",
    "topdir= \"./\"\n",
    "\n",
    "filename = 'DATAFRAME_SP_MODEL_MLPClassifier_CUTS_1_2_3_nsig_20000_nbkg_20000_BNC.pkl'\n",
    "\n",
    "df_sp = pd.read_parquet(f\"{topdir}{filename}\")"
   ]
  },
  {
   "cell_type": "code",
   "execution_count": null,
   "id": "40e30b79-1bd7-4bd8-9d90-ebc6f190bed5",
   "metadata": {},
   "outputs": [],
   "source": [
    "df_sp"
   ]
  },
  {
   "cell_type": "code",
   "execution_count": null,
   "id": "6fc069e6-57eb-4088-bed9-0bb3b4f06e68",
   "metadata": {},
   "outputs": [],
   "source": [
    "df_sp.info()"
   ]
  },
  {
   "cell_type": "code",
   "execution_count": null,
   "id": "7c5c6229-2419-4004-a25e-b35e310c60fa",
   "metadata": {},
   "outputs": [],
   "source": [
    "n_org= 100000\n",
    "mask = df_sp[\"spmode\"]== \"-999\"\n",
    "num= len(df_sp[mask])\n",
    "num"
   ]
  },
  {
   "cell_type": "code",
   "execution_count": null,
   "id": "d0345b4b-a310-4235-90f8-f414049eaa14",
   "metadata": {},
   "outputs": [],
   "source": [
    "df_sp[mask]"
   ]
  },
  {
   "cell_type": "code",
   "execution_count": null,
   "id": "56b0dbfb-82f1-4ddd-b739-7db5d52f0910",
   "metadata": {},
   "outputs": [],
   "source": [
    "len(df_sp)"
   ]
  },
  {
   "cell_type": "code",
   "execution_count": null,
   "id": "6c0524a1-0dc4-4660-9538-37cc42fae15d",
   "metadata": {},
   "outputs": [],
   "source": [
    "df_sp['spmode'].value_counts()"
   ]
  },
  {
   "cell_type": "code",
   "execution_count": null,
   "id": "eb9ba732-bf8f-44b9-861b-c78a389a7997",
   "metadata": {},
   "outputs": [],
   "source": [
    "def sig_efficiency(df,thresh,BNC= False, orig_num=None):\n",
    "    \n",
    "    \n",
    "    mask = df[\"spmode\"]== \"-999\"\n",
    "    \n",
    "    df_sig= df[mask]\n",
    "\n",
    "    if orig_num is None:\n",
    "        print(\"Please pass in the original number of events!\")\n",
    "        return None\n",
    "    \n",
    "    num_reco= len(df_sig)\n",
    "\n",
    "    eff_reco = num_reco / orig_num\n",
    "    \n",
    "    cm1= df_sig[\"cut_-1\"]== True\n",
    "    cm2= df_sig[\"cut_2\"]== True\n",
    "    cm3= df_sig[\"cut_3\"]== True\n",
    "    cm4= df_sig[\"cut_4\"]== True\n",
    "    cm6= df_sig[\"cut_6\"]== True\n",
    "\n",
    "    not_used_in_training = df_sig['used_in_sig_train']\n",
    "\n",
    "    num_reco_not_training = len(df_sig[not_used_in_training])\n",
    "    \n",
    "    thresh_mask= df_sig[\"proba\"]>= thresh\n",
    "\n",
    "    mask = thresh_mask & not_used_in_training\n",
    "    if BNC:\n",
    "        mask = mask & cm2 & cm3 & cm4# & cm6\n",
    "    else:\n",
    "        mask = mask & cm1\n",
    "\n",
    "    n_reco_not_training_pass_selection_criteria= len(df_sig[mask])\n",
    "    \n",
    "    eff_sc= n_reco_not_training_pass_selection_criteria/num_reco_not_training\n",
    "    \n",
    "    return eff_reco, eff_sc, eff_reco*eff_sc"
   ]
  },
  {
   "cell_type": "code",
   "execution_count": null,
   "id": "e4abd28f-6c1f-4c7c-85b6-820aeba2a8d7",
   "metadata": {},
   "outputs": [],
   "source": [
    "er, esc, etot = sig_efficiency(df_sp, 0.97, BNC= True, orig_num=100000)\n",
    "\n",
    "print(f\"eff (reco): {100*er:.2f}%\")\n",
    "print(f\"eff (sc):   {100*esc:.2f}%\")\n",
    "print(f\"eff (tot):  {100*etot:.2f}%\")\n",
    "\n"
   ]
  },
  {
   "cell_type": "code",
   "execution_count": null,
   "id": "6e9494af-65b2-4239-b2e8-9d50fbbcb839",
   "metadata": {},
   "outputs": [],
   "source": [
    "xpts = []\n",
    "ypts = []\n",
    "for i in np.linspace(0,1,100):\n",
    "    er, esc, etot = sig_efficiency(df_sp, i, BNC= True, orig_num=100000)\n",
    "    xpts.append(i)\n",
    "    ypts.append(etot)\n",
    "    \n",
    "\n"
   ]
  },
  {
   "cell_type": "code",
   "execution_count": null,
   "id": "17bd573d-8f76-4aaf-a989-18683239c136",
   "metadata": {},
   "outputs": [],
   "source": [
    "plt.figure()\n",
    "plt.plot(xpts, ypts)"
   ]
  },
  {
   "cell_type": "markdown",
   "id": "cb6082c0-b892-4114-bd42-dca1f175a080",
   "metadata": {},
   "source": [
    "# Playing around with uncertainies"
   ]
  },
  {
   "cell_type": "code",
   "execution_count": null,
   "id": "93ccba39-fa29-495d-8400-b025d42754be",
   "metadata": {},
   "outputs": [],
   "source": [
    "k = 90\n",
    "N = 900\n",
    "\n",
    "eff = k/N\n",
    "\n",
    "eff_unc = (1/N)*np.sqrt(k*(1-k/N))\n",
    "\n",
    "print(f\"{100*eff:.4f} +/- {100*eff_unc:.4f}   ({eff_unc/eff:.4f} frac uncert)\")"
   ]
  },
  {
   "cell_type": "code",
   "execution_count": null,
   "id": "9afade18-163f-4519-9940-a17e16cb27af",
   "metadata": {},
   "outputs": [],
   "source": []
  },
  {
   "cell_type": "markdown",
   "id": "7058a07b-ca31-4dad-8f88-9716be0dcb85",
   "metadata": {},
   "source": [
    "# Calculate the branching fraction\n",
    "\n",
    "Given the number of observed events, and the threshold cut, calculate the branching fraction."
   ]
  },
  {
   "cell_type": "code",
   "execution_count": null,
   "id": "27920a05-04aa-4e36-b61b-d3e708eafa66",
   "metadata": {},
   "outputs": [],
   "source": [
    "nB= 460e6\n",
    "\n",
    "n_obs= 3.5\n",
    "\n",
    "eff = 0.07\n",
    "\n",
    "Br_lam_p_pi = 0.641 # 64.1% +/- 0.5\n",
    "\n",
    "Br_B_p_lam= n_obs / (nB * eff * Br_lam_p_pi) \n",
    "\n",
    "print(f\"Br_B_p_lam: {Br_B_p_lam:.3e}\")"
   ]
  },
  {
   "cell_type": "code",
   "execution_count": null,
   "id": "b13b6b17-79e3-403b-a668-aaf720d7b62d",
   "metadata": {},
   "outputs": [],
   "source": [
    "#n_obs= nB * Br_B_p_lam * eff * Br_lam_p_pi\n",
    "\n",
    "\n",
    "# We want this\n",
    "#Br_B_p_lam= n_obs / (nB * eff * Br_lam_p_pi) "
   ]
  },
  {
   "cell_type": "code",
   "execution_count": null,
   "id": "f35040fa-f0eb-4889-8117-71376170fe2f",
   "metadata": {},
   "outputs": [],
   "source": []
  },
  {
   "cell_type": "code",
   "execution_count": null,
   "id": "06ce005f-82ed-46d5-be8f-41d6e8b3cdf3",
   "metadata": {},
   "outputs": [],
   "source": []
  },
  {
   "cell_type": "code",
   "execution_count": null,
   "id": "57339ed7-34bc-45b4-a143-120885831adb",
   "metadata": {},
   "outputs": [],
   "source": []
  }
 ],
 "metadata": {
  "kernelspec": {
   "display_name": "Python 3 (ipykernel)",
   "language": "python",
   "name": "python3"
  },
  "language_info": {
   "codemirror_mode": {
    "name": "ipython",
    "version": 3
   },
   "file_extension": ".py",
   "mimetype": "text/x-python",
   "name": "python",
   "nbconvert_exporter": "python",
   "pygments_lexer": "ipython3",
   "version": "3.11.7"
  }
 },
 "nbformat": 4,
 "nbformat_minor": 5
}
