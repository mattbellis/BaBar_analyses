{
 "cells": [
  {
   "cell_type": "code",
   "execution_count": null,
   "id": "5eb042f2-c293-4d24-8ddc-4f8c6f28d7bb",
   "metadata": {},
   "outputs": [],
   "source": [
    "import pandas as pd\n",
    "\n",
    "import matplotlib.pylab as plt\n",
    "import numpy as np"
   ]
  },
  {
   "cell_type": "code",
   "execution_count": null,
   "id": "60113ec5-2abd-43f7-9c29-5216b5e895f2",
   "metadata": {},
   "outputs": [],
   "source": [
    "topdir= \"/Users/josieswann/BaBar_analyses/BNV_pLambda/\"\n",
    "filename = 'DATAFRAME_SP_MODEL_MLPClassifier_CUTS_1_2_3_nsig_20000_nbkg_20000_BNC.pkl'\n",
    "\n",
    "df_sp = pd.read_parquet(f\"{topdir}{filename}\")"
   ]
  },
  {
   "cell_type": "code",
   "execution_count": null,
   "id": "40e30b79-1bd7-4bd8-9d90-ebc6f190bed5",
   "metadata": {},
   "outputs": [],
   "source": [
    "df_sp"
   ]
  },
  {
   "cell_type": "code",
   "execution_count": null,
   "id": "6fc069e6-57eb-4088-bed9-0bb3b4f06e68",
   "metadata": {},
   "outputs": [],
   "source": [
    "df_sp.info()"
   ]
  },
  {
   "cell_type": "code",
   "execution_count": null,
   "id": "7c5c6229-2419-4004-a25e-b35e310c60fa",
   "metadata": {},
   "outputs": [],
   "source": [
    "n_org= 100000\n",
    "mask = df_sp[\"spmode\"]== \"-999\"\n",
    "num= len(df_sp[mask])\n",
    "num"
   ]
  },
  {
   "cell_type": "code",
   "execution_count": null,
   "id": "d0345b4b-a310-4235-90f8-f414049eaa14",
   "metadata": {},
   "outputs": [],
   "source": [
    "df_sp[mask]"
   ]
  },
  {
   "cell_type": "code",
   "execution_count": null,
   "id": "56b0dbfb-82f1-4ddd-b739-7db5d52f0910",
   "metadata": {},
   "outputs": [],
   "source": [
    "len(df_sp)"
   ]
  },
  {
   "cell_type": "code",
   "execution_count": null,
   "id": "6c0524a1-0dc4-4660-9538-37cc42fae15d",
   "metadata": {},
   "outputs": [],
   "source": []
  },
  {
   "cell_type": "code",
   "execution_count": null,
   "id": "eb9ba732-bf8f-44b9-861b-c78a389a7997",
   "metadata": {},
   "outputs": [],
   "source": [
    "def sig_efficiency(df,thresh,BNC= False):\n",
    "    orig_num= len(df)\n",
    "    \n",
    "    mask = df[\"spmode\"]== \"-999\"\n",
    "    df_sig= df[mask]\n",
    "    \n",
    "    cm1= df_sig[\"cut_-1\"]== True\n",
    "    cm2= df_sig[\"cut_2\"]== True\n",
    "    cm3= df_sig[\"cut_3\"]== True\n",
    "    cm4= df_sig[\"cut_4\"]== True\n",
    "    cm6= df_sig[\"cut_6\"]== True\n",
    "\n",
    "    thresh_mask= df_sig[\"proba\"]>= thresh\n",
    "    \n",
    "    BNC_mask= cm2 & cm3 & cm4 & cm6 & thresh_mask\n",
    "    BNV_mask= cm1 & thresh_mask\n",
    "\n",
    "    if BNC== True:\n",
    "        efficiency= len(df_sig[BNC_mask])/len(df)\n",
    "    elif BNC== False: \n",
    "        efficiency= len(df_sig[BNV_mask])/len(df)\n",
    "\n",
    "    return efficiency"
   ]
  },
  {
   "cell_type": "code",
   "execution_count": null,
   "id": "e4abd28f-6c1f-4c7c-85b6-820aeba2a8d7",
   "metadata": {},
   "outputs": [],
   "source": [
    "sig_efficiency(df_sp,0.9, BNC= True)"
   ]
  },
  {
   "cell_type": "code",
   "execution_count": null,
   "id": "6e9494af-65b2-4239-b2e8-9d50fbbcb839",
   "metadata": {},
   "outputs": [],
   "source": []
  },
  {
   "cell_type": "code",
   "execution_count": null,
   "id": "17bd573d-8f76-4aaf-a989-18683239c136",
   "metadata": {},
   "outputs": [],
   "source": []
  }
 ],
 "metadata": {
  "kernelspec": {
   "display_name": "Python 3 (ipykernel)",
   "language": "python",
   "name": "python3"
  },
  "language_info": {
   "codemirror_mode": {
    "name": "ipython",
    "version": 3
   },
   "file_extension": ".py",
   "mimetype": "text/x-python",
   "name": "python",
   "nbconvert_exporter": "python",
   "pygments_lexer": "ipython3",
   "version": "3.11.10"
  }
 },
 "nbformat": 4,
 "nbformat_minor": 5
}
