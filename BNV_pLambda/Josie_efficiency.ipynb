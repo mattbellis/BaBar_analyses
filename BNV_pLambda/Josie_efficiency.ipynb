{
 "cells": [
  {
   "cell_type": "code",
   "execution_count": null,
   "id": "5eb042f2-c293-4d24-8ddc-4f8c6f28d7bb",
   "metadata": {},
   "outputs": [],
   "source": [
    "import pandas as pd\n",
    "\n",
    "import matplotlib.pylab as plt\n",
    "import numpy as np"
   ]
  },
  {
   "cell_type": "code",
   "execution_count": null,
   "id": "60113ec5-2abd-43f7-9c29-5216b5e895f2",
   "metadata": {},
   "outputs": [],
   "source": [
    "#topdir= \"/Users/josieswann/BaBar_analyses/BNV_pLambda/\"\n",
    "topdir= \"./\"\n",
    "\n",
    "filename = 'DATAFRAME_SP_MODEL_MLPClassifier_CUTS_1_2_3_nsig_20000_nbkg_20000_BNC.pkl'\n",
    "\n",
    "df_sp = pd.read_parquet(f\"{topdir}{filename}\")"
   ]
  },
  {
   "cell_type": "code",
   "execution_count": null,
   "id": "40e30b79-1bd7-4bd8-9d90-ebc6f190bed5",
   "metadata": {},
   "outputs": [],
   "source": [
    "df_sp"
   ]
  },
  {
   "cell_type": "code",
   "execution_count": null,
   "id": "6fc069e6-57eb-4088-bed9-0bb3b4f06e68",
   "metadata": {},
   "outputs": [],
   "source": [
    "df_sp.info()"
   ]
  },
  {
   "cell_type": "code",
   "execution_count": null,
   "id": "7c5c6229-2419-4004-a25e-b35e310c60fa",
   "metadata": {},
   "outputs": [],
   "source": [
    "n_org= 100000\n",
    "mask = df_sp[\"spmode\"]== \"-999\"\n",
    "num= len(df_sp[mask])\n",
    "num"
   ]
  },
  {
   "cell_type": "code",
   "execution_count": null,
   "id": "d0345b4b-a310-4235-90f8-f414049eaa14",
   "metadata": {},
   "outputs": [],
   "source": [
    "df_sp[mask]"
   ]
  },
  {
   "cell_type": "code",
   "execution_count": null,
   "id": "56b0dbfb-82f1-4ddd-b739-7db5d52f0910",
   "metadata": {},
   "outputs": [],
   "source": [
    "len(df_sp)"
   ]
  },
  {
   "cell_type": "code",
   "execution_count": null,
   "id": "6c0524a1-0dc4-4660-9538-37cc42fae15d",
   "metadata": {},
   "outputs": [],
   "source": [
    "df_sp['spmode'].value_counts()"
   ]
  },
  {
   "cell_type": "code",
   "execution_count": null,
   "id": "eb9ba732-bf8f-44b9-861b-c78a389a7997",
   "metadata": {},
   "outputs": [],
   "source": [
    "def sig_efficiency(df,thresh,BNC= False, orig_num=None, disp= True):\n",
    "    \n",
    "    \n",
    "    mask = df[\"spmode\"]== \"-999\"\n",
    "    \n",
    "    df_sig= df[mask]\n",
    "\n",
    "    if orig_num is None:\n",
    "        print(\"Please pass in the original number of events!\")\n",
    "        return None\n",
    "    \n",
    "    num_reco= len(df_sig)\n",
    "\n",
    "    eff_reco= num_reco / orig_num\n",
    "    unc_reco= 1/(orig_num)*np.sqrt(num_reco*(1-eff_reco))\n",
    "    \n",
    "    cm1= df_sig[\"cut_-1\"]== True\n",
    "    cm2= df_sig[\"cut_2\"]== True\n",
    "    cm3= df_sig[\"cut_3\"]== True\n",
    "    cm4= df_sig[\"cut_4\"]== True\n",
    "    cm6= df_sig[\"cut_6\"]== True\n",
    "\n",
    "    not_used_in_training = df_sig['used_in_sig_train']\n",
    "\n",
    "    num_reco_not_training = len(df_sig[not_used_in_training])\n",
    "    \n",
    "    thresh_mask= df_sig[\"proba\"]>= thresh\n",
    "\n",
    "    mask = thresh_mask & not_used_in_training\n",
    "    if BNC:\n",
    "        mask = mask & cm2 & cm3 & cm4\n",
    "    else:\n",
    "        mask = mask & cm1\n",
    "\n",
    "    n_reco_not_training_pass_selection_criteria= len(df_sig[mask])\n",
    "    \n",
    "    eff_sc= n_reco_not_training_pass_selection_criteria/num_reco_not_training\n",
    "    unc_sc= 1/(num_reco_not_training)*np.sqrt(n_reco_not_training_pass_selection_criteria*(1-eff_sc))\n",
    "    \n",
    "    unc_tot= np.sqrt(unc_sc**2+unc_reco**2)\n",
    "\n",
    "    if disp: \n",
    "        print(f\"eff (reco):   {100*eff_reco:.2f}%\")\n",
    "        print(f\"eff (sc):     {100*eff_sc:.2f}%\")\n",
    "        print(f\"eff (tot):    {100*eff_reco*eff_sc:.2f}%\")\n",
    "        print(f\"unc (tot):    {100*unc_tot:.2f}%\")\n",
    "        print(f\"% unc reco:   {100*unc_reco/eff_reco:.2f}%\")        \n",
    "        print(f\"% unc sc:     {100*unc_sc/eff_sc:.2f}%\")\n",
    "\n",
    "        \n",
    "    \n",
    "    return eff_reco, eff_sc, eff_reco*eff_sc, unc_tot"
   ]
  },
  {
   "cell_type": "code",
   "execution_count": null,
   "id": "e4abd28f-6c1f-4c7c-85b6-820aeba2a8d7",
   "metadata": {},
   "outputs": [],
   "source": [
    "er, esc, etot, unc = sig_efficiency(df_sp, 0.97, BNC= True, orig_num=100000)\n",
    "\n",
    "\n"
   ]
  },
  {
   "cell_type": "code",
   "execution_count": null,
   "id": "6e9494af-65b2-4239-b2e8-9d50fbbcb839",
   "metadata": {},
   "outputs": [],
   "source": [
    "xpts = []\n",
    "ypts = []\n",
    "for i in np.linspace(0,1,100):\n",
    "    er, esc, etot, unc = sig_efficiency(df_sp, i, BNC= True, orig_num=100000, disp= False)\n",
    "    xpts.append(i)\n",
    "    ypts.append(etot)\n",
    "    \n",
    "\n"
   ]
  },
  {
   "cell_type": "code",
   "execution_count": null,
   "id": "17bd573d-8f76-4aaf-a989-18683239c136",
   "metadata": {},
   "outputs": [],
   "source": [
    "plt.figure()\n",
    "plt.plot(xpts, ypts)\n",
    "plt.xlabel(\"Threshold\")\n",
    "plt.ylabel(\"Efficiency\")"
   ]
  },
  {
   "cell_type": "markdown",
   "id": "cb6082c0-b892-4114-bd42-dca1f175a080",
   "metadata": {},
   "source": [
    "# Playing around with uncertainies"
   ]
  },
  {
   "cell_type": "code",
   "execution_count": null,
   "id": "93ccba39-fa29-495d-8400-b025d42754be",
   "metadata": {},
   "outputs": [],
   "source": [
    "k = 90\n",
    "N = 900\n",
    "\n",
    "eff = k/N\n",
    "\n",
    "eff_unc = (1/N)*np.sqrt(k*(1-k/N))\n",
    "\n",
    "print(f\"{100*eff:.4f} +/- {100*eff_unc:.4f}   ({eff_unc/eff:.4f} frac uncert)\")"
   ]
  },
  {
   "cell_type": "code",
   "execution_count": null,
   "id": "9afade18-163f-4519-9940-a17e16cb27af",
   "metadata": {},
   "outputs": [],
   "source": []
  },
  {
   "cell_type": "markdown",
   "id": "7058a07b-ca31-4dad-8f88-9716be0dcb85",
   "metadata": {},
   "source": [
    "# Calculate the branching fraction\n",
    "\n",
    "Given the number of observed events, and the threshold cut, calculate the branching fraction."
   ]
  },
  {
   "cell_type": "code",
   "execution_count": null,
   "id": "08fc7405-349e-454c-9492-5a77243f0d6a",
   "metadata": {},
   "outputs": [],
   "source": [
    "def quad(x):\n",
    "    sum= 0 \n",
    "    for i in x:\n",
    "        sum+= i**2\n",
    "    return np.sqrt(sum)\n"
   ]
  },
  {
   "cell_type": "code",
   "execution_count": null,
   "id": "27920a05-04aa-4e36-b61b-d3e708eafa66",
   "metadata": {},
   "outputs": [],
   "source": [
    "nB= 460e6 # 0.6%\n",
    "nB_frac_unc= 0.006\n",
    "\n",
    "n_obs= 3.5\n",
    "n_obs_unc= 1.5\n",
    "n_obs_frac_unc= n_obs_unc/n_obs\n",
    "\n",
    "er, esc, etot, unc = sig_efficiency(df_sp, 0.97, BNC= True, orig_num=100000, disp= False)\n",
    "eff_frac_unc= unc/etot\n",
    "\n",
    "Br_lam_p_pi= 0.641\n",
    "# This is the uncertainty\n",
    "Br_lam_p_pi_unc= 0.005\n",
    "# This would then be the fractional uncertainty\n",
    "Br_lam_p_pi_frac_unc= Br_lam_p_pi_unc / Br_lam_p_pi\n",
    "\n",
    "\n",
    "Br_B_p_lam= n_obs / (nB * eff * Br_lam_p_pi) \n",
    "\n",
    "# When we add the other uncertainties in quadrature we get\n",
    "# back is the *fractional uncertainty* on the branching fraction\n",
    "blam_frac_unc= quad([nB_frac_unc, n_obs_frac_unc, eff_frac_unc, Br_lam_p_pi_frac_unc])\n",
    "\n",
    "blam_unc = Br_B_p_lam * blam_frac_unc\n",
    "\n",
    "print(f\"Br_B_p_lam:  {Br_B_p_lam:.3e}\")\n",
    "print(f\"Br_frac_unc: {blam_frac_unc:.3e}\")\n",
    "print(f\"Br_unc:      {blam_unc:.3e}\")\n",
    "print()\n",
    "\n",
    "print(f\"Br: {Br_B_p_lam:.1e} +/- {blam_unc:.1e}\")\n",
    "\n",
    "print(f\"Br: ({1e7*Br_B_p_lam:.1f} +/- {1e7*blam_unc:.1f}) x 10^(-7)\")\n",
    "\n",
    "\n",
    "#print(frac)"
   ]
  },
  {
   "cell_type": "code",
   "execution_count": null,
   "id": "3841c1eb-f555-481d-b7fe-a877ded1e566",
   "metadata": {},
   "outputs": [],
   "source": []
  },
  {
   "cell_type": "code",
   "execution_count": null,
   "id": "b13b6b17-79e3-403b-a668-aaf720d7b62d",
   "metadata": {},
   "outputs": [],
   "source": [
    "#n_obs= nB * Br_B_p_lam * eff * Br_lam_p_pi\n",
    "\n",
    "\n",
    "# We want this\n",
    "#Br_B_p_lam= n_obs / (nB * eff * Br_lam_p_pi) "
   ]
  },
  {
   "cell_type": "code",
   "execution_count": null,
   "id": "f35040fa-f0eb-4889-8117-71376170fe2f",
   "metadata": {},
   "outputs": [],
   "source": [
    "### Total Uncertainty \n",
    "\n",
    "B_unc= .006\n",
    "Br_lam_ppi_unc= .005\n",
    "Br_B_plam_unc= \n",
    "obs_unc= #######\n",
    "eff_unc= unc_tot\n",
    "\n",
    "total_uncertainty= quad([])"
   ]
  },
  {
   "cell_type": "code",
   "execution_count": null,
   "id": "06ce005f-82ed-46d5-be8f-41d6e8b3cdf3",
   "metadata": {},
   "outputs": [],
   "source": [
    "1/2.4"
   ]
  },
  {
   "cell_type": "code",
   "execution_count": null,
   "id": "57339ed7-34bc-45b4-a143-120885831adb",
   "metadata": {},
   "outputs": [],
   "source": []
  },
  {
   "cell_type": "code",
   "execution_count": null,
   "id": "f49127d7-f5e9-4c63-8793-07506c26b5d3",
   "metadata": {},
   "outputs": [],
   "source": []
  },
  {
   "cell_type": "code",
   "execution_count": null,
   "id": "c6a4bc17-2b7f-4ece-a54a-912922d71ea9",
   "metadata": {},
   "outputs": [],
   "source": []
  },
  {
   "cell_type": "code",
   "execution_count": null,
   "id": "ad6a7794-f472-4cbc-b442-a552e16336b6",
   "metadata": {},
   "outputs": [],
   "source": []
  }
 ],
 "metadata": {
  "kernelspec": {
   "display_name": "Python 3 (ipykernel)",
   "language": "python",
   "name": "python3"
  },
  "language_info": {
   "codemirror_mode": {
    "name": "ipython",
    "version": 3
   },
   "file_extension": ".py",
   "mimetype": "text/x-python",
   "name": "python",
   "nbconvert_exporter": "python",
   "pygments_lexer": "ipython3",
   "version": "3.11.10"
  }
 },
 "nbformat": 4,
 "nbformat_minor": 5
}
