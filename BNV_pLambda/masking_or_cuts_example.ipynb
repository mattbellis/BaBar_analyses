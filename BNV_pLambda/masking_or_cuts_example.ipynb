{
 "cells": [
  {
   "cell_type": "code",
   "execution_count": null,
   "id": "daf47e08-937b-4cfb-9eb8-a4f6d4c74abb",
   "metadata": {},
   "outputs": [],
   "source": [
    "import uproot\n",
    "import awkward as ak\n",
    "\n",
    "import matplotlib.pylab as plt\n",
    "import numpy as np\n",
    "\n",
    "import time\n",
    "\n",
    "from hist import Hist\n"
   ]
  },
  {
   "cell_type": "code",
   "execution_count": null,
   "id": "8a1c80f0-99ba-40d9-8473-f28b6d32026d",
   "metadata": {},
   "outputs": [],
   "source": [
    "start = time.time()\n",
    "\n",
    "\n",
    "# At Siena\n",
    "topdir = '/mnt/qnap/babar_data/bnv_plambda'\n",
    "\n",
    "# At Bellis' home\n",
    "#topdir = 'bnv_plambda'\n",
    "\n",
    "#filename = f'{topdir}/Background_SP_modes_Only_Run_1.parquet'\n",
    "filename = f'{topdir}/Background_and_signal_SP_modes_Only_Run_1.parquet'\n",
    "\n",
    "data = ak.from_parquet(filename)\n",
    "\n",
    "print(f\"Took {time.time() - start} s\")\n"
   ]
  },
  {
   "cell_type": "markdown",
   "id": "b8da5462-d77a-4143-8dec-5b2620235b85",
   "metadata": {},
   "source": [
    "Let's call these variables cuts, rather than masks, since that's what we use them for in the analysis. \n",
    "\n",
    "\n",
    "First we're going to get a few variables and then we'll cut on *one* of them, but apply that cut to all of them. "
   ]
  },
  {
   "cell_type": "code",
   "execution_count": null,
   "id": "50634b25-0095-4b30-bcd0-933ad91209b4",
   "metadata": {},
   "outputs": [],
   "source": [
    "x0 = data['BpostFitMes']\n",
    "x1 = data['BpostFitDeltaE']\n",
    "x2 = data['Lambda0FlightLen']\n",
    "x3 = data['Lambda0_unc_Mass']\n"
   ]
  },
  {
   "cell_type": "code",
   "execution_count": null,
   "id": "17f5ad23-12ab-43a9-8d45-525a61e855c7",
   "metadata": {},
   "outputs": [],
   "source": [
    "# We're going to ignore signal\n",
    "cut0 = data['spmode'] != '-999'\n",
    "\n",
    "x0 = data[cut0]['BpostFitMes']\n",
    "x1 = data[cut0]['BpostFitDeltaE']\n",
    "x2 = data[cut0]['Lambda0FlightLen']\n",
    "x3 = data[cut0]['Lambda0_unc_Mass']\n",
    "\n",
    "# Then we can cut on one of those variables\n",
    "cut1 = x2 > 1.0\n",
    "\n",
    "# Now plot all the variables before and after the cut\n",
    "\n",
    "plt.figure(figsize=(8,8))\n",
    "plt.subplot(2,2,1)\n",
    "plt.hist(ak.flatten(x0), bins=100, range=(5.2,5.3))\n",
    "plt.hist(ak.flatten(x0[cut1]), bins=100, range=(5.2,5.3))\n",
    "\n",
    "plt.subplot(2,2,2)\n",
    "plt.hist(ak.flatten(x1), bins=100, range=(-0.5,0.5))\n",
    "plt.hist(ak.flatten(x1[cut1]), bins=100, range=(-0.5,0.5))\n",
    "\n",
    "plt.subplot(2,2,3)\n",
    "plt.hist(ak.flatten(x2), bins=100, range=(0,12))\n",
    "plt.hist(ak.flatten(x2[cut1]), bins=100, range=(0,12))\n",
    "\n",
    "plt.subplot(2,2,4)\n",
    "plt.hist(ak.flatten(x3), bins=100, range=(1.105,1.123))\n",
    "plt.hist(ak.flatten(x3[cut1]), bins=100, range=(1.105,1.123))\n",
    "\n",
    ";"
   ]
  },
  {
   "cell_type": "code",
   "execution_count": null,
   "id": "c9502ff0-e39a-46fe-951a-bed11730346d",
   "metadata": {},
   "outputs": [],
   "source": [
    "# We can add to and other cut using the & instead of `and`\n",
    "# Also use parentheses\n",
    "cut2 = cut1 & (x3 > 1.1125) & (x3 < 1.119)\n",
    "\n",
    "# Now plot all the variables before and after the cut\n",
    "\n",
    "plt.figure(figsize=(8,8))\n",
    "plt.subplot(2,2,1)\n",
    "plt.hist(ak.flatten(x0), bins=100, range=(5.2,5.3))\n",
    "plt.hist(ak.flatten(x0[cut1]), bins=100, range=(5.2,5.3))\n",
    "plt.hist(ak.flatten(x0[cut2]), bins=100, range=(5.2,5.3))\n",
    "\n",
    "plt.subplot(2,2,2)\n",
    "plt.hist(ak.flatten(x1), bins=100, range=(-0.5,0.5))\n",
    "plt.hist(ak.flatten(x1[cut1]), bins=100, range=(-0.5,0.5))\n",
    "plt.hist(ak.flatten(x1[cut2]), bins=100, range=(-0.5,0.5))\n",
    "\n",
    "\n",
    "plt.subplot(2,2,3)\n",
    "plt.hist(ak.flatten(x2), bins=100, range=(0,12))\n",
    "plt.hist(ak.flatten(x2[cut1]), bins=100, range=(0,12))\n",
    "plt.hist(ak.flatten(x2[cut2]), bins=100, range=(0,12))\n",
    "\n",
    "plt.subplot(2,2,4)\n",
    "plt.hist(ak.flatten(x3), bins=100, range=(1.105,1.123))\n",
    "plt.hist(ak.flatten(x3[cut1]), bins=100, range=(1.105,1.123))\n",
    "plt.hist(ak.flatten(x3[cut2]), bins=100, range=(1.105,1.123))\n",
    "\n",
    "\n",
    ";"
   ]
  },
  {
   "cell_type": "markdown",
   "id": "3c633528-ff5b-434b-9e41-52d1295ca8bc",
   "metadata": {},
   "source": [
    "You can count how many events remain after each cut. "
   ]
  },
  {
   "cell_type": "code",
   "execution_count": null,
   "id": "2e4826ed-4b01-4d0b-8b4c-9b01bd8c58d0",
   "metadata": {},
   "outputs": [],
   "source": [
    "# Get the number of x1 in each event\n",
    "n0 = ak.num(x1)\n",
    "n1 = ak.num(x1[cut1])\n",
    "n2 = ak.num(x1[cut2])\n",
    "\n",
    "print(f\"n0: {n0}\")\n",
    "print(f\"n1: {n1}\")\n",
    "print(f\"n1: {n2}\")\n",
    "print()\n",
    "\n",
    "\n",
    "# Get the number of events (this doesn't change with cut)\n",
    "n0 = ak.num(x1, axis=0)\n",
    "n1 = ak.num(x1[cut1],axis=0)\n",
    "n2 = ak.num(x1[cut2],axis=0)\n",
    "\n",
    "print(f\"n0: {n0}\")\n",
    "print(f\"n1: {n1}\")\n",
    "print(f\"n1: {n2}\")\n",
    "print()\n",
    "\n",
    "# Get the number of x1 in total\n",
    "n0 = ak.sum(ak.num(x1))\n",
    "n1 = ak.sum(ak.num(x1[cut1]))\n",
    "n2 = ak.sum(ak.num(x1[cut2]))\n",
    "\n",
    "print(f\"n0: {n0}\")\n",
    "print(f\"n1: {n1}\")\n",
    "print(f\"n1: {n2}\")\n",
    "print()\n"
   ]
  },
  {
   "cell_type": "markdown",
   "id": "f3602af2-27e8-4cba-860b-ed8d771ae9f3",
   "metadata": {},
   "source": [
    "Can use these cuts wherever you like."
   ]
  },
  {
   "cell_type": "code",
   "execution_count": null,
   "id": "c4da53c0-47af-4c0f-a0f5-5324fbe1e744",
   "metadata": {},
   "outputs": [],
   "source": [
    "plt.figure(figsize=(16,5))\n",
    "\n",
    "plt.subplot(1,2,1)\n",
    "plt.plot(ak.flatten(x0), ak.flatten(x1), '.', markersize=0.5, alpha=0.8)\n",
    "plt.xlim(5.2, 5.3)\n",
    "plt.ylim(-0.5, 0.5)\n",
    "\n",
    "plt.subplot(1,2,2)\n",
    "plt.plot(ak.flatten(x0[cut2]), ak.flatten(x1[cut2]), '.', markersize=0.5, alpha=0.8)\n",
    "plt.xlim(5.2, 5.3)\n",
    "plt.ylim(-0.5, 0.5)"
   ]
  },
  {
   "cell_type": "markdown",
   "id": "a6ce2751-a5f2-42f4-b0cf-575a2d51bf0f",
   "metadata": {},
   "source": [
    "And make new cuts!"
   ]
  },
  {
   "cell_type": "code",
   "execution_count": null,
   "id": "aa92e7fb-b304-452e-b587-e8e3dc4a59ff",
   "metadata": {},
   "outputs": [],
   "source": [
    "cut_boundary = (x1<0.2) & (x1 > -0.2)\n",
    "\n",
    "plt.figure(figsize=(16,5))\n",
    "\n",
    "plt.subplot(1,2,1)\n",
    "plt.plot(ak.flatten(x0), ak.flatten(x1), '.', markersize=0.5, alpha=0.8)\n",
    "plt.xlim(5.2, 5.3)\n",
    "plt.ylim(-0.5, 0.5)\n",
    "\n",
    "plt.subplot(1,2,2)\n",
    "plt.plot(ak.flatten(x0[cut_boundary]), ak.flatten(x1[cut_boundary]), '.', markersize=0.5, alpha=0.8)\n",
    "plt.xlim(5.2, 5.3)\n",
    "plt.ylim(-0.5, 0.5)"
   ]
  },
  {
   "cell_type": "code",
   "execution_count": null,
   "id": "a72a4c0e-0326-4b19-b036-45bd1c271c62",
   "metadata": {},
   "outputs": [],
   "source": []
  }
 ],
 "metadata": {
  "kernelspec": {
   "display_name": "Python 3 (ipykernel)",
   "language": "python",
   "name": "python3"
  },
  "language_info": {
   "codemirror_mode": {
    "name": "ipython",
    "version": 3
   },
   "file_extension": ".py",
   "mimetype": "text/x-python",
   "name": "python",
   "nbconvert_exporter": "python",
   "pygments_lexer": "ipython3",
   "version": "3.11.7"
  }
 },
 "nbformat": 4,
 "nbformat_minor": 5
}
