{
 "cells": [
  {
   "cell_type": "code",
   "execution_count": null,
   "id": "ffa0ce27-be51-452d-a433-3190118cb50b",
   "metadata": {},
   "outputs": [],
   "source": [
    "import uproot\n",
    "import awkward as ak\n",
    "\n",
    "import matplotlib.pylab as plt\n",
    "import numpy as np"
   ]
  },
  {
   "cell_type": "code",
   "execution_count": null,
   "id": "d0f3054b-05b0-4308-b73b-b4c17c0b0bed",
   "metadata": {},
   "outputs": [],
   "source": [
    "#filestring = \"SP-998-LambdaVeryVeryLoose-Run1-R24a2-v03/bnv_analysis/SP-998-LambdaVeryVeryLoose-Run1-R24a2-v03-*.root:ntp1\"\n",
    "#filestring = \"SP-1235-LambdaVeryVeryLoose-Run*-R24a2-v03/bnv_analysis/SP-*R24a2-v03-*.root:ntp1\"\n",
    "filestring = \"SP-1005-LambdaVeryVeryLoose-Run*-R24a2-v03/bnv_analysis/SP-*R24a2-v03-*.root:ntp1\"\n",
    "\n",
    "array = uproot.concatenate(f\"bnv_plambda/{filestring}\", \\\n",
    "                           [\"BpostFitMes\", \"BpostFitDeltaE\", 'Lambda0Mass', 'Lambda0_unc_Mass', 'Lambda0FlightLen'], allow_missing=True)\n",
    "\n",
    "array"
   ]
  },
  {
   "cell_type": "code",
   "execution_count": null,
   "id": "57d55d9e-19ad-430d-887a-29c21448a502",
   "metadata": {},
   "outputs": [],
   "source": [
    "x = ak.flatten(array['Lambda0_unc_Mass'])\n",
    "\n",
    "plt.hist(x, bins=100,range=(1.105,1.125))\n",
    "\n",
    ";"
   ]
  },
  {
   "cell_type": "code",
   "execution_count": null,
   "id": "ac54b003-7a12-4a72-9f42-0db2584578ba",
   "metadata": {},
   "outputs": [],
   "source": [
    "x = ak.flatten(array['Lambda0FlightLen'])\n",
    "\n",
    "plt.hist(x, bins=100, range=(0,2))\n",
    "\n",
    ";"
   ]
  },
  {
   "cell_type": "code",
   "execution_count": null,
   "id": "1e0e2e4f-750e-4050-823c-da92e9b519c2",
   "metadata": {},
   "outputs": [],
   "source": [
    "mask = array['Lambda0FlightLen'] > 1.0\n",
    "\n",
    "print(ak.sum(ak.num(mask)), ak.sum(ak.num(mask[mask==True])))\n",
    "\n",
    "x = ak.flatten(array['Lambda0_unc_Mass'][mask])\n",
    "\n",
    "plt.hist(x, bins=125 ,range=(1.105,1.125))\n",
    "\n",
    ";"
   ]
  },
  {
   "cell_type": "code",
   "execution_count": null,
   "id": "fd3e188a-b26a-4e08-8213-e2059e9e9a18",
   "metadata": {},
   "outputs": [],
   "source": [
    "mask = array['Lambda0FlightLen'] > 1.0\n",
    "\n",
    "print(ak.sum(ak.num(mask)), ak.sum(ak.num(mask[mask==True])))\n",
    "\n",
    "#x = ak.flatten(array['BpostFitDeltaE'][mask])\n",
    "#plt.hist(x, bins=25,range=(-0.5,0.5))\n",
    "\n",
    "\n",
    "x = ak.flatten(array['BpostFitMes'][mask])\n",
    "plt.hist(x, bins=100,range=(5.2, 5.3))\n",
    "\n",
    "\n",
    ";"
   ]
  },
  {
   "cell_type": "code",
   "execution_count": null,
   "id": "73a8ab7f-a7ae-4ed6-9e02-fb64e90db429",
   "metadata": {},
   "outputs": [],
   "source": [
    "mask = array['Lambda0FlightLen'] > 1.0\n",
    "\n",
    "print(ak.sum(ak.num(mask)), ak.sum(ak.num(mask[mask==True])))\n",
    "\n",
    "y = ak.flatten(array['BpostFitDeltaE'][mask])\n",
    "\n",
    "x = ak.flatten(array['BpostFitMes'][mask])\n",
    "\n",
    "plt.plot(x,y,'.',markersize=0.2,alpha=0.7)\n",
    "plt.xlim(5.2,5.3)\n",
    "plt.ylim(-0.5,0.5)\n",
    "\n",
    ";"
   ]
  },
  {
   "cell_type": "markdown",
   "id": "a8695fd7-3b03-4ca8-82a5-5bfda23bbb8f",
   "metadata": {},
   "source": [
    "# Single file"
   ]
  },
  {
   "cell_type": "code",
   "execution_count": null,
   "id": "4deef3a3-3a23-40b0-8718-d93ec0841af2",
   "metadata": {},
   "outputs": [],
   "source": [
    "infilename = 'bnv_plambda/SP-1005-LambdaVeryVeryLoose-Run1-R24a2-v03/bnv_analysis/SP-1005-LambdaVeryVeryLoose-Run1-R24a2-v03-1.root'\n",
    "f = uproot.open(infilename)\n",
    "t = f['ntp1']"
   ]
  },
  {
   "cell_type": "code",
   "execution_count": null,
   "id": "4be15da5-d162-4a8a-a7f6-312786742dc7",
   "metadata": {},
   "outputs": [],
   "source": [
    "#n = 32 # This has only 1\n",
    "n = 31\n",
    "\n",
    "Be = t['Benergy'].array()[n]\n",
    "print(Be)\n",
    "print()\n",
    "\n",
    "Bidx1 = t['Bd1Idx'].array()[n]\n",
    "Blund1 = t['Bd1Lund'].array()[n]\n",
    "\n",
    "print(Bidx1)\n",
    "print(Blund1)\n",
    "\n",
    "Bidx2 = t['Bd2Idx'].array()[n]\n",
    "Blund2 = t['Bd2Lund'].array()[n]\n",
    "\n",
    "print(Bidx2)\n",
    "print(Blund2)\n",
    "\n",
    "print()\n",
    "\n",
    "\n",
    "lame = t['Lambda0energy'].array()[n]\n",
    "print(lame)\n",
    "print()\n",
    "\n",
    "lamidx1 = t['Lambda0d1Idx'].array()[n]\n",
    "lamlund1 = t['Lambda0d1Lund'].array()[n]\n",
    "\n",
    "print(lamidx1)\n",
    "print(lamlund1)\n",
    "\n",
    "lamidx2 = t['Lambda0d2Idx'].array()[n]\n",
    "lamlund2 = t['Lambda0d2Lund'].array()[n]\n",
    "\n",
    "print(lamidx2)\n",
    "print(lamlund2)\n",
    "\n",
    "print()\n",
    "\n",
    "print(t['np'].array()[n], t['npi'].array()[n], t['nTRK'].array()[n])\n",
    "\n",
    "for i in range(t['nTRK'].array()[n]):\n",
    "    print(i)"
   ]
  },
  {
   "cell_type": "code",
   "execution_count": null,
   "id": "994dff4f-f912-425b-a456-baf2b271d06b",
   "metadata": {},
   "outputs": [],
   "source": [
    "x = list(t['nB'].array())\n",
    "\n",
    "x.index(1)"
   ]
  },
  {
   "cell_type": "code",
   "execution_count": null,
   "id": "124f7565-b40b-400b-8e11-b303bf0abecb",
   "metadata": {},
   "outputs": [],
   "source": []
  }
 ],
 "metadata": {
  "kernelspec": {
   "display_name": "Python 3 (ipykernel)",
   "language": "python",
   "name": "python3"
  },
  "language_info": {
   "codemirror_mode": {
    "name": "ipython",
    "version": 3
   },
   "file_extension": ".py",
   "mimetype": "text/x-python",
   "name": "python",
   "nbconvert_exporter": "python",
   "pygments_lexer": "ipython3",
   "version": "3.11.7"
  }
 },
 "nbformat": 4,
 "nbformat_minor": 5
}
