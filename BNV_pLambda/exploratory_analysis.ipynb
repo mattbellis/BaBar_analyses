{
 "cells": [
  {
   "cell_type": "code",
   "execution_count": null,
   "id": "bee5b8ad-03a8-4377-908e-6cc02f1aad9f",
   "metadata": {},
   "outputs": [],
   "source": [
    "import uproot\n",
    "import awkward as ak\n",
    "\n",
    "import matplotlib.pylab as plt\n",
    "import numpy as np\n",
    "\n",
    "import time\n"
   ]
  },
  {
   "cell_type": "code",
   "execution_count": null,
   "id": "df92f793-16a3-4ef5-bbd2-472b795486bc",
   "metadata": {},
   "outputs": [],
   "source": [
    "import mplhep as hep"
   ]
  },
  {
   "cell_type": "code",
   "execution_count": null,
   "id": "e60017cc-b53b-4fdc-a59a-a0b18415e50a",
   "metadata": {},
   "outputs": [],
   "source": [
    "#hep.style.use(hep.style.CMS)"
   ]
  },
  {
   "cell_type": "code",
   "execution_count": null,
   "id": "5439df75-1830-4cea-b6f3-7d087161bb72",
   "metadata": {},
   "outputs": [],
   "source": [
    "time.time()"
   ]
  },
  {
   "cell_type": "markdown",
   "id": "034abb3b-105f-4da9-8c8d-6853ef5d3314",
   "metadata": {},
   "source": [
    "scp -i ~/.ssh/babar_ltda -P2200 bellis@babar-transfer.babar.uvic.ca:ana54/workdir/btaoutput_bnv.root .\n"
   ]
  },
  {
   "cell_type": "code",
   "execution_count": null,
   "id": "12adc91d-e31b-47d1-bc3a-4fb436f51cc1",
   "metadata": {},
   "outputs": [],
   "source": [
    "#f = uproot.open('btaoutput_bnv.root')\n",
    "f = uproot.open('bnv_plambda/SP-998-LambdaVeryVeryLoose-Run1-R24a2-v03/bnv_analysis/SP-998-LambdaVeryVeryLoose-Run1-R24a2-v03-1.root')\n",
    "\n",
    "f"
   ]
  },
  {
   "cell_type": "code",
   "execution_count": null,
   "id": "a498b161-49ca-446c-8390-577e52ee3220",
   "metadata": {},
   "outputs": [],
   "source": [
    "f.keys()"
   ]
  },
  {
   "cell_type": "code",
   "execution_count": null,
   "id": "bf254c60-2dfc-448a-8c6d-b2141ae1b6fd",
   "metadata": {},
   "outputs": [],
   "source": [
    "t = f['ntp1']\n",
    "\n",
    "keys = t.keys()\n",
    "\n",
    "max_len = 80\n",
    "output = \"\"\n",
    "for k in keys:\n",
    "    if len(output)<max_len:\n",
    "        output = f\"{output}{k:20s} \"\n",
    "    else:\n",
    "        print(output)\n",
    "        output = f\"{k:20s} \""
   ]
  },
  {
   "cell_type": "code",
   "execution_count": null,
   "id": "64f6ae88-97bf-41d2-ac08-687ec386f811",
   "metadata": {},
   "outputs": [],
   "source": [
    "#x = t['B_con_preFitMass'].array()\n",
    "x = t['BpostFitMes'].array()\n",
    "#x = t['BpostFitDeltaE'].array()\n",
    "\n",
    "#x = t['Lambda0Lund'].array()\n",
    "#x = t['BpostFitFlight'].array()\n",
    "\n",
    "x = ak.flatten(x)\n",
    "\n",
    "plt.hist(x, bins=25, range=(5.20,5.3));\n",
    "#plt.hist(x, bins=25, range=(-0.25,0.25));"
   ]
  },
  {
   "cell_type": "code",
   "execution_count": null,
   "id": "18209c02-dabb-4bbc-b62f-19996f5947e2",
   "metadata": {},
   "outputs": [],
   "source": [
    "x = t['np'].array()\n",
    "#x\n",
    "len(x)"
   ]
  },
  {
   "cell_type": "code",
   "execution_count": null,
   "id": "69682227-c1e8-4fa5-bd6d-74297f4c1fdc",
   "metadata": {},
   "outputs": [],
   "source": [
    "len(x)"
   ]
  },
  {
   "cell_type": "code",
   "execution_count": null,
   "id": "c187aa2a-22d6-4a35-a2c5-16a789ffb936",
   "metadata": {},
   "outputs": [],
   "source": [
    "x = t['Lambda0Vtxx'].array()\n",
    "x = ak.flatten(x)\n",
    "\n",
    "y = t['Lambda0Vtxy'].array()\n",
    "y = ak.flatten(y)\n",
    "\n",
    "plt.plot(x,y,'.');\n",
    "\n",
    "print(len(x))\n"
   ]
  },
  {
   "cell_type": "code",
   "execution_count": null,
   "id": "0152b20a-10d1-4dc8-ae90-d99b57d658ef",
   "metadata": {},
   "outputs": [],
   "source": [
    "x"
   ]
  },
  {
   "cell_type": "code",
   "execution_count": null,
   "id": "924cf5b1-4fa6-4e88-9c0b-1dd1550375ac",
   "metadata": {},
   "outputs": [],
   "source": [
    "x = t['Lambda0Vtxx'].array()\n",
    "x = ak.flatten(x)\n",
    "\n",
    "y = t['Lambda0Vtxy'].array()\n",
    "y = ak.flatten(y)\n",
    "\n",
    "plt.plot(x,y,'.');\n"
   ]
  },
  {
   "cell_type": "code",
   "execution_count": null,
   "id": "3c536f49-4cd3-48c0-a0eb-722386780599",
   "metadata": {},
   "outputs": [],
   "source": [
    "#x = t['nB'].array()\n",
    "#x = t['nLambda0'].array()\n",
    "#x = t['np'].array()\n",
    "#x = t['npi'].array()\n",
    "#x = t['nTRK'].array()\n",
    "\n",
    "\n",
    "plt.hist(x, bins=25);"
   ]
  },
  {
   "cell_type": "code",
   "execution_count": null,
   "id": "79ef4e6d-4a1d-4721-b487-a90546784637",
   "metadata": {},
   "outputs": [],
   "source": [
    "x = t['beamSX'].array()\n",
    "print(x)"
   ]
  },
  {
   "cell_type": "code",
   "execution_count": null,
   "id": "afd75fb5-a654-4498-9b07-94a0c9775a05",
   "metadata": {},
   "outputs": [],
   "source": [
    "Bx = t['BVtxx'].array()\n",
    "By = t['BVtxy'].array()\n",
    "Bz = t['BVtxz'].array()\n",
    "\n",
    "Bx"
   ]
  },
  {
   "cell_type": "code",
   "execution_count": null,
   "id": "c10a1460-fd53-4aee-8377-b2fdef0d8574",
   "metadata": {},
   "outputs": [],
   "source": [
    "Lx = t['Lambda0Vtxx'].array()\n",
    "Ly = t['Lambda0Vtxy'].array()\n",
    "Lz = t['Lambda0Vtxz'].array()"
   ]
  },
  {
   "cell_type": "code",
   "execution_count": null,
   "id": "9b476de6-8633-4d9b-97c2-b98bea78e53d",
   "metadata": {},
   "outputs": [],
   "source": [
    "dx = Lx-Bx\n",
    "dy = Ly-By\n",
    "dz = Lz-Bz\n",
    "\n",
    "dist = np.sqrt(dx**2 + dy**2 + dz**2)\n",
    "a = dist[:,0]\n",
    "print(len(a))\n",
    "\n",
    "plt.hist(a,bins=25);"
   ]
  },
  {
   "cell_type": "code",
   "execution_count": null,
   "id": "15a98bd9-8767-49cc-bf69-ebda8afc2b23",
   "metadata": {},
   "outputs": [],
   "source": [
    "\n",
    "start = time.time()\n",
    "\n",
    "spmodes = [\"998\", \"1005\", \"1235\", \"1237\", \"3429\", \"3981\"]\n",
    "\n",
    "filenames = []\n",
    "\n",
    "for sp in spmodes:\n",
    "    #filenames.append(f'bnv_plambda/SP-{sp}-LambdaVeryVeryLoose-Run*-R24a2-v03/bnv_analysis/*v03-*.root:ntp1')\n",
    "    filenames.append(f'bnv_plambda/SP-{sp}-LambdaVeryVeryLoose-Run*-R24a2-v03_COMBINED.root:ntp1')\n",
    "\n",
    "\n",
    "data = {}\n",
    "i = 0\n",
    "for sp,filename in zip(spmodes,filenames):\n",
    "    print(sp,filename)\n",
    "    #array = uproot.concatenate(\"bnv_plambda/SP-998-LambdaVeryVeryLoose-Run*-R24a2-v03/bnv_analysis/SP-998-LambdaVeryVeryLoose-Run*-R24a2-v03-*.root:ntp1\", \\\n",
    "    data[sp] = uproot.concatenate(filename, \\\n",
    "                           [\"BpostFitMes\", \"BpostFitDeltaE\", 'Lambda0Mass', 'Lambda0_unc_Mass'], \\\n",
    "                             allow_missing=True)\n",
    "\n",
    "    #array\n",
    "\n",
    "print(f\"Took {time.time() - start} s\")"
   ]
  },
  {
   "cell_type": "code",
   "execution_count": null,
   "id": "2b543728-a37a-4154-b66a-a41c43f4c486",
   "metadata": {},
   "outputs": [],
   "source": [
    "a = ak.Array({\"x\":[[10, 20], [30]]})\n",
    "b = ak.Array({\"x\":[[5,6,7]]})\n",
    "\n",
    "#ak.concatenate\n",
    "c = ak.concatenate([a,b])\n",
    "c.x"
   ]
  },
  {
   "cell_type": "code",
   "execution_count": null,
   "id": "23e15ae1-b2f0-4c26-817d-fca86e24227b",
   "metadata": {},
   "outputs": [],
   "source": [
    "!ls bnv_plambda/SP-998-LambdaVeryVeryLoose-Run*-R24a2-v03_COMBINED.root"
   ]
  },
  {
   "cell_type": "code",
   "execution_count": null,
   "id": "4a0c4ad1-67af-4a3f-a6af-c4e96513fd88",
   "metadata": {},
   "outputs": [],
   "source": [
    "list(f.keys())"
   ]
  },
  {
   "cell_type": "code",
   "execution_count": null,
   "id": "9de37008-de6f-4975-9dd2-961a68bd2c78",
   "metadata": {},
   "outputs": [],
   "source": [
    "start = time.time()\n",
    "\n",
    "spmodes = [\"998\", \"1005\", \"1235\", \"1237\", \"3429\", \"3981\"]\n",
    "#spmodes = [\"3429\"]\n",
    "#spmodes = ['998']\n",
    "runs = [1,2,3,4,5,6]\n",
    "#runs = [1,2]\n",
    "\n",
    "def get_spmode_from_filename(filename):\n",
    "    sp = filename.split('SP-')[1].split('-')[0]\n",
    "    return sp\n",
    "\n",
    "def get_run_from_filename(filename):\n",
    "    run = filename.split('Run')[1].split('-')[0]\n",
    "    return run\n",
    "\n",
    "\n",
    "filenames = []\n",
    "\n",
    "for sp in spmodes:\n",
    "    for run in runs:\n",
    "        #filenames.append(f'bnv_plambda/SP-{sp}-LambdaVeryVeryLoose-Run*-R24a2-v03/bnv_analysis/*v03-*.root:ntp1')\n",
    "        filenames.append(f'bnv_plambda/SP-{sp}-LambdaVeryVeryLoose-Run{run}-R24a2-v03_COMBINED.root')\n",
    "\n",
    "\n",
    "first_time = 1\n",
    "datadict = {}\n",
    "for filename in filenames:\n",
    "    sp = get_spmode_from_filename(filename)\n",
    "    run = get_run_from_filename(filename)\n",
    "    f = uproot.open(filename)\n",
    "    if 'ntp1;1' not in list(f.keys()):\n",
    "        continue\n",
    "    t = f['ntp1']\n",
    "    nentries = len(t['nB'].array())\n",
    "    print(f\"{sp:5s} {run:2s} {nentries:8d} {filename}\")\n",
    "\n",
    "    for key,value in t.items():\n",
    "        if first_time:\n",
    "            datadict[key] = value.array()\n",
    "\n",
    "        else:\n",
    "            datadict[key] = ak.concatenate([datadict[key], value.array()])\n",
    "\n",
    "    # Add in values that are specific to the sp/run/mcordata\n",
    "    if first_time:\n",
    "        x = (int(sp)*np.ones(nentries,dtype=int)).astype(str)\n",
    "        datadict['spmode'] = x\n",
    "        x = np.ones(nentries,dtype=int)\n",
    "        datadict['isMC'] = x\n",
    "        x = int(run)*np.ones(nentries,dtype=int)\n",
    "        datadict['run'] = x\n",
    "\n",
    "    else:\n",
    "        x = (int(sp)*np.ones(nentries,dtype=int)).astype(str)\n",
    "        datadict['spmode'] = ak.concatenate([datadict['spmode'], x])\n",
    "        x = np.ones(nentries,dtype=int) \n",
    "        datadict['isMC'] = ak.concatenate([datadict['isMC'], x])\n",
    "        x = int(run)*np.ones(nentries,dtype=int)\n",
    "        datadict['run'] = ak.concatenate([datadict['run'], x])\n",
    "\n",
    "    \n",
    "    first_time = 0\n",
    "    print(f\"Took {time.time() - start} s\\n\")\n",
    "\n",
    "\n",
    "print(f\"Took {time.time() - start} s\")\n",
    "\n",
    "#print(datadict)\n",
    "\n",
    "alldata = ak.Array(datadict)\n",
    "\n",
    "print(f\"Took {time.time() - start} s\")\n",
    "\n",
    "\n",
    "#alldata\n",
    "\n"
   ]
  },
  {
   "cell_type": "code",
   "execution_count": null,
   "id": "4167f367-7a79-4360-8ebd-9d1c5be3d6c6",
   "metadata": {},
   "outputs": [],
   "source": [
    "ak.to_parquet(alldata, 'test.parquet')"
   ]
  },
  {
   "cell_type": "code",
   "execution_count": null,
   "id": "fc60c8b5-8b53-4226-9181-ec7ff8796429",
   "metadata": {},
   "outputs": [],
   "source": [
    "start = time.time()\n",
    "\n",
    "testarr = ak.from_parquet('test.parquet')\n",
    "\n",
    "print(f\"Took {time.time() - start} s\")\n"
   ]
  },
  {
   "cell_type": "code",
   "execution_count": null,
   "id": "823a7601-c452-4237-a542-d1c8e83e4f39",
   "metadata": {},
   "outputs": [],
   "source": [
    "#mask = alldata['run'] == 6\n",
    "mask = alldata['spmode'] == '998'\n",
    "mask = mask & (alldata['Lambda0FlightLen'][:,0] > 1)\n",
    "\n",
    "x = alldata[mask]['BpostFitMes'][:,0]\n",
    "#plt.hist(x,bins=100,range=(5,5.3));\n",
    "\n",
    "y = alldata[mask]['BpostFitDeltaE'][:,0]\n",
    "#plt.hist(y,bins=100,range=(-0.3, 0.3));\n",
    "\n",
    "plt.plot(x,y,'.',markersize=1)\n",
    "plt.xlim(5.2,5.3)\n",
    "plt.ylim(-0.3,0.3)\n",
    "\n",
    "\n",
    "#x = alldata[mask]['sphericityAll']\n",
    "#plt.hist(x,bins=100, range=(0,1));"
   ]
  },
  {
   "cell_type": "code",
   "execution_count": null,
   "id": "56d31650-a5ff-42fd-bf37-45f807dec343",
   "metadata": {},
   "outputs": [],
   "source": [
    "x = ak.flatten(data['998']['BpostFitMes'])\n",
    "\n",
    "plt.hist(x,bins=100,range=(5,5.3));"
   ]
  },
  {
   "cell_type": "code",
   "execution_count": null,
   "id": "d70d2973-e1c8-47ca-8f2d-d98388cded7a",
   "metadata": {},
   "outputs": [],
   "source": [
    "#x = ak.flatten(array['Lambda0Mass'])\n",
    "x = ak.flatten(data['998']['Lambda0_unc_Mass'])\n",
    "\n",
    "plt.hist(x,bins=100,range=(1.1,1.125));\n",
    "\n",
    ";"
   ]
  },
  {
   "cell_type": "code",
   "execution_count": null,
   "id": "f13ab401-2b7b-42b9-ab6d-c4d373a1a1eb",
   "metadata": {},
   "outputs": [],
   "source": [
    "array = uproot.concatenate(\"bnv_plambda/SP-998-LambdaVeryVeryLoose-Run1-R24a2-v03/bnv_analysis/SP-998-LambdaVeryVeryLoose-Run1-R24a2-v03-*.root:ntp1\", \\\n",
    "                           [\"Lambda0FlightLen\", 'Lambda0_unc_Mass'])\n",
    "\n"
   ]
  },
  {
   "cell_type": "code",
   "execution_count": null,
   "id": "a7a44c05-7919-4f29-80ec-cca945ab9a73",
   "metadata": {},
   "outputs": [],
   "source": [
    "x = ak.flatten(array['Lambda0FlightLen'])\n",
    "\n",
    "plt.hist(x,bins=100,range=(0,100));\n",
    "\n",
    ";"
   ]
  },
  {
   "cell_type": "code",
   "execution_count": null,
   "id": "81043dcf-328b-497d-a463-2762fc06d45b",
   "metadata": {},
   "outputs": [],
   "source": [
    "mask = array['Lambda0FlightLen'][:,0] > 1.0\n",
    "\n",
    "x0 = array['Lambda0FlightLen'][:,0]\n",
    "y0 = array['Lambda0_unc_Mass'][:,0]\n",
    "\n",
    "x1 = x0[mask]\n",
    "y1 = y0[mask]\n",
    "\n",
    "plt.figure(figsize=(12,5))\n",
    "plt.subplot(1,2,1)\n",
    "plt.hist(x0,bins=500,range=(-50,100));\n",
    "plt.hist(x1,bins=500,range=(-50,100));\n",
    "plt.yscale('log')\n",
    "\n",
    "plt.subplot(1,2,2)\n",
    "plt.hist(y0,bins=100,range=(1.1,1.13));\n",
    "plt.hist(y1,bins=100,range=(1.1,1.13));\n",
    "\n",
    "print(f\"{len(x0)} {len(x1)} {len(x1)/len(x0):.2f}\")\n",
    "\n",
    ";"
   ]
  },
  {
   "cell_type": "code",
   "execution_count": null,
   "id": "a87a3873-1b58-4669-82c0-2848a1cd3cd8",
   "metadata": {},
   "outputs": [],
   "source": [
    "plt.hist(x0)"
   ]
  },
  {
   "cell_type": "code",
   "execution_count": null,
   "id": "da635136-65df-4d9a-93cd-35628b3f50bb",
   "metadata": {},
   "outputs": [],
   "source": [
    "#f = uproot.open('btaoutput_bnv.root')\n",
    "f = uproot.open('bnv_plambda/SP-998-LambdaVeryVeryLoose-Run1-R24a2-v03/bnv_analysis/SP-998-LambdaVeryVeryLoose-Run1-R24a2-v03-1.root')\n",
    "\n",
    "f\n",
    "\n",
    "t = f['ntp1']\n",
    "\n",
    "type(t)"
   ]
  },
  {
   "cell_type": "code",
   "execution_count": null,
   "id": "6b6399c8-cf24-4b10-846a-7317e31acb76",
   "metadata": {},
   "outputs": [],
   "source": [
    "t.items()"
   ]
  },
  {
   "cell_type": "code",
   "execution_count": null,
   "id": "3648f57f-4fdf-451e-8168-6bef01eb4adc",
   "metadata": {},
   "outputs": [],
   "source": [
    "datadict = {}\n",
    "for key,value in t.items():\n",
    "    datadict[key] = value.array()\n",
    "datadict['spmode'] = (998*np.ones(len(t['nB'].array()),dtype=int)).astype(str)\n",
    "#datadict['spmode']\n",
    "datadict['isMC'] = np.ones(len(t['nB'].array()),dtype=int)\n",
    "#datadict['spmode']\n",
    "\n",
    "\n",
    "alldata = ak.Array(datadict)\n",
    "\n",
    "alldata"
   ]
  },
  {
   "cell_type": "code",
   "execution_count": null,
   "id": "3b85542a-1098-4119-acf9-e1a4f326d19b",
   "metadata": {},
   "outputs": [],
   "source": [
    "alldata.isMC"
   ]
  },
  {
   "cell_type": "code",
   "execution_count": null,
   "id": "d71daea4-102e-489c-a21b-1dd15ae9c35f",
   "metadata": {},
   "outputs": [],
   "source": [
    "alldata.sphericityAll"
   ]
  },
  {
   "cell_type": "code",
   "execution_count": null,
   "id": "00e1e5f6-82a2-4a3f-a3be-82a13632f550",
   "metadata": {},
   "outputs": [],
   "source": [
    "plt.hist(alldata['sphericityAll'], bins=100);"
   ]
  },
  {
   "cell_type": "code",
   "execution_count": null,
   "id": "f0d7d7f9-60a4-4ec9-a7c1-f9dcd759d722",
   "metadata": {},
   "outputs": [],
   "source": [
    "print(t['Lambda0d1Lund'].array())"
   ]
  },
  {
   "cell_type": "code",
   "execution_count": null,
   "id": "9d0969bb-cf19-4929-a308-60d08e837036",
   "metadata": {},
   "outputs": [],
   "source": [
    "print(t['Lambda0d2Lund'].array())"
   ]
  },
  {
   "cell_type": "code",
   "execution_count": null,
   "id": "40a83b91-00ba-42eb-87aa-25fff4528a33",
   "metadata": {},
   "outputs": [],
   "source": [
    "idx1 = t['Lambda0d1Idx'].array()\n",
    "idx2 = t['Lambda0d2Idx'].array()\n",
    "\n",
    "print('idx0, idx1')\n",
    "print(idx1)\n",
    "print(idx2)\n",
    "print()\n",
    "\n",
    "print(t['TRKenergy'].array()[idx1])\n",
    "print(t['TRKenergy'].array()[idx2])\n",
    "\n",
    "plt.hist(t['nLambda0'].array())"
   ]
  },
  {
   "cell_type": "code",
   "execution_count": null,
   "id": "4c74ccc0-a0be-40ce-99a3-787680aa1940",
   "metadata": {},
   "outputs": [],
   "source": [
    "idx1 = t['Bd1Idx'].array()\n",
    "idx2 = t['Bd2Idx'].array()\n",
    "\n",
    "print('idx1, idx2')\n",
    "print(idx1)\n",
    "print(idx2)\n",
    "print()\n",
    "print(t['Lambda0energy'].array()[idx1])\n",
    "print(t['penergy'].array()[idx2])\n",
    "print()\n",
    "\n",
    "ld1 = t['Bd1Lund'].array()\n",
    "ld2 = t['Bd2Lund'].array()\n",
    "\n",
    "print('ld1, ld2')\n",
    "print(ld1)\n",
    "print(ld2)\n",
    "print()\n",
    "\n"
   ]
  },
  {
   "cell_type": "code",
   "execution_count": null,
   "id": "f85b4d92-697a-4296-b6f1-c41d5e135bf4",
   "metadata": {},
   "outputs": [],
   "source": [
    "n = 5\n",
    "\n",
    "print(t['Benergy'].array()[n])\n",
    "print()\n",
    "\n",
    "idx1 = t['Bd1Idx'].array()[n]\n",
    "idx2 = t['Bd2Idx'].array()[n]\n",
    "\n",
    "print(idx1)\n",
    "print(idx2)\n",
    "print()\n",
    "\n",
    "\n",
    "print(t['Lambda0energy'].array()[n])\n",
    "print()\n",
    "\n",
    "idx1 = t['Lambda0d1Idx'].array()[n]\n",
    "idx2 = t['Lambda0d2Idx'].array()[n]\n",
    "ld1 = t['Lambda0d1Lund'].array()[n]\n",
    "ld2 = t['Lambda0d2Lund'].array()[n]\n",
    "\n",
    "print(idx1)\n",
    "print(ld1)\n",
    "print(idx2)\n",
    "print(ld2)\n",
    "\n",
    "\n"
   ]
  },
  {
   "cell_type": "code",
   "execution_count": null,
   "id": "5f5fd252-1c4e-4a8b-ad0e-620434becd59",
   "metadata": {},
   "outputs": [],
   "source": [
    "print(t['Lambda0FlightLen'].array())\n",
    "print(t['Lambda0FlightErr'].array())\n",
    "\n",
    "print()\n",
    "\n",
    "print(t['Lambda0FlightBSLen'].array())\n",
    "print(t['Lambda0FlightBSErr'].array())\n"
   ]
  },
  {
   "cell_type": "code",
   "execution_count": null,
   "id": "9ee15112-c338-4351-8ac0-5f50cb10164b",
   "metadata": {},
   "outputs": [],
   "source": [
    "t['Lambda0_unc_Mass'].array()"
   ]
  },
  {
   "cell_type": "code",
   "execution_count": null,
   "id": "95fa4a54-aa81-450c-babc-7e09286d612c",
   "metadata": {},
   "outputs": [],
   "source": [
    "#t['Lambda0FlightLen'].array()[:,0]\n",
    "\n",
    "t['Lambda0FlightLen'].array()[-5:]"
   ]
  },
  {
   "cell_type": "code",
   "execution_count": null,
   "id": "446a6639-a539-49d2-89c6-6997104d4312",
   "metadata": {},
   "outputs": [],
   "source": [
    "import hist\n",
    "from hist import Hist"
   ]
  },
  {
   "cell_type": "code",
   "execution_count": null,
   "id": "ad6d7f88-c57d-4abd-8a76-963a9f662658",
   "metadata": {},
   "outputs": [],
   "source": [
    "h = Hist.new.Reg(100, 5.2, 5.3, name=\"BpostFitMes\", label=r\"M$_{ES}$ [GeV/c$^2$]\") \\\n",
    "         .StrCat([\"998\", \"1005\"], name=\"SP\", label=\"SP modes\")\\\n",
    "         .StrCat([], name=\"cuts\", label=\"Cuts\", growth=True)\\\n",
    "         .Weight()"
   ]
  },
  {
   "cell_type": "code",
   "execution_count": null,
   "id": "bbd1a417-b19e-4113-a1b1-667ead63090c",
   "metadata": {},
   "outputs": [],
   "source": [
    "x = t['BpostFitMes'].array()[:,0]\n",
    "h.fill(BpostFitMes=x, SP=\"998\", cuts=\"0\", weight=1)"
   ]
  },
  {
   "cell_type": "code",
   "execution_count": null,
   "id": "1940bd7f-f494-4775-a1ba-2ff0c19d194c",
   "metadata": {},
   "outputs": [],
   "source": [
    "h"
   ]
  },
  {
   "cell_type": "code",
   "execution_count": null,
   "id": "5609ba3c-9f4d-4eea-8131-36acc7a91ec0",
   "metadata": {},
   "outputs": [],
   "source": [
    "h[:,\"998\",\"0\"].plot(histtype=\"fill\", linewidth=1, edgecolor=\"grey\")#, label='B')\n",
    "#plt.legend()\n",
    "#plt.title(\"Signal\")\n",
    "#plt.xlabel(r\"$M_{tt}$ [Gev]\");\n"
   ]
  },
  {
   "cell_type": "code",
   "execution_count": null,
   "id": "7a95655a-3d4c-46e3-8f38-e0e7a2cbf34b",
   "metadata": {},
   "outputs": [],
   "source": [
    "h = Hist.new.Reg(100, 5.2, 5.3, name=\"BpostFitMes\", label=r\"M$_{ES}$ [GeV/c$^2$]\") \\\n",
    "         .StrCat([], name=\"SP\", label=\"SP modes\", growth=True)\\\n",
    "         .StrCat([], name=\"cuts\", label=\"Cuts\", growth=True)\\\n",
    "         .Weight()\n",
    "\n",
    "for key,value in data.items():\n",
    "    x = value['BpostFitMes'][:,0]\n",
    "    h.fill(BpostFitMes=x, SP=key, cuts=f\"0\", weight=1)"
   ]
  },
  {
   "cell_type": "code",
   "execution_count": null,
   "id": "91f0e9b1-dc41-48a1-9065-028d07e43456",
   "metadata": {},
   "outputs": [],
   "source": [
    "h[:,\"1005\",\"0\"].plot(histtype=\"fill\", linewidth=1, edgecolor=\"grey\")#, label='B')\n"
   ]
  },
  {
   "cell_type": "code",
   "execution_count": null,
   "id": "766a3fe0-36dd-4520-ac78-dabdc885fa0c",
   "metadata": {},
   "outputs": [],
   "source": [
    "h[:,\"998\",\"0\"].plot(histtype=\"fill\", linewidth=1, edgecolor=\"grey\")#, label='B')\n"
   ]
  },
  {
   "cell_type": "code",
   "execution_count": null,
   "id": "c5021310-ff89-484e-93d2-84a0474eb298",
   "metadata": {},
   "outputs": [],
   "source": [
    "h.stack('SP')[:].project('BpostFitMes').plot(stack=True, histtype=\"fill\")\n",
    "\n",
    "plt.legend()\n",
    "\n",
    "#hep.cms.text(text='BaBar')"
   ]
  },
  {
   "cell_type": "code",
   "execution_count": null,
   "id": "30feacee-4618-42d3-b6b8-8dad01b1a410",
   "metadata": {},
   "outputs": [],
   "source": [
    "h = Hist.new.Reg(100, -0.3, 0.3, name=\"BpostFitDeltaE\", label=r\"$\\Delta$ E [GeV]\") \\\n",
    "         .StrCat([], name=\"SP\", label=\"SP modes\", growth=True)\\\n",
    "         .StrCat([], name=\"cuts\", label=\"Cuts\", growth=True)\\\n",
    "         .Weight()\n",
    "\n",
    "for key,value in data.items():\n",
    "    x = value['BpostFitDeltaE'][:,0]\n",
    "    h.fill(BpostFitDeltaE=x, SP=key, cuts=f\"0\", weight=1)"
   ]
  },
  {
   "cell_type": "code",
   "execution_count": null,
   "id": "c8df006b-90b2-49d8-8324-03eaf57f82c6",
   "metadata": {},
   "outputs": [],
   "source": [
    "h.stack('SP')[:].project('BpostFitDeltaE').plot(stack=True, histtype=\"fill\")\n",
    "plt.legend()\n"
   ]
  },
  {
   "cell_type": "code",
   "execution_count": null,
   "id": "7a1cdb53-b902-4dd0-9868-7181dd6bf004",
   "metadata": {},
   "outputs": [],
   "source": []
  },
  {
   "cell_type": "code",
   "execution_count": null,
   "id": "985048fd-c275-4bc5-967b-a45bf1c83581",
   "metadata": {},
   "outputs": [],
   "source": []
  }
 ],
 "metadata": {
  "kernelspec": {
   "display_name": "Python 3 (ipykernel)",
   "language": "python",
   "name": "python3"
  },
  "language_info": {
   "codemirror_mode": {
    "name": "ipython",
    "version": 3
   },
   "file_extension": ".py",
   "mimetype": "text/x-python",
   "name": "python",
   "nbconvert_exporter": "python",
   "pygments_lexer": "ipython3",
   "version": "3.11.7"
  }
 },
 "nbformat": 4,
 "nbformat_minor": 5
}
