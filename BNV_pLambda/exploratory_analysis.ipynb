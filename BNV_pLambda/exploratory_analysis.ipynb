{
 "cells": [
  {
   "cell_type": "code",
   "execution_count": null,
   "id": "bee5b8ad-03a8-4377-908e-6cc02f1aad9f",
   "metadata": {},
   "outputs": [],
   "source": [
    "import uproot\n",
    "import awkward as ak\n",
    "\n",
    "import matplotlib.pylab as plt\n",
    "import numpy as np"
   ]
  },
  {
   "cell_type": "markdown",
   "id": "034abb3b-105f-4da9-8c8d-6853ef5d3314",
   "metadata": {},
   "source": [
    "scp -i ~/.ssh/babar_ltda -P2200 bellis@babar-transfer.babar.uvic.ca:ana54/workdir/btaoutput_bnv.root .\n"
   ]
  },
  {
   "cell_type": "code",
   "execution_count": null,
   "id": "12adc91d-e31b-47d1-bc3a-4fb436f51cc1",
   "metadata": {},
   "outputs": [],
   "source": [
    "f = uproot.open('btaoutput_bnv.root')\n",
    "\n",
    "f"
   ]
  },
  {
   "cell_type": "code",
   "execution_count": null,
   "id": "a498b161-49ca-446c-8390-577e52ee3220",
   "metadata": {},
   "outputs": [],
   "source": [
    "f.keys()"
   ]
  },
  {
   "cell_type": "code",
   "execution_count": null,
   "id": "bf254c60-2dfc-448a-8c6d-b2141ae1b6fd",
   "metadata": {},
   "outputs": [],
   "source": [
    "t = f['ntp1']\n",
    "\n",
    "keys = t.keys()\n",
    "\n",
    "max_len = 80\n",
    "output = \"\"\n",
    "for k in keys:\n",
    "    if len(output)<max_len:\n",
    "        output = f\"{output}{k:20s} \"\n",
    "    else:\n",
    "        print(output)\n",
    "        output = f\"{k:20s} \""
   ]
  },
  {
   "cell_type": "code",
   "execution_count": null,
   "id": "64f6ae88-97bf-41d2-ac08-687ec386f811",
   "metadata": {},
   "outputs": [],
   "source": [
    "#x = t['B_con_preFitMass'].array()\n",
    "#x = t['BpostFitMes'].array()\n",
    "x = t['BpostFitDeltaE'].array()\n",
    "\n",
    "#x = t['Lambda0Lund'].array()\n",
    "#x = t['BpostFitFlight'].array()\n",
    "\n",
    "x = ak.flatten(x)\n",
    "\n",
    "#plt.hist(x, bins=25, range=(5.25,5.3));\n",
    "plt.hist(x, bins=25, range=(-0.25,0.25));"
   ]
  },
  {
   "cell_type": "code",
   "execution_count": null,
   "id": "18209c02-dabb-4bbc-b62f-19996f5947e2",
   "metadata": {},
   "outputs": [],
   "source": [
    "x = t['np'].array()\n",
    "#x\n",
    "len(x)"
   ]
  },
  {
   "cell_type": "code",
   "execution_count": null,
   "id": "69682227-c1e8-4fa5-bd6d-74297f4c1fdc",
   "metadata": {},
   "outputs": [],
   "source": [
    "len(x)"
   ]
  },
  {
   "cell_type": "code",
   "execution_count": null,
   "id": "c187aa2a-22d6-4a35-a2c5-16a789ffb936",
   "metadata": {},
   "outputs": [],
   "source": [
    "x = t['Lambda0Vtxx'].array()\n",
    "x = ak.flatten(x)\n",
    "\n",
    "y = t['Lambda0Vtxy'].array()\n",
    "y = ak.flatten(y)\n",
    "\n",
    "plt.plot(x,y,'.');\n",
    "\n",
    "print(len(x))\n"
   ]
  },
  {
   "cell_type": "code",
   "execution_count": null,
   "id": "0152b20a-10d1-4dc8-ae90-d99b57d658ef",
   "metadata": {},
   "outputs": [],
   "source": [
    "x"
   ]
  },
  {
   "cell_type": "code",
   "execution_count": null,
   "id": "924cf5b1-4fa6-4e88-9c0b-1dd1550375ac",
   "metadata": {},
   "outputs": [],
   "source": [
    "x = t['Lambda0Vtxx'].array()\n",
    "x = ak.flatten(x)\n",
    "\n",
    "y = t['Lambda0Vtxy'].array()\n",
    "y = ak.flatten(y)\n",
    "\n",
    "plt.plot(x,y,'.');\n"
   ]
  },
  {
   "cell_type": "code",
   "execution_count": null,
   "id": "3c536f49-4cd3-48c0-a0eb-722386780599",
   "metadata": {},
   "outputs": [],
   "source": [
    "#x = t['nB'].array()\n",
    "#x = t['nLambda0'].array()\n",
    "#x = t['np'].array()\n",
    "#x = t['npi'].array()\n",
    "#x = t['nTRK'].array()\n",
    "\n",
    "\n",
    "plt.hist(x, bins=25);"
   ]
  },
  {
   "cell_type": "code",
   "execution_count": null,
   "id": "79ef4e6d-4a1d-4721-b487-a90546784637",
   "metadata": {},
   "outputs": [],
   "source": [
    "x = t['beamSX'].array()\n",
    "print(x)"
   ]
  },
  {
   "cell_type": "code",
   "execution_count": null,
   "id": "afd75fb5-a654-4498-9b07-94a0c9775a05",
   "metadata": {},
   "outputs": [],
   "source": [
    "Bx = t['BVtxx'].array()\n",
    "By = t['BVtxy'].array()\n",
    "Bz = t['BVtxz'].array()\n",
    "\n",
    "Bx"
   ]
  },
  {
   "cell_type": "code",
   "execution_count": null,
   "id": "c10a1460-fd53-4aee-8377-b2fdef0d8574",
   "metadata": {},
   "outputs": [],
   "source": [
    "Lx = t['Lambda0Vtxx'].array()\n",
    "Ly = t['Lambda0Vtxy'].array()\n",
    "Lz = t['Lambda0Vtxz'].array()"
   ]
  },
  {
   "cell_type": "code",
   "execution_count": null,
   "id": "9b476de6-8633-4d9b-97c2-b98bea78e53d",
   "metadata": {},
   "outputs": [],
   "source": [
    "dx = Lx-Bx\n",
    "dy = Ly-By\n",
    "dz = Lz-Bz\n",
    "\n",
    "dist = np.sqrt(dx**2 + dy**2 + dz**2)\n",
    "a = dist[:,0]\n",
    "print(len(a))\n",
    "\n",
    "plt.hist(a,bins=25);"
   ]
  },
  {
   "cell_type": "code",
   "execution_count": null,
   "id": "15a98bd9-8767-49cc-bf69-ebda8afc2b23",
   "metadata": {},
   "outputs": [],
   "source": []
  }
 ],
 "metadata": {
  "kernelspec": {
   "display_name": "Python 3 (ipykernel)",
   "language": "python",
   "name": "python3"
  },
  "language_info": {
   "codemirror_mode": {
    "name": "ipython",
    "version": 3
   },
   "file_extension": ".py",
   "mimetype": "text/x-python",
   "name": "python",
   "nbconvert_exporter": "python",
   "pygments_lexer": "ipython3",
   "version": "3.11.7"
  }
 },
 "nbformat": 4,
 "nbformat_minor": 5
}
