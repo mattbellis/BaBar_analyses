{
 "cells": [
  {
   "cell_type": "code",
   "execution_count": null,
   "id": "16632c8e-8f45-4f0d-962d-a37ac86968d2",
   "metadata": {},
   "outputs": [],
   "source": [
    "%load_ext autoreload\n",
    "%autoreload 2\n",
    "\n",
    "import uproot\n",
    "import awkward as ak\n",
    "\n",
    "import matplotlib.pylab as plt\n",
    "import numpy as np\n",
    "\n",
    "import time\n",
    "\n",
    "from hist import Hist\n",
    "\n",
    "import babar_analysis_tools as bat\n",
    "\n",
    "from analysis_variables import *\n",
    "\n",
    "import myPIDselector\n",
    "\n",
    "import pandas as pd\n",
    "import seaborn as sns\n",
    "\n",
    "import ROOT\n",
    "import pdf_definitions as pdfs"
   ]
  },
  {
   "cell_type": "code",
   "execution_count": null,
   "id": "c3dfc373-63be-47f9-a433-9e653feef474",
   "metadata": {},
   "outputs": [],
   "source": [
    "h = ROOT.TH1F()"
   ]
  },
  {
   "cell_type": "code",
   "execution_count": null,
   "id": "ee7bd429-6544-4ff4-979a-8cdc7a220a2e",
   "metadata": {},
   "outputs": [],
   "source": [
    "\n",
    "c1 = ROOT.TCanvas()\n",
    "c1.cd()\n",
    "h.Draw()\n",
    "\n",
    "c1.Update()\n",
    "\n",
    "#c1.Show()"
   ]
  },
  {
   "cell_type": "markdown",
   "id": "5c632f15-3a12-4338-b3c3-1bb8abf7855e",
   "metadata": {},
   "source": [
    "# rf202"
   ]
  },
  {
   "cell_type": "code",
   "execution_count": null,
   "id": "f93f841b-467d-43b1-8b6f-912148bd6138",
   "metadata": {},
   "outputs": [],
   "source": [
    "# Declare observable x\n",
    "x = ROOT.RooRealVar(\"x\", \"x\", 0, 10)\n",
    "\n",
    "# Create two Gaussian PDFs g1(x,mean1,sigma) anf g2(x,mean2,sigma) and\n",
    "# their parameters\n",
    "mean = ROOT.RooRealVar(\"mean\", \"mean of gaussians\", 5)\n",
    "sigma1 = ROOT.RooRealVar(\"sigma1\", \"width of gaussians\", 0.5)\n",
    "sigma2 = ROOT.RooRealVar(\"sigma2\", \"width of gaussians\", 1)\n",
    "\n",
    "sig1 = ROOT.RooGaussian(\"sig1\", \"Signal component 1\", x, mean, sigma1)\n",
    "sig2 = ROOT.RooGaussian(\"sig2\", \"Signal component 2\", x, mean, sigma2)\n",
    "\n",
    "# Build Chebychev polynomial p.d.f.\n",
    "a0 = ROOT.RooRealVar(\"a0\", \"a0\", 0.5, 0., 1.)\n",
    "a1 = ROOT.RooRealVar(\"a1\", \"a1\", -0.2, 0., 1.)\n",
    "bkg = ROOT.RooChebychev(\"bkg\", \"Background\", x, ROOT.RooArgList(a0, a1))\n",
    "\n",
    "# Sum the signal components into a composite signal p.d.f.\n",
    "sig1frac = ROOT.RooRealVar(\n",
    "    \"sig1frac\", \"fraction of component 1 in signal\", 0.8, 0., 1.)\n",
    "sig = ROOT.RooAddPdf(\n",
    "    \"sig\", \"Signal\", ROOT.RooArgList(sig1, sig2), ROOT.RooArgList(sig1frac))\n",
    "\n"
   ]
  },
  {
   "cell_type": "code",
   "execution_count": null,
   "id": "7e885cfc-7b14-45c0-9943-f64dfa0ecb39",
   "metadata": {},
   "outputs": [],
   "source": [
    "# Method 1 - Construct extended composite model\n",
    "# -------------------------------------------------------------------\n",
    "\n",
    "# Sum the composite signal and background into an extended pdf\n",
    "# nsig*sig+nbkg*bkg\n",
    "nsig = ROOT.RooRealVar(\"nsig\", \"number of signal events\", 500, 0., 10000)\n",
    "nbkg = ROOT.RooRealVar(\n",
    "    \"nbkg\", \"number of background events\", 500, 0, 10000)\n",
    "model = ROOT.RooAddPdf(\n",
    "    \"model\",\n",
    "    \"(g1+g2)+a\",\n",
    "    ROOT.RooArgList(\n",
    "        bkg,\n",
    "        sig),\n",
    "    ROOT.RooArgList(\n",
    "        nbkg,\n",
    "        nsig))\n",
    "\n",
    "# Sample, fit and plot extended model\n",
    "# ---------------------------------------------------------------------\n",
    "\n",
    "# Generate a data sample of expected number events in x from model\n",
    "# = model.expectedEvents() = nsig+nbkg\n",
    "data = model.generate(ROOT.RooArgSet(x))\n",
    "\n",
    "# Fit model to data, ML term automatically included\n",
    "model.fitTo(data)\n",
    "\n",
    "# Plot data and PDF overlaid, expected number of events for p.d.f projection normalization\n",
    "# rather than observed number of events (==data.numEntries())\n",
    "xframe = x.frame(ROOT.RooFit.Title(\"extended ML fit example\"))\n",
    "data.plotOn(xframe)\n",
    "model.plotOn(xframe, ROOT.RooFit.Normalization(\n",
    "    1.0, ROOT.RooAbsReal.RelativeExpected))\n",
    "\n",
    "# Overlay the background component of model with a dashed line\n",
    "ras_bkg = ROOT.RooArgSet(bkg)\n",
    "model.plotOn(\n",
    "    xframe, ROOT.RooFit.Components(ras_bkg), ROOT.RooFit.LineStyle(\n",
    "        ROOT.kDashed), ROOT.RooFit.Normalization(\n",
    "            1.0, ROOT.RooAbsReal.RelativeExpected))\n",
    "\n",
    "# Overlay the background+sig2 components of model with a dotted line\n",
    "ras_bkg_sig2 = ROOT.RooArgSet(bkg, sig2)\n",
    "model.plotOn(\n",
    "    xframe, ROOT.RooFit.Components(ras_bkg_sig2), ROOT.RooFit.LineStyle(\n",
    "        ROOT.kDotted), ROOT.RooFit.Normalization(\n",
    "            1.0, ROOT.RooAbsReal.RelativeExpected))\n"
   ]
  },
  {
   "cell_type": "code",
   "execution_count": null,
   "id": "9fc13d50-7c5c-4b68-a444-44801f248e31",
   "metadata": {},
   "outputs": [],
   "source": [
    "# Print structure of composite p.d.f.\n",
    "model.Print(\"t\")\n",
    "\n",
    "\n",
    "# Method 2 - Construct extended components first\n",
    "# ---------------------------------------------------------------------\n",
    "\n",
    "# Associated nsig/nbkg as expected number of events with sig/bkg\n",
    "esig = ROOT.RooExtendPdf(\"esig\", \"extended signal p.d.f\", sig, nsig)\n",
    "ebkg = ROOT.RooExtendPdf(\"ebkg\", \"extended background p.d.f\", bkg, nbkg)\n",
    "\n",
    "# Sum extended components without coefs\n",
    "# -------------------------------------------------------------------------\n",
    "\n",
    "# Construct sum of two extended p.d.f. (no coefficients required)\n",
    "model2 = ROOT.RooAddPdf(\"model2\", \"(g1+g2)+a\", ROOT.RooArgList(ebkg, esig))\n",
    "\n",
    "# Draw the frame on the canvas\n",
    "c = ROOT.TCanvas(\"rf202_extendedmlfit\", \"rf202_extendedmlfit\", 600, 600)\n",
    "ROOT.gPad.SetLeftMargin(0.15)\n",
    "xframe.GetYaxis().SetTitleOffset(1.4)\n",
    "xframe.Draw()\n",
    "\n",
    "c.Update()\n",
    "\n",
    "c.SaveAs(\"rf202_extendedmlfit.png\")\n"
   ]
  },
  {
   "cell_type": "markdown",
   "id": "e3130875-adce-47b1-bc99-e78d9ef449de",
   "metadata": {},
   "source": [
    "# From ChatGPT"
   ]
  },
  {
   "cell_type": "code",
   "execution_count": null,
   "id": "9c457e0c-4e0f-4907-b276-591b5fd8439c",
   "metadata": {},
   "outputs": [],
   "source": [
    "c = ROOT.TCanvas(\"testingfits\", \"testingfits\")#\"fit\", \"fit\", 600, 600)"
   ]
  },
  {
   "cell_type": "code",
   "execution_count": null,
   "id": "a631f56d-dc21-476b-a5dd-cf926fef0652",
   "metadata": {},
   "outputs": [],
   "source": [
    "#df = pd.read_parquet('mes_deltae_background_AFTER_FINAL_CUTS.parquet')\n",
    "#df"
   ]
  },
  {
   "cell_type": "code",
   "execution_count": null,
   "id": "22360891-c3d8-4fea-8ebd-a5dcd3741753",
   "metadata": {},
   "outputs": [],
   "source": [
    "mes_lo, mes_hi = 5.2,5.3\n",
    "deltae_lo, deltae_hi = -0.2,0.2\n",
    "\n",
    "x,y = pdfs.build_xy([[mes_lo, mes_hi], [deltae_lo, deltae_hi]])\n",
    "\n",
    "\n",
    "x.setRange(\"FULL\",mes_lo,mes_hi)\n",
    "y.setRange(\"FULL\",deltae_lo, deltae_hi)\n",
    "\n",
    "x.setRange(\"SIGNAL\",5.25, mes_hi)\n",
    "y.setRange(\"SIGNAL\",-0.10, 0.1)\n",
    "\n",
    "# Sideband 1 region\n",
    "x.setRange(\"SB1\", mes_lo,  mes_hi)\n",
    "y.setRange(\"SB1\", 0.075, deltae_hi)\n",
    "\n",
    "# Sideband 2 region\n",
    "x.setRange(\"SB2\",  mes_lo,  mes_hi)\n",
    "y.setRange(\"SB2\", deltae_lo, -0.075)\n",
    "\n",
    "# Sideband 3 region\n",
    "x.setRange(\"SB3\",  mes_lo,  5.27)\n",
    "y.setRange(\"SB3\", -0.075, 0.075)\n",
    "\n"
   ]
  },
  {
   "cell_type": "code",
   "execution_count": null,
   "id": "24a5d4b7-aba0-4ce6-bc67-3a44f628b5eb",
   "metadata": {},
   "outputs": [],
   "source": [
    "#dim = 2\n",
    "\n",
    "#dum_pars, sub_funcs_list, total = pdfs.tot_PDF(x,y, data_z,\n",
    "#:dim, use_double_cb, workspace)\n",
    "\n",
    "pars_bkg, bkg_pdf = pdfs.argus_in_x(x)\n",
    "pars_sig, sig_pdf = pdfs.crystal_barrel_x(x)\n",
    "\n",
    "conv_factor_fit  = ROOT.RooRealVar(\"conv_factor_fit\", \"Conversion factor (fit)\",10) # Conversion factor, fit\n",
    "branching_fraction = ROOT.RooRealVar(\"branching_fraction\",\"Branching fraction\",1)\n",
    "\n",
    "\n",
    "nbkg = ROOT.RooRealVar(\"nbkg\",\"# bkg events,\",10)\n",
    "nsig = ROOT.RooFormulaVar(\"nsig\",\"conv_factor_fit*branching_fraction\",ROOT.RooArgList(conv_factor_fit,branching_fraction))\n",
    "\n",
    "\n",
    "total = ROOT.RooAddPdf(\"total\",\"sig_pdf + bkg_pdf\", ROOT.RooArgList(sig_pdf, bkg_pdf), ROOT.RooArgList(nsig, nbkg))\n",
    "\n",
    "pars = [nbkg, nsig]\n",
    "pars += pars_sig\n",
    "pars += pars_bkg\n"
   ]
  },
  {
   "cell_type": "code",
   "execution_count": null,
   "id": "d97ad731-884f-4aaf-bacf-7daf500def90",
   "metadata": {},
   "outputs": [],
   "source": [
    "conv_factor_fit.setVal(4)\n",
    "nbkg.setVal(9)\n",
    "\n",
    "data = total.generate(ROOT.RooArgSet(x))\n",
    "conv_factor_fit.setConstant(False)\n",
    "\n",
    "nbkg.setConstant(False)\n",
    "\n",
    "# Fit model to data, ML term automatically included\n",
    "'''\n",
    "result = total.fitTo(data, ROOT.RooFit.Extended(ROOT.kTRUE),\n",
    "                                         ROOT.RooFit.Save(ROOT.kTRUE),\n",
    "                                         ROOT.RooFit.Strategy(2),\n",
    "                                         ROOT.RooFit.PrintLevel(-1))\n",
    "'''\n",
    "nll = ROOT.RooNLLVar(\"nll\",\"nll\",total,data,ROOT.RooFit.Extended(ROOT.kTRUE))\n",
    "#fit_func = RooFormulaVar(\"fit_func\",\"nll + log_gc\",RooArgList(nll,pars_d[\"log_gc\"]))\n",
    "fit_func = ROOT.RooFormulaVar(\"fit_func\",\"nll\",ROOT.RooArgList(nll))\n",
    "\n",
    "m = ROOT.RooMinimizer(fit_func)\n",
    "m.setVerbose(ROOT.kFALSE)\n",
    "m.migrad()\n",
    "m.hesse()\n",
    "result = m.save()\n",
    "\n",
    "\n",
    "\n",
    "result.Print(\"v\")\n",
    "\n"
   ]
  },
  {
   "cell_type": "code",
   "execution_count": null,
   "id": "1ea90a3d-29c4-4ff7-9a51-3f8e3e192cca",
   "metadata": {},
   "outputs": [],
   "source": [
    "result.Print('v')"
   ]
  },
  {
   "cell_type": "code",
   "execution_count": null,
   "id": "560d0ecc-382a-408c-ab98-07455f876e03",
   "metadata": {},
   "outputs": [],
   "source": [
    "del c\n",
    "c = ROOT.TCanvas(\"testingfits\", \"testingfits\", 600, 300)#\"fit\", \"fit\", 600, 600)\n",
    "# Plot data and PDF overlaid, expected number of events for p.d.f projection normalization\n",
    "# rather than observed number of events (==data.numEntries())\n",
    "xframe = x.frame(ROOT.RooFit.Title(\"extended ML fit example\"), ROOT.RooFit.Bins(25))\n",
    "data.plotOn(xframe)\n",
    "total.plotOn(xframe, ROOT.RooFit.Normalization(\n",
    "    1.0, ROOT.RooAbsReal.RelativeExpected))\n",
    "\n",
    "# Overlay the background component of model with a dashed line\n",
    "ras_bkg = ROOT.RooArgSet(bkg_pdf)\n",
    "total.plotOn(\n",
    "    xframe, ROOT.RooFit.Components(ras_bkg), ROOT.RooFit.LineStyle(\n",
    "        ROOT.kDashed), ROOT.RooFit.Normalization(\n",
    "            1.0, ROOT.RooAbsReal.RelativeExpected))\n",
    "\n",
    "# Overlay the background component of model with a dashed line\n",
    "ras_sig = ROOT.RooArgSet(sig_pdf)\n",
    "total.plotOn(\n",
    "    xframe, ROOT.RooFit.Components(ras_sig), ROOT.RooFit.LineStyle(\n",
    "        ROOT.kDotted), ROOT.RooFit.Normalization(\n",
    "            1.0, ROOT.RooAbsReal.RelativeExpected))\n",
    "\n",
    "# Draw the frame on the canvas\n",
    "\n",
    "ROOT.gPad.SetLeftMargin(0.15)\n",
    "xframe.GetYaxis().SetTitleOffset(1.4)\n",
    "xframe.Draw()\n",
    "\n",
    "\n",
    "\n",
    "#c.Update()\n",
    "#ROOT.gPad\n",
    "c.Draw()\n",
    "#ROOT.gPad.Draw()\n",
    "#ROOT.gPad.Update()\n",
    "#c.Draw()\n",
    "\n",
    "#c.SaveAs(\"testfit.png\")\n"
   ]
  },
  {
   "cell_type": "code",
   "execution_count": null,
   "id": "1f506796-6800-4994-87b4-3573d3ab1028",
   "metadata": {},
   "outputs": [],
   "source": []
  },
  {
   "cell_type": "code",
   "execution_count": null,
   "id": "4e0f8dbd-2e76-4fb5-8f96-b821768f142d",
   "metadata": {},
   "outputs": [],
   "source": []
  },
  {
   "cell_type": "code",
   "execution_count": null,
   "id": "2054cfd7-cacc-4caa-af57-96163f697750",
   "metadata": {},
   "outputs": [],
   "source": []
  },
  {
   "cell_type": "code",
   "execution_count": null,
   "id": "fb93c9ab-a7b8-41c7-a847-796f0b4b11a2",
   "metadata": {},
   "outputs": [],
   "source": []
  },
  {
   "cell_type": "code",
   "execution_count": null,
   "id": "87abb892-f09d-4ff6-a2d3-1e3b501a7473",
   "metadata": {},
   "outputs": [],
   "source": []
  },
  {
   "cell_type": "code",
   "execution_count": null,
   "id": "928b903d-1bbe-4212-96f1-097992b9e5c1",
   "metadata": {},
   "outputs": [],
   "source": []
  },
  {
   "cell_type": "code",
   "execution_count": null,
   "id": "a463486c-c78b-49e7-9efa-1048e8fbe7ba",
   "metadata": {},
   "outputs": [],
   "source": []
  },
  {
   "cell_type": "code",
   "execution_count": null,
   "id": "706def6e-3e6c-45ab-9155-0e33fc729f53",
   "metadata": {},
   "outputs": [],
   "source": []
  },
  {
   "cell_type": "code",
   "execution_count": null,
   "id": "7dc7aee4-a62f-477f-8374-106ef789a7a7",
   "metadata": {},
   "outputs": [],
   "source": []
  },
  {
   "cell_type": "code",
   "execution_count": null,
   "id": "ba5a8240-781e-45d2-a9a6-2eee81a5c1df",
   "metadata": {},
   "outputs": [],
   "source": []
  },
  {
   "cell_type": "code",
   "execution_count": null,
   "id": "1f83c6cd-5db7-400a-97ef-c52eed903638",
   "metadata": {},
   "outputs": [],
   "source": []
  },
  {
   "cell_type": "code",
   "execution_count": null,
   "id": "ea6303f8-bab1-49ce-802e-ff03f124620a",
   "metadata": {},
   "outputs": [],
   "source": []
  },
  {
   "cell_type": "code",
   "execution_count": null,
   "id": "5cec585e-53f2-4349-9438-9073f095eeb2",
   "metadata": {},
   "outputs": [],
   "source": []
  },
  {
   "cell_type": "code",
   "execution_count": null,
   "id": "6bfe9ea1-fa4f-4630-92c4-8f1c61bae002",
   "metadata": {},
   "outputs": [],
   "source": []
  },
  {
   "cell_type": "code",
   "execution_count": null,
   "id": "0d64bfe5-b3c9-41d7-b002-24265ecad9ce",
   "metadata": {},
   "outputs": [],
   "source": []
  },
  {
   "cell_type": "code",
   "execution_count": null,
   "id": "600aab24-7277-423b-9c4a-8f710c7deacb",
   "metadata": {},
   "outputs": [],
   "source": []
  },
  {
   "cell_type": "code",
   "execution_count": null,
   "id": "70a2d5f4-64b3-442e-9323-aaa45f2de99d",
   "metadata": {},
   "outputs": [],
   "source": []
  },
  {
   "cell_type": "code",
   "execution_count": null,
   "id": "2e963700-febb-4a4c-ab1d-d53747e83586",
   "metadata": {},
   "outputs": [],
   "source": []
  },
  {
   "cell_type": "code",
   "execution_count": null,
   "id": "969615a8-bfae-4252-8a22-b1673c7640d4",
   "metadata": {},
   "outputs": [],
   "source": []
  },
  {
   "cell_type": "code",
   "execution_count": null,
   "id": "48928092-0bbb-4209-acca-2a4214d80905",
   "metadata": {},
   "outputs": [],
   "source": []
  },
  {
   "cell_type": "code",
   "execution_count": null,
   "id": "5580b672-170a-41c7-b2b5-31ba2e24df38",
   "metadata": {},
   "outputs": [],
   "source": []
  },
  {
   "cell_type": "code",
   "execution_count": null,
   "id": "39bdf11a-e070-4b70-bf39-7aa918b0383f",
   "metadata": {},
   "outputs": [],
   "source": []
  },
  {
   "cell_type": "code",
   "execution_count": null,
   "id": "1cc99878-17b6-413b-bde8-8bfad303b53a",
   "metadata": {},
   "outputs": [],
   "source": []
  },
  {
   "cell_type": "code",
   "execution_count": null,
   "id": "f79fc1cb-82f4-40b5-9cfc-cc06125a381d",
   "metadata": {},
   "outputs": [],
   "source": []
  },
  {
   "cell_type": "code",
   "execution_count": null,
   "id": "508b8413-f5e7-4daf-a861-b8689e557bc8",
   "metadata": {},
   "outputs": [],
   "source": []
  },
  {
   "cell_type": "code",
   "execution_count": null,
   "id": "fb22e830-9376-4a8a-aac1-9a6970799fb1",
   "metadata": {},
   "outputs": [],
   "source": []
  },
  {
   "cell_type": "code",
   "execution_count": null,
   "id": "f12c3a16-dc34-4b76-a185-787a8b448cef",
   "metadata": {},
   "outputs": [],
   "source": []
  },
  {
   "cell_type": "code",
   "execution_count": null,
   "id": "fc78283b-8f1c-4932-b0ab-5dd90cf4646a",
   "metadata": {},
   "outputs": [],
   "source": []
  },
  {
   "cell_type": "code",
   "execution_count": null,
   "id": "cb8ff10f-1294-4830-87e7-64e2d323d0f7",
   "metadata": {},
   "outputs": [],
   "source": []
  },
  {
   "cell_type": "code",
   "execution_count": null,
   "id": "e1baee3b-422d-4c7d-8685-6f6453d2f4f1",
   "metadata": {},
   "outputs": [],
   "source": []
  },
  {
   "cell_type": "code",
   "execution_count": null,
   "id": "86e2dae2-791e-4365-87fe-85553a2b1c36",
   "metadata": {},
   "outputs": [],
   "source": []
  },
  {
   "cell_type": "code",
   "execution_count": null,
   "id": "67b18e4c-a9dc-483b-8ab7-6ca618ed3ba7",
   "metadata": {},
   "outputs": [],
   "source": []
  },
  {
   "cell_type": "code",
   "execution_count": null,
   "id": "767e81f9-4b5c-4c37-992b-cf82b1dcb655",
   "metadata": {},
   "outputs": [],
   "source": []
  },
  {
   "cell_type": "code",
   "execution_count": null,
   "id": "36613d82-579c-44ea-b922-80b845e4ad8f",
   "metadata": {},
   "outputs": [],
   "source": []
  },
  {
   "cell_type": "code",
   "execution_count": null,
   "id": "90103aa7-7995-4c52-88e7-07336d02034e",
   "metadata": {},
   "outputs": [],
   "source": []
  },
  {
   "cell_type": "code",
   "execution_count": null,
   "id": "3dad4196-4240-42f2-9b75-63b248405e66",
   "metadata": {},
   "outputs": [],
   "source": []
  },
  {
   "cell_type": "code",
   "execution_count": null,
   "id": "199f7379-4479-44ff-9fc3-5f307cd0d4bc",
   "metadata": {},
   "outputs": [],
   "source": []
  },
  {
   "cell_type": "code",
   "execution_count": null,
   "id": "aed03db5-4db1-47cd-8b3f-d9e839e39416",
   "metadata": {},
   "outputs": [],
   "source": []
  },
  {
   "cell_type": "code",
   "execution_count": null,
   "id": "114e9442-be86-4e8d-bff7-89cf55fabbee",
   "metadata": {},
   "outputs": [],
   "source": []
  },
  {
   "cell_type": "code",
   "execution_count": null,
   "id": "fd46d8ba-d430-4e9d-a228-135ffb93b761",
   "metadata": {},
   "outputs": [],
   "source": []
  },
  {
   "cell_type": "code",
   "execution_count": null,
   "id": "ed94d3b4-f96a-4fb5-9587-b14407d0a6ca",
   "metadata": {},
   "outputs": [],
   "source": []
  },
  {
   "cell_type": "code",
   "execution_count": null,
   "id": "25731922-7800-4bd0-bca2-fe30135c8064",
   "metadata": {},
   "outputs": [],
   "source": []
  },
  {
   "cell_type": "code",
   "execution_count": null,
   "id": "f6dbdfd2-7411-4a6b-a911-cbdd1f2e6e3b",
   "metadata": {},
   "outputs": [],
   "source": []
  },
  {
   "cell_type": "code",
   "execution_count": null,
   "id": "2a1d7708-4611-46b0-aa04-8dce58346f95",
   "metadata": {},
   "outputs": [],
   "source": []
  },
  {
   "cell_type": "code",
   "execution_count": null,
   "id": "72973bd1-c8f6-4d9a-ac53-e4fefbedd6e8",
   "metadata": {},
   "outputs": [],
   "source": []
  }
 ],
 "metadata": {
  "kernelspec": {
   "display_name": "Python 3 (ipykernel)",
   "language": "python",
   "name": "python3"
  },
  "language_info": {
   "codemirror_mode": {
    "name": "ipython",
    "version": 3
   },
   "file_extension": ".py",
   "mimetype": "text/x-python",
   "name": "python",
   "nbconvert_exporter": "python",
   "pygments_lexer": "ipython3",
   "version": "3.11.7"
  }
 },
 "nbformat": 4,
 "nbformat_minor": 5
}
